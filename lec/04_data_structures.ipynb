{
 "cells": [
  {
   "cell_type": "markdown",
   "id": "d040e14c",
   "metadata": {},
   "source": [
    "# 0. Motivation \n",
    "\n",
    "In our previous lessons, we explored fundamental data types, such as `int`, `float`, and `bool`, which are known as **scalar** objects. These data types represent single values and cannot be subdivided. \n",
    "\n",
    "Objects which contain multiple values together, such as the sequence of integers between 1 and 5: `[1, 2, 3, 4, 5]`, are **non-scalar** objects. These are objects with internal structure, which can be subdivided (e.g., taking the first value of the previous sequence). Because they have a structure, they are also called **data structures**. \n",
    "\n",
    "We have already covered a special data structure for numerical computations, which is a NumPy array. Python, however, provides many useful built-in data structures, and we will encounter them quite often. These data structures are readily available without the need to import additional modules. The types that we will discuss are:\n",
    "1. Strings: `'Welcome to ENGIN7!'`\n",
    "2. Lists: `['Welcome', 'to', 'ENGIN', 7, '!']`\n",
    "3. Tuples: `('Welcome', 'to', 'ENGIN', 7, '!')`\n",
    "4. Ranges: `range(5)`\n",
    "\n",
    "<br>\n",
    "\n",
    "<figure>\n",
    "  <img src=\"https://docs.google.com/drawings/d/e/2PACX-1vQnLOA_5u2UvR6q6UMIrrTvxaJiIuaZXEe7xHCAL3sr2ZLgZjjdRZL4CExTn726oIKIm0xiSsaWW9vt/pub?w=1181&h=389\n",
    "\" style=\"width:70%\">\n",
    "    <figcaption style=\"text-align:center\"><strong>Python data types</strong></figcaption>   \n",
    "</figure>\n",
    "\n",
    "By the end of this section, you should be able to:\n",
    "\n",
    "* Create `str`, `list`, `tuple`, and `range` data structures\n",
    "* Manipulate `str`, `list`, `tuple`, and `range` data structures\n",
    "* Perform operations on `str`, `list`, `tuple`, and `range` data structures\n",
    "* Select the optimal data structure for an application"
   ]
  },
  {
   "cell_type": "markdown",
   "id": "c1b8a0b1",
   "metadata": {},
   "source": [
    "# 1. Data Structures\n",
    "\n",
    "Before delving into the specifics of different data structure types, let's first explore some essential built-in functions and operations that apply to data structures in Python. The operations in the table below are widely supported by most data structure types and form the foundation of data manipulation in Python.\n",
    "\n",
    "In the table, `s` and `t` are data structures of the same type, and `n`, `i`, `j` and `k` are integers.\n",
    "\n",
    "| Operation      | Result                                                                      | \n",
    "| :------------- | :-------------------------------------------------------------------------- |\n",
    "| `x in s`       | Return `True` if an item of `s` is equal to `x`, else `False`               |\n",
    "| `x not in s`   | Return `False` if an item of `s` is equal to `x`, else `True`               |\n",
    "| `s + t`        | Concatenate (combine) `s` and `t`                                           |\n",
    "| `s * n`        | Repeat `s` n times                                                          |\n",
    "| `s[i]`         | Index and retrieve the item at position `i` of `s`                          |\n",
    "| `s[i:j]`       | Create a slice of `s` from index `i` to `j-1`                               |\n",
    "| `s[i:j:k]`     | Create a slice of of `s` from index `i` to `j-1` with step `k`              |\n",
    "| `len(s)`       | Return the length (number of items) in `s`                                  |\n",
    "| `min(s)`       | Return the smallest or lowest item in `s`                                   |\n",
    "| `max(s)`       | Return the largest or highest item in `s`                                   |\n",
    "\n",
    "Understanding and mastering these operations is essential for effective data manipulation in Python. Now, let's dive into each data structure in more detail."
   ]
  },
  {
   "cell_type": "markdown",
   "id": "8a7e0c50",
   "metadata": {},
   "source": [
    "# 2. Strings: `' '` or `\" \"`\n",
    "\n",
    "The first non-scalar object we will discuss is a string. A string is a sequence of characters, such as `\"Hello World\"`. Strings are surrounded by either single `' '` or double quotation marks `\" \"`. Both single and double quotation marks work similarly, but there are some differences that we will discuss later. \n",
    "\n",
    "A string can include letters, digits, punctuation, spaces, and other valid symbols. They can represent anything from a single character to a word, a sentence, or even an entire book! Strings can also be assigned to variables.\n",
    "\n",
    "<div class=\"alert alert-block alert-info\"> <b>TRY IT!</b> Define a variable named <code>greeting</code> with the following string: \"Welcome to ENGIN7!\" Check its type using <code>type()</code>.</div> "
   ]
  },
  {
   "cell_type": "code",
   "execution_count": null,
   "id": "28deea62",
   "metadata": {},
   "outputs": [],
   "source": []
  },
  {
   "cell_type": "markdown",
   "id": "8ec496df",
   "metadata": {},
   "source": [
    "The object type controls what can be done with the object. For example, strings can be concatenated by adding them together, you can multiply a string by an integer, but you cannot multiply two strings together. Before we introduce the different methods that could be used with strings, it is important to understand the internal structure of strings.\n",
    "\n",
    "## 2.1. Indexing  \n",
    "\n",
    "A string is an ordered sequence of characters, such as letters, digits, punctuation, spaces, and other valid symbols. Because strings are ordered, they have indexes to indicate the location of each character. Indexing in Python starts at 0, which means that the first element has an index of 0, the second element has an index of 1, and so on, as shown in the illustration below.\n",
    "\n",
    "<br>\n",
    "\n",
    "<figure>\n",
    "  <img src=\"https://docs.google.com/drawings/d/e/2PACX-1vQw7AHXNvakhfUl2_e2ECu_TMzEiEcEYQjy9uzUZTinTGTPCa1a6Z7GgvuUzTbkgWq6obdekvSlWia6/pub?w=835&h=59\n",
    "\" style=\"width:75%\">\n",
    "    <figcaption style=\"text-align:center\"><strong>Indexing elements in a Python string</strong></figcaption>   \n",
    "</figure>\n",
    "\n",
    "As previously mentioned, even a space is considered a character, and thus it has an index. Therefore, `\"Welcome to ENGIN7!\"` is different from `\"WelcometoENGIN7!\"`. Understanding string indexing is crucial for effectively working with and manipulating strings.\n",
    "\n",
    "<div class=\"alert alert-block alert-warning\"> <b>NOTE!</b> The first character has index 0 in Python. MATLAB, however, starts at index 1.</div>\n",
    "\n",
    "We could access any character using square brackets and the index of the position. For example, if we want to get the character `m`, we can use:\n",
    "\n",
    "```python\n",
    "greeting[5]      \n",
    "```\n",
    "\n",
    "<div class=\"alert alert-block alert-info\"> <b>TRY IT!</b> Print the character with index 10. Print the character with index 16 and then check its type.</div> "
   ]
  },
  {
   "cell_type": "code",
   "execution_count": null,
   "id": "d030cac6",
   "metadata": {},
   "outputs": [],
   "source": []
  },
  {
   "cell_type": "markdown",
   "id": "8bdc9470",
   "metadata": {},
   "source": [
    "## 2.2. Slicing\n",
    "\n",
    "Not only can we access individual characters, but we can also access a sequence of characters from a string. For example, if we want to extract \"ENGIN\" from `greeting`, we could use the following command:\n",
    "\n",
    "```python\n",
    ">>> greeting[11:16]\n",
    "\n",
    "'ENGIN'       \n",
    "```\n",
    "\n",
    "The is known as string slicing. `[11:16]` means take all characters from index `11` (inclusive) and up to index `16` (exclusive). When slicing in Python, the **upper-bound is exclusive**, which means that `[11:16]` actually takes a slice from indexes 11 $\\rightarrow$ 15 instead of 11 $\\rightarrow$ 16. \n",
    "\n",
    "In general, the syntax for slicing in Python is `object_name[start:end:step]`, where:\n",
    "* `start` is the starting index (included). If `start` is not specified, slicing will start from index 0 (first position).\n",
    "* `end` is the ending index (excluded). If `end` is not specified, slicing will end at the last index.\n",
    "* `step` is the step between the indexes. If `step` is not specified, the result will be equivalent to using `step = 1`. If `step` is specified, the result will be characters with the following indexes: \n",
    "\n",
    "$$[\\text{start, start + step, start + 2 step, ...}]$$\n",
    "\n",
    "<div class=\"alert alert-block alert-info\"> <b>TRY IT!</b> Run the code below and change the values for start, end, and step to check how they affect slicing.</div> "
   ]
  },
  {
   "cell_type": "code",
   "execution_count": null,
   "id": "773d95cf",
   "metadata": {},
   "outputs": [],
   "source": [
    "import ipywidgets as widgets  # import ipywidgets package for interactive widgets\n",
    "\n",
    "# create 3 sliders for start, end, and step\n",
    "@widgets.interact(start=(0,18), end=(0,18), step=(1,18))\n",
    "\n",
    "# define a function that takes the values from the sliders and slices the string saved in greeting\n",
    "def slicing(start, end, step):\n",
    "    print(f'greeting[{start}:{end}:{step}]')\n",
    "    return greeting[start:end:step]"
   ]
  },
  {
   "cell_type": "markdown",
   "id": "ae296bc0",
   "metadata": {},
   "source": [
    "<div class=\"alert alert-block alert-info\"> <b>TRY IT!</b> Check the outputs of <code>greeting[:7]</code>, <code>greeting[:]</code>, and <code>greeting[::2]</code>.</div> "
   ]
  },
  {
   "cell_type": "code",
   "execution_count": null,
   "id": "5ca84a98",
   "metadata": {},
   "outputs": [],
   "source": [
    "print(greeting[:7]) # characters from position 0 (included) to 7 (excluded, so 6, which is 7-1)\n",
    "\n",
    "print(greeting[:]) # the whole string, equivalent to [0:18:1] in this case\n",
    "\n",
    "print(greeting[::2]) # every other character starting from the beginning, equivalent to [0:18:2] in this case"
   ]
  },
  {
   "cell_type": "markdown",
   "id": "b9bc355d",
   "metadata": {},
   "source": [
    "## 2.3. Negative Indexing\n",
    "\n",
    "You can also use negative indexes to access individual characters or when slicing. Negative indexes simply means counting from the end of the sequence. So, -1 is the index of the last character, -2 is the index of the second-to-last character, and so on, as shown in the illustration below.\n",
    "\n",
    "<br>\n",
    "\n",
    "<figure>\n",
    "  <img src=\"https://docs.google.com/drawings/d/e/2PACX-1vSgHlUHF_yY35KnVfVmNRZRyObn2nDdf3099srZ0xY_9O4FpF59fOetXDqkfaOuBSSVAKTRDJe3gMtT/pub?w=835&h=89\n",
    "\" style=\"width:75%\">\n",
    "    <figcaption style=\"text-align:center\"><strong>Negative indexing of strings in Python</strong></figcaption>   \n",
    "</figure>\n",
    "\n",
    "So, to index only the last character from `greeting`, we can use:\n",
    "\n",
    "```python\n",
    ">>> greeting[-1]\n",
    "\n",
    "'!'       \n",
    "```\n",
    "\n",
    "Even when slicing using negative indexes, the upper-bound `end` is exclusive. So, in the example below, since `start` is not specified, the slice will start from index 0 (inclusive) up to index -1 (exclusive). Thus, the output includes the full string except for the last character, `!`.\n",
    "\n",
    "```python\n",
    ">>> greeting[:-1]\n",
    "\n",
    "'Welcome to ENGIN7'       \n",
    "```\n",
    "\n",
    "We can reverse a string by specifying a negative `step`, such as -1, -2, etc... When using negative `step`, characters will be printed from right to left.\n",
    "\n",
    "<div class=\"alert alert-block alert-info\"> <b>TRY IT!</b> Reverse the order of the characters in <code>greeting</code>.</div> "
   ]
  },
  {
   "cell_type": "code",
   "execution_count": null,
   "id": "bb77de99",
   "metadata": {},
   "outputs": [],
   "source": [
    "# all characters in reverse order\n"
   ]
  },
  {
   "cell_type": "markdown",
   "id": "3de1cc61",
   "metadata": {},
   "source": [
    "<div class=\"alert alert-block alert-warning\"> <b>NOTE!</b> While the syntax of <code>greeting[-1]</code>, <code>greeting[:-1]</code>, and <code>greeting[::-1]</code> look similar, all return completely different outputs. Always remember that the grammar rules of a programming language are rigid, and that small changes to an expression can change its meaning entirely. </div>\n",
    "\n",
    "## 2.4. Strings Are Immutable\n",
    "\n",
    "Strings are **immutable**, which means you **cannot** change individual characters in a string once it has been created. For example, this doesn't work:\n",
    "\n",
    "```python\n",
    ">>> course = \"WNGIN7\"\n",
    ">>> course[0] = \"E\" # attempt to reassign the first character of course\n",
    "```\n",
    "```\n",
    "---------------------------------------------------------------------------\n",
    "TypeError                                 Traceback (most recent call last)\n",
    "\n",
    "      1 course = \"WNGIN7\"\n",
    "----> 2 course[0] = \"E\" # attempt to reassign the first character of course\n",
    "\n",
    "TypeError: 'str' object does not support item assignment\n",
    "```\n",
    "\n",
    "## 2.5. Length\n",
    "\n",
    "You can check the length of a string using the built-in function `len()`. This will return the total number of all characters in the string, including letters, digits, punctuation, spaces, and other valid symbols.\n",
    "\n",
    "<div class=\"alert alert-block alert-info\"> <b>TRY IT!</b> Print the length of <code>greeting</code>.</div> "
   ]
  },
  {
   "cell_type": "code",
   "execution_count": null,
   "id": "b83560e8",
   "metadata": {},
   "outputs": [],
   "source": []
  },
  {
   "cell_type": "markdown",
   "id": "33dfc83e",
   "metadata": {},
   "source": [
    "## 2.6. Operations on Strings\n",
    "\n",
    "Strings can be concatenated (glued together) with the `+` operator. This allows you to combine multiple strings into a single string. So, writing `\"Welcome \" + \"to \" + \"ENGIN7!\"` will give us the same string as `greeting`. Notice how spaces were included after \"Welcome\" and after \"to\".\n",
    "\n",
    "<div class=\"alert alert-block alert-info\"> <b>TRY IT!</b> Create a string without any spaces within the quotations using <code>\"Welcome\" + \"to\" + \"ENGIN7!\"</code>.</div> \n",
    "\n",
    "Python will not automatically add a space because these are different words; this is up to the programmer (you) to specify."
   ]
  },
  {
   "cell_type": "code",
   "execution_count": null,
   "id": "889be7d0",
   "metadata": {},
   "outputs": [],
   "source": []
  },
  {
   "cell_type": "markdown",
   "id": "8c1d8302",
   "metadata": {},
   "source": [
    "A string can be repeated a specific number of times with the `*` operator simply by multiplying the string by that number. However, it's important to note that the number you multiply the string by should be of type `int`. You cannot multiply `str` by a `float` or by another `str`.\n",
    "\n",
    "<div class=\"alert alert-block alert-info\"> <b>TRY IT!</b> Repeat the statement in <code>greeting</code> 3 times. What happens if you try to run <code>greeting * '3'</code>?</div>"
   ]
  },
  {
   "cell_type": "code",
   "execution_count": null,
   "id": "a8420108",
   "metadata": {},
   "outputs": [],
   "source": []
  },
  {
   "cell_type": "markdown",
   "id": "2d18371c",
   "metadata": {},
   "source": [
    "To check whether a specific character or string is part of another string, you can use the operator `string1 in string2`. This will return `True` if `string1` is a part of `string2`, `False` otherwise. Using `string1 not in string2` will return `True` is `string1` is not part of `string2`, `False` otherwise.\n",
    "\n",
    "<div class=\"alert alert-block alert-info\"> <b>TRY IT!</b> Check if \",\" is in <code>greeting</code>.</div>"
   ]
  },
  {
   "cell_type": "code",
   "execution_count": null,
   "id": "6128e7c8",
   "metadata": {},
   "outputs": [],
   "source": [
    "print(',' in greeting)"
   ]
  },
  {
   "cell_type": "markdown",
   "id": "74466d13",
   "metadata": {},
   "source": [
    "## 2.7. Logical Expressions on Strings\n",
    "\n",
    "You can also use logical expressions (`==, <, >, !=, ...`) with strings to compare and evaluate them. When using operators like `<` or `>`, the result is determined based on the alphanumerical order of characters, from left to right. If both strings have the same alphanumerical order, then a shorter string is considered less than a longer string. \n",
    "\n",
    "It's important to note that string are case-sensitive, and upper-case letters are considered less than lower-case letters. In general, Python strings use the Unicode Standard for representing characters. This means each character in a string has a unique integer code assigned to it. When you compare strings in Python, it's these Unicode integer values that are compared. Below is a list of all the useful characters in the ASCII table and their corresponding Unicode integer value (under Decimal).\n",
    "\n",
    "<br>\n",
    "\n",
    "<figure>\n",
    "  <img src=\"https://upload.wikimedia.org/wikipedia/commons/d/dd/ASCII-Table.svg\n",
    "\" style=\"width:75%\">\n",
    "    <figcaption style=\"text-align:center\"><strong>List of characters in the ASCII table:</strong> <a href=\"https://commons.wikimedia.org/wiki/File:ASCII-Table.svg\">https://commons.wikimedia.org/</a></figcaption>   \n",
    "</figure>\n",
    "\n",
    "<div class=\"alert alert-block alert-info\"> <b>TRY IT!</b> Using logical expressions, check if <code>greeting</code> is equal to <code>\"Welcome \" + \"to \" + \"ENGIN7!\"</code>, is less than <code>\"Welcome\"</code>, is less than <code>\"a\"</code>, and is less than <code>\"A\"</code>.</div>\n",
    "\n",
    "Recall that `greeting = \"Welcome to ENGIN7!\"`."
   ]
  },
  {
   "cell_type": "code",
   "execution_count": null,
   "id": "63de51e2",
   "metadata": {},
   "outputs": [],
   "source": [
    "print(greeting ==  \"Welcome \" + \"to \" + \"ENGIN7!\")\n",
    "\n",
    "print(greeting < \"Welcome\") # The result is based on length because because the longer string includes the shorter string\n",
    "\n",
    "print(greeting < \"a\") # The first letters W and a are compared. W < a, so True. Length does not matter here.\n",
    "\n",
    "print(greeting < \"A\") # The first letters W and A are compared. W < A, so False. Length does not matter here."
   ]
  },
  {
   "cell_type": "markdown",
   "id": "b8282c64",
   "metadata": {},
   "source": [
    "## 2.8. Single and Double Quotations\n",
    "\n",
    "In Python, strings are surrounded by either single or double quotation marks, and both options work the same way for creating strings. However, the difference becomes apparent when these quotes are used together. You may find yourself in a situation where you want to use an apostrophe as a string, such as the word `don't`. Double quotes allow you to include apostrophes inside of strings. Alternatively, if using single quotes, a backslash (`\\`) can be included before the apostrophe as a way to tell Python this is part of the string. The backslash is used to escape characters that otherwise have a special meaning, such as the quote character. If you want to include a backslash as a character in the the string, you have to use double backslash `\\\\`. This will include a single backslash `\\` in the string.\n",
    "\n",
    "<div class=\"alert alert-block alert-info\"> <b>TRY IT!</b> Run the following using single and double quotes <code>This won't work with a single-quoted string!</code> and <code>Don\\'t cheat, it\\'s not worth the consequences.</code>.</div>"
   ]
  },
  {
   "cell_type": "code",
   "execution_count": null,
   "id": "da0e25fd",
   "metadata": {},
   "outputs": [],
   "source": [
    "'This won't work with a single-quoted string!'\n",
    "\"This won't work with a single-quoted string!\""
   ]
  },
  {
   "cell_type": "code",
   "execution_count": null,
   "id": "fb55164e",
   "metadata": {},
   "outputs": [],
   "source": [
    "'Don\\'t cheat, it\\'s not worth the consequences.'\n",
    "\"Don\\'t cheat, it\\'s not worth the consequences.\""
   ]
  },
  {
   "cell_type": "markdown",
   "id": "621ef2b1",
   "metadata": {},
   "source": [
    "## 2.9. String Methods\n",
    "\n",
    "Strings have various methods that could be used to manipulate them. The syntax to use these methods is: `string.method()`, where:\n",
    "\n",
    "* `string` is the string or variable name with a string object\n",
    "* `method` is the name of the method you want to apply on the string. You can read about built-in string methods [here](https://docs.python.org/3/library/stdtypes.html#string-methods). Some methods require input arguments, while others do not. If a method requires any arguments, these should be placed within the parentheses.\n",
    "\n",
    "Below is a list of some common string methods. This list is not exhaustive. In lab assignments, you might have to use other string methods. You can find the full list of built-in string methods [here](https://docs.python.org/3/library/stdtypes.html#string-methods).\n",
    "\n",
    "* [`string.lower()`](https://docs.python.org/3/library/stdtypes.html#str.lower): Return a copy of `string` with all the characters converted to lowercase.\n",
    "* [`string.upper()`](https://docs.python.org/3/library/stdtypes.html#str.upper): Return a copy of `string` with all the characters converted to uppercase.\n",
    "* [`string.count(sub)`](https://docs.python.org/3/library/stdtypes.html#str.count): Return the number of non-overlapping occurrences of substring `sub` in `string`.\n",
    "* [`string.find(sub)`](https://docs.python.org/3/library/stdtypes.html#str.find): Return the lowest index in `string` where substring `sub` is found. Return -1 if `sub` is not found.\n",
    "* [`string.index(sub)`](https://docs.python.org/3/library/stdtypes.html#str.index): Similar to `string.find(sub)`, but raises `ValueError` when the substring `sub` is not found.\n",
    "* [`string.replace(old, new)`](https://docs.python.org/3/library/stdtypes.html#str.replace): Return a copy of `string` with all occurrences of substring `old` replaced by `new`.\n",
    "\n",
    "<div class=\"alert alert-block alert-info\"> <b>TRY IT!</b> Run the following commands: <code>greeting.lower()</code>, <code>greeting.count('N')</code>, and <code>greeting.replace('ENGIN7', 'E7')</code>.</div>\n",
    "\n",
    "Recall that `greeting = \"Welcome to ENGIN7!\"`."
   ]
  },
  {
   "cell_type": "code",
   "execution_count": null,
   "id": "fcc438b1",
   "metadata": {},
   "outputs": [],
   "source": [
    "print(greeting.lower()) # Converts a string into lower case\n",
    "\n",
    "print(greeting.count('N')) # Returns the number of times a specified value (in this case 'N') occurs in a string\n",
    "\n",
    "print(greeting.replace('ENGIN', 'E')) # Returns a string where a specified value is replaced with another specified value"
   ]
  },
  {
   "cell_type": "markdown",
   "id": "71d5db9c",
   "metadata": {},
   "source": [
    "## 2.10. String Formatting\n",
    "\n",
    "We previously saw that numbers can also be expressed as <code>str</code>. For example, <code>'123'</code> represents the string '123' not the number 123. \n",
    "\n",
    "Therefore, `'123' + 1` will raise a `TypeError` because `str` cannot be concatenated to `int` or `float` data types.\n",
    "\n",
    "We could convert other data types to strings using the built-in function `str()`. For example `str(1)` will convert the number 1, to the string '1'. This is particularly useful when you have calculated a numeric variable and want to print it out with a string. In this case, you can convert the numeric variable to a string and then concatenate it with the string you are trying to print out.\n",
    "\n",
    "Likewise, we can convert a string that contains numbers only to `int` or `float` using the `int()` and `float()` functions, respectively. \n",
    "\n",
    "<div class=\"alert alert-block alert-info\"> <b>TRY IT!</b> Define the variable <code>number = 418</code> and then try to print a statement that says: <code>There are x students in E7.</code>, where <code>x</code> should be replaced by the value of the variable <code>number</code>.</div>"
   ]
  },
  {
   "cell_type": "code",
   "execution_count": null,
   "id": "ba296b86",
   "metadata": {},
   "outputs": [],
   "source": []
  },
  {
   "cell_type": "markdown",
   "id": "97be5651",
   "metadata": {},
   "source": [
    "There are other neater ways to format a string from a combination of data types, which is known as string formatting. To insert different objects within a string, the `%` operator is used along with a letter indicating the object type we want to insert in its location. The table below lists some of the commonly used string formatting specifiers.\n",
    "\n",
    "| Operator | Description                               |\n",
    "|:---------|:----------------------------------------- |\n",
    "| `%i`     | Integer (can also use `%d`)               |\n",
    "| `%f`     | Floating-point real number                |                   \n",
    "| `%s`     | String                                    |\n",
    "\n",
    "\n",
    "```python\n",
    ">>> course_code = 'ENGIN'\n",
    ">>> course_number = 7\n",
    ">>> average_gpa = 3.03\n",
    ">>> 'Welcome to %s%i! The average GPA in this course is typically %f.' % (course_code, course_number, average_gpa)\n",
    "        \n",
    "'Welcome to ENGIN7! The average GPA in this course is typically 3.030000.'      \n",
    "```\n",
    "\n",
    "**What is happening?** The `%s`, `%i`, and `%f` between the quotation marks are telling Python that we want to insert some string, integer, and floating-point objects at these location, respectively. Then, outside the quotation marks, the `% (course_code, course_number, average_gpa)` lists the objects we want to insert, in the same order as they should appear in the string.\n",
    "\n",
    "<div class=\"alert alert-block alert-warning\"> <b>NOTE!</b> Using <code>%f</code> in the example above added zeros to the number. To control the number of digits, we can use <code>%.nf</code>, where <code>n</code> should be replaced by the number of digits after the decimal point to display. For example, <code>%.2f</code> will round the number to the nearest two decimal places.</div>\n",
    "\n",
    "<div class=\"alert alert-block alert-info\"> <b>TRY IT!</b> Define <code>divisor = 2</code>, <code>dividend = 9</code>, then print the following statement: \"Nine divided by two is x, where y is the quotient and z is the remainder\". Replace x, y, and z with the correct values. Display only two digits after the decimal point for x.</div>"
   ]
  },
  {
   "cell_type": "code",
   "execution_count": null,
   "id": "75729a67",
   "metadata": {},
   "outputs": [],
   "source": [
    "divisor = 2\n",
    "dividend = 9\n",
    "\n",
    "x = dividend / divisor\n",
    "y = dividend // divisor\n",
    "z = dividend % divisor\n",
    "\n",
    "# print statement\n"
   ]
  },
  {
   "cell_type": "markdown",
   "id": "23c61511",
   "metadata": {},
   "source": [
    "The above method is known as the \"old style\" string formatting. Python introduced a new way to do string formatting that gets rid of the `%` operator.\n",
    "\n",
    "**Example:**\n",
    "\n",
    "```python\n",
    ">>> course_code = 'ENGIN'\n",
    ">>> course_number = 7\n",
    ">>> average_gpa = 3.03\n",
    ">>> f'Welcome to {course_code}{course_number}! The average GPA in this course is typically {average_gpa}.'\n",
    "\n",
    "'Welcome to ENGIN7! The average GPA in this course is typically 3.03.'      \n",
    "```\n",
    "\n",
    "As you can see, this prefixes the string with the letter `f` and the variables, which could be strings, numeric, or other are included between `{}`. This is known as string literals or \"f-strings\" (for formatted string).\n",
    "\n",
    "You can embed different Python expressions, such as arithmetic expressions, between `{}`.\n",
    "\n",
    "<div class=\"alert alert-block alert-info\"> <b>TRY IT!</b> Print the following statement using the new formatting syntax: \"Nine divided by two is x, where y is the quotient and z is the remainder\". Replace x, y, and z with the correct values.</div>"
   ]
  },
  {
   "cell_type": "code",
   "execution_count": null,
   "id": "08840917",
   "metadata": {},
   "outputs": [],
   "source": []
  },
  {
   "cell_type": "markdown",
   "id": "63eb7768",
   "metadata": {},
   "source": [
    "Strings are a special type of a sequence that can only store characters. Next we will learn about a new data structure, and that is a list.\n",
    "\n",
    "# 3. Lists: `[ ]`\n",
    "\n",
    "A `list` is a more versatile data structure than `str`. Similar to a `str`, a `list` is a collection of one or more items and you can use indexing, slicing, and the various methods we learned to work with `list` data structures. However, unlike strings, lists can hold various data types or a combination of different data types (`int`, `float`, `str`, `bool`, etc.). Items in a list are enclosed within square brackets `[]` and separated by commas `,`.\n",
    "\n",
    "**Examples:**\n",
    "\n",
    "```python\n",
    ">>> numeric_list = [1, 2, 3]\n",
    ">>> numeric_list\n",
    "[1, 2, 3]\n",
    "\n",
    ">>> text_list = ['Welcome', 'to', 'ENGIN7!']\n",
    ">>> text_list\n",
    "['Welcome', 'to', 'ENGIN7!']\n",
    "\n",
    ">>> mixed_list = ['Welcome', 'to', 'ENGIN', 7, '!']\n",
    ">>> mixed_list\n",
    "['Welcome', 'to', 'ENGIN', 7, '!']\n",
    "```\n",
    "Lists are fundamental in Python and serve as a powerful tool for storing and manipulating collections of data.\n",
    "\n",
    "<div class=\"alert alert-block alert-info\"> <b>TRY IT!</b> Create a list in Python named <code>grocery</code> with several grocery items followed by the number of the items. Check the type of <code>grocery</code>.</div>"
   ]
  },
  {
   "cell_type": "code",
   "execution_count": null,
   "id": "c1e81000",
   "metadata": {},
   "outputs": [],
   "source": []
  },
  {
   "cell_type": "markdown",
   "id": "78d85bc2",
   "metadata": {},
   "source": [
    "## 3.1. Indexing and Slicing\n",
    "\n",
    "Lists store data in order, so indexing in lists is very similar to that of strings. Just as every character in a string has an index, every item in a list also has an index. Let's take a look at a side-by-side comparison.\n",
    "\n",
    "<br>\n",
    "\n",
    "<figure>\n",
    "    <table><tr>\n",
    "    <td> \n",
    "      <p align=\"center\" style=\"padding: 10px\">\n",
    "        <img src=\"https://docs.google.com/drawings/d/e/2PACX-1vSgHlUHF_yY35KnVfVmNRZRyObn2nDdf3099srZ0xY_9O4FpF59fOetXDqkfaOuBSSVAKTRDJe3gMtT/pub?w=835&h=89\" style=\"width:100%\">\n",
    "        <br>\n",
    "      </p> \n",
    "    </td>\n",
    "    <td> \n",
    "      <p align=\"center\">\n",
    "        <img src=\"https://docs.google.com/drawings/d/e/2PACX-1vSa2alJxSF5L9KcnHtBL6KgzcdLt97Fqr6jyl_glmfTI9SVIgZhBZP376Nte8POV95zkag1oM3WpU3J/pub?w=538&h=89\" style=\"width:100%\">\n",
    "        <br>\n",
    "      </p> \n",
    "    </td>\n",
    "    </tr></table>\n",
    "    <figcaption style=\"text-align:center\"><strong>Indexing in Python strings (right) and lists (left)</strong></figcaption>  \n",
    "</figure>\n",
    "\n",
    "As you can see, the concept of indexing is consistent. The index starts at 0 for the first item, and it increases by 1 for each subsequent item. Whether you're working with characters in a string or items in a list, the indexing process remains the same.\n",
    "\n",
    "The same slicing syntax `[start:end:step]`  that we learned for strings can also be used for lists. This means that everything we discussed about slicing and negative indexing applies equally to lists.\n",
    "\n",
    "<div class=\"alert alert-block alert-info\"> <b>TRY IT!</b> Define <code>mixed_list = ['Welcome', 'to', 'ENGIN', 7, '!']</code> and then slice ENGIN 7.<br> &emsp;&emsp;&emsp;&ensp; Get the last item in <code>mixed_list</code>.</div>"
   ]
  },
  {
   "cell_type": "code",
   "execution_count": null,
   "id": "bd81a1d3",
   "metadata": {},
   "outputs": [],
   "source": []
  },
  {
   "cell_type": "markdown",
   "id": "5c971f22",
   "metadata": {},
   "source": [
    "## 3.2. Lists Are Mutable\n",
    "\n",
    "We learned that strings are immutable data types, which means you cannot change individual characters in a string once it has been created. However, lists are different; they are **mutable** data types, which means that the contents of a list can be modified.\n",
    "\n",
    "<div class=\"alert alert-block alert-info\"> <b>TRY IT!</b> Modify <code>mixed_list</code> to replace the third and fourth items with another course, <code>'CE'</code> and <code>93</code>, respectively.</div> "
   ]
  },
  {
   "cell_type": "code",
   "execution_count": null,
   "id": "3d4252fd",
   "metadata": {},
   "outputs": [],
   "source": [
    "# modify mixed_list\n",
    "\n",
    "# print mixed_list\n",
    "print(mixed_list)"
   ]
  },
  {
   "cell_type": "markdown",
   "id": "ab95f81e",
   "metadata": {},
   "source": [
    "In this example, we modified the third element of the list `mixed_list` from `'ENGIN'` to `'CE'` and the fourth element from `7` to `93`. This demonstrates the mutability of lists, where you can alter their contents after creation. Unlike strings, lists offer flexibility in making changes as needed.\n",
    "\n",
    "## 3.3. Length \n",
    "\n",
    "Similar to strings, we can check the length of a list using the built-in `len()` function. This will return the total number of items in the list.\n",
    "\n",
    "<div class=\"alert alert-block alert-info\"> <b>TRY IT!</b> Check the length of <code>mixed_list</code> in Python.</div>"
   ]
  },
  {
   "cell_type": "code",
   "execution_count": null,
   "id": "2ffa67ef",
   "metadata": {},
   "outputs": [],
   "source": [
    "print(len(mixed_list))"
   ]
  },
  {
   "cell_type": "markdown",
   "id": "80d7c6ed",
   "metadata": {},
   "source": [
    "## 3.4. List Operations and Methods\n",
    "\n",
    "Some of the arithmetic operators we have used for numbers before can also be applied to lists. However, the effect may not always be what we expect. For example, using the `+` operator with lists, like `list1 + list2`, won't perform arithmetic addition between the values of the two lists. Instead, this will concatenate them into a combined list, similar to how the `+` operator works for strings. Additionally, you can use the `*` operator for list repetition, just as we did with strings.\n",
    "\n",
    "<div class=\"alert alert-block alert-info\"> <b>TRY IT!</b> Concatenate the following two lists <code>list1 = [1]</code> and <code>list2 = [2]</code>. Save them as a new variable called <code>new_list</code>.<br> &emsp;&emsp;&emsp;&ensp; Then try to multiply <code>list1</code> by an integer and check the output.</div>"
   ]
  },
  {
   "cell_type": "code",
   "execution_count": null,
   "id": "5a9fff04",
   "metadata": {},
   "outputs": [],
   "source": [
    "list1 = [1]\n",
    "list2 = [2]\n",
    "\n",
    "# concatenate list1 and list2\n",
    "\n",
    "# multiply list1\n"
   ]
  },
  {
   "cell_type": "markdown",
   "id": "a557f26c",
   "metadata": {},
   "source": [
    "In the above example, we first concatenated two lists using the `+` operator, resulting in a combined list. Then, we used the `*` operator to repeat a list multiple times, generating a new list with repeated elements.\n",
    "\n",
    "<div class=\"alert alert-block alert-warning\"> <b>NOTE!</b> Not all arithmetic operators can be used on lists – for example, using <code>list1 - list2</code> will give us an error.</div>\n",
    "\n",
    "There are also various built-in methods that allow you to manipulate and work with lists. For example, another way to add items to an existing list is using the `append` method. Below is a list of some common list methods. This list is not exhaustive. In lab assignments, you might have to use other list methods. You can find the full list of built-in list methods [here](https://docs.python.org/3/tutorial/datastructures.html).\n",
    "* `list.append(x)`: Append item `x` to the end of `list`.\n",
    "* `list.extend(iterable)`: Extend `list` by appending all the items from `iterable`.\n",
    "* `list.insert(i, x)`: Insert item `x` at a given index `i`. The first argument is the index of the element before which to insert, so `list.insert(0, x)` inserts at the front of the list, and `list.insert(len(list), x)` is equivalent to `list.append(x)`.\n",
    "* `list.remove(x)`: Remove the first item from `list` whose value is equal to `x`. It raises a `ValueError` if there is no such item in `list`.\n",
    "* `list.pop(i)`: Remove the item at index `i` in `list`, and return it. If no index is specified, `list.pop()` removes and returns the last item in the list.\n",
    "* `list.index(x)`: Return the index in `list` of the first item whose value is equal to `x`. Raises a `ValueError` if there is no such item.\n",
    "* `list.count(x)`: Return the number of times `x` appears in `list`.\n",
    "* `list.reverse()`: Reverse the elements of `list`.\n",
    "\n",
    "You can define an empty list using `[]` and then append items to it. \n",
    "\n",
    "<div class=\"alert alert-block alert-info\"> <b>TRY IT!</b> Define an empty list <code>list3 = []</code> and then append to it the numbers 1 and 3.</div>\n",
    "\n",
    "<div class=\"alert alert-block alert-warning\"> <b>NOTE!</b> You can only append a single item at a time using the <code>.append()</code> method. To append multiple values, use the <code>.extend()</code> method. </div>"
   ]
  },
  {
   "cell_type": "code",
   "execution_count": null,
   "id": "7ca885a3",
   "metadata": {},
   "outputs": [],
   "source": []
  },
  {
   "cell_type": "markdown",
   "id": "5ee3b5d6",
   "metadata": {},
   "source": [
    "<div class=\"alert alert-block alert-info\"> <b>TRY IT!</b> Insert 2 at index 1 of <code>list3</code>.</div>"
   ]
  },
  {
   "cell_type": "code",
   "execution_count": null,
   "id": "0e81cbeb",
   "metadata": {},
   "outputs": [],
   "source": [
    "# modify list3\n",
    "\n",
    "print(list3)"
   ]
  },
  {
   "cell_type": "markdown",
   "id": "3b27c078",
   "metadata": {},
   "source": [
    "<div class=\"alert alert-block alert-info\"> <b>TRY IT!</b> Reverse the order of <code>list3</code>.</div>"
   ]
  },
  {
   "cell_type": "code",
   "execution_count": null,
   "id": "3fce98df",
   "metadata": {},
   "outputs": [],
   "source": [
    "# modify list3\n",
    "\n",
    "print(list3)"
   ]
  },
  {
   "cell_type": "markdown",
   "id": "951edbb9",
   "metadata": {},
   "source": [
    "Although strings and lists both have several methods, there is a key difference in the behavior between methods applied to lists and strings in Python. Some list methods such as insert, reverse, sort, and append modify the original list. However,  none of the string methods ever change the original string. This stems from the fundamental concept that lists are mutable whereas strings are immutable.\n",
    "\n",
    "<div class=\"alert alert-block alert-info\"> <b>TRY IT!</b> Run the example below to see the differences between methods applied to strings and to lists.</div>"
   ]
  },
  {
   "cell_type": "code",
   "execution_count": null,
   "id": "66b1aeb0",
   "metadata": {},
   "outputs": [],
   "source": [
    "string_example = 'abcd'\n",
    "list_example = ['a', 'b', 'c', 'd']\n",
    "\n",
    "string_example.upper()\n",
    "list_example.reverse()\n",
    "\n",
    "print(string_example)\n",
    "print(list_example)"
   ]
  },
  {
   "cell_type": "markdown",
   "id": "ac754369",
   "metadata": {},
   "source": [
    "The key takeaway from this example is that methods applied to strings do not modify the original string; they return a new string with the result. In contrast, methods applied to lists can modify the original list in place."
   ]
  },
  {
   "cell_type": "markdown",
   "id": "5f353853",
   "metadata": {},
   "source": [
    "# 4. Tuples: `( )`\n",
    "\n",
    "Python has another sequence type which is called `tuple`. Tuples are similar to lists in many ways, but there are some key differences that we will explore shortly. Like lists, tuples are used to store collections of items and can hold various data types or a combination of different data types (`int`, `float`, `str`, `bool`, etc.). Items in a tuple are enclosed within parentheses `()` and separated by commas `,`.\n",
    "\n",
    "Recall that lists are defined using square brackets `[]`.\n",
    "\n",
    "**Examples:**\n",
    "\n",
    "```python\n",
    ">>> numeric_tuple = (1, 2, 3)\n",
    ">>> numeric_tuple\n",
    "(1, 2, 3)      \n",
    "```\n",
    "\n",
    "```python\n",
    ">>> text_tuple = ('Welcome', 'to', 'ENGIN7!')\n",
    ">>> text_tuple\n",
    "('Welcome', 'to', 'ENGIN7!')     \n",
    "```\n",
    "\n",
    "```python\n",
    ">>> mixed_tuple = ('Welcome', 'to', 'ENGIN', 7, '!')\n",
    ">>> mixed_tuple\n",
    "('Welcome', 'to', 'ENGIN', 7, '!')\n",
    "```\n",
    "\n",
    "<div class=\"alert alert-block alert-warning\"> <b>NOTE!</b> It is possible to drop the parentheses when specifying a tuple, and only use a comma separated list of elements: <code>numeric_tuple = 1, 2, 3</code>. However, it is always good to have parentheses when defining a tuple.</div>\n",
    "\n",
    "Similar to strings and lists, you can get the length of a tuple, you can index and slice tuples. As such, these topics are not discussed again.\n",
    "\n",
    "<div class=\"alert alert-block alert-info\"> <b>TRY IT!</b> Define a tuple called <code>tuple1</code> with all integers between 1 and 5. Then, check its type using the <code>type()</code> function.</div> "
   ]
  },
  {
   "cell_type": "code",
   "execution_count": null,
   "id": "40adb42d",
   "metadata": {},
   "outputs": [],
   "source": []
  },
  {
   "cell_type": "markdown",
   "id": "b2912d65",
   "metadata": {},
   "source": [
    "## 4.1. Tuples Are Immutable\n",
    "\n",
    "You may ask, what's the difference between lists and tuples? If they are similar to each other, why do we need another sequence data structure? Well, tuples are created for a reason. Here's an excerpt from the [Python documentation](https://docs.python.org/3/tutorial/datastructures.html#tuples-and-sequences):\n",
    "\n",
    ">Though tuples may seem similar to lists, they are often used in different situations and for different purposes. Tuples are **immutable**, and usually contain a **heterogeneous** sequence of elements that are accessed via unpacking (see below) or indexing (or even by attribute in the case of named tuples). Lists are **mutable**, and their elements are usually **homogeneous** and are accessed by iterating over the list.\n",
    "\n",
    "So, one important difference between lists and tuples is that tuples are immutable. Once elements in a tuple are defined, they cannot be changed. In contrast, as we saw earlier, elements in a list can be changed without any issues. \n",
    "\n",
    "Tuples find their utility in scenarios where data should remain unchanged and structured. For example, the list of weekday names is never going to change. If we store it in a tuple, we can make sure it is never modified accidentally in an unexpected place.\n",
    "\n",
    "## 4.2. Unpacking \n",
    "\n",
    "Tuples, as well as other sequence/data structure types, can be accessed by unpacking. Unpacking is a shorthand syntax for assigning each of the elements of a data structure to different scalar variables. This requires that the number of variables on the left side of the assignment operator `=` equals the number of elements in the data structure. Otherwise, a `ValueError` is raised.\n",
    "\n",
    "**Unpacking Examples:**\n",
    "\n",
    "```python\n",
    ">>> numeric_tuple = (1, 2, 3)\n",
    ">>> a1, a2, a3 = numeric_tuple\n",
    ">>> print(a1, a2, a3)\n",
    "1 2 3      \n",
    "```\n",
    "\n",
    "```python\n",
    ">>> numeric_tuple = (1, 2, 3)\n",
    ">>> a1, a2 = numeric_tuple\n",
    "```\n",
    "```\n",
    "---------------------------------------------------------------------------\n",
    "ValueError                                Traceback (most recent call last)\n",
    "\n",
    "      1 numeric_tuple = (1, 2, 3)\n",
    "----> 2 a1, a2 = numeric_tuple\n",
    "\n",
    "ValueError: too many values to unpack (expected 2)\n",
    "```\n",
    "\n",
    "## 4.3. Tuple Operations and Methods\n",
    "\n",
    "Similar to lists, using the `+` operator with tuples, like `tuple1 + tuple2`, won't perform arithmetic addition between the values of the two tuples. Instead, this will concatenate them into a combined tuple. Additionally, you can use the `*` operator for tuple repetition, just as we did with lists and strings.\n",
    "\n",
    "However, unlike strings and lists which have several methods, tuples have only two built-in methods:\n",
    "* `tuple.index(x)`: Return the index in `tuple` of the first item whose value is equal to `x`. Raises a `ValueError` if there is no such item.\n",
    "* `tuple.count(x)`: Return the number of times `x` appears in `tuple`.\n",
    "\n",
    "These are the only methods specifically associated with tuples in Python's standard library. Tuples don't have methods for adding, removing, or modifying elements because they are designed to be immutable. Tuples lack the extensive set of methods available to lists because tuples are intended to be immutable, and altering their contents contradicts this immutability principle."
   ]
  },
  {
   "cell_type": "markdown",
   "id": "0d355cef",
   "metadata": {},
   "source": [
    "# 5. Ranges\n",
    "\n",
    "Another sequence in Python is a `range`. It has very specific usages: create ranges of integers. We create a range by calling the `range()` function, which has the following syntax:\n",
    "\n",
    "```python\n",
    "range(start, stop, step)\n",
    "```\n",
    "\n",
    "where:\n",
    "* `start`: an integer number specifying the starting position of the sequence. This argument is optional. If not specified, it defaults to 0.\n",
    "* `stop`: an integer number specifying at which position to stop the sequence (excluded). This argument is required.\n",
    "* `step`: an integer number specifying the increment in the sequence. This argument is optional and defaults to 1. The `step` can be positive or negative and the value in index `i` will simply be `start + step*i`\n",
    "\n",
    "<div class=\"alert alert-block alert-warning\"> <b>NOTE!</b> This should sound familiar. We have seen the <code>np.arange()</code> before, which returns an <code>ndarray</code> instead of <code>range</code>. However, <code>range()</code> is used for integer sequences only, while <code>np.arange()</code> can take non-integer values as well. For integer arguments, the functions are roughly equivalent.</div>\n",
    "\n",
    "<div class=\"alert alert-block alert-info\"> <b>TRY IT!</b> Define a range <code>year</code> with all days of the year starting from 1 through 365 (inclusive). Print it then check its type using the <code>type()</code> function.</div> "
   ]
  },
  {
   "cell_type": "code",
   "execution_count": null,
   "id": "f67051d7",
   "metadata": {},
   "outputs": [],
   "source": []
  },
  {
   "cell_type": "markdown",
   "id": "a5d27dfb",
   "metadata": {},
   "source": [
    "The `range` type is an immutable sequence of numbers and is commonly used for iterations, which we will discuss next. One of its notable advantages is its memory efficiency. Unlike regular lists or tuples, a `range` object consistently takes the same small amount of memory, regardless of the size of the range it represents, whether it is all integers from 0 to 10 or from 0 to 1000, as it only stores the `start`, `stop` and `step` values.\n",
    "\n",
    "This memory efficiency makes `range` objects an ideal choice for tasks that involve iterating over a large sequence of numbers."
   ]
  },
  {
   "cell_type": "markdown",
   "id": "a80cffe4",
   "metadata": {},
   "source": [
    "# 6. Converting Between Types\n",
    "\n",
    "In programming, you often encounter situations where you need to convert data from one type to another. Python provides a set of built-in functions that allow you to convert between different data types. These conversions are especially handy when dealing with mutable and immutable data structures.\n",
    "\n",
    "Python allows you to convert numbers to strings using the `str()` function. This can be useful when you want to combine numeric values with text in your output. Likewise, we can convert a string that contains numbers only to `int` or `float` using the `int()` and `float()` functions, respectively. \n",
    "\n",
    "To convert a string into a list of individual characters, you can use the `list()` function. Similarly, to convert a string into a tuple of individual characters, you can use the `tuple()` function. You can also convert data from other types, such as ranges, into lists and tuples using the `list()` and `tuple()` functions.\n",
    "\n",
    "<div class=\"alert alert-block alert-info\"> <b>TRY IT!</b> Define a variable named <code>greeting</code> with the following string in Python: \"Welcome to ENGIN7!\" and then convert it to a list.<br> &emsp;&emsp;&emsp;&ensp; Convert <code>year</code> from range to tuple.</div> "
   ]
  },
  {
   "cell_type": "code",
   "execution_count": null,
   "id": "b57e6fcc",
   "metadata": {},
   "outputs": [],
   "source": [
    "greeting = \"Welcome to ENGIN7!\"\n",
    "\n",
    "# convert greeting to list\n",
    "\n",
    "# convert year to tuple\n"
   ]
  },
  {
   "cell_type": "markdown",
   "id": "48b1d767",
   "metadata": {},
   "source": [
    "Lastly, if you look back at the syntax for creating NumPy arrays, we used `np.array([...])` or `np.array((...))`. So, the `np.array()` function simply takes as input a list `[]` or a tuple `()` and converts it to a NumPy array. You can also provide an argument of type `range` to `np.array()`."
   ]
  }
 ],
 "metadata": {
  "kernelspec": {
   "display_name": "Python 3 (ipykernel)",
   "language": "python",
   "name": "python3"
  },
  "language_info": {
   "codemirror_mode": {
    "name": "ipython",
    "version": 3
   },
   "file_extension": ".py",
   "mimetype": "text/x-python",
   "name": "python",
   "nbconvert_exporter": "python",
   "pygments_lexer": "ipython3",
   "version": "3.9.15"
  }
 },
 "nbformat": 4,
 "nbformat_minor": 5
}
