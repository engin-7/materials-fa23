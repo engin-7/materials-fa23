{
 "cells": [
  {
   "cell_type": "markdown",
   "id": "94582f53",
   "metadata": {},
   "source": [
    "# 0. Motivation\n",
    "\n",
    "Every day, we make decisions based on certain conditions. For example, **if** it is raining, I will bring an umbrella before going outside. Likewise, we want computer programs to do different things depending on certain condition(s). This can be achieved using **control statements**, which are also known as **branching statements** (i.e., the branch/path the program follows depending on the conditions). Control statements are a fundamental component of computer programming.\n",
    "\n",
    "By the end of this section, you should be able to:\n",
    "\n",
    "* Identify situations where control statements are essential\n",
    "* Incorporate control statements into your functions and scripts\n",
    "* Use logical and ternary operators with control statements"
   ]
  },
  {
   "cell_type": "markdown",
   "id": "3aa19d8c",
   "metadata": {},
   "source": [
    "# 1. If Statements\n",
    "\n",
    "We want to say something like \"if this condition is true, do this code block\". This can be achieved using the `if` syntax in Python:\n",
    "\n",
    "```python\n",
    "if condition:\n",
    "    # do code block\n",
    "    \n",
    "# subsequent code\n",
    "```\n",
    "\n",
    "The word `if` is a keyword.\n",
    "* When Python sees an if-statement, it evaluates the specified condition.\n",
    "* If the condition is true, then the indented code block will be executed.\n",
    "* Otherwise, if the condition is false, Python will skip the indented code block to whatever appears after (subsequent code in the example above).\n",
    "\n",
    "The keyword `if` is followed by the condition, which is followed by a colon, `:`. The colon is then followed by the code block, which will only be executed if the condition is true. The code block can be one or more lines and *must be indented*. Indentation is important as it is the only way Python knows which code block belongs to the conditional statement. It is standard in Python to use four spaces (equivalent to a tab) for indenting. If the code block is not indented correctly, this will raise an `IndentationError`.\n",
    "\n",
    "<br>\n",
    "\n",
    "<figure>\n",
    "  <img src=\"https://docs.google.com/drawings/d/e/2PACX-1vQfu9ZkGBRGxDUPd8ombdYWNua9s3GvdS9pAu5d3aZ1R5nFpIO8fVkmSsV9dVgueCaV7L7i9q9m2V-Y/pub?w=980&h=301\" style=\"width:75%\">\n",
    "    <figcaption style=\"text-align:center\"><strong>Control flow with if statements</strong></figcaption>  \n",
    "</figure>\n",
    "\n",
    "<div class=\"alert alert-block alert-info\"> <b>TRY IT!</b> Write a speeding ticket function, <code>speed_check()</code>, that takes two arguments, <code>speed</code> and <code>limit</code>, which represent a vehicle's speed and the posted speed limit. If the vehicle is going <strong>more than 5 mph</strong> over the speed limit, the function should print out the following message: 'Speeding!'.</div>"
   ]
  },
  {
   "cell_type": "code",
   "execution_count": 3,
   "id": "f256f419",
   "metadata": {},
   "outputs": [
    {
     "name": "stdout",
     "output_type": "stream",
     "text": [
      "Speeding!\n"
     ]
    }
   ],
   "source": [
    "# define function\n",
    "\n",
    "# call function\n"
   ]
  },
  {
   "cell_type": "markdown",
   "id": "687aca5d",
   "metadata": {},
   "source": [
    "# 2. If-Else Statements \n",
    "\n",
    "In the above example, we only used an if statement that does the following: \"if this condition is true, do this code block\". In some cases, we want to also tell the program what to do if the condition is false: \"if this condition is true, do this code block, otherwise, do something else.\" This can be achieved using the `if` and `else` syntax in Python:\n",
    "\n",
    "```python\n",
    "if condition:\n",
    "    # do code block 1\n",
    "else:\n",
    "    # do code block 2\n",
    "    \n",
    "# subsequent code\n",
    "```\n",
    "\n",
    "* When Python sees an if-statement, it evaluates the specified condition.\n",
    "* If the condition is true, Python executes the indented code block 1.\n",
    "* If the condition is false, Python skips code block 1 and proceeds to the else statement and executes code block 2.\n",
    "\n",
    "Remember that proper indentation is crucial for Python to understand which code belongs to each block. Consistency in indentation is also important.\n",
    "\n",
    "<br> \n",
    "\n",
    "<figure>\n",
    "  <img src=\"https://docs.google.com/drawings/d/e/2PACX-1vS88OqO7B3dEjWpiYtYrIzPo6F7YNkVOM7oIsgHoZk6cMoBcoSGmXHZ_oyDboenVPEKL9fDF68GSl_d/pub?w=1056&h=420\" style=\"width:75%\">\n",
    "    <figcaption style=\"text-align:center\"><strong>Control flow with if-else statements</strong></figcaption>   \n",
    "</figure>\n",
    "\n",
    "<div class=\"alert alert-block alert-info\"> <b>TRY IT!</b> Modify the function above to print out another message if the vehicle is not going more than 5 mph over the speed limit: 'Acceptable!'.</div>"
   ]
  },
  {
   "cell_type": "code",
   "execution_count": 6,
   "id": "e75c0c54",
   "metadata": {},
   "outputs": [
    {
     "name": "stdout",
     "output_type": "stream",
     "text": [
      "Acceptable!\n"
     ]
    }
   ],
   "source": [
    "# define function\n",
    "def speed_check(speed, limit):\n",
    "    if speed > limit + 5:\n",
    "        print('Speeding!')\n",
    "    # add else\n",
    "        \n",
    "# call function\n",
    "speed_check(68, 65)"
   ]
  },
  {
   "cell_type": "markdown",
   "id": "b18bc618",
   "metadata": {},
   "source": [
    "# 3. If-Elif-Else Statements\n",
    "\n",
    "Lastly, when there are more than two alternatives to consider, use the `elif` keyword, which is short for else-if: \"if this condition is true, do this code block, else if this other condition is true, do this other code block, otherwise, do something else.\" This can be achieved using the `if`, `elif`, and `else` syntax in Python:\n",
    "\n",
    "```python\n",
    "if condition_1:\n",
    "    # do code block 1\n",
    "elif condition_2:\n",
    "    # do code block 2\n",
    "elif condition_3:\n",
    "    # do code block 3\n",
    "else:\n",
    "    # do code block 4\n",
    "    \n",
    "# subsequent code\n",
    "```\n",
    "\n",
    "Only one branch will be followed, which is the **first** one for which the condition is true, otherwise, the `else` block is followed. The order of the branching statements is important:\n",
    "\n",
    "1. `if`: Branching statements must always start with an `if` statement, which contains the first condition that is checked. If this evaluates to true, Python runs code block 1 and then skips to the subsequent code after the if statement.\n",
    "2. `elif`: An `elif`statement is used to check for other conditions **only if the conditions in the previous statements evaluate to false**. You can have any number of `elif` statements (or none) to handle different situations. Python will run the code block of the first `elif` condition that is true (if any), and then will skip to the subsequent code.\n",
    "3. `else`: Last is the `else` statement, which must come at the end (an `else` statement is not required, but you can have at most one). This statement doesn't accept a condition. The code in an `else` block is run **only if all conditions above that are false**.\n",
    "\n",
    "The following will raise an error when using control statements:\n",
    "* Missing colon `:` after `if`, `elif`, or `else` statements\n",
    "* No indentation in the code block after `if`, `elif`, or `else` statements\n",
    "* A condition after `else`\n",
    "* Multiple `else` statements under the same `if`\n",
    "* An `elif` statement after `else`\n",
    "\n",
    "<figure>\n",
    "  <img src=\"https://docs.google.com/drawings/d/e/2PACX-1vRzJGbJDUALtKOxNKghDhCehARo4LCvIpB-ztWkgTsi6BvIS6u4KoKTX4YD7xShVsvaXceNH8FdEz2C/pub?w=1781&h=634\" style=\"width:100%\">\n",
    "    <figcaption style=\"text-align:center\"><strong>Control flow with if-elif-else statements</strong></figcaption>   \n",
    "</figure>\n",
    "\n",
    "<div class=\"alert alert-block alert-info\"> <b>TRY IT!</b> Modify the function above to consider the following cases: \n",
    "<ol>\n",
    "  <li>If the vehicle is going less than or equal to the speed limit: print \"Safe!\"</li>\n",
    "  <li>If the vehicle is going over the limit, but by less than or equal to 5 mph: print \"Slow down!\"</li>\n",
    "  <li>If the vehicle is going more than 5 mph over the speed limit: print \"Speeding!\"</li>\n",
    "</ol> </div>"
   ]
  },
  {
   "cell_type": "code",
   "execution_count": 9,
   "id": "b0a4b3df",
   "metadata": {},
   "outputs": [
    {
     "name": "stdout",
     "output_type": "stream",
     "text": [
      "Safe!\n"
     ]
    }
   ],
   "source": [
    "# define function\n",
    "def speed_check(speed, limit):\n",
    "    # add control statements\n",
    "    \n",
    "# call function\n",
    "speed_check(68, 65)              "
   ]
  },
  {
   "cell_type": "markdown",
   "id": "ee86cfc0",
   "metadata": {},
   "source": [
    "<div class=\"alert alert-block alert-warning\"> <b>NOTE!</b> A colon should always be included after <code>if</code>, <code>elif</code>, and <code>else</code>, and the code blocks after each statement should be indented. If you don't use indentation correctly, you may think that you've included more under a condition than you really have. Indentation is important as it is the only way Python knows which code blocks belong together. If the code block is not indented correctly, Python might raise an <code>IndentationError</code>.</div>\n",
    "\n",
    "<div class=\"alert alert-block alert-warning\"> <b>NOTE!</b> The order of conditional statements is important. At most one branch will be followed, which is the first one for which the condition is true. So, if the first condition in the example above were <code>speed <= speed_limit + 5</code>, the logic will be incorrect.</div>\n",
    "\n",
    "<div class=\"alert alert-block alert-info\"> <b>TRY IT!</b> Define a new variable, <code>fine</code>, which represents the fine due to speeding. In addition to printing \"Safe!\", \"Slow down!\" and \"Speeding!\", your function should print the fine amount: 'Your fine is $x$', where $x$ should be replaced by:\n",
    "    \n",
    "<ol>\n",
    "  <li>\\$200 if the vehicle is going more than 5 mph over the speed limit</li>\n",
    "  <li>$0 otherwise</li>\n",
    "</ol> </div>"
   ]
  },
  {
   "cell_type": "code",
   "execution_count": 12,
   "id": "f87ae4f0",
   "metadata": {},
   "outputs": [
    {
     "name": "stdout",
     "output_type": "stream",
     "text": [
      "Safe!\n",
      "Your fine is $0.\n"
     ]
    }
   ],
   "source": [
    "# define function\n",
    "def speed_check(speed, limit):\n",
    "    # Initialize the fine amount\n",
    "    \n",
    "    if speed <= limit:\n",
    "        print('Safe!')\n",
    "    elif speed <= limit + 5:\n",
    "        print('Slow Down!')\n",
    "    else:\n",
    "        print('Speeding!')\n",
    "        # update fine amount\n",
    "        \n",
    "    # print fine (show with and without extra level of indentation)\n",
    "    \n",
    "\n",
    "# call function\n",
    "speed_check(68, 65)"
   ]
  },
  {
   "cell_type": "markdown",
   "id": "bb017868",
   "metadata": {},
   "source": [
    "# 4. Nested If Statements\n",
    "\n",
    "We can also use an `if` statement **inside** of an `if` statement. This is known as a **nested if statement**. This allows us to define more complex conditions and actions. The syntax is:\n",
    "\n",
    "```python\n",
    "if condition_1: # outer if statement \n",
    "    # do code block 1\n",
    "    \n",
    "    if condition_2: # inner if statement \n",
    "        # do block code 2   \n",
    "        \n",
    "# subsequent code\n",
    "```\n",
    "\n",
    "Because the inner if statement is nested within the outer if statement, both conditions 1 and 2 should be true to execute code block 2. So, even if condition 2 is true but condition 1 is false, code block 2 will not be executed. Note how the inner if statement has deeper indentation.\n",
    "\n",
    "Note that:\n",
    "1. The inner statement can include `elif` and `else`\n",
    "2. The inner statement can be under `elif` or `else` statements \n",
    "3. There could be multiple layers of `if` statements\n",
    "\n",
    "<div class=\"alert alert-block alert-info\"> <b>TRY IT!</b> Modify the function above by defining a new argument <code>school</code>, which is of type <code>bool</code> and is true if it is a school zone, false otherwise.<br> &emsp;&emsp;&emsp;&ensp; Let the default value for <code>school</code> be <code>False</code>.<br> &emsp;&emsp;&emsp;&ensp;  If it is a school zone and the vehicle is going over the limit but by <= to 5 mph, there will be $200 fine and the code should print 'Speeding!'.<br> &emsp;&emsp;&emsp;&ensp; Use nested control statements.</div>"
   ]
  },
  {
   "cell_type": "code",
   "execution_count": 19,
   "id": "1b0e5e68",
   "metadata": {},
   "outputs": [
    {
     "name": "stdout",
     "output_type": "stream",
     "text": [
      "Slow Down!\n",
      "Your fine is $0.\n"
     ]
    }
   ],
   "source": [
    "# define function (add new argument)\n",
    "def speed_check(speed, limit):\n",
    "    # Initialize the fine amount\n",
    "    fine = 0\n",
    "    if speed <= limit:\n",
    "        print('Safe!')\n",
    "    elif speed <= limit + 5:\n",
    "        # add nested if statement\n",
    "        \n",
    "    else:\n",
    "        print('Speeding!')\n",
    "        # update fine amount\n",
    "        fine = 200\n",
    "        \n",
    "    print(f\"Your fine is ${fine}.\")\n",
    "\n",
    "# call function\n",
    "speed_check(28, 25)"
   ]
  },
  {
   "cell_type": "markdown",
   "id": "f2b3da8e",
   "metadata": {},
   "source": [
    "# 5. If Statements with Logical Operators\n",
    "\n",
    "While nested if statements are one way to check multiple levels of conditions, in some cases you could use logical operators to get the same effect. The condition after `if` or `elif` can include logical operators `and`, `or`, `not`.\n",
    "\n",
    "```python\n",
    "if condition_1 and condition_2: \n",
    "    # do code block 1\n",
    "```\n",
    "\n",
    "<div class=\"alert alert-block alert-info\"> <b>TRY IT!</b> Modify the above to use logical operators instead of nested branching statements.</div>"
   ]
  },
  {
   "cell_type": "code",
   "execution_count": 21,
   "id": "1e0bfdb2",
   "metadata": {},
   "outputs": [
    {
     "name": "stdout",
     "output_type": "stream",
     "text": [
      "Speeding!\n",
      "Your fine is $200.\n"
     ]
    }
   ],
   "source": [
    "# define function\n",
    "def speed_check(speed, limit, school=False):\n",
    "    # Initialize the fine amount\n",
    "    fine = 0\n",
    "    if speed <= limit:\n",
    "        print('Safe!')\n",
    "    # modify elif to use logical operators\n",
    "    elif speed <= limit + 5:\n",
    "        # add nested if statement\n",
    "        if school:\n",
    "            print('Speeding!')\n",
    "            fine = 200\n",
    "        else:\n",
    "            print('Slow Down!')\n",
    "    else:\n",
    "        print('Speeding!')\n",
    "        # update fine amount\n",
    "        fine = 200\n",
    "        \n",
    "    print(f\"Your fine is ${fine}.\")\n",
    "\n",
    "# call function\n",
    "speed_check(28, 25)"
   ]
  },
  {
   "cell_type": "markdown",
   "id": "db68b483",
   "metadata": {},
   "source": [
    "# 6. Ternary Operators\n",
    "\n",
    "A ternary operator is a concise way of writing an if-else statement. It simply allows testing a condition in a single line replacing the multi-line if-else code. Python has its way to implement the ternary operator, which can be constructed as follows:\n",
    "\n",
    "```python\n",
    "variable = true_val if condition else false_val\n",
    "```\n",
    "The above is equivalent to the following if-else statement: \n",
    "\n",
    "```python\n",
    "if condition:\n",
    "    variable = true_val\n",
    "else:\n",
    "    variable = false_val\n",
    "```\n",
    "\n",
    "In essence, the ternary operator condenses the if-else logic into a more compact form. You can use any expression with ternary operators, not just variable assignments. Here's the general format:\n",
    "\n",
    "```python\n",
    "exprIfTrue if condition else exprIfFalse\n",
    "```\n",
    "The above is equivalent to: \n",
    "\n",
    "```python\n",
    "if condition:\n",
    "    exprIfTrue\n",
    "else:\n",
    "    exprIfFalse\n",
    "```\n",
    "\n",
    "where:\n",
    "\n",
    "* `exprIfTrue` is an expression that is executed if `condition` evaluates to a `True`\n",
    "* `exprIfFalse` is an expression that is executed if `condition` evaluates to a `False`\n",
    "\n",
    "<div class=\"alert alert-block alert-info\"> <b>TRY IT!</b> Only for when the vehicle is going over the limit but by less than or equal to 5 mph, use ternary operators to print the correct message ('Speeding!' or 'Slow down!') and the fine amount depending on whether it is a school zone or not.</div>"
   ]
  },
  {
   "cell_type": "code",
   "execution_count": 23,
   "id": "8330c256",
   "metadata": {},
   "outputs": [
    {
     "name": "stdout",
     "output_type": "stream",
     "text": [
      "Speeding!\n",
      "Your fine is $200.\n"
     ]
    }
   ],
   "source": [
    "# define function\n",
    "def speed_check(speed, limit, school=False):\n",
    "    fine = 0 # Initialize the fine amount\n",
    "    if speed <= limit:\n",
    "        print('Safe!')\n",
    "    # modify both elif to use ternary operators\n",
    "    # you can also print using ternary operators\n",
    "    elif speed <= limit + 5 and school:\n",
    "        print('Speeding!')\n",
    "        fine = 200\n",
    "    elif speed <= limit + 5 and not school:\n",
    "        print('Slow Down!')    \n",
    "    else:\n",
    "        print('Speeding!')\n",
    "        # update fine amount\n",
    "        fine = 200\n",
    "        \n",
    "    print(f\"Your fine is ${fine}.\")\n",
    "\n",
    "# call function\n",
    "speed_check(28, 25)"
   ]
  },
  {
   "cell_type": "markdown",
   "id": "e803b031",
   "metadata": {},
   "source": [
    "# 7. Final Remarks\n",
    "\n",
    "Branching statements are a powerful tool and they substantially increase the scope of tasks that a program can perform. However, like every other tool, always remember that the grammar rules of a programming language are rigid, and that small changes to the syntax can entirely change what the program does.\n",
    "\n",
    "While the syntax of the examples below look similar, they represent completely different branching conditions. To distinguish between them, check the keywords (`if` vs `elif`), the order of the branching statements, and the indentation level.\n",
    "\n",
    "**Example 1:** Only one branch will be followed, which is the first one for which the condition is true, otherwise, the `else` block is followed.\n",
    "```python\n",
    "if condition_1:\n",
    "    # do code block 1 if condition_1 is True\n",
    "elif condition_2:\n",
    "    # do code block 2 if condition_1 is False AND condition_2 is True\n",
    "elif condition_3:\n",
    "    # do code block 3 if condition_1 is False AND condition_2 is False AND condition_2 is True\n",
    "else:\n",
    "    # do code block 4 if condition_1, condition_2, and condition_3 are ALL False\n",
    "```\n",
    "\n",
    "**Example 2:** Any of the branches could be followed, since they are separate control statements (using multiple `if` instead of `if`-`elif`).\n",
    "```python\n",
    "if condition_1:\n",
    "    # do code block 1 if condition_1 is True\n",
    "if condition_2:\n",
    "    # do code block 2 if condition_2 is True (regardless of condition_1)\n",
    "if condition_3:\n",
    "    # do code block 3 if condition_3 is True (regardless of condition_1 and condition_2)\n",
    "else:\n",
    "    # do code block 4 if condition_3 is False (regardless of condition_1 and condition_2)\n",
    "```\n",
    "\n",
    "**Example 3**: Multiple branches and sub-branches could be followed (using nested control statements with multiple levels).\n",
    "```python\n",
    "if condition_1:\n",
    "    # do code block 1 if condition_1 is True\n",
    "    if condition_2:\n",
    "        # do code block 2 if condition_2 is True AND condition_1 is True\n",
    "        if condition_3:\n",
    "            # do code block 3 if condition_3 is True AND condition_2 is True AND condition_1 is True\n",
    "else:\n",
    "    # do code block 4 if condition_1 is False (regardless of condition_2 and condition_3)\n",
    "```\n",
    "\n",
    "**Example 4**: Similar to Example 3 but with the `else` statement indented two levels.\n",
    "```python\n",
    "if condition_1:\n",
    "    # do code block 1 if condition_1 is True\n",
    "    if condition_2:\n",
    "        # do code block 2 if condition_2 is True AND condition_1 is True\n",
    "        if condition_3:\n",
    "            # do code block 3 if condition_3 is True AND condition_2 is True AND condition_1 is True\n",
    "        else:\n",
    "            # do code block 4 if condition_3 is False AND condition_2 is True AND condition_1 is True\n",
    "```\n",
    "\n",
    "**Example 5**: Similar to Example 3 but with the `else` statement indented one level.\n",
    "```python\n",
    "if condition_1:\n",
    "    # do code block 1 if condition_1 is True\n",
    "    if condition_2:\n",
    "        # do code block 2 if condition_2 is True AND condition_1 is True\n",
    "        if condition_3:\n",
    "            # do code block 3 if condition_3 is True AND condition_2 is True AND condition_1 is True\n",
    "    else:\n",
    "        # do code block 4 if condition_2 is False AND condition_1 is True (regardless of condition_3)\n",
    "```"
   ]
  }
 ],
 "metadata": {
  "kernelspec": {
   "display_name": "Python 3 (ipykernel)",
   "language": "python",
   "name": "python3"
  },
  "language_info": {
   "codemirror_mode": {
    "name": "ipython",
    "version": 3
   },
   "file_extension": ".py",
   "mimetype": "text/x-python",
   "name": "python",
   "nbconvert_exporter": "python",
   "pygments_lexer": "ipython3",
   "version": "3.9.13"
  }
 },
 "nbformat": 4,
 "nbformat_minor": 5
}
