{
 "cells": [
  {
   "cell_type": "markdown",
   "id": "829726ba",
   "metadata": {},
   "source": [
    "# 0. Motivation\n",
    "\n",
    "We have seen that a function can call other functions. It is even possible for a function to call **itself**, which is known as **recursion**. If you ever stood between two mirrors, you could see yourself in mirror after mirror, deeper and deeper, to infinity. This is infinite recursion &ndash; the reflection of one mirror includes the reflection of the second mirror, which includes the reflection of the first, and so on. \n",
    "\n",
    "In programming, recursion is when a function calls a copy of itself, and the copy may call yet another copy, and so on. These recursions are finite, as the process repeats itself until a condition is satisfied (otherwise, the program might run indefinitely).\n",
    "\n",
    "By the end of this section, you should be able to:\n",
    "\n",
    "* Recognize recursive relationships and program them using recursive functions\n",
    "* Appreciate recursive algorithms and the divide and conquer concept"
   ]
  },
  {
   "cell_type": "markdown",
   "id": "34c1d750",
   "metadata": {},
   "source": [
    "# 1. Factorial Function\n",
    "\n",
    "Factorials are a fundamental mathematical concept denoted as $n!$. By definition, the factorial of a positive integer $n$ is the product of all positive integers from $n$ down to $1$. This concept is expressed as:\n",
    "\n",
    "$$n!= n \\times (n − 1) \\times (n − 2) \\ \\times \\ ... \\ \\times \\ 3 \\times 2 \\times 1 $$\n",
    "\n",
    "For example:\n",
    "\n",
    "$1! = 1$\n",
    "\n",
    "$2! = 2\\times 1 = 2$\n",
    "\n",
    "$3! = 3\\times 2\\times 1 = 6$\n",
    "\n",
    "$4! = 4\\times 3\\times 2\\times 1 = 24$\n",
    "\n",
    "## 1.1. Factorial Using Iteration\n",
    "\n",
    "In Python, we can define a function to iteratively compute the factorial of a number like this:\n",
    "\n",
    "```Python\n",
    "def factorial_iter(n):\n",
    "    \n",
    "    result = 1 # base case\n",
    "    \n",
    "    for i in range(1, n + 1): # loop from 1 through n\n",
    "        result = result * i\n",
    "        \n",
    "    return result\n",
    "        \n",
    "```\n",
    "\n",
    "The `for` loop iterates from $1$ through $n$ (inclusive), ensuring that all numbers from $1$ to $n$ are multiplied together.\n",
    "\n",
    "<div class=\"alert alert-block alert-info\"> <b>TRY IT!</b> Define the function <code>factorial_iter(n)</code>. Use your function to compute $5!$.</div>"
   ]
  },
  {
   "cell_type": "code",
   "execution_count": 2,
   "id": "1ab24c2e",
   "metadata": {},
   "outputs": [
    {
     "data": {
      "text/plain": [
       "179748879246347885915390254860985772110015202277158670755309939319894806008168727526267708821422332676995997017676655042834360729320031150808295761857269193222722736908228562360430531917430683666632570222637491886342891005178166452255929290766202815166868099727085062921134723861984281263470438486775377764574804977158490659002461730632837921146589368499153923601384860240012216365386908982665938676611128958377736237604122271449244811261399030607698653040451128726973937074455818005055743195427492913029767926117779231475248380699706040636827629261705723793684679525708285489082794811185492056733837067876601909494011883579509346537494166015100353712270785582807294006621380202585218713107741889389684517792692361754490413593606781738612659933352419839346158785426492364253430891798558468354200622536432107188204231063100653136983812868581297723204641506540435042036088921769769759837462719765617643231735533115916772664458797084156515865555504650900497620523910098016694353927747171911162967143494305053884052549765045805051906911671070417458619310818909018941774927955558132144776408395187873807144075449621718887770329266691414943153892239059066901063691873780797743177448721177187594863956254648413430376265224016968697513838513387787070380052763935745877645520102494355487949483362369840853003107478344952745043550080983430227746257760016135135678251427617541862082804978298494462381855936995337013589399406284668020494916715104379258663804869970568553096999877031371685655171306907062741195479261795783795298891842550084230458675903367919362696344009558965486868532248434814042685233471036391696092962299446509330110793434267332628028375261381053689528757938477909592102876970504149518352004186637552637014179840000000000000000000000000000000000000000000000000000000000000000000000000000000000000000000000000000000000000000000000000000000000000000000000000000000000000000000000000000000000000000000000000"
      ]
     },
     "execution_count": 2,
     "metadata": {},
     "output_type": "execute_result"
    }
   ],
   "source": [
    "def factorial_iter(n):\n",
    "\n",
    "    result = 1 # base case\n",
    "\n",
    "    for i in range(1, n + 1): # loop from 1 through n\n",
    "        result = result * i\n",
    "\n",
    "    return result\n",
    "\n",
    "# call the function\n",
    "factorial_iter(5)\n",
    "factorial_iter(777)"
   ]
  },
  {
   "cell_type": "markdown",
   "id": "56ed81b4",
   "metadata": {},
   "source": [
    "## 1.2. Factorial Using Recursion\n",
    "\n",
    "Recursive functions are an intriguing concept in programming. They are functions that call themselves, potentially leading to a chain of repeated function calls. This leads to repetition, which is very similar to a loop. In fact, when designed correctly, a recursive function can replace a loop. While it may seem intimidating at first, you'll soon see the practicality of recursive functions.\n",
    "\n",
    "Let's explore this concept through factorials. A factorial is the product of all positive integers from a given number down to $1$. Consider the recurring part of $5!$:\n",
    "\n",
    "$5! = 5\\times 4\\times 3\\times 2\\times 1 = 120$\n",
    "\n",
    "But we also know that:\n",
    "\n",
    "$4\\times 3\\times 2\\times 1 = 4!$, which can be expressed as $4 \\times (3 \\times 2 \\times 1)$, and further reduced to $4 \\times 3!$.\n",
    "\n",
    "In other words: $5!$ is $5 \\times 4!$, and $4!$ is $4 \\times 3!$ and so on. This recursive nature allows us to define the factorial function recursively as follows:\n",
    "\n",
    "\\begin{equation}\n",
    "n! = \\begin{cases}\n",
    "    1 &\\text{if $n=1$}\\\\\n",
    "    n \\times (n-1)! & \\text{if $n>1$}\\\\\n",
    "    \\end{cases}\n",
    "\\end{equation}\n",
    "\n",
    "For example:\n",
    "\n",
    "$2! = 2\\times 1! = 2 \\times 1 = 2$\n",
    "\n",
    "$3! = 3\\times 2! = 3 \\times 2 = 6$\n",
    "\n",
    "$4! = 4\\times 3! = 4 \\times 6 =24$\n",
    "\n",
    "This recursive definition allows us to create a recursive factorial function, where each factorial becomes a function of another factorial, and so on.\n",
    "\n",
    "<div class=\"alert alert-block alert-info\"> <b>TRY IT!</b> Define a function <code>factorial_rec(n)</code> that computes the factorial of a number using recursion. Use your function to compute $5!$.</div>"
   ]
  },
  {
   "cell_type": "code",
   "execution_count": 6,
   "id": "28f2b4c2",
   "metadata": {},
   "outputs": [
    {
     "data": {
      "text/plain": [
       "120"
      ]
     },
     "execution_count": 6,
     "metadata": {},
     "output_type": "execute_result"
    }
   ],
   "source": [
    "def factorial_rec(n):\n",
    "    \n",
    "    # Base case\n",
    "    if n == 1:\n",
    "        result = 1\n",
    "    # Recursive step  \n",
    "    else: \n",
    "        result = n * factorial_rec(n - 1)\n",
    "    # Retrun\n",
    "    return result\n",
    "\n",
    "# call the function\n",
    "factorial_rec(5)"
   ]
  },
  {
   "cell_type": "markdown",
   "id": "ab77b6a8",
   "metadata": {},
   "source": [
    "As you can see, the function `factorial_rec()` calls itself. In programming, a recursive function is a function that keeps calling itself repeatedly until a specific condition is satisfied. To better understand what is going, try to run the above using [pythontutor.com](https://pythontutor.com/cp/composingprograms.html#mode=edit). It will help visualize the recursive calls and their flow.\n",
    "\n",
    "Now, let's break down how this recursive function operates:\n",
    "\n",
    "* The function continually calls itself until it reaches a point where `n == 1`. This particular condition is known as the **base case**. The base case (after `if`) stops the recursion (it does not call another copy of the function).\n",
    "* On the other hand, the part of the function under the `else` statement, referred to as the **general case** or **non-base case**, heads toward the base case by calling another copy of the function, but with `n - 1` as the argument.\n",
    "\n",
    "<div class=\"alert alert-block alert-success\"> <b>TIP!</b> The key to writing an algorithm recursively: always begin by handling the base case(s). Then let recursion take care of the rest of the problem.</div>\n",
    "\n",
    "Every recursive function should include at least one base case that stops the recursion. Without it, the function would indefinitely call itself, leading to an overflow. Python has a default maximum recursion depth of 1000 to prevent infinite recursions. If this limit is exceeded, Python raises a `RecursionError`. Therefore, when creating a recursive function, it's essential to ensure that it can eventually reach the base case.\n",
    "\n",
    "<div class=\"alert alert-block alert-warning\"> <b>NOTE!</b> In some cases, a recursion might require more than 1000 steps to reduce to the base case. You can increase the recursion limit by importing the module <code>import sys</code> and setting a higher limit using <code>sys.setrecursionlimit(max)</code>, where <code>max</code> would be the desired maximum,  (e.g., <code>10**5</code>). However, be cautious when modifying this limit, as it can impact system stability.</div>"
   ]
  },
  {
   "cell_type": "markdown",
   "id": "ef278ac2",
   "metadata": {},
   "source": [
    "# 2. Fibonacci Numbers\n",
    "\n",
    "Fibonacci, a mathematician who lived between 1170 and 1250, was interested in modeling the growth of rabbit populations. He came up with a simple formula to calculate the number of rabbit pairs in each month. This formula states that the number of pairs in the current month, $F(n)$, is equal to the sum of pairs in the two previous months $F(n-1) + F(n-2)$:\n",
    "\n",
    "\\begin{equation}\n",
    "F(n) = \\begin{cases}\n",
    "    1 &\\text{if $n=1$}\\\\\n",
    "    1 &\\text{if $n=2$}\\\\\n",
    "    F(n-1) + F(n-2) & \\text{if $n>2$}\\\\\n",
    "    \\end{cases}\n",
    "\\end{equation}\n",
    "\n",
    "## 2.1. Fibonacci Numbers Using Recursion\n",
    "\n",
    "It's evident that Fibonacci numbers can be calculated using recursion. In this recursive approach, there are two base cases, each causing the recursion to stop:\n",
    "* When $n$ equals $1$, the Fibonacci number is $1$.\n",
    "* When $n$ equals $2$, the Fibonacci number is also $1$.\n",
    "\n",
    "In the general case, the formula contains two recursive calls:\n",
    "* $F(n-1)$, which calculates the Fibonacci number for the previous month.\n",
    "* $F(n-2)$, which calculates the Fibonacci number for the month before the previous month.\n",
    "\n",
    "<div class=\"alert alert-block alert-info\"> <b>TRY IT!</b> Write a recursive function for computing the <em>n-th</em> Fibonacci number. Use your function to compute the first six Fibonacci numbers.</div>"
   ]
  },
  {
   "cell_type": "code",
   "execution_count": 8,
   "id": "8dabd828",
   "metadata": {},
   "outputs": [
    {
     "name": "stdout",
     "output_type": "stream",
     "text": [
      "1\n",
      "1\n",
      "2\n",
      "3\n",
      "5\n",
      "8\n",
      "55\n"
     ]
    }
   ],
   "source": [
    "def fibonacci_rec(n):\n",
    "    \n",
    "    # first base case\n",
    "    if n == 1:\n",
    "        return 1\n",
    "    # second base case\n",
    "    elif n == 2:\n",
    "        return 1\n",
    "    # Recursive step\n",
    "    else:\n",
    "        return fibonacci_rec(n - 1) + fibonacci_rec(n - 2)\n",
    "    \n",
    "# call the function    \n",
    "print(fibonacci_rec(1))\n",
    "print(fibonacci_rec(2))\n",
    "print(fibonacci_rec(3))\n",
    "print(fibonacci_rec(4))\n",
    "print(fibonacci_rec(5))\n",
    "print(fibonacci_rec(6))\n",
    "print(fibonacci_rec(10))"
   ]
  },
  {
   "cell_type": "markdown",
   "id": "69e54a8d",
   "metadata": {},
   "source": [
    "To gain a more visual understanding of recursive algorithms, we can create a recursion tree. A recursion tree is a diagram of the function calls connected by numbered arrows, illustrating the precise order in which the calls are made.\n",
    "\n",
    "<figure>\n",
    "  <img src=\"https://pythonnumericalmethods.berkeley.edu/_images/06.01.02-Recursion_tree_for_fibonacci.png\" style=\"width:75%\">\n",
    "    <figcaption style=\"text-align:center\"><strong>Recursion tree for the 5-th Fibonacci number:</strong> <a href=\"https://pythonnumericalmethods.berkeley.edu/notebooks/chapter06.01-Recursive-Functions.html\">https://pythonnumericalmethods.berkeley.edu/</a></figcaption>   \n",
    "</figure>"
   ]
  },
  {
   "cell_type": "markdown",
   "id": "6471fdd9",
   "metadata": {},
   "source": [
    "## 2.2. Fibonacci Numbers Using Iteration\n",
    "\n",
    "There is an iterative method of computing the *n-th* Fibonacci number.\n",
    "\n",
    "<br>\n",
    "\n",
    "<figure>\n",
    "  <img src=\"https://docs.google.com/drawings/d/e/2PACX-1vQfOUEpxGynYk0B1DDygVt_QS3Qy6tNpcTTq_XY_TJ3LkxsPvmXqT8jU9ZhLjnJC-JOQdNsijS4os3C/pub?w=1092&h=1079\" style=\"width:40%\">\n",
    "    <figcaption style=\"text-align:center\"><strong>Iterative Fibonacci solution</strong></figcaption>   \n",
    "</figure>"
   ]
  },
  {
   "cell_type": "code",
   "execution_count": 10,
   "id": "39a6019f",
   "metadata": {},
   "outputs": [
    {
     "name": "stdout",
     "output_type": "stream",
     "text": [
      "1.0\n",
      "1.0\n",
      "2.0\n",
      "3.0\n",
      "5.0\n",
      "55.0\n"
     ]
    }
   ],
   "source": [
    "import numpy as np\n",
    "\n",
    "def fibonacci_iter(n):\n",
    "    # Initialize an array of ones with a length of n\n",
    "    fib = np.ones(n)\n",
    "    \n",
    "    # Calculate Fibonacci numbers iteratively\n",
    "    for i in range(2, n):\n",
    "        fib[i] = fib[i - 1] + fib[i - 2]\n",
    "    \n",
    "    # Return the n-th Fibonacci number\n",
    "    return fib[-1]\n",
    "\n",
    "# call the function    \n",
    "print(fibonacci_iter(1))\n",
    "print(fibonacci_iter(2))\n",
    "print(fibonacci_iter(3))\n",
    "print(fibonacci_iter(4))\n",
    "print(fibonacci_iter(5))\n",
    "print(fibonacci_iter(10))"
   ]
  },
  {
   "cell_type": "markdown",
   "id": "942e60a5",
   "metadata": {},
   "source": [
    "## 2.3. Recursion vs. Iteration\n",
    "\n",
    "When designed correctly, a recursive function can simply replace a loop. Both iteration and recursion have advantages and disadvantages. Let's compare the recursive and iterative implementation of Fibonacci numbers.\n",
    "\n",
    "<br>\n",
    "\n",
    "<figure>\n",
    "  <img src=\"https://docs.google.com/drawings/d/e/2PACX-1vQSBtsrjnPBk4G9yhYlcv0zKw3TO7RxmYJS8dFQKeEsa7O0yLTcuGKTe4TYMh5LMYtYjID5aD1mGbKt/pub?w=1440&h=288\" style=\"width:100%\">\n",
    "    <figcaption style=\"text-align:center\"><strong>Iterative versus recursive Fibonacci</strong></figcaption>   \n",
    "</figure>\n",
    "\n",
    "Recursive functions have the advantage of breaking down complex tasks into simpler sub-problems, resulting in clean and elegant code. In certain scenarios, using recursion can even make the code more straightforward compared to iteration. However, it's important to note that understanding the logic behind recursion might be challenging at times.\n",
    "\n",
    "On the flip side, recursive calls come with some drawbacks. They tend to be less efficient in terms of both memory usage and execution time. Recursive calls can consume a significant amount of memory, which might lead to overflow errors in extreme cases.\n",
    "\n",
    "To illustrate the difference in efficiency, let's consider the runtime for calculating the *20-th* Fibonacci number using both iteration and recursion.\n",
    "\n",
    "<div class=\"alert alert-block alert-info\"> <b>TRY IT!</b> Compute the <em>20-th</em> Fibonacci number using <code>fibonacci_iter()</code> and <code>fibonacci_rec()</code>. Use the command <code>%timeit function_name(argument)</code> to measure the run time for each function.</div>"
   ]
  },
  {
   "cell_type": "code",
   "execution_count": 11,
   "id": "aaba13a9",
   "metadata": {},
   "outputs": [
    {
     "name": "stdout",
     "output_type": "stream",
     "text": [
      "Iteration:\n",
      "11 µs ± 2.63 µs per loop (mean ± std. dev. of 7 runs, 100,000 loops each)\n",
      "Recursion:\n",
      "2.56 ms ± 238 µs per loop (mean ± std. dev. of 7 runs, 100 loops each)\n"
     ]
    }
   ],
   "source": [
    "print('Iteration:')\n",
    "%timeit fibonacci_iter(20)\n",
    "\n",
    "print('Recursion:')\n",
    "%timeit fibonacci_rec(20)"
   ]
  },
  {
   "cell_type": "markdown",
   "id": "d1d3245c",
   "metadata": {},
   "source": [
    "The iterative version runs much faster than the recursive counterpart. In general, iterative functions are faster than recursive functions for the same task. \n",
    "\n",
    "<div class=\"alert alert-block alert-warning\"> <b>NOTE!</b> If you look at the recursion tree for the <em>5-th</em> Fibonacci number, the <em>1-st</em> Fibonacci number is computed twice and the <em>2-nd</em> Fibonacci number is computed three times. So, the recursive function repeats solving the same smaller size problems several times, making it inefficient.</div>\n",
    "\n",
    "So why use recursive functions at all? There are some problems that have a naturally recursive structure. In these cases it is usually more trivial to use a recursive function. In addition, the primary value of writing recursive functions is that they can usually be written much more compactly than iterative functions. The cost of the improved compactness, however, is added running time. The relationship between the input arguments and the running time is discussed in more detail later in the section on Complexity."
   ]
  },
  {
   "cell_type": "markdown",
   "id": "e5a7eca4",
   "metadata": {},
   "source": [
    "# 3. Divide and Conquer Algorithms\n",
    "\n",
    "In the earlier examples, we explored mathematical functions that were defined recursively. While recursion serves as a powerful tool for solving various problems, it can be especially useful when tackling complex problems through the concept of **divide and conquer**.\n",
    "\n",
    "Divide and conquer strategies involve breaking down complex problems into a series of many smaller, more manageable problems, essentially leveraging the essence of recursion. The key lies in expressing the solution to the general problem in terms of solutions to its smaller counterparts.\n",
    "\n",
    "Several classic problems are often approached using the divide and conquer method, including:\n",
    "* Quick sort\n",
    "* Towers of Hanoi \n",
    "* Binary search\n",
    "\n",
    "We will look into two algorithms designed to sort a list in ascending order:\n",
    "1. Bubble sort (does not use divide and conquer approach)\n",
    "2. Quick sort (uses divide and conquer approach)\n",
    "\n",
    "## 3.1. Bubble Sort\n",
    "\n",
    "Bubble sort is one of the most straightforward sorting algorithms. Its approach involves repeatedly comparing two adjacent elements within a list and swapping them if they are not in the desired order. This process continues until all elements are arranged correctly.\n",
    "\n",
    "The name \"Bubble Sort\" derives from the way data moves through the algorithm. Much like air bubbles in water that naturally rise to the surface, data elements gradually \"bubble\" their way to their proper positions in the sorted list.\n",
    "\n",
    "It's essential to note that Bubble Sort does not employ the divide and conquer approach. Instead, it focuses on comparing and swapping neighboring elements until the entire list is sorted. As we'll explore further, Bubble Sort tends to become inefficient when handling large datasets.\n",
    "\n",
    "Let's look at the different steps of a bubble sort algorithm for the following list: `[-2, 45, 0, 11, -9]`.\n",
    "\n",
    "<br>\n",
    "\n",
    "<figure>\n",
    "    <table><tr>\n",
    "    <td> \n",
    "      <p align=\"center\" style=\"vertical-align:top\">\n",
    "        <img src=\"https://www.programiz.com/sites/tutorial2program/files/Bubble-sort-0.png\" style=\"width:100%\">\n",
    "        <br>\n",
    "      </p> \n",
    "    </td>\n",
    "    <td style=\"vertical-align:top\"> \n",
    "      <p align=\"center\" >\n",
    "        <img src=\"https://www.programiz.com/sites/tutorial2program/files/Bubble-sort-1.png\" style=\"width:100%\">\n",
    "        <br>\n",
    "      </p> \n",
    "    </td>\n",
    "    </tr></table>\n",
    "    <table><tr>\n",
    "    <td> \n",
    "      <p align=\"center\" style=\"vertical-align:top\">\n",
    "        <img src=\"https://www.programiz.com/sites/tutorial2program/files/Bubble-sort-2.png\" style=\"width:100%\">\n",
    "        <br>\n",
    "      </p> \n",
    "    </td>\n",
    "    <td style=\"vertical-align:top\"> \n",
    "      <p align=\"center\" >\n",
    "        <img src=\"https://www.programiz.com/sites/tutorial2program/files/Bubble-sort-3.png\" style=\"width:100%\">\n",
    "        <br>\n",
    "      </p> \n",
    "    </td>\n",
    "    </tr></table>\n",
    "    <figcaption style=\"text-align:center\"><strong>Steps of bubble sort algorithm: <a href=\"https://www.programiz.com/dsa/bubble-sort\">https://www.programiz.com/</a></strong></figcaption>  \n",
    "</figure>\n",
    "\n",
    "<div class=\"alert alert-block alert-info\"> <b>TRY IT!</b> Write a function <code>bubbleSort()</code> that takes a list of numbers (<code>array</code>) and returns the list sorted in ascending order.</div>"
   ]
  },
  {
   "cell_type": "code",
   "execution_count": null,
   "id": "40ef9bc5",
   "metadata": {},
   "outputs": [],
   "source": [
    "# Bubble sort in Python\n",
    "\n",
    "def bubbleSort(array):\n",
    "    \n",
    "    # loop to access each array element\n",
    "    for i in range(len(array)):\n",
    "\n",
    "        # loop to compare array elements\n",
    "        for j in range(0, len(array) - i - 1):\n",
    "\n",
    "            # compare two adjacent elements\n",
    "            if array[j] > array[j + 1]:\n",
    "\n",
    "                # swapping elements if elements are not in the intended order\n",
    "                temp = array[j]\n",
    "                array[j] = array[j + 1]\n",
    "                array[j + 1] = temp\n",
    "                \n",
    "    return array\n",
    "\n",
    "data = [-2, 45, 0, 11, -9]\n",
    "\n",
    "sorted_array = bubbleSort(data)\n",
    "\n",
    "print(f'Sorted Array: {sorted_array}')"
   ]
  },
  {
   "cell_type": "markdown",
   "id": "c6d30772",
   "metadata": {},
   "source": [
    "Here's a brief overview:\n",
    "\n",
    "* The `bubbleSort()` function takes an array as input\n",
    "* It uses nested loops to compare and swap adjacent elements until the entire array is sorted in ascending order\n",
    "* The outer loop (`for i in range(len(array))`) controls the number of iterations, ensuring that the largest element \"bubbles\" to the end in each pass\n",
    "* The inner loop (`for j in range(0, len(array) - i - 1)`) performs the pairwise comparisons and swaps\n",
    "* If two adjacent elements are out of order, they are swapped using a temporary variable (`temp`)\n",
    "* Finally, the sorted array is returned.\n",
    "\n",
    "Bubble sort, while simple, becomes inefficient for large data sets. \n",
    "\n",
    "<div class=\"alert alert-block alert-info\"> <b>TRY IT!</b> Sort <code>np.random.randint(low=100, size=10000)</code> using <code>bubbleSort()</code>.</div>"
   ]
  },
  {
   "cell_type": "code",
   "execution_count": null,
   "id": "2d93bb72",
   "metadata": {},
   "outputs": [],
   "source": [
    "import numpy as np\n",
    "\n",
    "x = np.random.randint(low=100, size=10000)\n",
    "\n",
    "sorted_list = bubbleSort(x)\n",
    "\n",
    "print(sorted_list)"
   ]
  },
  {
   "cell_type": "markdown",
   "id": "fee541de",
   "metadata": {},
   "source": [
    "## 3.2. Quick Sort\n",
    "\n",
    "Quick Sort is a sorting algorithm that relies on the divide and conquer approach, a common strategy used in algorithm design. The divide and conquer methodology involves solving problems in three main steps:\n",
    "1. *Divide*: Divide the problem into smaller sub-problems.\n",
    "2. *Conquer*: Solve the sub-problems individually, often through recursion.\n",
    "3. *Combine*: Combine the solutions to the sub-problems to get the final solution of the whole problem.\n",
    "\n",
    "For Quick Sort, this process is carried out as follows:\n",
    "\n",
    "0. Select any element from the unsorted list as a pivot element.\n",
    "> There are various ways to select a pivot element: first element, last element, or any random element.\n",
    "1. Divide the unsorted list into three distinct parts: one for elements smaller than the pivot, one for elements equal to the pivot, and one for elements larger than the pivot.\n",
    "> The smaller sublist is placed to the left of the pivot, and the larger sublist is placed to the right. Elements equal to the pivot are already in their correct sorted order. Note that the smaller and larger sublists are not necessarily sorted at this stage.\n",
    "2. Using recursion, repeat step 1 for the smaller and larger sublists.\n",
    "> This process continues until the sublists are small enough, typically having a length of 1 or 0, that sorting becomes trivial.\n",
    "3. Once the recursive process is complete, combine the sorted sublists to get the full sorted array.\n",
    "\n",
    "<div class=\"alert alert-block alert-info\"> <b>TRY IT!</b> Write a function <code>quickSort()</code> that takes a list of numbers (<code>array</code>) and returns the list sorted in ascending order.</div>"
   ]
  },
  {
   "cell_type": "code",
   "execution_count": null,
   "id": "54d6e382",
   "metadata": {},
   "outputs": [],
   "source": [
    "# Quick sort in Python\n",
    "\n",
    "def quickSort(array):\n",
    "    \n",
    "    if len(array) <= 1:\n",
    "        # list of length 1 is easiest to sort because it is already sorted\n",
    "        sorted_array = array   \n",
    "        \n",
    "    else:\n",
    "        \n",
    "        # select pivot as the first element of the list\n",
    "        pivot = array[0]\n",
    "        \n",
    "        # initialize lists for bigger, smaller, as well those equal to the pivot\n",
    "        bigger = []\n",
    "        smaller = []\n",
    "        same = []\n",
    "        \n",
    "        # loop through array and put elements into appropriate subarray\n",
    "        for item in array:\n",
    "            if item > pivot:\n",
    "                bigger.append(item)\n",
    "            elif item < pivot:\n",
    "                smaller.append(item)\n",
    "            else:\n",
    "                same.append(item)\n",
    "        \n",
    "        # combine smaller, same, and bigger in the correct order\n",
    "        sorted_array = quickSort(smaller) + same + quickSort(bigger)\n",
    "                \n",
    "    return sorted_array\n",
    "\n",
    "data = [-2, 45, 0, 11, -9]\n",
    "\n",
    "sorted_array = quickSort(data)\n",
    "\n",
    "print(f'Sorted Array: {sorted_array}')"
   ]
  },
  {
   "cell_type": "markdown",
   "id": "763e1fcb",
   "metadata": {},
   "source": [
    "Instead of sorting a list, quick sort separates the list by comparing to a pivot and then recursively sorts the sublists on left and right of pivot element. Because this uses the divide and conquer approach, quick sort is efficient for large data sets. \n",
    "\n",
    "<div class=\"alert alert-block alert-info\"> <b>TRY IT!</b> Sort <code>np.random.randint(low=100, size=10000)</code> using <code>quickSort()</code>.</div>"
   ]
  },
  {
   "cell_type": "code",
   "execution_count": null,
   "id": "0f8c34aa",
   "metadata": {},
   "outputs": [],
   "source": [
    "sorted_list = quickSort(x)\n",
    "\n",
    "print(sorted_list)"
   ]
  },
  {
   "cell_type": "markdown",
   "id": "13e86e6d",
   "metadata": {},
   "source": [
    "<div class=\"alert alert-block alert-info\"> <b>TRY IT!</b> Use the command <code>%timeit function_name(argument)</code> to measure the run time for <code>bubbleSort()</code> and <code>quickSort()</code> using <code>np.random.randint(low=100, size=1000)</code>.</div>"
   ]
  },
  {
   "cell_type": "code",
   "execution_count": null,
   "id": "ed326a95",
   "metadata": {},
   "outputs": [],
   "source": [
    "x = np.random.randint(low=100, size=1000)\n",
    "\n",
    "print('Bubble sort:')\n",
    "%timeit bubbleSort(x)\n",
    "\n",
    "print('Quick sort:')\n",
    "%timeit quickSort(x)"
   ]
  },
  {
   "cell_type": "markdown",
   "id": "a3369083",
   "metadata": {},
   "source": [
    "The recursive version with the divide and conquer approach runs much faster in this case. Recursive code, by itself, is nice and small. But understanding what exactly is the recursive part can be confusing. However, if used correctly, recursion can be a  helpful tool in your programming arsenal."
   ]
  }
 ],
 "metadata": {
  "kernelspec": {
   "display_name": "Python 3 (ipykernel)",
   "language": "python",
   "name": "python3"
  },
  "language_info": {
   "codemirror_mode": {
    "name": "ipython",
    "version": 3
   },
   "file_extension": ".py",
   "mimetype": "text/x-python",
   "name": "python",
   "nbconvert_exporter": "python",
   "pygments_lexer": "ipython3",
   "version": "3.9.15"
  }
 },
 "nbformat": 4,
 "nbformat_minor": 5
}
