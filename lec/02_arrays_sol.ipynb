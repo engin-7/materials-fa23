{
 "cells": [
  {
   "cell_type": "markdown",
   "id": "5ec4d4b6",
   "metadata": {},
   "source": [
    "# 0. Motivation\n",
    "\n",
    "We have already encountered some simple Python data types like `int`, `float`, and `bool`. All of these were related to a single value and cannot be subdivided. These are known as **scalar** objects. In practice, programs will use *data structures*, which group multiple values together in a collection. For example, rather than representing daily maximum temperatures over a year using 365 floats: `day1 = 63.9`, `day2 = 64.6`, `day3 = 65.0`, ..., we could represent the data as a list of floats: `temp = [63.9, 64.6, 65.0, ...]`. This is a much more powerful and efficient construction, because we can perform operations on the list using similar syntax to the equivalent operations between scalar objects. For this reason, efficient storage and manipulation of data structures is fundamental to scientific and engineering applications.\n",
    "\n",
    "Objects which contain multiple values together are **non-scalar** objects. These are objects with internal structure, which can be subdivided (e.g., taking the first value). Because they have a structure, they are called *data structures*. Python has many useful built-in data structures, and we will encounter them quite often, such as strings, lists, and tuples. In this section, we will cover a special data structure for numerical computations, which is a NumPy array. \n",
    "\n",
    "By the end of this section, you should be able to:\n",
    "\n",
    "* Create 1-D and 2-D arrays\n",
    "* Manipulate 1-D and 2-D arrays\n",
    "* Perform arithmetic and comparison operations on arrays"
   ]
  },
  {
   "cell_type": "markdown",
   "id": "e83a6060",
   "metadata": {},
   "source": [
    "# 1. Introduction to NumPy Arrays\n",
    "\n",
    "Performing numerical computations is central to almost all scientific and engineering applications, which is why there are many libraries dedicated to numerical computations. There are even languages that are specifically designed for such purposes, such as Fortran and MATLAB. In Python, NumPy is one of the most used modules for scientific and numerical applications. NumPy is short for \"Numerical Python\". It provides data structures and functions for numerical computation. NumPy is a large and extensive module, and this section is just a very brief introduction.\n",
    "\n",
    "In order to use NumPy, we need to import it first. A conventional way to import it is to use `np` as a shortened name: `import numpy as np`.\n",
    "\n",
    "<div class=\"alert alert-block alert-warning\"> <b>NOTE!</b> Of course, you could call it any name, but conventionally, <code>np</code> is accepted by the whole community and it is a good practice to use it.</div>\n",
    "\n",
    "## 1.1. 1-D Array (or Vector)\n",
    "\n",
    "The main data structure in NumPy is the `ndarray`, which is a shorthand name for N-dimensional array. When working with NumPy, an `ndarray` is simply referred to as an array. It contains data of the same type, such as integers or floating point values. \n",
    "\n",
    "To define an array in Python, you could use the `np.array()` function. The items are put inside square brackets `np.array([...])` or a second set of parentheses `np.array((...))`, and are separated by commas `,`.\n",
    "\n",
    "<div class=\"alert alert-block alert-info\"> <b>TRY IT!</b> Create the following array and then check its type using <code>type()</code>: <br> <br> $x = \\begin{pmatrix}  1 & 4 & 3 & 12\\\\ \\end{pmatrix}$ <br></div> "
   ]
  },
  {
   "cell_type": "code",
   "execution_count": 1,
   "id": "a4bd9bad",
   "metadata": {},
   "outputs": [
    {
     "name": "stdout",
     "output_type": "stream",
     "text": [
      "[ 1  4  3 12]\n",
      "<class 'numpy.ndarray'>\n"
     ]
    }
   ],
   "source": [
    "import numpy as np\n",
    "\n",
    "x = np.array((1, 4, 3, 12))\n",
    "\n",
    "print(x)\n",
    "print(type(x))"
   ]
  },
  {
   "cell_type": "markdown",
   "id": "ab9f5c32",
   "metadata": {},
   "source": [
    "## 1.2. 2-D Array (or Matrix)\n",
    "\n",
    "The above variable `x` is a 1-D array/vector. We can also define a 2-D array/matrix by putting the values of each row separately within square brackets (or parentheses): `np.array([[row1], [row2], ...])`. The items within each row are separated by commas `,` and the brackets (or parentheses) that include each row are separated by commas `,`.\n",
    "\n",
    "<div class=\"alert alert-block alert-info\"> <b>TRY IT!</b> Create the following array and then check its type using <code>type()</code>: <br> <br> $y = \\begin{pmatrix} 1 & 4 & 3 \\\\ 9 & 2 & 7 \\\\ \\end{pmatrix}$ <br></div> "
   ]
  },
  {
   "cell_type": "code",
   "execution_count": 2,
   "id": "f00266f2",
   "metadata": {},
   "outputs": [
    {
     "name": "stdout",
     "output_type": "stream",
     "text": [
      "[[1 4 3]\n",
      " [9 2 7]]\n",
      "<class 'numpy.ndarray'>\n"
     ]
    }
   ],
   "source": [
    "y = np.array([[1, 4, 3], [9, 2, 7]])\n",
    "print(y)\n",
    "print(type(y))"
   ]
  },
  {
   "cell_type": "markdown",
   "id": "629e3df8",
   "metadata": {},
   "source": [
    "## 1.3. Array Attributes\n",
    "\n",
    "In NumPy, attributes are properties of NumPy arrays that provide information about the array's shape, size, dimension, and so on. There are many attributes, which you can read about in the documentation [here](https://numpy.org/doc/stable/reference/generated/numpy.ndarray.html). Some of the common attributes are:\n",
    "* [`array_name.shape`](https://numpy.org/doc/stable/reference/generated/numpy.ndarray.shape.html): returns the shape of `array_name`\n",
    "> returns `(n_rows, n_columns)`, where the first element is the number of rows in `array_name` and the second element is the number of columns in `array_name` \n",
    "* [`array_name.size`](https://numpy.org/doc/stable/reference/generated/numpy.ndarray.size.html#numpy.ndarray.size): returns the total number of elements in `array_name` \n",
    "> number of rows times number of columns\n",
    "* [`array_name.ndim`](https://numpy.org/doc/stable/reference/generated/numpy.ndarray.ndim.html#numpy.ndarray.ndim): returns the number of dimensions of `array_name`\n",
    "\n",
    "<div class=\"alert alert-block alert-info\"> <b>TRY IT!</b> Get the dimension, shape, and size of array <code>y</code>.</div> "
   ]
  },
  {
   "cell_type": "code",
   "execution_count": 3,
   "id": "228d6a39",
   "metadata": {},
   "outputs": [
    {
     "name": "stdout",
     "output_type": "stream",
     "text": [
      "2\n",
      "(2, 3)\n",
      "6\n"
     ]
    }
   ],
   "source": [
    "print(y.ndim)\n",
    "print(y.shape)\n",
    "print(y.size)"
   ]
  },
  {
   "cell_type": "markdown",
   "id": "fffdcbfc",
   "metadata": {},
   "source": [
    "<div class=\"alert alert-block alert-warning\"> <b>NOTE!</b> Notice that we used <code>y.shape</code> instead of <code>y.shape()</code>. This is because <code>shape</code> is an <strong>attribute</strong>, which is a value associated with an object. For now you need to remember that when we call an attribute on an object, we do not use parentheses. You can always try both and see which works!</div>\n",
    "\n",
    "## 1.4. Other Ways for Creating Arrays\n",
    "\n",
    "In addition to `np.array()`, there are a number of other functions for creating arrays. Very often we would like to define arrays that have a pattern. For instance, we may wish to create the array `z = [1, 2, 3, ..., 365]`. It would be very cumbersome to type all the values of `z` into Python. For generating arrays that have a pattern, there are several helpful functions in NumPy.\n",
    "\n",
    "### 1.4.1. `np.arange()`\n",
    "\n",
    "For generating arrays that are in **order and evenly spaced**, it is useful to use the `np.arange()` function in NumPy:\n",
    "\n",
    "```python\n",
    "np.arange(start, stop, step)\n",
    "```\n",
    "\n",
    "where:\n",
    "\n",
    "* `start`: a number specifying at which value to start the array. This is an optional argument, and thus, if not specified, it will take the default value 0.\n",
    "* `stop`: a number specifying at which value to stop the array (excluded). This is a required argument.\n",
    "* `step`: a number specifying the increment in the values of the array (`step` $\\neq 0$). This is an optional argument, and thus, if not specified, it will take the default value 1. The `step` can be positive or negative and the value in index `i` will simply be `start + step*i`\n",
    "\n",
    "<div class=\"alert alert-block alert-info\"> <b>TRY IT!</b> Generate an array with $[0.5, 1.0, 1.5, 2.0, ..., 6.0, 6.5]$ using <code>np.arange()</code>. Generate an array with $[0, 1, 2, ..., 6]$ using <code>np.arange()</code></div> "
   ]
  },
  {
   "cell_type": "code",
   "execution_count": 4,
   "id": "574b7153",
   "metadata": {},
   "outputs": [
    {
     "name": "stdout",
     "output_type": "stream",
     "text": [
      "[0.5 1.  1.5 2.  2.5 3.  3.5 4.  4.5 5.  5.5 6.  6.5]\n",
      "[0 1 2 3 4 5 6]\n",
      "[0 1 2 3 4 5 6]\n"
     ]
    }
   ],
   "source": [
    "print(np.arange(0.5, 6.6, 0.5))\n",
    "\n",
    "print(np.arange(7))\n",
    "\n",
    "print(np.arange(0, 7, 1))"
   ]
  },
  {
   "cell_type": "markdown",
   "id": "421fd743",
   "metadata": {},
   "source": [
    "<div class=\"alert alert-block alert-info\"> <b>TRY IT!</b> Run the code below and change the values for start, stop, and step to check how they affect the array.</div> "
   ]
  },
  {
   "cell_type": "code",
   "execution_count": 5,
   "id": "c19dccb3",
   "metadata": {},
   "outputs": [
    {
     "data": {
      "application/vnd.jupyter.widget-view+json": {
       "model_id": "e2d172a860e8404bb0883a126b360fc2",
       "version_major": 2,
       "version_minor": 0
      },
      "text/plain": [
       "interactive(children=(IntSlider(value=0, description='start', min=-100), IntSlider(value=0, description='stop'…"
      ]
     },
     "metadata": {},
     "output_type": "display_data"
    }
   ],
   "source": [
    "import ipywidgets as widgets  # import ipywidgets package for interactive widgets\n",
    "\n",
    "# create 3 sliders for start, stop, and step\n",
    "@widgets.interact(start=(-100, 100), stop=(-100, 100), step=(-5, 10, 0.5))\n",
    "\n",
    "# define a function that takes the values from the sliders and returns the ndarray\n",
    "def arange(start, stop, step):\n",
    "    print(f'np.arange(start={start}, stop={stop}, step={step})')\n",
    "    print(np.arange(start, stop, step))\n",
    "    return"
   ]
  },
  {
   "cell_type": "markdown",
   "id": "e2bc64a2",
   "metadata": {},
   "source": [
    "### 1.4.2. `np.linspace()`\n",
    "\n",
    "For generating arrays that have **a certain number of evenly spaced points between a start and end value**, it is useful to use the `np.linspace()` function in NumPy:\n",
    "\n",
    "```python\n",
    "np.linspace(start, stop, num)\n",
    "```\n",
    "\n",
    "where:\n",
    "\n",
    "* `start`: a number specifying at which value to start the array. Here, this is a required argument.\n",
    "* `stop`: a number specifying at which value to stop the array. This is by default **included** in the array, unlike `np.arange()`. This is a required argument.\n",
    "* `num`: an integer number specifying how many values to generate between `start` and `stop`, including `start` and `stop`. This is an optional argument, and thus, if not specified, it will take the default value 50.\n",
    "\n",
    "<div class=\"alert alert-block alert-info\"> <b>TRY IT!</b> Use <code>np.linspace()</code> to generate an array starting at 3, ending at 9, and containing 10 evenly spaced elements.</div> "
   ]
  },
  {
   "cell_type": "code",
   "execution_count": 6,
   "id": "761275e3",
   "metadata": {},
   "outputs": [
    {
     "data": {
      "text/plain": [
       "array([3.        , 3.66666667, 4.33333333, 5.        , 5.66666667,\n",
       "       6.33333333, 7.        , 7.66666667, 8.33333333, 9.        ])"
      ]
     },
     "execution_count": 6,
     "metadata": {},
     "output_type": "execute_result"
    }
   ],
   "source": [
    "np.linspace(3, 9, 10)"
   ]
  },
  {
   "cell_type": "markdown",
   "id": "5c351730",
   "metadata": {},
   "source": [
    "<div class=\"alert alert-block alert-info\"> <b>TRY IT!</b> Run the code below and change the values for start, stop, and num to check how they affect the array.</div> "
   ]
  },
  {
   "cell_type": "code",
   "execution_count": 7,
   "id": "bc2264dc",
   "metadata": {},
   "outputs": [
    {
     "data": {
      "application/vnd.jupyter.widget-view+json": {
       "model_id": "09dad42a27504f9d9e8421fc9abe6f0d",
       "version_major": 2,
       "version_minor": 0
      },
      "text/plain": [
       "interactive(children=(IntSlider(value=0, description='start', min=-100), IntSlider(value=0, description='stop'…"
      ]
     },
     "metadata": {},
     "output_type": "display_data"
    }
   ],
   "source": [
    "import ipywidgets as widgets  # import ipywidgets package for interactive widgets\n",
    "\n",
    "# create 3 sliders for start, stop, and step\n",
    "@widgets.interact(start=(-100, 100), stop=(-100, 100), num=(0, 100))\n",
    "\n",
    "# define a function that takes the values from the sliders and returns the ndarray\n",
    "def linspace(start, stop, num):\n",
    "    print(f'np.linspace(start={start}, stop={stop}, num={num})')\n",
    "    print(np.linspace(start, stop, num))\n",
    "    return"
   ]
  },
  {
   "cell_type": "markdown",
   "id": "86433cdb",
   "metadata": {},
   "source": [
    "### 1.4.3. Other Functions\n",
    "\n",
    "There are some predefined arrays that are really useful. For example, the `np.zeros()`, `np.ones()`, and `np.empty()` are three useful functions. All of them take an input argument `shape`, which specifies the shape of the array: `(n_rows, n_columns)`. If you only need a 1-D array, then you can specify one number instead of both the number of rows and number of columns.\n",
    "\n",
    "<div class=\"alert alert-block alert-info\"> <b>TRY IT!</b> Create a 3 by 5 array with all the elements as 0. <br> &emsp;&emsp;&emsp;&ensp; Create a 1-D empty array with 10 elements.</div> "
   ]
  },
  {
   "cell_type": "code",
   "execution_count": 8,
   "id": "3725b980",
   "metadata": {},
   "outputs": [
    {
     "name": "stdout",
     "output_type": "stream",
     "text": [
      "[[0. 0. 0. 0. 0.]\n",
      " [0. 0. 0. 0. 0.]\n",
      " [0. 0. 0. 0. 0.]]\n",
      "[3.         3.66666667 4.33333333 5.         5.66666667 6.33333333\n",
      " 7.         7.66666667 8.33333333 9.        ]\n"
     ]
    }
   ],
   "source": [
    "print(np.zeros((3, 5)))\n",
    "\n",
    "print(np.empty(10))"
   ]
  },
  {
   "cell_type": "markdown",
   "id": "879dc0d8",
   "metadata": {},
   "source": [
    "<div class=\"alert alert-block alert-warning\"> <b>NOTE!</b> The empty array is not really empty, it is filled with random numbers.</div>\n",
    "\n",
    "There are other functions in NumPy for creating arrays. You can read about them in the documentation [here](https://numpy.org/doc/stable/reference/routines.array-creation.html).\n",
    "\n",
    "## 1.5. Membership Operators\n",
    "\n",
    "We can check whether an array contains a particular value using the `in` or `not in` operators, which are known as the membership operators:\n",
    "```python\n",
    "value in array_name\n",
    "value not in array_name\n",
    "```\n",
    "\n",
    "Let's use $y = \\begin{pmatrix} 1 & 4 & 3 \\\\ 9 & 2 & 7 \\\\ \\end{pmatrix}$ as an example.\n",
    "\n",
    "<div class=\"alert alert-block alert-info\"> <b>TRY IT!</b> Check if 23 is in <code>y</code>.</div> "
   ]
  },
  {
   "cell_type": "code",
   "execution_count": 9,
   "id": "6f17c293",
   "metadata": {},
   "outputs": [
    {
     "data": {
      "text/plain": [
       "False"
      ]
     },
     "execution_count": 9,
     "metadata": {},
     "output_type": "execute_result"
    }
   ],
   "source": [
    "23 in y"
   ]
  },
  {
   "cell_type": "markdown",
   "id": "c8a59d34",
   "metadata": {},
   "source": [
    "# 2. Indexing Arrays\n",
    "\n",
    "Data structures have internal structure, which can be subdivided (e.g., taking the first value). We can index a single element or a sequence of elements.\n",
    "\n",
    "## 2.1. Single Element Indexing\n",
    "\n",
    "An `ndarray` has indexes to indicate the location of each element. Indexing in Python starts at 0, which means that the first element has index 0, the second element has index 1, and so on, as shown in the illustration below.\n",
    "\n",
    "<br>\n",
    "\n",
    "<figure>\n",
    "  <img src=\"https://docs.google.com/drawings/d/e/2PACX-1vRSKzQgiv08w6qj58Hygn-2CVMUlNgvfeatreSTq_pea7oGvkFTnrImnskXgCk2JKPz4DnPi7rtxUaD/pub?w=874&h=224\n",
    "\" style=\"width:30%\">\n",
    "    <figcaption style=\"text-align:center\"><strong>Indexing elements in a 1-D NumPy array</strong></figcaption>   \n",
    "</figure>\n",
    "\n",
    "In Python, we can access any value of a data structure using square brackets and the index of the position: `array_name[index]`\n",
    "\n",
    "Let's use $x = \\begin{pmatrix}  1 & 4 & 3 & 12\\\\ \\end{pmatrix}$ as an example.\n",
    "\n",
    "<div class=\"alert alert-block alert-info\"> <b>TRY IT!</b> Get the first and second elements of <code>x</code> and add them.</div> "
   ]
  },
  {
   "cell_type": "code",
   "execution_count": 10,
   "id": "35cfec1e",
   "metadata": {
    "scrolled": true
   },
   "outputs": [
    {
     "data": {
      "text/plain": [
       "5"
      ]
     },
     "execution_count": 10,
     "metadata": {},
     "output_type": "execute_result"
    }
   ],
   "source": [
    "x[0] + x[1]"
   ]
  },
  {
   "cell_type": "markdown",
   "id": "a0829646",
   "metadata": {},
   "source": [
    "<div class=\"alert alert-block alert-warning\"> <b>NOTE!</b> Indexes should be integers. If you use <code>x[1.]</code>, Python will interpret <code>1.</code> as a float and will raise an <code>IndexError</code>.</div>\n",
    "\n",
    "You can also use negative indexes. Negative indexes simply mean counting from the end of the array. So, -1 is the index of the last value, -2 is the index of the second to last value, and so on, as shown in the illustration below.\n",
    "\n",
    "<br>\n",
    "\n",
    "<figure>\n",
    "  <img src=\"https://docs.google.com/drawings/d/e/2PACX-1vQyqCN1PCAR0rHHF80p0TMh0dufPocgFRmHR5H7VnxHPM2TG1zpp2yChgSw7JtqzhLwUVtWPWSb9CIw/pub?w=844&h=278\n",
    "\" style=\"width:35%\">\n",
    "    <figcaption style=\"text-align:center\"><strong>Negative indexing in a 1-D NumPy array</strong></figcaption>   \n",
    "</figure>\n",
    "\n",
    "\n",
    "Let's use $x = \\begin{pmatrix}  1 & 4 & 3 & 12\\\\ \\end{pmatrix}$ as an example.\n",
    "\n",
    "<div class=\"alert alert-block alert-info\"> <b>TRY IT!</b> Using negative indexing, get the first and last elements of <code>x</code> and add them.</div>"
   ]
  },
  {
   "cell_type": "code",
   "execution_count": 11,
   "id": "53502df8",
   "metadata": {},
   "outputs": [
    {
     "data": {
      "text/plain": [
       "13"
      ]
     },
     "execution_count": 11,
     "metadata": {},
     "output_type": "execute_result"
    }
   ],
   "source": [
    "x[-4] + x[-1]"
   ]
  },
  {
   "cell_type": "markdown",
   "id": "a5a3b4bc",
   "metadata": {},
   "source": [
    "<div class=\"alert alert-block alert-success\"> <b>TIP!</b> Using <code>array_name[-1]</code> is really useful when you don't know how big an array is, so you don't know what index to use to access the last element. An alternative would be to use <code>array_name[array_name.size - 1]</code>.</div>\n",
    "\n",
    "For 2-D arrays, indexing is slightly different, since we have rows and columns. To index a 2-D array, we need to indicate the index of the row and the column, separated by a comma, using: `array_name[row_index, column_index]`. Think of 2-D arrays like a table with rows and columns, as shown in the illustration below. If you only think about the row index or the column index, then it is similar to a 1-D array. Negative indexing also works with 2-D arrays, similar to 1-D arrays.\n",
    "\n",
    "<br>\n",
    "\n",
    "<figure>\n",
    "  <img src=\"https://docs.google.com/drawings/d/e/2PACX-1vSJpIGPqprNzpn7yNRyUR0rKEgBWtzVLcnp6Xs9T-9wRup9RNO7-D-uOQe7NRrWTYKxZSZqLTjEEnq5/pub?w=928&h=323\n",
    "\" style=\"width:70%\">\n",
    "    <figcaption style=\"text-align:center\"><strong>Indexing elements in a 2-D NumPy array</strong></figcaption>   \n",
    "</figure>\n",
    "\n",
    "Let's use $y = \\begin{pmatrix} 1 & 4 & 3 \\\\ 9 & 2 & 7 \\\\ \\end{pmatrix}$ as an example.\n",
    "\n",
    "<div class=\"alert alert-block alert-info\"> <b>TRY IT!</b> Using negative indexing, get the element at the last row and last column of <code>y</code>.</div> "
   ]
  },
  {
   "cell_type": "code",
   "execution_count": 12,
   "id": "316d559b",
   "metadata": {
    "scrolled": true
   },
   "outputs": [
    {
     "data": {
      "text/plain": [
       "7"
      ]
     },
     "execution_count": 12,
     "metadata": {},
     "output_type": "execute_result"
    }
   ],
   "source": [
    "y[-1, -1]"
   ]
  },
  {
   "cell_type": "markdown",
   "id": "5dcd2c9f",
   "metadata": {},
   "source": [
    "## 2.2. Slicing\n",
    "\n",
    "Not only can we access individual elements, but we can also access a sequence of elements from an array. For example, if we want to only get `[4, 3]` from `[1, 4, 3, 12]`, we could use the following command:\n",
    "\n",
    "```python\n",
    "In [1]: x[1:3]\n",
    "Out[1]: [4 3]       \n",
    "```\n",
    "\n",
    "This is known as array slicing. `[1:3]` means take all elements from index `1` (inclusive) and up to index `3` (exclusive). When slicing in Python, the **upper-bound is exclusive**, which means that `[1:3]` actually takes a slice from indexes 1 $\\rightarrow$ 2 instead of 1 $\\rightarrow$ 3. \n",
    "\n",
    "In general, the syntax for slicing in Python is `array_name[start:end:step]`, where:\n",
    "* `start` is the starting index (included). If `start` is not specified, slicing will start from index 0 (first position).\n",
    "* `end` is the ending index (excluded). If `end` is not specified, slicing will end at the last index.\n",
    "* `step` is the step between the indexes. If `step` is not specified, the result will be equivalent to using `step = 1`. If `step` is specified, the result will be elements with the following indexes: \n",
    "\n",
    "$$[\\text{start, start + step, start + 2 step, ...}]$$\n",
    "\n",
    "Let's use $w = \\begin{pmatrix}0 & 1 & 2 & 3 & 4 & 5 & ... & 98 & 99 & 100\\\\\\end{pmatrix}$ as an example.\n",
    "\n",
    "<div class=\"alert alert-block alert-info\"> <b>TRY IT!</b> Run the code below and change the values for start, end, and step to check how they affect slicing.</div> "
   ]
  },
  {
   "cell_type": "code",
   "execution_count": 13,
   "id": "c8ed7fa9",
   "metadata": {},
   "outputs": [
    {
     "data": {
      "application/vnd.jupyter.widget-view+json": {
       "model_id": "c10b08bd36954bad844d8115fed22848",
       "version_major": 2,
       "version_minor": 0
      },
      "text/plain": [
       "interactive(children=(IntSlider(value=50, description='start', max=101), IntSlider(value=50, description='end'…"
      ]
     },
     "metadata": {},
     "output_type": "display_data"
    }
   ],
   "source": [
    "import ipywidgets as widgets  # import ipywidgets package for interactive widgets\n",
    "\n",
    "# create array w\n",
    "w = np.arange(0, 101, 1)\n",
    "\n",
    "# create 3 sliders for start, end, and step\n",
    "@widgets.interact(start=(0,101), end=(0,101), step=(1,10))\n",
    "\n",
    "# define a function that takes the values from the sliders and slices w\n",
    "def slicing(start, end, step):\n",
    "    print(f'w[{start}:{end}:{step}]')\n",
    "    print(w[start:end:step])\n",
    "    return"
   ]
  },
  {
   "cell_type": "markdown",
   "id": "82bbd1e8",
   "metadata": {},
   "source": [
    "<div class=\"alert alert-block alert-info\"> <b>TRY IT!</b> Check the outputs of <code>w[:10]</code>, <code>w[:]</code>, and <code>w[::2]</code>.</div> "
   ]
  },
  {
   "cell_type": "code",
   "execution_count": 14,
   "id": "bade238e",
   "metadata": {},
   "outputs": [
    {
     "name": "stdout",
     "output_type": "stream",
     "text": [
      "[0 1 2 3 4 5 6 7 8 9]\n",
      "[  0   1   2   3   4   5   6   7   8   9  10  11  12  13  14  15  16  17\n",
      "  18  19  20  21  22  23  24  25  26  27  28  29  30  31  32  33  34  35\n",
      "  36  37  38  39  40  41  42  43  44  45  46  47  48  49  50  51  52  53\n",
      "  54  55  56  57  58  59  60  61  62  63  64  65  66  67  68  69  70  71\n",
      "  72  73  74  75  76  77  78  79  80  81  82  83  84  85  86  87  88  89\n",
      "  90  91  92  93  94  95  96  97  98  99 100]\n",
      "[  0   2   4   6   8  10  12  14  16  18  20  22  24  26  28  30  32  34\n",
      "  36  38  40  42  44  46  48  50  52  54  56  58  60  62  64  66  68  70\n",
      "  72  74  76  78  80  82  84  86  88  90  92  94  96  98 100]\n"
     ]
    }
   ],
   "source": [
    "# elements from index 0 (included) to 10 (excluded, so index 9, which is 10-1)\n",
    "print(w[:10]) \n",
    "\n",
    "# the whole array, equivalent to [0:101:1] in this case\n",
    "print(w[:]) \n",
    "\n",
    "# every other element starting from the beginning, equivalent to [0:101:2] in this case\n",
    "print(w[::2]) "
   ]
  },
  {
   "cell_type": "markdown",
   "id": "18e373b5",
   "metadata": {},
   "source": [
    "You can also use negative indexes when slicing. Even when slicing using negative indexes, the upper-bound `end` is exclusive. So, in the example below, since `start` is not specified, the slice will start from index 0 (inclusive) up to index -1 (exclusive). Thus, the output includes the full array except for the last element, `100`.\n",
    "\n",
    "Let's use $w = \\begin{pmatrix}0 & 1 & 2 & 3 & 4 & 5 & ... & 98 & 99 & 100\\\\\\end{pmatrix}$ as an example.\n",
    "\n",
    "```python\n",
    "In [2]: w[:-1]\n",
    "Out[2]: [ 0  1 2 3 4 ... 99]       \n",
    "```\n",
    "\n",
    "<div class=\"alert alert-block alert-info\"> <b>TRY IT!</b> Run the code below and change the values for start, end, and step to check how they affect slicing.</div> "
   ]
  },
  {
   "cell_type": "code",
   "execution_count": 15,
   "id": "5d477d00",
   "metadata": {},
   "outputs": [
    {
     "data": {
      "application/vnd.jupyter.widget-view+json": {
       "model_id": "9013ff9884a6449fbd964b090d73911c",
       "version_major": 2,
       "version_minor": 0
      },
      "text/plain": [
       "interactive(children=(IntSlider(value=-52, description='start', max=-1, min=-102), IntSlider(value=-52, descri…"
      ]
     },
     "metadata": {},
     "output_type": "display_data"
    }
   ],
   "source": [
    "import ipywidgets as widgets  # import ipywidgets package for interactive widgets\n",
    "\n",
    "# create array w\n",
    "w = np.arange(0, 101, 1)\n",
    "\n",
    "# create 3 sliders for start, end, and step\n",
    "@widgets.interact(start=(-102,-1), end=(-102,-1), step=(-10,-1))\n",
    "\n",
    "# define a function that takes the values from the sliders and slices w\n",
    "def slicing(start, end, step):\n",
    "    print(f'w[{start}:{end}:{step}]')\n",
    "    print(w[start:end:step])\n",
    "    return"
   ]
  },
  {
   "cell_type": "markdown",
   "id": "d29507f4",
   "metadata": {},
   "source": [
    "Slicing also works with 2-D arrays. If you only think about the row slicing or the column slicing, then each is similar to a 1-D array.\n",
    "\n",
    "Let's use $y = \\begin{pmatrix} 1 & 4 & 3 \\\\ 9 & 2 & 7 \\\\ \\end{pmatrix}$ as an example.\n",
    "\n",
    "<div class=\"alert alert-block alert-info\"> <b>TRY IT!</b> Get the first and third columns of <code>y</code>.</div> "
   ]
  },
  {
   "cell_type": "code",
   "execution_count": 16,
   "id": "50ba2d9d",
   "metadata": {},
   "outputs": [
    {
     "data": {
      "text/plain": [
       "array([[1, 3],\n",
       "       [9, 7]])"
      ]
     },
     "execution_count": 16,
     "metadata": {},
     "output_type": "execute_result"
    }
   ],
   "source": [
    "y[:, ::2]"
   ]
  },
  {
   "cell_type": "markdown",
   "id": "5050bfad",
   "metadata": {},
   "source": [
    "## 2.3. Mutating an Array\n",
    "\n",
    "NumPy arrays are **mutable**, which means that their contents **can** be modified. We will later see data structures that are immutable, which means you cannot change individual elements once they have been created.\n",
    "\n",
    "You can use single element indexing and the assignment operator to reassign/modify a value of an array. You can also reassign multiple elements of an array to a single value using array slicing, or alternatively, to multiple values as long as both the shape of the elements being assigned and the shape of the elements assigned are the same.  \n",
    "\n",
    "Let's use $x = \\begin{pmatrix}  1 & 4 & 3 & 12\\\\ \\end{pmatrix}$ as an example.\n",
    "\n",
    "<div class=\"alert alert-block alert-info\"> <b>TRY IT!</b> Reassign the second element of <code>x</code> to 25.<br> &emsp;&emsp;&emsp;&ensp; Reassign the first and second elements of <code>x</code> to 19.<br> &emsp;&emsp;&emsp;&ensp; Reassign the second and fourth elements of <code>x</code> to 5 and 7, respectively.</div> "
   ]
  },
  {
   "cell_type": "code",
   "execution_count": 17,
   "id": "f8f28441",
   "metadata": {},
   "outputs": [
    {
     "name": "stdout",
     "output_type": "stream",
     "text": [
      "[ 1 25  3 12]\n",
      "[19 19  3 12]\n",
      "[19  5  3  7]\n"
     ]
    }
   ],
   "source": [
    "x = np.array([1, 4, 3, 12])\n",
    "\n",
    "# reassign a single element to a single value\n",
    "x[1] = 25\n",
    "print(x)\n",
    "\n",
    "# reassign multiple elements to a single value\n",
    "x[:2] = 19\n",
    "print(x)\n",
    "\n",
    "# reassign multiple elements to a multiple values\n",
    "x[1::2] = [5, 7]\n",
    "print(x)"
   ]
  },
  {
   "cell_type": "markdown",
   "id": "7a5a48dd",
   "metadata": {},
   "source": [
    "# 3. Manipulating Arrays\n",
    "\n",
    "Although reassigning value(s) of an array can be helpful, this cannot be used to grow the array (i.e., add a new element to the array). NumPy has several functions that could be used to manipulate arrays. \n",
    "\n",
    "## 3.1. Adding and Removing Elements\n",
    "\n",
    "There are different functions that can be used to add or remove elements from an array, including:\n",
    "\n",
    "* [`np.append(array, values)`](https://numpy.org/doc/stable/reference/generated/numpy.append.html#numpy.append): Append `values` to the end of `array`, where `values` can be a single value or array-like.\n",
    "\n",
    "* [`np.insert(array, ind, values)`](https://numpy.org/doc/stable/reference/generated/numpy.insert.html#numpy.insert): Insert `values` into `array` before index(es) `ind`. Both `values` and `ind` can be a single value or array-like.\n",
    "\n",
    "* [`np.delete(array, ind)`](https://numpy.org/doc/stable/reference/generated/numpy.delete.html#numpy.delete): Delete element(s) from `array` with index(es) `ind`, which can be a single value or array-like.\n",
    "\n",
    "* [`np.unique(array)`](https://numpy.org/doc/stable/reference/generated/numpy.unique.html#numpy.unique): Find the unique elements of `array` and return them in sorted order.\n",
    "\n",
    "<div class=\"alert alert-block alert-warning\"> <b>NOTE!</b> These functions will not automatically change the array. To change the array, you have to reassign it: <code>array = np.append(array, values)</code>.</div>\n",
    "\n",
    "Let's use $x = \\begin{pmatrix}  1 & 4 & 3 & 12\\\\ \\end{pmatrix}$ as an example.\n",
    "\n",
    "<div class=\"alert alert-block alert-info\"> <b>TRY IT!</b> Append the value 1 to the end of <code>x</code>.<br> &emsp;&emsp;&emsp;&ensp; Insert the values 8 and 9 before the first element of <code>x</code>.</div> "
   ]
  },
  {
   "cell_type": "code",
   "execution_count": 18,
   "id": "2be1429b",
   "metadata": {},
   "outputs": [
    {
     "name": "stdout",
     "output_type": "stream",
     "text": [
      "[ 1  4  3 12  1]\n",
      "[ 8  9  1  4  3 12]\n",
      "[ 1  4  3 12]\n"
     ]
    }
   ],
   "source": [
    "x = np.array([1, 4, 3, 12])\n",
    "\n",
    "# append\n",
    "print(np.append(x,1))\n",
    "\n",
    "# insert\n",
    "print(np.insert(x, 0, (8,9)))\n",
    "\n",
    "# x remains unchanged\n",
    "print(x)"
   ]
  },
  {
   "cell_type": "markdown",
   "id": "434e2538",
   "metadata": {},
   "source": [
    "## 3.2. Concatenating and Splitting Arrays\n",
    "\n",
    "All of the above functions worked on single arrays. It's also possible to combine multiple arrays into one, and to conversely split a single array into multiple arrays. Some of these functions include:\n",
    "\n",
    "* [`np.concatenate((array1, array2,...))`](https://numpy.org/doc/stable/reference/generated/numpy.concatenate.html#numpy.concatenate): Concatenate (join) two or more arrays of the same shape.\n",
    "\n",
    "* [`np.split(array, ind_or_sections)`](https://numpy.org/doc/stable/reference/generated/numpy.split.html#numpy.split): Split `array` into multiple sub-arrays. If `ind_or_sections` is an integer, N, the array will be divided into N equal arrays along axis. If `ind_or_sections` is a 1-D array of sorted integers, the entries indicate the indexes at which the split will be performed.\n",
    "\n",
    "Let's use $x = \\begin{pmatrix}  1 & 4 & 3 & 12\\\\ \\end{pmatrix}$ and $v = \\begin{pmatrix}  13 & 4 & 5 & 2\\\\ \\end{pmatrix}$ as an example.\n",
    "\n",
    "<div class=\"alert alert-block alert-info\"> <b>TRY IT!</b> Concatenate <code>x</code> and <code>v</code>.<br> &emsp;&emsp;&emsp;&ensp; Split <code>x</code> into two sub-arrays.</div> "
   ]
  },
  {
   "cell_type": "code",
   "execution_count": 19,
   "id": "193bd9d0",
   "metadata": {},
   "outputs": [
    {
     "data": {
      "text/plain": [
       "[array([1, 4]), array([ 3, 12])]"
      ]
     },
     "execution_count": 19,
     "metadata": {},
     "output_type": "execute_result"
    }
   ],
   "source": [
    "x = np.array([1, 4, 3, 12])\n",
    "v = np.array([13, 4, 5, 2])\n",
    "\n",
    "# concatenate\n",
    "np.concatenate((x, v))\n",
    "\n",
    "# split\n",
    "np.split(x, 2)"
   ]
  },
  {
   "cell_type": "markdown",
   "id": "49a995d9",
   "metadata": {},
   "source": [
    "There are other functions in NumPy for manipulating arrays. You can read about them in the documentation [here](https://numpy.org/doc/stable/reference/routines.array-manipulation.html#array-manipulation-routines).\n",
    "\n",
    "# 4. Array Methods\n",
    "\n",
    "In Python, methods are functions that are associated with an object and can manipulate its data or perform actions on it. NumPy arrays have many methods, which you can read about in the documentation [here](https://numpy.org/doc/stable/reference/generated/numpy.ndarray.html). Some of the common methods are:\n",
    "* [`array_name.cumsum()`](https://numpy.org/doc/stable/reference/generated/numpy.ndarray.cumsum.html#numpy.ndarray.cumsum): returns the cumulative sum of the array elements along the given axis\n",
    "* [`array_name.max()`](https://numpy.org/doc/stable/reference/generated/numpy.ndarray.max.html): returns the maximum of the array elements along the given axis\n",
    "* [`array_name.mean()`](https://numpy.org/doc/stable/reference/generated/numpy.ndarray.mean.html): returns the average of the array elements along the given axis\n",
    "* [`array_name.min()`](https://numpy.org/doc/stable/reference/generated/numpy.ndarray.min.html#numpy.ndarray.min): returns the minimum of the array elements along the given axis\n",
    "* [`array_name.sort()`](https://numpy.org/doc/stable/reference/generated/numpy.ndarray.html): sorts the array elements\n",
    "* [`array_name.sum()`](https://numpy.org/doc/stable/reference/generated/numpy.ndarray.sum.html): returns the sum of the array elements along the given axis\n",
    "\n",
    "Let's use $x = \\begin{pmatrix}  1 & 4 & 3 & 12\\\\ \\end{pmatrix}$ as an example.\n",
    "\n",
    "<div class=\"alert alert-block alert-info\"> <b>TRY IT!</b> Get the cumulative sum of <code>x</code>.<br> &emsp;&emsp;&emsp;&ensp; Get the sum of <code>x</code>.</div> "
   ]
  },
  {
   "cell_type": "code",
   "execution_count": 20,
   "id": "7db692fe",
   "metadata": {},
   "outputs": [
    {
     "data": {
      "text/plain": [
       "20"
      ]
     },
     "execution_count": 20,
     "metadata": {},
     "output_type": "execute_result"
    }
   ],
   "source": [
    "x = np.array([1, 4, 3, 12])\n",
    "\n",
    "# cumsum\n",
    "x.cumsum()\n",
    "\n",
    "# sum\n",
    "x.sum()"
   ]
  },
  {
   "cell_type": "markdown",
   "id": "143030b5",
   "metadata": {},
   "source": [
    "<div class=\"alert alert-block alert-warning\"> <b>NOTE!</b> Notice that we used <code>x.sum()</code> instead of <code>x.sum</code>. This is because <code>sum</code> is a <strong>method</strong>, which is a function associated with an object. For now you need to remember that when we call a method on an object, we need to use parentheses. You can always try both and see which works!</div>\n",
    "\n",
    "# 5. Arithmetic and Comparison Operations\n",
    "\n",
    "Some of the arithmetic and comparison operators we have used on scalar objects can also be used on arrays.\n",
    "\n",
    "## 5.1. Arithmetic Operations\n",
    "\n",
    "Basic arithmetic is defined for arrays. However, there are operations between a scalar (a single number) and an array and operations between two arrays. We will start with operations between a scalar and an array. To illustrate, let $c$ be a scalar, and $A$ be an array.\n",
    "\n",
    "* `A + c`: adds $c$ to every element of $A$ \n",
    "* `A − c`: subtracts $c$ from every element of $A$\n",
    "* `A * c`: multiplies every element of $A$ by $c$\n",
    "* `A / c`: divides every element of $A$ by $c$\n",
    "* `A ** c`: raises every element of $A$ to the power $c$\n",
    "\n",
    "These apply to 1-D and 2-D arrays.\n",
    "\n",
    "Let's use $y = \\begin{pmatrix} 1 & 4 & 3 \\\\ 9 & 2 & 7 \\\\ \\end{pmatrix}$ as an example.\n",
    "\n",
    "<div class=\"alert alert-block alert-info\"> <b>TRY IT!</b> Square the values of <code>y</code>.</div> "
   ]
  },
  {
   "cell_type": "code",
   "execution_count": 21,
   "id": "bd69b1cf",
   "metadata": {},
   "outputs": [
    {
     "name": "stdout",
     "output_type": "stream",
     "text": [
      "[[ 1 16  9]\n",
      " [81  4 49]]\n",
      "[[1 4 3]\n",
      " [9 2 7]]\n"
     ]
    }
   ],
   "source": [
    "# y squared\n",
    "print(y ** 2)\n",
    "\n",
    "# y remains unchanged\n",
    "print(y)"
   ]
  },
  {
   "cell_type": "markdown",
   "id": "46093f9b",
   "metadata": {},
   "source": [
    "<div class=\"alert alert-block alert-warning\"> <b>NOTE!</b> We did not reassign <code>y</code> when doing the above operation (we did not, for example, use <code>y = y ** 2</code>). Therefore, <code>y</code> remains unchanged.</div>\n",
    "\n",
    "We can also perform operations between two or more arrays. Let $A1$ and $A2$ be two arrays of the **same shape**.\n",
    "* `A1 + A2`: takes every element of $A1$ and add it to the corresponding element of $A2$ in the same index\n",
    "* `A1 - A2`: takes every element of $A2$ and subtracts it from the corresponding element of $A1$ in the same index\n",
    "* `A1 * A2`: takes every element of $A1$ and multiplies it by the corresponding element of $A2$ in the same index\n",
    "* `A1 / A2`: takes every element of $A1$ and divides it by the corresponding element of $A2$ in the same index\n",
    "* `A1 ** A2`: takes every element of $A1$ and raises it to the power the corresponding element of $A2$ in the same index\n",
    "\n",
    "<div class=\"alert alert-block alert-warning\"> <b>NOTE!</b> If you have taken linear algebra, you will notice that <code>A1 * A2</code> is different from that standard array multiplication. Standard array multiplication will be described in a later chapter. The operations above are known as element-by-element operations.</div>\n",
    "\n",
    "Let's use $y = \\begin{pmatrix} 1 & 4 & 3 \\\\ 9 & 2 & 7 \\\\ \\end{pmatrix}$ and $z = \\begin{pmatrix} 1 & 2 & 3 \\\\ 4 & 5 & 6 \\\\ \\end{pmatrix}$ as an example.\n",
    "\n",
    "<div class=\"alert alert-block alert-info\"> <b>TRY IT!</b> Perform element-by-element multiplication between <code>y</code> and <code>z</code>.</div> "
   ]
  },
  {
   "cell_type": "code",
   "execution_count": 22,
   "id": "8b6479d2",
   "metadata": {
    "scrolled": false
   },
   "outputs": [
    {
     "data": {
      "text/plain": [
       "array([[ 1,  8,  9],\n",
       "       [36, 10, 42]])"
      ]
     },
     "execution_count": 22,
     "metadata": {},
     "output_type": "execute_result"
    }
   ],
   "source": [
    "y = np.array([[1, 4, 3], [9, 2, 7]])\n",
    "z = np.array([[1, 2, 3], [4, 5, 6]])\n",
    "\n",
    "# element-by-element multiplication\n",
    "y * z"
   ]
  },
  {
   "cell_type": "markdown",
   "id": "b7f53e91",
   "metadata": {},
   "source": [
    "NumPy has many mathematical functions, such as `np.sin()`, `np.cos()`, etc., that can take arrays as input arguments. The output is an array that includes the outputs of the function evaluated for every element of the input array. A list of mathematical funcitons in NumPy can be found [here](https://numpy.org/doc/stable/reference/routines.math.html).\n",
    "\n",
    "Let's use $y = \\begin{pmatrix} 1 & 4 & 3 \\\\ 9 & 2 & 7 \\\\ \\end{pmatrix}$ as an example.\n",
    "\n",
    "<div class=\"alert alert-block alert-info\"> <b>TRY IT!</b> Compute the square root of <code>y</code> using <code>np.sqrt()</code>.</div> "
   ]
  },
  {
   "cell_type": "code",
   "execution_count": 23,
   "id": "659f7963",
   "metadata": {
    "scrolled": true
   },
   "outputs": [
    {
     "data": {
      "text/plain": [
       "array([[1.        , 2.        , 1.73205081],\n",
       "       [3.        , 1.41421356, 2.64575131]])"
      ]
     },
     "execution_count": 23,
     "metadata": {},
     "output_type": "execute_result"
    }
   ],
   "source": [
    "np.sqrt(y)"
   ]
  },
  {
   "cell_type": "markdown",
   "id": "dd8a45ff",
   "metadata": {},
   "source": [
    "## 5.2. Comparison Operations\n",
    "\n",
    "We can also use logical expressions on arrays. Logical expressions can be defined between:\n",
    "* a scalar and an array\n",
    "* two arrays of the **same shape**\n",
    "\n",
    "When used between a scalar and an array, the logical expression is conducted between the scalar and **each element** of the array. When used between two arrays of the same shape, the logical expression is conducted **element-by-element**.\n",
    "\n",
    "The output will be an array of the same shape, but which includes `True` or `False` based on the logical expression.\n",
    "\n",
    "Let's use $y = \\begin{pmatrix} 1 & 4 & 3 \\\\ 9 & 2 & 7 \\\\ \\end{pmatrix}$ and $z = \\begin{pmatrix} 1 & 2 & 3 \\\\ 4 & 5 & 6 \\\\ \\end{pmatrix}$ as an example.\n",
    "\n",
    "<div class=\"alert alert-block alert-info\"> <b>TRY IT!</b> Check which elements of <code>y</code> are greater than 3. Check which elements of <code>y</code> are equal to the corresponding element of <code>z</code>.</div> "
   ]
  },
  {
   "cell_type": "code",
   "execution_count": 24,
   "id": "20f413e9",
   "metadata": {
    "scrolled": true
   },
   "outputs": [
    {
     "name": "stdout",
     "output_type": "stream",
     "text": [
      "[[False  True False]\n",
      " [ True False  True]]\n",
      "[[ True False  True]\n",
      " [False False False]]\n"
     ]
    }
   ],
   "source": [
    "# greater than 3\n",
    "print(y > 3)\n",
    "\n",
    "# equal to z\n",
    "print(y == z)"
   ]
  },
  {
   "cell_type": "markdown",
   "id": "f1b33ba5",
   "metadata": {},
   "source": [
    "<div class=\"alert alert-block alert-warning\"> <b>NOTE!</b> Logical operators <code>and</code> and <code>or</code> do not work with arrays. You can use NumPy logic functions <code>np.logical_and(expression1, expression2)</code> and <code>np.logical_or(expression1, expression2)</code> instead.</div>\n",
    "\n",
    "Finally, Python can index elements of an array that satisfy a logical expression.\n",
    "\n",
    "Let's use $y = \\begin{pmatrix} 1 & 4 & 3 \\\\ 9 & 2 & 7 \\\\ \\end{pmatrix}$ as an example.\n",
    "\n",
    "<div class=\"alert alert-block alert-info\"> <b>TRY IT!</b> Create a new array that contains all the elements of <code>y</code> that are strictly greater than 3.<br> &emsp;&emsp;&emsp;&ensp; Assign all the values of <code>y</code> that are greater than 3 the value 0.</div> "
   ]
  },
  {
   "cell_type": "code",
   "execution_count": 25,
   "id": "571ed806",
   "metadata": {},
   "outputs": [
    {
     "name": "stdout",
     "output_type": "stream",
     "text": [
      "[4 9 7]\n",
      "[[1 0 3]\n",
      " [0 2 0]]\n"
     ]
    }
   ],
   "source": [
    "y = np.array([[1, 4, 3], [9, 2, 7]])\n",
    "\n",
    "# new array\n",
    "print(y[y>3])\n",
    "\n",
    "# indexing with logical expression\n",
    "y[y>3] = 0\n",
    "print(y)"
   ]
  }
 ],
 "metadata": {
  "kernelspec": {
   "display_name": "Python 3 (ipykernel)",
   "language": "python",
   "name": "python3"
  },
  "language_info": {
   "codemirror_mode": {
    "name": "ipython",
    "version": 3
   },
   "file_extension": ".py",
   "mimetype": "text/x-python",
   "name": "python",
   "nbconvert_exporter": "python",
   "pygments_lexer": "ipython3",
   "version": "3.9.15"
  }
 },
 "nbformat": 4,
 "nbformat_minor": 5
}
