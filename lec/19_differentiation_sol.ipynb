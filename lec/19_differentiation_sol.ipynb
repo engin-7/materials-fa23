{
 "cells": [
  {
   "cell_type": "markdown",
   "id": "316e4713",
   "metadata": {},
   "source": [
    "# 0. Motivation\n",
    "\n",
    "In various engineering and science disciplines, understanding how physical quantities change over time, space, and other dimensions is crucial. Mathematically, the rate at which these changes occur is modeled using derivatives. Although there is an extensive [set of rules](https://www.mathsisfun.com/calculus/derivatives-rules.html) for computing derivatives analytically, these rules can be cumbersome for some functions. Moreover, a more critical challenge arises in practical scenarios where the underlying mathematical function may not be explicitly known, and only a set of discrete data points is available. In such cases, numerical computation of derivatives becomes a necessary alternative to analytical methods. Numerical differentiation methods provide a practical means to approximate derivatives in scenarios where analytical solutions are impractical or unavailable.\n",
    "\n",
    "By the end of this section, you should be able to:\n",
    "- Recognize the challenges associated with analytical differentiation in real-world problems\n",
    "- Understand the practical significance of numerical differentiation\n",
    "- Apply different numerical differentiation techniques including, backward, forward, and central differentiation\n",
    "- Estimate the order of the error of these numerical approximations \n",
    "- Implement these methods in Python to analyze and model real-world systems"
   ]
  },
  {
   "cell_type": "markdown",
   "id": "8d69635a",
   "metadata": {},
   "source": [
    "# 1. Differentiation\n",
    "\n",
    "The derivative $f'(x)$ of a function $f(x)$ at a point $x$ is interpreted as the slope of the tangent line to the function at that specific point. Mathematically, the derivative is defined as:\n",
    "\n",
    "$$f^\\prime(x) = \\lim_{h\\rightarrow 0}\\frac{f(x+h) - f(x)}{h}$$\n",
    "\n",
    "<br>\n",
    "\n",
    "<figure>\n",
    "  <img src=\"https://upload.wikimedia.org/wikipedia/commons/a/aa/Derivative_GIF.gif\n",
    "\" style=\"width:35%\">\n",
    "    <figcaption style=\"text-align:center\"><strong>Derivative of a function:</strong> <a href=\"https://en.m.wikipedia.org/wiki/File:Derivative_GIF.gif\">https://en.m.wikipedia.org/</a></figcaption>   \n",
    "</figure>\n",
    "\n",
    "<br>\n",
    "\n",
    "A simple two-point estimation can be used to compute the slope by drawing a secant line through the points $(x, f(x))$ and $(x + h, f(x + h))$. Conceptually, one endpoint of the interval slides toward the point of interest. As the spacing between the points $h$ decreases, the expression above converges to the derivative of the function at that particular point."
   ]
  },
  {
   "cell_type": "markdown",
   "id": "8f5e5626",
   "metadata": {},
   "source": [
    "# 2. Numerical Differentiation \n",
    "\n",
    "Although physical data are inherently continuous, their values may only be known at discrete points. For example, a GPS sensor might record position versus time pairs at regular intervals. Although position is a smooth and continuous function with respect to time, the GPS only provides values at discrete time intervals, and hence, the underlying function may not be known.\n",
    "\n",
    "In such cases, **finite difference** approximations of the derivative can be employed by calculating the slope between two neighboring points from the available set of data points. There are three fundamental types of finite difference approximations:\n",
    "1. Forward difference\n",
    "2. Backward difference\n",
    "3. Central difference\n",
    "\n",
    "### 2.1. Forward Difference\n",
    "\n",
    "The **forward difference** estimates the derivative of the function at $x_i$ as the slope of the line that connects $(x_i, f(x_i))$ and $(x_{i+1}, f(x_{i+1}))$:\n",
    "\n",
    "$$\n",
    "f'(x_i) \\approx \\frac{f(x_{i+1}) - f(x_i)}{x_{i+1} - x_i}\n",
    "$$\n",
    "\n",
    "When working with discrete data, we are restricted by the spacing between successive measurements. However, if we have knowledge of the underlying mathematical function, $f(x)$, we can control the spacing between the two points, denoted as $h$, used in approximating the derivative. The forward finite-difference approximation in this case uses the line that connects $(x_i, f(x_i))$ and $(x_{i}+h, f(x_{i}+h))$:\n",
    "\n",
    "$$\n",
    "f'(x_i) \\approx \\frac{f(x_{i}+h) - f(x_i)}{h}\n",
    "$$\n",
    "\n",
    "### 2.2. Backward Difference\n",
    "\n",
    "The **backward difference** estimates the derivative of the function at $x_i$ as the slope of the line that connects $(x_{i-1}, f(x_{i-1}))$ and $(x_i, f(x_i))$:\n",
    "\n",
    "$$\n",
    "f'(x_i) \\approx \\frac{f(x_i) - f(x_{i-1})}{x_i - x_{i-1}}\n",
    "$$\n",
    "\n",
    "When the mathematical function is known, the backward finite-difference approximation equation becomes:\n",
    "\n",
    "$$\n",
    "f'(x_i) \\approx \\frac{f(x_i) - f(x_{i}-h)}{h}\n",
    "$$\n",
    "\n",
    "\n",
    "### 2.3. Central Difference\n",
    "\n",
    "The **central difference** estimates the derivative of the function at $x_i$ as the slope of the line that connects $(x_{i-1}, f(x_{i-1}))$ and $(x_{i+1}, f(x_{i+1}))$:\n",
    "\n",
    "$$\n",
    "f'(x_i) \\approx \\frac{f(x_{i+1}) - f(x_{i-1})}{x_{i+1} - x_{i-1}}\n",
    "$$\n",
    "\n",
    "When the mathematical function is known, the central finite-difference approximation equation becomes:\n",
    "\n",
    "$$\n",
    "f'(x_i) \\approx \\frac{f(x_{i}+h) - f(x_{i}-h)}{2h}\n",
    "$$\n",
    "\n",
    "The following figure illustrates the three different numerical differentiation methods used to estimate the slope/derivative. \n",
    "\n",
    "<br>\n",
    "\n",
    "<figure>\n",
    "  <img src=\"https://docs.google.com/drawings/d/e/2PACX-1vSln3OYVp9qWJHY5tBhmVldfuHUThQ1vNm-GwE7x-aPZzg7gawyvAtvns0VrRdWNl7olNNkIfsC2qyh/pub?w=1440&h=507\n",
    "\" style=\"width:75%\">\n",
    "    <figcaption style=\"text-align:center\"><strong>Finite difference methods:</strong> <a href=\"https://pythonnumericalmethods.berkeley.edu/notebooks/chapter20.02-Finite-Difference-Approximating-Derivatives.html\">https://pythonnumericalmethods.berkeley.edu/</a></figcaption>   \n",
    "</figure>\n",
    "\n",
    "<br>\n",
    "\n",
    "It is also possible to approximate higher order derivatives (e.g., $f''(x_i), f'''(x_i)$, etc.). For example, the second order derivative can be approximated as:\n",
    "\n",
    "$$\n",
    "f''(x_i) \\approx \\frac{f(x_{i}+h)-2f(x_i)+f(x_{i}-h)}{h^2}\n",
    "$$\n",
    "\n",
    "<div class=\"alert alert-block alert-info\"> <b>TRY IT!</b> Write a function <code>forward_diff(f, x, h)</code> which takes as input a function object <code>f</code> and two scalar values <code>x, h</code>. The function should return an estimate of the derivative of <code>f</code> at <code>x</code> using the forward difference method and spacing <code>h</code>. Set the default value of the spacing equal to $10^{-3}$.</div>"
   ]
  },
  {
   "cell_type": "code",
   "execution_count": 3,
   "id": "3b320841",
   "metadata": {},
   "outputs": [],
   "source": [
    "def forward_diff(f, x, h=1e-3):\n",
    "    return (f(x+h) - f(x))/h"
   ]
  },
  {
   "cell_type": "markdown",
   "id": "132e2706",
   "metadata": {},
   "source": [
    "<div class=\"alert alert-block alert-info\"> <b>TRY IT!</b> Try your function <code>forward_diff(f, x, h)</code> for $f(x)=\\cos(x)$ at <code>x=0.15</code>. Then, compute the analytical value of the derivative and the error between the numerical approximation and the analytical value.</div>"
   ]
  },
  {
   "cell_type": "code",
   "execution_count": 5,
   "id": "c631a081",
   "metadata": {},
   "outputs": [
    {
     "name": "stdout",
     "output_type": "stream",
     "text": [
      "f'(0.15) ~ -0.1499324930649415\n",
      "f'(0.15) = -0.14943813247359922\n",
      "Error    = 0.0004943605913422799\n"
     ]
    }
   ],
   "source": [
    "import numpy as np\n",
    "\n",
    "# Point of interest\n",
    "x = 0.15\n",
    "\n",
    "# Estimate derivative and display results\n",
    "estimate = forward_diff(np.cos, x)\n",
    "print(f\"f'({x}) ~ {estimate}\")\n",
    "\n",
    "# Analytical solution for derivative\n",
    "exact = -np.sin(x)\n",
    "print(f\"f'({x}) = {exact}\")\n",
    "\n",
    "# Calculate Error\n",
    "print(f\"Error    = {np.abs(exact - estimate)}\")"
   ]
  },
  {
   "cell_type": "markdown",
   "id": "74d4f18b",
   "metadata": {},
   "source": [
    "<div class=\"alert alert-block alert-info\"> <b>TRY IT!</b> Write a function <code>central_diff(f, x, h)</code> which takes as input a function object <code>f</code> and two scalar values <code>x, h</code>. The function should return an estimate of the derivative of <code>f</code> at <code>x</code> using the central difference method and spacing <code>h</code>. Set the default value of the spacing equal to $10^{-3}$.</div>"
   ]
  },
  {
   "cell_type": "code",
   "execution_count": 6,
   "id": "4535a4a6",
   "metadata": {},
   "outputs": [],
   "source": [
    "def central_diff(f, x, h=1e-3):\n",
    "    return (f(x+h) - f(x-h))/(2*h)"
   ]
  },
  {
   "cell_type": "markdown",
   "id": "5b38ec6d",
   "metadata": {},
   "source": [
    "<div class=\"alert alert-block alert-info\"> <b>TRY IT!</b> Try your function <code>central_diff(f, x, h)</code> for $f(x)=\\cos(x)$ at <code>x=0.15</code>. Then, compute the analytical value of the derivative and the error between the numerical approximation and the analytical value.</div>"
   ]
  },
  {
   "cell_type": "code",
   "execution_count": 7,
   "id": "c87571de",
   "metadata": {},
   "outputs": [
    {
     "name": "stdout",
     "output_type": "stream",
     "text": [
      "f'(0.15) ~ -0.14943810756723463\n",
      "f'(0.15) = -0.14943813247359922\n",
      "Error    = 2.490636458185591e-08\n"
     ]
    }
   ],
   "source": [
    "# Point of interest\n",
    "x = 0.15\n",
    "\n",
    "# Estimate derivative and display results\n",
    "estimate = central_diff(np.cos, x)\n",
    "print(f\"f'({x}) ~ {estimate}\")\n",
    "\n",
    "# Analytical solution for derivative\n",
    "exact = -np.sin(x)\n",
    "print(f\"f'({x}) = {exact}\")\n",
    "\n",
    "# Calculate Error\n",
    "print(f\"Error    = {np.abs(exact - estimate)}\")"
   ]
  },
  {
   "cell_type": "markdown",
   "id": "426f5115",
   "metadata": {},
   "source": [
    "# 3. Error in Numerical Differentiation\n",
    "\n",
    "Numerical differentiation methods, being approximations, are susceptible to error. Understanding the accuracy of these methods and the magnitude of the error is crucial for their interpretation and improvement.\n",
    "\n",
    "Calculating the error exactly, similar to the examples above, is generally not possible, as the actual derivative is the unknown we are trying to estimate. Instead, we focus on estimating the order or magnitude of the error. One common way of describing the order of the error is using Big-O notation, which we have previously used to describe the time complexity of different algorithms. In general, Big-O notation is used to describe the asymptotic behavior of functions, indicating how fast a function grows or declines. In this case, we will use it to describe the order at which the error in numerical differentiation grows or declines as a function of the spacing $h$.\n",
    "\n",
    "\n",
    "## 3.1. Forward Difference\n",
    "\n",
    "The forward difference method is said to have an error that is the same order as the spacing $h$:\n",
    "\n",
    "$$\n",
    "f'(x_i) \\approx \\frac{f(x_{i}+h) - f(x_i)}{h} + O(h)\n",
    "$$\n",
    "\n",
    "## 3.2. Backward Difference\n",
    "\n",
    "Similarly, the backward difference method has an error that is the same order as the spacing $h$:\n",
    "\n",
    "$$\n",
    "f'(x_i) \\approx \\frac{f(x_i) - f(x_{i}-h)}{h} + O(h)\n",
    "$$\n",
    "\n",
    "\n",
    "## 3.3. Central Difference\n",
    "\n",
    "Unlike the forward and backward difference methods, the central difference method has an error that is the same order as $h^2$:\n",
    "\n",
    "$$\n",
    "f'(x_i) \\approx \\frac{f(x_{i}+h) - f(x_{i}-h)}{2h} + O(h^2)\n",
    "$$\n",
    "\n",
    "This implies that the central difference method has better accuracy than the forward and backward difference methods for smaller $h$. For example, if the spacing between the points is $h=0.01$, then $O(h^2)=10^{-4}$, which has a lower magnitude than $O(h)=0.01$.\n",
    "\n",
    "## 3.4. Error and Spacing Trade-off \n",
    "\n",
    "Theoretically, reducing the spacing, $h$, between the points used in numerical differentiation improves accuracy. However, with very small $h$, round-off error becomes a significant concern, potentially compromising the accuracy of the numerical differentiation. Therefore, striking a balance between the acceptable error and the spacing $h$ is crucial.\n",
    "\n",
    "<div class=\"alert alert-block alert-info\"> <b>TRY IT!</b> Calculate the error for the forward and central difference methods relative to the analytical solution for $f(x)=\\cos(x)$ at <code>x=0.15</code>. Calculate the error for different values of <code>h</code>.</div>"
   ]
  },
  {
   "cell_type": "code",
   "execution_count": 14,
   "id": "23709dab",
   "metadata": {},
   "outputs": [
    {
     "name": "stdout",
     "output_type": "stream",
     "text": [
      "Forward difference error: O(h)   = 0.14943813247359922\n",
      "Central difference error: O(h^2) = 0.14943813247359922\n"
     ]
    },
    {
     "data": {
      "text/plain": [
       "0.0"
      ]
     },
     "execution_count": 14,
     "metadata": {},
     "output_type": "execute_result"
    }
   ],
   "source": [
    "# Define inputs\n",
    "x = 0.15\n",
    "h = 1e-20\n",
    "\n",
    "# Calculate error and display results\n",
    "dfx = forward_diff(np.cos, x, h)\n",
    "print(f\"Forward difference error: O(h)   = {np.abs(-np.sin(x) - dfx)}\")\n",
    "\n",
    "# Calculate error and display results\n",
    "dfx = central_diff(np.cos, x, h)\n",
    "print(f\"Central difference error: O(h^2) = {np.abs(-np.sin(x) - dfx)}\")\n",
    "\n",
    "forward_diff(np.cos, x, h)"
   ]
  }
 ],
 "metadata": {
  "kernelspec": {
   "display_name": "Python 3 (ipykernel)",
   "language": "python",
   "name": "python3"
  },
  "language_info": {
   "codemirror_mode": {
    "name": "ipython",
    "version": 3
   },
   "file_extension": ".py",
   "mimetype": "text/x-python",
   "name": "python",
   "nbconvert_exporter": "python",
   "pygments_lexer": "ipython3",
   "version": "3.9.15"
  }
 },
 "nbformat": 4,
 "nbformat_minor": 5
}
