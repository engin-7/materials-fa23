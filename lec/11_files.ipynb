{
 "cells": [
  {
   "cell_type": "markdown",
   "id": "f44f4c77",
   "metadata": {},
   "source": [
    "# 0. Motivation\n",
    "\n",
    "While a program is running, its data is stored in random access memory (RAM). RAM is extremely fast, but it is also volatile, which means that when the program ends or the computer shuts down, data in RAM disappear. To preserve data for future use, share it with collaborators, or interact with external resources, you have to store it as a **file**. A file is a structured block of data stored within the file system of the computer's operating system. For instance, this lecture notebook itself is a file. In this section, you will learn how to use Python to read and write data in several common file formats.\n",
    "\n",
    "By the end of this section, you should be able to:\n",
    "\n",
    "* Read and write TXT files\n",
    "* Read and write CSV files"
   ]
  },
  {
   "cell_type": "markdown",
   "id": "6d7e521e",
   "metadata": {},
   "source": [
    "# 1. TXT Files\n",
    "\n",
    "A **text** file, often with an extension **.txt**, is a file containing plain text. Plain text represents characters without any special formatting like bold text, fonts, or font sizes. Despite their simplicity, text files serve as the foundation for storing and sharing information in a wide range of applications. Even if these files contain plain text, when you work with them in Python, your programs usually expect the file to follow a specific structure or format; that is, the data are organized in a specific way. \n",
    "\n",
    "In general, working with text files in Python involves three fundamental steps:\n",
    "\n",
    "1. Open the file\n",
    "2. Perform any operations (read, write, or modify)\n",
    "3. Close the file\n",
    "\n",
    "## 1.1. Opening TXT Files\n",
    "\n",
    "To use a file, you have to open it first. When opening the file, you have to decide whether you want to read data from the file or write data to it. This can be achieved with the `open()` function, which is most commonly used with two arguments as shown in the following syntax:\n",
    "\n",
    "```python\n",
    "f = open(filename, mode)\n",
    "```\n",
    "\n",
    "where:\n",
    "* `filename`: a string including the file name or the path and name of the file: `'example.txt'`\n",
    "* `mode`: a string, which includes characters that define the way in which the file will be used. See the table below for examples.\n",
    "\n",
    "<div class=\"alert alert-block alert-warning\"> <b>NOTE!</b> Both <code>filename</code> and <code>mode</code> are strings, so both should be between quotes.</div>\n",
    "\n",
    "| `mode` | Use and description                                                                                          |\n",
    "| :----- | :----------------------------------------------------------------------------------------------------------- |\n",
    "| `'r'`  | **Read** (default mode) – Opens the file for reading. Raises a `FileNotFoundError` exception if file does not exist.  |\n",
    "| `'w'`  | **Write** – Opens the file for writing. Creates the file if it does not exist. Overwrites (erases) the file if it already exists. |\n",
    "| `'a'`  | **Append** – Opens the file for appending. Creates the file if it does not exist. Appends to the end of the file if it already exists. |\n",
    "| `'x'`  | **Create** – Creates the file. Raises an error if it already exists. |\n",
    "\n",
    "The `mode` argument is optional; the default `r` will be assumed if it's omitted. There are other modes besides `r`, `w`, `a`, and `x` that we will discuss.\n",
    "\n",
    "<div class=\"alert alert-block alert-info\"> <b>TRY IT!</b> Try to read a file using <code>f = open('resources/example.txt')</code>. This will raise an error because 'example.txt' does not exist in your directory.</div>"
   ]
  },
  {
   "cell_type": "code",
   "execution_count": null,
   "id": "bf84491b",
   "metadata": {},
   "outputs": [],
   "source": []
  },
  {
   "cell_type": "markdown",
   "id": "2981b9d6",
   "metadata": {},
   "source": [
    "<div class=\"alert alert-block alert-info\"> <b>TRY IT!</b> Try to write a file using <code>f = open('resources/example.txt', 'w')</code>. This will not raise an error because this mode creates the file if it does not exist.</div>"
   ]
  },
  {
   "cell_type": "code",
   "execution_count": null,
   "id": "d5d36340",
   "metadata": {},
   "outputs": [],
   "source": []
  },
  {
   "cell_type": "markdown",
   "id": "024b78e3",
   "metadata": {},
   "source": [
    "<div class=\"alert alert-block alert-warning\"> <b>NOTE!</b> If you look at your directory, you will see that a file named 'example.txt' has been created. If you click on it, you will see that it is empty – we just opened it for writing but we haven't written anything to it yet. We will later see how to write to a file. </div>\n",
    "\n",
    "When you're done with writing or reading a file, you have to close it using the `.close()` method.\n",
    "\n",
    "<div class=\"alert alert-block alert-info\"> <b>TRY IT!</b> Close the file we opened above using <code>f.close()</code>.</div>"
   ]
  },
  {
   "cell_type": "code",
   "execution_count": null,
   "id": "07535d75",
   "metadata": {},
   "outputs": [],
   "source": []
  },
  {
   "cell_type": "markdown",
   "id": "973f7c8b",
   "metadata": {},
   "source": [
    "After a file object is closed, attempts to use the file object will automatically fail.\n",
    "\n",
    "<div class=\"alert alert-block alert-success\"> <b>TIP!</b> It is good practice to close the file in the end. If you do not close the file yourself, Python will eventually close it for you. However, when writing to a file, the data may not be saved until you close the file. Therefore, if you keep the file open, you risk losing your data.</div>\n",
    "\n",
    "<div class=\"alert alert-block alert-warning\"> <b>NOTE!</b> If we used <code>myfile = open('resources/example.txt', 'w')</code> to open the file, we would use <code>myfile.close()</code> to close it. The <code>open()</code> function returns a file object that we assigned to the variable on the left. This object can be used to work with files and directories.</div>\n",
    "\n",
    "## 1.2. Reading TXT Files\n",
    "\n",
    "After we open a file in reading mode, we could store all the contents to a variable, store individual lines, and/or print the contents. \n",
    "\n",
    "We can store all contents of a file using the `.read()` method after the file object. This returns the **entire** contents of the file as a **single string**:\n",
    "\n",
    "```python\n",
    "variable_name = f.read()\n",
    "```\n",
    "\n",
    "Let's read in `zen_of_python.txt` and store all the contents in the file to a variable. The file is located in a folder called `resources`.\n",
    "\n",
    "<div class=\"alert alert-block alert-info\"> <b>TRY IT!</b> Open the existing file <code>'resources/zen_of_python.txt'</code> in reading mode and then store all the contents in the file to variable <code>zen</code>. Print <code>zen</code> as well as the last character of it. Note that the file was imported to your directory when you loaded this notebook.</div>"
   ]
  },
  {
   "cell_type": "code",
   "execution_count": null,
   "id": "47aaf50c",
   "metadata": {},
   "outputs": [],
   "source": [
    "# open the file\n",
    "f = open('resources/zen_of_python.txt')  # equivalent to mode = 'r'\n",
    "\n",
    "# read it using .read() method\n",
    "\n",
    "\n",
    "# print the file data\n",
    "print(zen)\n",
    "\n",
    "# print the last character\n",
    "print(f'Last character: {zen[-1]}')\n",
    "\n",
    "# close the file\n",
    "f.close()"
   ]
  },
  {
   "cell_type": "markdown",
   "id": "d0783021",
   "metadata": {},
   "source": [
    "As mentioned earlier, the `.read()` method returns the entire contents of the file as a single string. This may not be ideal for big files. To read instead the entire contents but save each line as a separate string in a list, we could use `.readlines()` method.\n",
    "\n",
    "<div class=\"alert alert-block alert-info\"> <b>TRY IT!</b> Open the existing file <code>'resources/zen_of_python.txt'</code> in reading mode. Save each line in a list named <code>zen</code>. Print <code>zen</code> as well as the last element of it. Check the type of <code>zen</code>.</div>"
   ]
  },
  {
   "cell_type": "code",
   "execution_count": null,
   "id": "40b99291",
   "metadata": {},
   "outputs": [],
   "source": [
    "# open the file\n",
    "f = open('resources/zen_of_python.txt')  # equivalent to mode = 'r'\n",
    "\n",
    "# read it using .readlines() method\n",
    "\n",
    "\n",
    "# print the file data\n",
    "print(zen)\n",
    "\n",
    "# print the last character\n",
    "print(f'Last character: {zen[-1]}')\n",
    "\n",
    "# check its type\n",
    "print(type(zen))\n",
    "\n",
    "# close the file\n",
    "f.close()"
   ]
  },
  {
   "cell_type": "markdown",
   "id": "57711de9",
   "metadata": {},
   "source": [
    "<div class=\"alert alert-block alert-success\"> <b>TIP!</b> The <code>\\n</code> character stands for new line. If you see it in a string, that means that the current line ends at that point and a new line starts right after it.</div>\n",
    "\n",
    "<div class=\"alert alert-block alert-warning\"> <b>NOTE!</b> There is another similar method, <code>.readline()</code> (without s), which returns one line of the file at a time. Each time you call <code>.readline()</code>, it returns the <strong>next line</strong>. So the first time you call it, it returns the first line. The second time, it returns the second line, and so on. Calls made to <code>.readline()</code> after reaching the end of the file will return an empty string (' ').</div>\n",
    "\n",
    "Another approach to reading a file line by line is using a `for` loop. The object returned by `open()` is iterable, meaning, we can iterate over its contents:\n",
    "\n",
    "```python\n",
    "f = open(filename, mode)\n",
    "\n",
    "for line in f:\n",
    "    print(line)\n",
    "```\n",
    "\n",
    "<div class=\"alert alert-block alert-info\"> <b>TRY IT!</b> Open the existing file <code>'resources/zen_of_python.txt'</code> in reading mode and then iterate over its contents and print each line.</div>"
   ]
  },
  {
   "cell_type": "code",
   "execution_count": null,
   "id": "e8587861",
   "metadata": {},
   "outputs": [],
   "source": [
    "# open the file\n",
    "f = open('resources/zen_of_python.txt')  # equivalent to 'r'\n",
    "\n",
    "# iterate over its contents and print each line\n",
    "\n",
    "    \n",
    "# close the file\n",
    "f.close()"
   ]
  },
  {
   "cell_type": "markdown",
   "id": "190e5d7d",
   "metadata": {},
   "source": [
    "## 1.3. Writing TXT Files\n",
    "\n",
    "If you plan to write data to a file, you have to choose between starting a new version of the file or writing data at the end of what was already there. If you choose `mode = 'w'`, this overwrites (erases) any previously existing data in the file. If you choose `mode = 'a'`, this appends (adds) to the end of any previously existing data in the file. We will first discuss `mode = 'w'` and then discuss `mode = 'a'`. \n",
    "\n",
    "There are two things we need to remember when using `mode = 'w'`:\n",
    "1. If we try to open a file that doesn't exist, a new file is created.\n",
    "2. If a file already exists, its contents are erased, and new content is added to the file.\n",
    "\n",
    "After we open a file in writing mode, we could write a string to the file using the `.write()` method after the file object:\n",
    "\n",
    "```python\n",
    "f.write('some text')\n",
    "```\n",
    "\n",
    "<div class=\"alert alert-block alert-warning\"> <b>NOTE!</b> The <code>write()</code> argument must be of type <code>str</code>. So if you have numeric values, use string formatting to store them in a text file.</div>\n",
    "\n",
    "<div class=\"alert alert-block alert-info\"> <b>TRY IT!</b> Open the file <code>'resources/example.txt'</code> in writing mode and write five lines, where each line should have: 'This is line #', and replace # with the line number, starting from 0.</div>"
   ]
  },
  {
   "cell_type": "code",
   "execution_count": null,
   "id": "1c6bfb7f",
   "metadata": {},
   "outputs": [],
   "source": [
    "# open the file\n",
    "f = open('resources/example.txt', 'w')\n",
    "\n",
    "# write the data\n",
    "\n",
    "\n",
    "# close the file\n",
    "f.close()"
   ]
  },
  {
   "cell_type": "markdown",
   "id": "bc98c446",
   "metadata": {},
   "source": [
    "If you check the file `resources/example.txt`, you will see that the data are all on the same line. Python will **not** automatically write each string to a new line. To write each string to a new line, use `\\n` at the end of each string.\n",
    "\n",
    "<div class=\"alert alert-block alert-info\"> <b>TRY IT!</b> Open the file <code>'resources/example.txt'</code> in writing mode and write five lines, where each line should have: 'This is line #', and replace # with the line number, starting from 0. Each statement should appear on a single line.</div>"
   ]
  },
  {
   "cell_type": "code",
   "execution_count": null,
   "id": "6b8847df",
   "metadata": {},
   "outputs": [],
   "source": [
    "# open the file\n",
    "f = open('resources/example.txt', 'w')\n",
    "\n",
    "# write the data, each on a new line\n",
    "\n",
    "\n",
    "# close the file\n",
    "f.close()"
   ]
  },
  {
   "cell_type": "markdown",
   "id": "30658482",
   "metadata": {},
   "source": [
    "As mentioned earlier, if you open an existing file in writing mode, its contents will be erased, and any new content will replace what was there previously.\n",
    "\n",
    "<div class=\"alert alert-block alert-info\"> <b>TRY IT!</b> Open the existing file <code>'resources/example.txt'</code> in writing mode and write: 'This is another line'.</div>"
   ]
  },
  {
   "cell_type": "code",
   "execution_count": null,
   "id": "a1dd2c7a",
   "metadata": {},
   "outputs": [],
   "source": [
    "# open the file\n",
    "f = open('resources/example.txt', 'w')\n",
    "\n",
    "# write additional data\n",
    "\n",
    "\n",
    "# close the file\n",
    "f.close()"
   ]
  },
  {
   "cell_type": "markdown",
   "id": "d90d1b37",
   "metadata": {},
   "source": [
    "If you check the file `resources/example.txt`, you will see that all the previous data were erased and were overwritten by the new string. To avoid overwriting data, we can append to the file.\n",
    "\n",
    "## 1.4. Appending TXT Files\n",
    "\n",
    "If you choose `mode = 'a'`, this appends (adds) to the end of any previously existing data in the file. If the file does not already exist, then a new file is created, similar to `mode = 'w'`. We use the same method, `.write('some text')` when appending as well.\n",
    "\n",
    "<div class=\"alert alert-block alert-info\"> <b>TRY IT!</b> Open the file <code>'resources/example.txt'</code> in writing mode and write five lines, where each line should have: 'This is line #', and replace # with the line number, starting from 0. Each statement should appear on a single line. Close the file and check it. Then, open the file again in appending mode and append: 'This is another line'.</div>"
   ]
  },
  {
   "cell_type": "code",
   "execution_count": null,
   "id": "65734c6d",
   "metadata": {},
   "outputs": [],
   "source": [
    "# open the file\n",
    "f = open('resources/example.txt', 'w')\n",
    "\n",
    "# write the data, each on a new line\n",
    "for i in range(5):\n",
    "    f.write(f\"This is line {i}\\n\")\n",
    "    \n",
    "# close the file\n",
    "f.close()"
   ]
  },
  {
   "cell_type": "code",
   "execution_count": null,
   "id": "4b663183",
   "metadata": {},
   "outputs": [],
   "source": [
    "# open the file\n",
    "f = open('resources/example.txt', 'a')\n",
    "\n",
    "# write additional data\n",
    "f.write('This is another line')\n",
    "\n",
    "# close the file\n",
    "f.close()"
   ]
  },
  {
   "cell_type": "markdown",
   "id": "1249b4ab",
   "metadata": {},
   "source": [
    "If you check the file `resources/example.txt`, you will see that now the previous data were not erased. Instead, the new string was appended to the end of the file.\n",
    "\n",
    "## 1.5. Use of `with ... open()` Syntax\n",
    "\n",
    "Isn't it annoying  to have to close a file each time after you're done with reading/writing it? If you forget to close the file, this may introduce several bugs in the code. Specifically, many changes in files do not go into effect until the file is properly closed. There is a way to ensure the file is properly closed once the operations are completed, without having to manually type `f.close()`. This can be achieved using a `with` statement, which has the following syntax:\n",
    "\n",
    "```python\n",
    "with open(filename, mode) as f:\n",
    "    variable_name = f.read() # if opening in 'r' mode\n",
    "    f.write('some text') # if opening in 'w' or 'a' mode\n",
    "    for line in f: # iterating over each element in f\n",
    "        print(line)\n",
    "    ...\n",
    "```\n",
    "\n",
    "There is no need to call `f.close()` when using the `with`statement. The `with` statement ensures proper closing. Also, notice the indentation. \n",
    "\n",
    "<div class=\"alert alert-block alert-success\"> <b>TIP!</b> It is good practice to use the <code>with</code> keyword when dealing with file objects (preferred method). It makes the code cleaner and much more readable.</div>\n",
    "\n",
    "<div class=\"alert alert-block alert-info\"> <b>TRY IT!</b> Using <code>with</code>, open the existing file <code>'resources/example.txt'</code> in reading mode and then iterate over its contents and print each line.</div>"
   ]
  },
  {
   "cell_type": "code",
   "execution_count": null,
   "id": "3853bbc8",
   "metadata": {},
   "outputs": [],
   "source": []
  },
  {
   "cell_type": "markdown",
   "id": "6619eb36",
   "metadata": {},
   "source": [
    "## 1.6. Other Modes\n",
    "\n",
    "We saw above how we can open text files in reading, writing, and appending mode. In some cases, we want to do multiple things – read and then write to the same file. However, this won't work with the modes we discussed before unless we open the file in one mode, close it, open it in another mode, and then close it again.\n",
    "\n",
    "<div class=\"alert alert-block alert-info\"> <b>TRY IT!</b> Using <code>with</code>, open the file <code>'resources/example.txt'</code> in appending mode and try to read all its contents as a single string using <code>.read()</code>.</div>\n",
    "\n",
    "This will raise an error. Because you opened the file in `a` (appending) mode, you can only append to the file – you can't read its contents. "
   ]
  },
  {
   "cell_type": "code",
   "execution_count": null,
   "id": "c3cb9cc4",
   "metadata": {},
   "outputs": [],
   "source": [
    "# open a file in appending mode then try to read it using read() method\n",
    "with open('resources/example.txt', 'a') as f:\n",
    "    zen = f.read()"
   ]
  },
  {
   "cell_type": "markdown",
   "id": "d3734f14",
   "metadata": {},
   "source": [
    "<div class=\"alert alert-block alert-success\"> <b>TIP!</b> If we used <code>f = open('example.txt', 'a')</code> and an exception was raised, the file will not close. However, using the <code>with</code> statement guarantees that the file is closed even if an exception is raised! <strong>Use <code>with</code>!</strong></div>\n",
    "\n",
    "To do multiple tasks, there are other modes that could be used, as shown in the table below.\n",
    "\n",
    "| `mode` | Use and description                                                                                          |\n",
    "| :----- | :----------------------------------------------------------------------------------------------------------- |\n",
    "| `'r+'` | Opens the file for reading and writing. Raises an exception if file does not exist. If you read first then write, it appends to the end of the file. Otherwise, it overwrites the file.|\n",
    "| `'a+'` | Opens the file for reading and appending. Creates the file if it does not exist. Appends to the end of the file when writing. |\n",
    "| `'w+'` | Opens the file for reading and writing. Creates the file if it does not exist. Overwrites (erases) the file if it already exists. |\n",
    "\n",
    "See the diagram below for differences between these modes.\n",
    "\n",
    "<br>\n",
    "\n",
    "<figure>\n",
    "  <img src=\"https://d20p74l5mne5au.cloudfront.net/ExWNT-white-bg.png\" style=\"width:75%\">\n",
    "  <figcaption style=\"text-align:center\"><strong>Mode options for opening files: </strong> <a href=\"https://stackoverflow.com/questions/1466000/\">https://stackoverflow.com/</a></figcaption>  \n",
    "</figure>\n",
    "\n",
    "<br>\n",
    "\n",
    "In the diagram above, truncate is equivalent to overwrite or erase.\n",
    "\n",
    "## 1.7. Using NumPy Package\n",
    "\n",
    "When using the above methods to read and/or write a text file, we had to work with strings. If you are working with data that is all numerical, you have to convert it to strings to write it to a file, or, if reading it, you have to convert the data from strings to numeric. This is not so convenient. Instead, we can use the NumPy package to directly read/write numerical data from an array.\n",
    "\n",
    "To save an array to a text file, we can use:\n",
    "\n",
    "```python\n",
    "numpy.savetxt(filename, array, fmt='%.3f', header='', ...)\n",
    "```\n",
    "\n",
    "where:\n",
    "* `filename`: a string including the file name or the path and name of the file between quotes: `'example.txt'`.\n",
    "* `array`: an array which includes the data you want to write/save. Most frequently, the input will be an `ndarray`. However, technically, `np.savetxt()` will accept any \"array like\" object, such as Python list.\n",
    "* `fmt`: a string specifying the format for the saved data. There are several options for this, including: `'%.3f'`, which indicates we want the output numbers with 3 decimals, and `'%i'`, which indicates we want the output numbers as integers. The outputs will be rounded to the nearest number. This is an optional argument. Formats can get rather complicated. For more information about format specification, read [this](https://docs.python.org/3/library/string.html#format-specification-mini-language).\n",
    "* `header`: a string that will be written at the beginning of the file that allows you to add some text to label the columns.\n",
    "* `...`: additional optional arguments. See [here](https://numpy.org/doc/stable/reference/generated/numpy.savetxt.html) for more details.\n",
    "\n",
    "Note that `numpy.savetxt()` creates the file if it does not exist and it overwrites (erases) the file if it already exists. \n",
    "\n",
    "Let's use $y = \\begin{pmatrix} 1.2 & 2.2 & 3 \\\\ 4.14 & 5.65 & 7.42 \\\\ \\end{pmatrix}$ as an example.\n",
    "\n",
    "<div class=\"alert alert-block alert-info\"> <b>TRY IT!</b> Create a 2-D list for <code>y</code> then save it as a file <code>'resources/array_y.txt'</code> with 2 decimal points. Add a header that says 'Col1 Col2 Col3'.</div> "
   ]
  },
  {
   "cell_type": "code",
   "execution_count": null,
   "id": "5404ac45",
   "metadata": {},
   "outputs": [],
   "source": [
    "import numpy as np\n",
    "\n",
    "# create list of lists y\n",
    "y = [[1.2, 2.2, 3], [4.14, 5.65, 7.42]]\n",
    "\n",
    "# save y\n"
   ]
  },
  {
   "cell_type": "markdown",
   "id": "51fc2841",
   "metadata": {},
   "source": [
    "Notice that we were able to save the data without changing it to `str`.\n",
    "\n",
    "To read a text file as an array, we can use:\n",
    "\n",
    "```python\n",
    "numpy.loadtxt(filename, ...)\n",
    "```\n",
    "\n",
    "where:\n",
    "* `filename`: a string including the file name or the path and name of the file between quotes: `'example.txt'`.\n",
    "* `...`: additional optional parameters. For example, you can skip a number or rows or read specific columns, among others. See [here](https://numpy.org/doc/stable/reference/generated/numpy.loadtxt.html) for more details.\n",
    "\n",
    "If the file does not exit, this will raise an error. Moreover, the data in the text file should be numeric, othrwise an error will be raised.\n",
    "\n",
    "<div class=\"alert alert-block alert-info\"> <b>TRY IT!</b> Read the file <code>'resources/array_y.txt'</code> then assign its contents to variable <code>z</code> and print it.</div> "
   ]
  },
  {
   "cell_type": "code",
   "execution_count": null,
   "id": "bf236d00",
   "metadata": {},
   "outputs": [],
   "source": []
  },
  {
   "cell_type": "markdown",
   "id": "84e1483b",
   "metadata": {},
   "source": [
    "When using `numpy.loadtxt()`, the contents of the text file will be converted to numeric data. Also notice that it skips the first header as well. This is because the header has a `#` sign, which the function recognizes as a header and skips when loading.\n",
    "\n",
    "# 2. CSV Files\n",
    "\n",
    "One of the most simple and common files to store scientific data are **Comma-Separated Values** (CSV) files, which have a **.csv** file extension. A csv file is very useful to store large tabular data, which can include both numbers and text. If you open the text file `resources/array_y.txt`, you can see that by default, values on the same row are separated by a white space. In csv files, the elements are separated by a comma `,`, and hence the name comma-separated values. The character that separates values in a file is known as a **delimiter**.\n",
    "\n",
    "Let's look at the file `resources/FAOSTAT.csv`. If you click on the file in your directory, you will first see the header (first row), followed by the data. As mentioned earlier, all values are separated by commas. You can also open this file (and any csv file) using Microsoft Excel to visualize the rows and columns.\n",
    "\n",
    "> The FAOSTAT Temperature change on land domain disseminates statistics of mean surface temperature change by country, with annual updates. This dissemination covers the period 1961–2022. Statistics are available for monthly temperature anomalies (among others), i.e., temperature change with respect to a baseline climatology, corresponding to the period 1951–1980. Data are based on the publicly available Global Surface Temperature Change data distributed by the National Aeronautics and Space Administration Goddard Institute for Space Studies (NASA-GISS). Source: Food and Agriculture Organization of the United Nations [(FAO)](https://www.fao.org/faostat/en/#data/ET).\n",
    "\n",
    "## 2.1. Using `csv` Module\n",
    "\n",
    "Python has its own `csv` module that could handle the reading and writing csv files – you can see its details in [this documentation](https://docs.python.org/3/library/csv.html). Before we can use the methods to the `csv` module, we need to import it first using:\n",
    "\n",
    "```python\n",
    "import csv\n",
    "```\n",
    " \n",
    "In general, to work with the `csv` module, you have to open the file using `open()` and specify `mode` (read, write, append), then perform any operations, and finally close the file, similar to text files. \n",
    "\n",
    "Alternatively, you could use a `with` statement, which automatically closes the file.\n",
    "\n",
    "To read a csv file, we can use the following syntax:\n",
    "\n",
    "```python\n",
    "with open(filename, mode) as f:\n",
    "    variable_name = csv.reader(f) # if opening in 'r' mode\n",
    "    for line in f: # iterating over each element in f\n",
    "        print(line)\n",
    "```\n",
    "        \n",
    "<div class=\"alert alert-block alert-danger\"> <b>TRY IT!</b> Read the file <code>'resources/FAOSTAT.csv'</code> then print its first 10 rows.</div>  "
   ]
  },
  {
   "cell_type": "code",
   "execution_count": null,
   "id": "50109902",
   "metadata": {},
   "outputs": [],
   "source": [
    "import csv\n",
    "\n",
    "with open('resources/FAOSTAT.csv') as f:\n",
    "    data = csv.reader(f) \n",
    "    for index, line in zip(range(10), data):\n",
    "        print(line)"
   ]
  },
  {
   "cell_type": "markdown",
   "id": "39e29819",
   "metadata": {},
   "source": [
    "When using `csv.reader()`, all elements are interpreted as `str`. Thus, to use for example the last column for temperature change, you will have to convert the data type. The `csv` module has other functions for writing csv files, such as `csv.writer()`. However, we are not going to discuss this module further. Instead, we will use other packages, such as NumPy and Pandas, which are more convenient for working with csv files. \n",
    "\n",
    "## 2.2. Using NumPy Package\n",
    "\n",
    "When working with csv files that only contain numeric data (no text), we could use the same functions that we used for reading and writing text files, but while specifying an optional argument `delimiter = ','` to indicate that this is a csv file, as shown in the syntax below:\n",
    "\n",
    "```python\n",
    "array = np.loadtxt(filename, delimiter=',', ...) # read a csv file and save it as an array\n",
    "np.savetxt(filename, array, fmt='%.3f', header='', delimiter=',', ...) # save a variable array as a csv file\n",
    "```\n",
    "\n",
    "<div class=\"alert alert-block alert-warning\"> <b>NOTE!</b> The extension for <code>filename</code> should be <code>.csv</code>.</div>\n",
    "\n",
    "If we attempt to use `np.loadtxt('resources/FAOSTAT.csv', delimiter=',')`, this will raise a `ValueError` error because the file includes text (area names), which cannot be converted to float. If the the csv file only contains numeric data, this will work fine. Otherwise, if it contains text as well, there are some additional arguments that we could use to skip the rows and/or columns that include text and only read the numeric data. Specifically:\n",
    "\n",
    "```python\n",
    "array = np.loadtxt(filename, delimiter=',', skiprows=0, usecols=None, ...)\n",
    "```\n",
    "\n",
    "where:\n",
    "* `skiprows`: Skip a certain number of rows. For example, `skiprows = 2` will skip the first two rows. The default, 0, results in no rows being skipped.\n",
    "* `usecols`: Which column(s) to read, with 0 being the first. For example, `usecols = (1,4)` will extract the 2nd and 5th columns. The default, None, results in all columns being read.\n",
    "\n",
    "The above function takes several optional arguments, which you can read about in the [function's documentation](https://numpy.org/doc/stable/reference/generated/numpy.loadtxt.html).\n",
    "\n",
    "<div class=\"alert alert-block alert-info\"> <b>TRY IT!</b> Read the last two columns of the file <code>'resources/FAOSTAT.csv'</code> using <code>np.loadtxt()</code>. You will have to skip the first row, which includes the header. Save the data as an array <code>data</code> then print its values.</div>  "
   ]
  },
  {
   "cell_type": "code",
   "execution_count": null,
   "id": "11a7de3b",
   "metadata": {},
   "outputs": [],
   "source": [
    "import numpy as np\n",
    "\n"
   ]
  },
  {
   "cell_type": "markdown",
   "id": "27d0a2d0",
   "metadata": {},
   "source": [
    "<div class=\"alert alert-block alert-warning\"> <b>NOTE!</b> Be careful when using <code>np.loadtxt()</code>. If, for example, an area has the following name: <code>China, Hong Kong SAR</code>, then the <code>,</code> will be interpreted as a column separator and will create problems.</div>\n",
    "\n",
    "Similarly, we can save a NumPy array as a csv file using `np.savetxt(filename, array, fmt='%.3f', header='', delimiter=',', ...)`. \n",
    "\n",
    "Let's use $y = \\begin{pmatrix} 1.2 & 2.2 & 3 \\\\ 4.14 & 5.65 & 7.42 \\\\ \\end{pmatrix}$ as an example.\n",
    "\n",
    "<div class=\"alert alert-block alert-info\"> <b>TRY IT!</b> Create a new array for <code>y</code> then save it as a file <code>'resources/array_y.csv'</code> with 2 decimal points. Add a header that says 'Col1 Col2 Col3'.</div> "
   ]
  },
  {
   "cell_type": "code",
   "execution_count": null,
   "id": "f398d54b",
   "metadata": {},
   "outputs": [],
   "source": [
    "y = [[1.2, 2.2, 3], [4.14, 5.65, 7.42]]\n"
   ]
  },
  {
   "cell_type": "markdown",
   "id": "50ad612c",
   "metadata": {},
   "source": [
    "## 2.3. Using Pandas Package\n",
    "\n",
    "While NumPy is convenient to deal with csv files that only contain numeric data, there are other packages that could handle csv files. A very popular one is the Pandas package. Pandas is a popular data science library in Python for data manipulation and analysis. In order to use Pandas, we need to import it first. A conventional way to import it is to use `pd` as a shortened name: `import pandas as pd`.\n",
    "\n",
    "One advantage of using Pandas is that the data can be of any type: `str`, `float`, `int`, etc. To read a csv file using Pandas, we can use the `pd.read_csv()` function:\n",
    "\n",
    "```python\n",
    "df = pd.read_csv(filename)\n",
    "```\n",
    "\n",
    "The above reads a csv file with name `filename` (this should be of type `str` and should include the extension, e.g., `'example.csv'`) and assigns it to Pandas DataFrame `df`.\n",
    "\n",
    "<div class=\"alert alert-block alert-danger\"> <b>TRY IT!</b> Read the file <code>'resources/FAOSTAT.csv'</code> using <code>pd.read_csv()</code> and save it as <code>df</code>. Show the first few rows of <code>df</code> using <code>df.head()</code>.</div>  "
   ]
  },
  {
   "cell_type": "code",
   "execution_count": null,
   "id": "e96a5964",
   "metadata": {},
   "outputs": [],
   "source": [
    "import pandas as pd\n",
    "\n",
    "df = pd.read_csv('resources/FAOSTAT.csv')\n",
    "\n",
    "df.head()"
   ]
  },
  {
   "cell_type": "markdown",
   "id": "8dc7f297",
   "metadata": {},
   "source": [
    "To write a csv file using Pandas, we can use the `df.to_csv()` function:\n",
    "\n",
    "```python\n",
    "df.to_csv(filename)\n",
    "```\n",
    "\n",
    "where:\n",
    "* `df`: variable name that includes the Pandas DataFrame \n",
    "* `filename`: a string including the file name or the path and name of the file to be saved between quotes: `'example.csv'`\n",
    "\n",
    "The above function takes several optional arguments, which you can read about in the [function's documentation](https://pandas.pydata.org/pandas-docs/stable/reference/api/pandas.DataFrame.to_csv.html).\n",
    "\n",
    "<div class=\"alert alert-block alert-danger\"> <b>TRY IT!</b> Create a list that includes in each row the name of a person and their favorite number. Then, convert it to a dataframe using <code>pd.DataFrame()</code>. Finally, save it as a csv file called <code>'fav_num.csv'</code> using <code>.to_csv()</code>.</div> "
   ]
  },
  {
   "cell_type": "code",
   "execution_count": null,
   "id": "5bd5ecc8",
   "metadata": {},
   "outputs": [],
   "source": [
    "# initialize list of lists\n",
    "data = [['John', 5], ['Doe', 15]]\n",
    "\n",
    "# creating a data frame\n",
    "df = pd.DataFrame(data, columns = ['Name', 'Number'])\n",
    "\n",
    "# writing data frame to a CSV file\n",
    "df.to_csv('resources/fav_num.csv')"
   ]
  },
  {
   "cell_type": "markdown",
   "id": "5689bb7a",
   "metadata": {},
   "source": [
    "# 3. Pickle Files\n",
    "\n",
    "So far we have discussed how to store data using text and csv files. In some cases, we want to store data while preserving their data type (tuples, lists, dictionaries, etc.) to use them later or send them to colleagues. In thick case, we can use **pickle** files, which serialize objects so that they can be saved into a file and loaded again later. Pickle files usually have **.pickle** or **.pkl** extension, and they are specific to Python.\n",
    "\n",
    "In order to use pickle, we need to import it first: `import pickle`.\n",
    "\n",
    "In general, to work with pickle files, you have to open the file using `open()` and specify `mode`, then perform any operations, and finally close the file. Alternatively, you can use a `with` statement, which closes the file automatically.\n",
    "\n",
    "## 3.1. Writing Pickle Files\n",
    "\n",
    "To write a pickle file, we can use the `pickle.dump()` function, which has the following syntax:\n",
    "\n",
    "```python\n",
    "with open(filename, mode='wb') as f:\n",
    "    pickle.dump(data, f)\n",
    "```\n",
    "\n",
    "where:\n",
    "* `filename`: a string including the file name or the path and name of the file to be saved between quotes: `'example.pickle'`\n",
    "* `data`: object(s) that you want to save. If you have multiple objects, then `data` should be a list or tuple that includes the objects you want to save.\n",
    "\n",
    "<div class=\"alert alert-block alert-danger\"> <b>TRY IT!</b> Save the DataFrame <code>df</code> as a pickle file <code>'resources/fav_num.pickle'</code>. </div>  "
   ]
  },
  {
   "cell_type": "code",
   "execution_count": null,
   "id": "43241cfd",
   "metadata": {},
   "outputs": [],
   "source": [
    "import pickle\n",
    "\n",
    "with open('resources/fav_num.pickle', mode='wb') as f:\n",
    "    pickle.dump(df, f)"
   ]
  },
  {
   "cell_type": "markdown",
   "id": "e0a15902",
   "metadata": {},
   "source": [
    "## 3.2. Reading Pickle Files\n",
    "\n",
    "To read a pickle file, we can use the `pickle.load()` function, which has the following syntax:\n",
    "\n",
    "```python\n",
    "with open(filename, mode='rb') as f:\n",
    "    data = pickle.load(f)\n",
    "```\n",
    "\n",
    "<div class=\"alert alert-block alert-danger\"> <b>TRY IT!</b> Load the pickle file you saved above.</div>  "
   ]
  },
  {
   "cell_type": "code",
   "execution_count": null,
   "id": "344372ff",
   "metadata": {},
   "outputs": [],
   "source": [
    "with open('resources/fav_num.pickle', mode='rb') as f:\n",
    "    data = pickle.load(f)\n",
    "    print(data.head())\n",
    "    print(type(data))"
   ]
  },
  {
   "cell_type": "markdown",
   "id": "7057687e",
   "metadata": {},
   "source": [
    "Pickle files are specially designed for Python, and therefore, cannot be easily read by other programming languages. On the contrary, text and csv files could be easily shared and opened in other programming languages (R, MATLAB, Java and so on).\n",
    "\n",
    "<div class=\"alert alert-block alert-warning\"> <b>NOTE!</b> The <code>pickle</code> module is not secure against erroneous or maliciously constructed data. Never unpickle data received from an untrusted or unauthenticated source.</div>\n",
    "\n",
    "## 4. JSON Files\n",
    "\n",
    "**JSON** is another file format, which stands for **JavaScript Object Notation**. A JSON file usually ends with extension **.json**. Unlike pickle, which is Python dependent, JSON is a language-independent data format, which makes it attractive to use. Besides, it usually takes less space on the disk and the manipulation is faster than pickle. Therefore, it is a good option to store your data using JSON. If you are interested in reading more about JSON file, refer to the [textbook](https://pythonnumericalmethods.berkeley.edu/notebooks/chapter11.04-JSON-Files.html). "
   ]
  }
 ],
 "metadata": {
  "kernelspec": {
   "display_name": "Python 3 (ipykernel)",
   "language": "python",
   "name": "python3"
  },
  "language_info": {
   "codemirror_mode": {
    "name": "ipython",
    "version": 3
   },
   "file_extension": ".py",
   "mimetype": "text/x-python",
   "name": "python",
   "nbconvert_exporter": "python",
   "pygments_lexer": "ipython3",
   "version": "3.9.15"
  }
 },
 "nbformat": 4,
 "nbformat_minor": 5
}
