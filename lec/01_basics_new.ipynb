{
 "cells": [
  {
   "cell_type": "markdown",
   "id": "f346cd6c",
   "metadata": {},
   "source": [
    "# 0. Motivation\n",
    "\n",
    "In this section, we will introduce the basics of the Python Programming language. Effective computation requires understanding how data are stored and manipulated. Python has different built-in *symbols* that can be used to perform operations, such as addition, comparison, and logical, among others – these symbols are known as **operators**. For example, `+` is the addition operator. In this section, you will be learning the different operators in Python and the operations they are used for. \n",
    "\n",
    "By the end of this section, you should be able to:\n",
    "\n",
    "* Perform arithmetic operations\n",
    "* Distinguish between different basic data types\n",
    "* Use variables and the assignment operator in computations\n",
    "* Evaluate comparison and logical operations\n",
    "* Deal with errors \n",
    "\n",
    "<div class=\"alert alert-block alert-success\"> <b>TIP!</b> Programming is a practical skill that needs to be practiced to be learned. Throughout the lectures, discussions, and the course in general, you are strongly encouraged to try what you have learned by writing an actual program. You can only learn how to program by doing it yourself.</div>"
   ]
  },
  {
   "cell_type": "markdown",
   "id": "e1bab501",
   "metadata": {},
   "source": [
    "# 1. Python as a Calculator\n",
    "\n",
    "We can use Python like a calculator. Consider the sum of 1 and 2. We can evaluate and print this by:"
   ]
  },
  {
   "cell_type": "code",
   "execution_count": null,
   "id": "5a89778a",
   "metadata": {},
   "outputs": [],
   "source": []
  },
  {
   "cell_type": "markdown",
   "id": "841f33e5",
   "metadata": {},
   "source": [
    "## 1.1. Arithmetic Operations\n",
    "\n",
    "An arithmetic **operation** is either addition, subtraction, multiplication, division, or exponentiation (i.e., power). An arithmetic **operator** is a symbol that Python has reserved to perform one of the aforementioned operations.\n",
    "\n",
    "| Operation       | Mathematical Notation | Python Operator | Python Example | Output    |\n",
    "|:----------------|:---------------------:|:---------------:|:---------------|:----------|\n",
    "| Addition        | $a+b$                 | `+`             | `3 + 1`        | `5`       |\n",
    "| Subtraction     | $a-b$                 | `-`             | `3 - 2`        | `1`      |\n",
    "| Multiplication  | $a\\times b$           | `*`             | `3 * 2`        | `6`       |\n",
    "| Division        | $\\dfrac{a}{b}$        | `/`             | `3 / 2`        | `1.5`     |\n",
    "| Exponentiation  | $a^b$                 | `**`            | `3 ** 2`       | `9`       |\n",
    "\n",
    "<div class=\"alert alert-block alert-info\"> <b>TRY IT!</b> Compute $3\\times 4$ in Python.</div>"
   ]
  },
  {
   "cell_type": "code",
   "execution_count": null,
   "id": "fbda3233",
   "metadata": {},
   "outputs": [],
   "source": []
  },
  {
   "cell_type": "markdown",
   "id": "27e1b0b3",
   "metadata": {},
   "source": [
    "<div class=\"alert alert-block alert-info\"> <b>TRY IT!</b> Compute $3^4$ in Python.</div>"
   ]
  },
  {
   "cell_type": "code",
   "execution_count": null,
   "id": "df983636",
   "metadata": {},
   "outputs": [],
   "source": []
  },
  {
   "cell_type": "markdown",
   "id": "4bd04049",
   "metadata": {},
   "source": [
    "Other operations include the remainder and the quotient. When you divide two numbers, the whole number result of the division (i.e., the integer) is the quotient and the remainder is the integer \"left over\" after performing the division. \n",
    "\n",
    "\n",
    "| Operation                  | Python Operator | Python Example | Output    |\n",
    "|:---------------------------|:---------------:|:---------------|:----------|\n",
    "| Quotient or Floor Division | `//`            | `9 // 2`       | `4`       |\n",
    "| Remainder or Modulo        | `%`             | `9 % 2`        | `1`       |\n",
    "\n",
    "<br>\n",
    "\n",
    "<figure>\n",
    "  <img src=\"https://docs.google.com/drawings/d/e/2PACX-1vRawMbiOpQLTevnA5wgtXhOtTAV062uTVuQ9AhIxTMeAVahwOD8VLLfpDytq7tX6zYGPlGD84ZV1vTO/pub?w=463&h=234\" style=\"width:40%\">\n",
    "  <figcaption style=\"text-align:center\"><strong>Quotient and remainder of $9/2$</strong></figcaption>  \n",
    "</figure>\n",
    "\n",
    "<div class=\"alert alert-block alert-info\"> <b>TRY IT!</b> Compute $\\dfrac{27}{5}$ in Python.</div>"
   ]
  },
  {
   "cell_type": "code",
   "execution_count": null,
   "id": "4ae08b26",
   "metadata": {},
   "outputs": [],
   "source": []
  },
  {
   "cell_type": "markdown",
   "id": "be0531a4",
   "metadata": {},
   "source": [
    "<div class=\"alert alert-block alert-info\"> <b>TRY IT!</b> Compute the quotient of $\\dfrac{27}{5}$ in Python.</div>"
   ]
  },
  {
   "cell_type": "code",
   "execution_count": null,
   "id": "55025a79",
   "metadata": {},
   "outputs": [],
   "source": []
  },
  {
   "cell_type": "markdown",
   "id": "3efc33d4",
   "metadata": {},
   "source": [
    "<div class=\"alert alert-block alert-info\"> <b>TRY IT!</b> Compute the remainder of $\\dfrac{27}{5}$ in Python.</div>"
   ]
  },
  {
   "cell_type": "code",
   "execution_count": null,
   "id": "49562cc7",
   "metadata": {},
   "outputs": [],
   "source": []
  },
  {
   "cell_type": "markdown",
   "id": "d40b14af",
   "metadata": {},
   "source": [
    "## 1.2. Order of Operations\n",
    "\n",
    "\n",
    "An **order of operations** is a standard order of precedence in which operations are performed (e.g., multiplication before addition). Most programming languages, including Python, obey the same order of operations that you learned in school: powers are executed before multiplication and division, which are executed before addition and subtraction. Parentheses, `()`, can also be used in Python to group together smaller expressions and supersede the standard order of operations. The order in which Python executes these operations is shown in the table below.\n",
    "\n",
    "| Precedence      | Operation                                                | Rule                                       | \n",
    "|:----------------|:-------------------------------------------------------- | :----------------------------------------- |\n",
    "| First (Highest) | Parentheses: `( )`                                       | Evaluated starting with the innermost pair |\n",
    "| Second          | Exponentiation: `**`                                     | Evaluated from left to right               | \n",
    "| Third           | Unary positive, negative: `+x`, `-x`                     | Evaluated from left to right               |\n",
    "| Fourth          | Multiplication, division, remainder, modulo: `*`, `/`, `//`, `%`  | Evaluated from left to right      |\n",
    "| Fifth           | Addition, subtraction: `+`, `-`                          | Evaluated from left to right               |\n",
    "\n",
    "<div class=\"alert alert-block alert-success\"> <b>TIP!</b> When in doubt, throw in parentheses and be sure.</div>\n",
    "\n",
    "<div class=\"alert alert-block alert-info\"> <b>TRY IT!</b> Compute $\\dfrac{3\\times4}{2^2+\\dfrac{4}{2}}$ in Python.</div>"
   ]
  },
  {
   "cell_type": "code",
   "execution_count": null,
   "id": "38f406b0",
   "metadata": {},
   "outputs": [],
   "source": []
  },
  {
   "cell_type": "markdown",
   "id": "071cac74",
   "metadata": {},
   "source": [
    "## 1.3. Trigonometry, Logarithms, and Other Operations\n",
    "\n",
    "Python has many basic trigonometric, logarithmic, and other arithmetic functions like `sin()`, `cos()`, `tan()`, `asin()`, `acos()`, `atan()`, `exp()`, `log()`, `log10()` and `sqrt()` stored in a module called **`math`**. You can read about all the functions provided by the **`math`** module [here](https://docs.python.org/3/library/math.html).\n",
    "\n",
    "These functions are **not** built into Python by default. *Thus, we need to import `math` first to get access to its functions.*"
   ]
  },
  {
   "cell_type": "code",
   "execution_count": null,
   "id": "aa356aca",
   "metadata": {},
   "outputs": [],
   "source": [
    "import math  # this module provides access to mathematical functions"
   ]
  },
  {
   "cell_type": "markdown",
   "id": "b4bd7933",
   "metadata": {},
   "source": [
    "Now that we have imported `math`, we can access all the functions provided by the `math` module. You can have a quick view of the functions available in a module by typing the module name + <kbd>.</kbd> + <kbd>Tab</kbd>. Furthermore, if you type the first few letters of the function name and press <kbd>Tab</kbd>, it could automatically complete the function for you, the so called - TAB completion.\n",
    "\n",
    "You can get some help on the context of the function by adding a question mark `?` after the function's name and running the cell.\n",
    "\n",
    "<div class=\"alert alert-block alert-info\"> <b>TRY IT!</b> Type <code>math.</code> and then click the <kbd>Tab</kbd> key. Select one of the functions then add <code>?</code>. Finally, run the cell to read more about the function.</div>"
   ]
  },
  {
   "cell_type": "code",
   "execution_count": null,
   "id": "851ddac1",
   "metadata": {},
   "outputs": [],
   "source": []
  },
  {
   "cell_type": "markdown",
   "id": "8341cb7b",
   "metadata": {},
   "source": [
    "The way we use these mathematical functions (and in general, any function from a module) is `module.function(x)`, where:\n",
    "* `module` is the module's name or its given shortened name; e.g., `math`\n",
    "* `.function` is the function available within that module that you want to use; e.g., `.log10`\n",
    "* `(x)` includes inside the parentheses the input(s) that your are trying to evaluate using the function; e.g., `(100)`.\n",
    "\n",
    "**Example:** \n",
    "\n",
    "```python\n",
    "In [1]: math.log10(100)\n",
    "Out[1]: 2.0\n",
    "```\n",
    "\n",
    "<div class=\"alert alert-block alert-warning\"> <b>NOTE!</b> The <code>math.log()</code> function in Python is $log_e$, or the natural logarithm (aka $ln$). It is not $log_{10}$. For $log_{10}$, you can use <code>math.log10()</code>.</div>\n",
    "\n",
    "<div class=\"alert alert-block alert-info\"> <b>TRY IT!</b> Compute $e^2$ in Python.</div>"
   ]
  },
  {
   "cell_type": "code",
   "execution_count": null,
   "id": "5723b9f4",
   "metadata": {},
   "outputs": [],
   "source": []
  },
  {
   "cell_type": "markdown",
   "id": "18cefae1",
   "metadata": {},
   "source": [
    "The **`math`** module also includes constants (e.g., $\\pi$). Because these are constants and not functions, they do not take any inputs. Therefore, you should **not** include any parentheses `()` when using them. So, you use `math.pi` and not `math.pi()`. If you use `math.pi()`, this will raise a `TypeError`.\n",
    "\n",
    "```python\n",
    "In [2]: math.pi\n",
    "Out[2]: 3.141592653589793\n",
    "```\n",
    "\n",
    "<div class=\"alert alert-block alert-info\"> <b>TRY IT!</b> Compute $tan(\\pi/4)$ in Python.</div>"
   ]
  },
  {
   "cell_type": "code",
   "execution_count": null,
   "id": "058a50eb",
   "metadata": {},
   "outputs": [],
   "source": []
  },
  {
   "cell_type": "markdown",
   "id": "f2a3cf14",
   "metadata": {},
   "source": [
    "<div class=\"alert alert-block alert-warning\"> <b>NOTE!</b> Although the result above should be 1.0, it is showing 0.9999999999999999. This is due to how Python (and in general, any computer) represents numbers, which we will learn about later in the course.</div>"
   ]
  },
  {
   "cell_type": "markdown",
   "id": "fb2133b5",
   "metadata": {},
   "source": [
    "## 1.4. Overflow and Undefined Results\n",
    "\n",
    "Python will raise a `ZeroDivisionError` when you try to divide by zero by running `1/0`.\n",
    "\n",
    "```python\n",
    "In [3]: 1/0\n",
    "```\n",
    "```\n",
    "---------------------------------------------------------------------------\n",
    "ZeroDivisionError                         Traceback (most recent call last)\n",
    "<ipython-input-12-9e1622b385b6> in <module>()\n",
    "----> 1 1/0\n",
    "\n",
    "ZeroDivisionError: division by zero\n",
    "```\n",
    "\n",
    "We previously saw that the `math` module includes constants like `math.pi`. It also includes other values, such as `math.inf`, which denotes infinity.\n",
    "\n",
    "<div class=\"alert alert-block alert-info\"> <b>TRY IT!</b> Compute $\\dfrac{1}{\\infty}$ in Python.</div>"
   ]
  },
  {
   "cell_type": "code",
   "execution_count": null,
   "id": "368d3e87",
   "metadata": {},
   "outputs": [],
   "source": []
  },
  {
   "cell_type": "markdown",
   "id": "ed57a2cb",
   "metadata": {},
   "source": [
    "Some calculations do not have a well-defined answer, such as $0\\times \\infty$. In this case, Python returns `nan`, which stands for **N**ot **a** **N**umber.\n",
    "\n",
    "<div class=\"alert alert-block alert-info\"> <b>TRY IT!</b> Compute $0\\times \\infty$ in Python.</div> "
   ]
  },
  {
   "cell_type": "code",
   "execution_count": null,
   "id": "57a02f2c",
   "metadata": {},
   "outputs": [],
   "source": []
  },
  {
   "cell_type": "markdown",
   "id": "d14417dc",
   "metadata": {},
   "source": [
    "<div class=\"alert alert-block alert-success\"> <b>TIP!</b> Learning to program involves trying out what you learn. What happens if you try to run <code>math.inf - math.inf</code>? What happens if you try to run <code>math.nan - math.nan</code>? You don't always need to ask an expert (or the Internet); many of these details can be discovered by trying them out yourself.</div>"
   ]
  },
  {
   "cell_type": "markdown",
   "id": "dc973851",
   "metadata": {},
   "source": [
    "# 2. Basic Data Types\n",
    "\n",
    "In programming, data type is an important concept. Every object has a type, and different types can do different things. The object type controls what can be done with the object, and that's why, it is important to understand the different data types and what can be done with them.\n",
    "\n",
    "## 2.1. Scalar Data Types \n",
    "\n",
    "The basic built-in scalar types in Python are listed in the table below.\n",
    "\n",
    "| Scalar Object Types | Description                                                                   | Example   |\n",
    "|:--------------------|:----------------------------------------------------------------------------- | :-------: |\n",
    "| `int`               | Integers (negative, zero, or positive) that don’t have a fractional component | `-100`    |\n",
    "| `float`             | Floating-point numbers that have a fractional component                       | `10.2`    | \n",
    "| `complex`           | Complex numbers                                                               | `2 + 5j`  | \n",
    "| `bool`              | Boolean values `True` and `False`                                             | `True`    | \n",
    "| `NoneType`          | `None` is used to define a null value, or no value at all                     | `None`    | \n",
    "\n",
    "In Python, the data type is set automatically based on the expression. You can use the built-in Python function `type()` to check the object type.\n",
    "\n",
    "<div class=\"alert alert-block alert-info\"> <b>TRY IT!</b> Check the type of each of the following: <code>5</code>, <code>5 * 2</code>, and <code>5 / 2</code>.</div> "
   ]
  },
  {
   "cell_type": "code",
   "execution_count": null,
   "id": "29df8714",
   "metadata": {},
   "outputs": [],
   "source": []
  },
  {
   "cell_type": "markdown",
   "id": "31bd9a2a",
   "metadata": {},
   "source": [
    "Any number containing a decimal point is interpreted by Python as a floating-point number, even if it is an \"integer\".\n",
    "\n",
    "**Example:**\n",
    "\n",
    "```python\n",
    "In [4]: type(5.0)\n",
    "Out[4]: float\n",
    "```\n",
    "\n",
    "When a `float` object is combined with an `int` object, the result is always a `float`.\n",
    "\n",
    "<div class=\"alert alert-block alert-info\"> <b>TRY IT!</b> Check the type of the following: <code>5 * 2.0</code>.</div> "
   ]
  },
  {
   "cell_type": "code",
   "execution_count": null,
   "id": "34e9cf35",
   "metadata": {},
   "outputs": [],
   "source": []
  },
  {
   "cell_type": "markdown",
   "id": "96d0da1c",
   "metadata": {},
   "source": [
    "To represent complex numbers in Python, the imaginary part is denoted using `j` instead of $i$. A coefficient before `j` is always needed, even if it is $1$. For example $5 + i$ should be represented in Python using `5 + 1j` and **not** `5 + j`.\n",
    "\n",
    "Another way to represent complex number in Python is to use the `complex(real, imag)` built-in function. So, `complex(5, 1)` is equivalent to `5 + 1j`."
   ]
  },
  {
   "cell_type": "markdown",
   "id": "b802f56b",
   "metadata": {},
   "source": [
    "## 2.2. Data Type Conversion\n",
    "\n",
    "As we write more programs, we will often find that we need to convert data from one type to another. We mentioned above that when a `float` object is combined with an `int` object, the result is always a `float`. This is *implicit* conversion, where Python is doing the conversion.\n",
    "\n",
    "We can also perform *explicit* conversion, where we convert the type ourselves. For example, to convert to an integer, we can use the `int()` function. The `int()` function converts a `float` to an `int` by discarding the fractional part – it will always round down! To convert to a float, we can use the `float()` function.\n",
    "\n",
    "**Example:**\n",
    "\n",
    "```python\n",
    "In [5]: int(5.99)\n",
    "Out[5]: 5\n",
    "```\n",
    "\n",
    "There are other data types, such as `str`, which represents strings or sequences of characters such as `\"Welcome to ENGIN7!\"`. We will introduce additional data types later in the course."
   ]
  },
  {
   "cell_type": "markdown",
   "id": "45e2c908",
   "metadata": {},
   "source": [
    "# 3. Variables and Assignment Operators\n",
    "\n",
    "The above code snippets, while helpful for performing arithmetic operations, could be easily performed with a basic calculator. The benefit of programming is that we can store values and reuse them in subsequent calculations. \n",
    "\n",
    "## 3.1. Assignment\n",
    "\n",
    "**Variables** are used to store values in Python using an *assignment* statement. In an *assignment* statement, a name is followed by `=`, which is followed by any expression. That's why <code>=</code> is referred to as the assignment operator.\n",
    "\n",
    "**Example:**\n",
    "\n",
    "```python\n",
    "In [6]: a = 5\n",
    "```\n",
    "\n",
    "The value of the expression to the right of `=` is *assigned* to the variable name to the left of `=`. So, in the example above, the value 5 is assigned to the variable `a`. After executing this line, the variable `a` behaves like the value 5 in subsequent calculations, until the variable is changed or deleted.\n",
    "\n",
    "<div class=\"alert alert-block alert-warning\"> <b>NOTE!</b> Expressions on the right-hand side can be a constant or a formula involving constants and/or variables. Python will evaluate the expression on the right-hand side and assign the result to the variable on the left-hand side.</div>\n",
    "\n",
    "<div class=\"alert alert-block alert-info\"> <b>TRY IT!</b> Define $mass = 5$, $gravity = 10$, and then compute $weight$, where $weight = mass \\times gravity$ in Python.</div> "
   ]
  },
  {
   "cell_type": "code",
   "execution_count": null,
   "id": "268a8fb8",
   "metadata": {},
   "outputs": [],
   "source": []
  },
  {
   "cell_type": "markdown",
   "id": "33b0bfd2",
   "metadata": {},
   "source": [
    "## 3.2. Re-Assignment \n",
    "\n",
    "When a variable is assigned, it has no memory of how it was assigned. We assigned variable <code>weight</code> above using the variables <code>mass</code> and <code>gravity</code>. However, changing the value of <code>mass</code> and/or <code>gravity</code> will not automatically change the value of <code>weight</code>. To change the value of <code>weight</code>, you have to **reassign it**.\n",
    "\n",
    "<div class=\"alert alert-block alert-info\"> <b>TRY IT!</b> Reassign $mass = 2$, and then print the value of <code>weight</code> in Python.</div> \n",
    "\n",
    "You should observe that even if we change the value of `mass`, the value of `weight` will not change automatically."
   ]
  },
  {
   "cell_type": "code",
   "execution_count": null,
   "id": "edf1787c",
   "metadata": {},
   "outputs": [],
   "source": []
  },
  {
   "cell_type": "markdown",
   "id": "4ee94265",
   "metadata": {},
   "source": [
    "## 3.3. Other Assignment Operators\n",
    "\n",
    "In addition to the simple assignment operator `=`, there are other assignment operators. as shown in the table below.\n",
    "\n",
    "| Operator | Description               |Python Example  | Python Equivalent |\n",
    "| :------- | :------------------------ | :------------- | :---------------- |\n",
    "| `+=`     | Addition assignment       | `a += 5`       | `a = a + 5`       |\n",
    "| `-=`     | Subtraction assignment    | `a -= 5`       | `a = a - 5`       |\n",
    "| `*=`     | Multiplication assignment | `a *= 5`       | `a = a * 5`       |\n",
    "| `/=`     | Division assignment       | `a /= 5`       | `a = a / 5`       |\n",
    "| `//=`    | Floor division assignment | `a //= 5`      | `a = a // 5`      |\n",
    "| `%=`     | Modulo assignment         | `a %= 5`       | `a = a % 5`       |\n",
    "\n",
    "<div class=\"alert alert-block alert-info\"> <b>TRY IT!</b> Recall that $weight = 50$. Using one of the operators from the table, reassign <code>weight</code> the value $weight \\times 10$ and print its value.</div> "
   ]
  },
  {
   "cell_type": "code",
   "execution_count": null,
   "id": "11e5f505",
   "metadata": {},
   "outputs": [],
   "source": []
  },
  {
   "cell_type": "markdown",
   "id": "62f075ba",
   "metadata": {},
   "source": [
    "## 3.4. Variable Names\n",
    "\n",
    "The statement <code>mass = 2</code> is not asserting that <code>mass</code> is already equal to 2, as we might expect in mathematical notation. Rather, this line of code defines the variable <code>mass</code> to hereafter have the value 2. Before this line of code, <code>mass</code> had the value 5, and before <code>mass = 5</code>, <code>mass</code> meant nothing at all.\n",
    "\n",
    "Although it is perfectly valid to say $2 = mass$ in mathematics, `2 = mass` will raise an error in Python.\n",
    "\n",
    "```python\n",
    "In [7]: 2 = mass\n",
    "```\n",
    "```\n",
    "---------------------------------------------------------------------------\n",
    "File \"<ipython-input-13-46b54f731e00>\", line 1\n",
    "<ipython-input-12-9e1622b385b6> in <module>()\n",
    "    2 = mass\n",
    "    ^\n",
    "SyntaxError: cannot assign to literal\n",
    "```\n",
    "\n",
    "When trying to run `2 = mass`, you are telling Python to define a variable named `2` and assign it the value of the variable `mass`. However, `2` is not a valid variable name. That's why Python raises a `SyntaxError`. Variable names to the left of `=` cannot start with numbers. \n",
    "\n",
    "<div class=\"alert alert-block alert-warning\"> <b>NOTE!</b> As you will learn soon, to compare the right-hand side and left-hand side expressions to see if they are equal, you can use <code>==</code> (double equal sign). Python will return True/False based on whether the two sides of the expression are equal to one another or not.</div>\n",
    "\n",
    "There are some restrictions on the names variables can take in Python, which are listed hereafter:\n",
    "* Variable names must start with a letter or underscore `_` \n",
    "* Variables can only contain alphanumeric characters (letters and numbers) as well as underscores `_` \n",
    "* Numbers are allowed after the first character of the variable name\n",
    "* No spaces or math symbols/punctuation within a variable name are permitted\n",
    "* Variable names are case-sensitive (e.g., `mass` and `Mass` will be considered different variables)\n",
    "\n",
    "<div class=\"alert alert-block alert-success\"> <b>TIP!</b> Because no spaces are permitted within a variable name (for example, <code>car speed = 5</code> will raise a <code>SyntaxError</code> because <code>car speed</code> is not a valid variable name), it is common to use an underscore <code>_</code> character to replace each space (e.g., <code>car_speed</code>). This is known as the Snake Case naming convention. Other name conventions include capitalizing the first letter after the first word, <code>carSpeed</code>, which is known as the Camel Case naming convention, or simply capitalizing the first letter of every word, <code>CarSpeed</code>, which is known as the Pascal Case naming convention.</div>\n",
    "\n",
    "<br>\n",
    "\n",
    "<figure>\n",
    "  <img src=\"https://miro.medium.com/v2/resize:fit:720/format:webp/1*THCiyHLUn4AZpLif2PyVFQ.png\" style=\"width:50%\">\n",
    "    <figcaption style=\"text-align:center\"><strong>Some naming conventions:</strong> <a href=\"https://medium.com/@code.ceeker/naming-conventions-camel-case-pascal-case-kebab-case-and-more-dc4e515b9652\">https://medium.com/@code.ceeker/</a></figcaption>   \n",
    "</figure>\n",
    "\n",
    "<br>\n",
    "\n",
    "<div class=\"alert alert-block alert-info\"> <b>TRY IT!</b> Try to assign values to the following variable names in Python and see which will raise an error: \n",
    "<pre>mass = 2\n",
    "print(Mass)\n",
    "</pre>\n",
    "<pre>car mass = 2\n",
    "car_mass = 2\n",
    "</pre>\n",
    "<pre>car^ = 5\n",
    "1st_car = 5\n",
    "car1 = 5 \n",
    "</pre>  Again, you don't always need to ask an expert (or the Internet); many of these details can be discovered by trying them out yourself.</div> "
   ]
  },
  {
   "cell_type": "code",
   "execution_count": null,
   "id": "b4e5218a",
   "metadata": {},
   "outputs": [],
   "source": []
  },
  {
   "cell_type": "markdown",
   "id": "2e2c9274",
   "metadata": {},
   "source": [
    "Python has a list of restricted words which cannot be used as variable names. Run the cell below to view the list of restricted words. "
   ]
  },
  {
   "cell_type": "code",
   "execution_count": null,
   "id": "d36851c0",
   "metadata": {},
   "outputs": [],
   "source": [
    "import keyword\n",
    "print(keyword.kwlist)"
   ]
  },
  {
   "cell_type": "markdown",
   "id": "8bac45f2",
   "metadata": {},
   "source": [
    "As you can see, `import` is among the restricted words because it is used by Python to import modules. So, if you try to create a variable called `import`, Python will raise a `SyntaxError` because `import` is a restricted word. However, you can define a variable `Import` because names are case-sensitive.\n",
    "\n",
    "<div class=\"alert alert-block alert-info\"> <b>TRY IT!</b> Try to define <code>import = 5</code> and <code>Import = 5</code> in Python.</div> "
   ]
  },
  {
   "cell_type": "code",
   "execution_count": null,
   "id": "7a970430",
   "metadata": {},
   "outputs": [],
   "source": []
  },
  {
   "cell_type": "markdown",
   "id": "ce4cb4e4",
   "metadata": {},
   "source": [
    "## 3.5. Naming Matters\n",
    "\n",
    "Names are only as useful as you make them. It is up to you, the programmer, to choose names that are easy to interpret. \n",
    "\n",
    "It is possible to overwrite variables or functions that have been stored in Python. For example, the command <code>math = 5</code> will store the value 5 in the variable with name <code>math</code>. After this assignment <code>math</code> will behave like the value 5 instead of the module <code>math</code> (module names are not among the restricted words). Therefore, you can no longer use <code>math.log10()</code> or any other functions within the `math` module. To be able to reuse the <code>math</code> module, you have to re-import it using <code>import math</code>. You should always be careful not to give your variables the same name as functions or modules.\n",
    "\n",
    "<div class=\"alert alert-block alert-info\"> <b>TRY IT!</b> Define $math = 5$, and then try to run <code>math.log10(100)</code> in Python.</div> "
   ]
  },
  {
   "cell_type": "code",
   "execution_count": null,
   "id": "4f9e41e5",
   "metadata": {},
   "outputs": [],
   "source": []
  },
  {
   "cell_type": "code",
   "execution_count": null,
   "id": "5abed988",
   "metadata": {},
   "outputs": [],
   "source": [
    "import math # re-import math module. Now, math is no longer assigned the value 5 and we can use it again with .log10()"
   ]
  },
  {
   "cell_type": "markdown",
   "id": "8c88bea1",
   "metadata": {},
   "source": [
    "Typically, more meaningful names can be defined than, let's say, <code>a</code> and <code>b</code>. For example, consider a circle with diameter equal to 2. You want to calculate its area using Python. \n",
    "\n",
    "**Code segment 1 with generic variable names:**\n",
    "\n",
    "```python\n",
    "In [8]: a = 2\n",
    "        b = math.pi * a ** 2\n",
    "        print(b)\n",
    "Out[8]: 12.566370614359172\n",
    "```\n",
    "**Code segment 2 with meaningful variable names:**\n",
    "\n",
    "```python\n",
    "In [9]: diameter = 2\n",
    "        area = math.pi * diameter ** 2\n",
    "        print(area)\n",
    "Out[9]: 12.566370614359172\n",
    "```\n",
    "\n",
    "Python will evaluate both code segments in the same way, and will return the same answer. However, to a human reader, the code segments are quite different. When you read the first code segment with generic variable names, you do not have a reason to suspect anything is incorrect. However, a quick glance at the second code segment with meaningful variable names should prompt you to suspect that something is wrong. Either the variable should have been named `radius` rather than `diameter` or `diameter` should have been divided by 2 in the area calculation. As far as Python is concerned, it will execute whatever expressions you provide, regardless of whether they are correct or not. That's why, **naming matters!**\n",
    "\n",
    "<div class=\"alert alert-block alert-warning\"> <b>NOTE!</b> The above code segments have a <strong>logical error</strong>. This is different from other errors in Python, in a sense that the program will run successfully without generating any error messages. However, the result is incorrect due to a mistake in the logic. We will soon learn about different error types.</div>"
   ]
  },
  {
   "cell_type": "markdown",
   "id": "7b660cf6",
   "metadata": {},
   "source": [
    "## 3.6. Managing Variables\n",
    "\n",
    "You can view a list of all the variables in the notebook using the command `%whos`.\n",
    "\n",
    "<div class=\"alert alert-block alert-info\"> <b>TRY IT!</b> List all the variables in this notebook.</div> "
   ]
  },
  {
   "cell_type": "code",
   "execution_count": null,
   "id": "7dfd57b1",
   "metadata": {},
   "outputs": [],
   "source": []
  },
  {
   "cell_type": "markdown",
   "id": "03f96bf6",
   "metadata": {},
   "source": [
    "<div class=\"alert alert-block alert-warning\"> <b>NOTE!</b> In the above table, Python is showing the Type of each variable. Recall that you can obtain the type using the <code>type()</code> function. As you can see, most variables are <code>int</code>, except for <code>math</code>, which is <code>module</code>.</div>\n",
    "\n",
    "You can clear (delete) a variable from the notebook using the `del` keyword. Typing `del gravity` will clear the variable `gravity` from the workspace (i.e., it will no longer be defined or assigned any value). So, if you try to run `weight = mass * gravity` after `del gravity`, Python will raise a `NameError` because the variable `gravity` is no longer defined. To remove all variables in the notebook, you can use the command `%reset`. \n",
    "\n",
    "<div class=\"alert alert-block alert-info\"> <b>TRY IT!</b> Delete the variable <code>gravity</code> and then list all the variables in this notebook.</div> "
   ]
  },
  {
   "cell_type": "code",
   "execution_count": null,
   "id": "15abd606",
   "metadata": {},
   "outputs": [],
   "source": []
  },
  {
   "cell_type": "markdown",
   "id": "e82d7136",
   "metadata": {},
   "source": [
    "# 4. Logical/Boolean Expressions and Operators\n",
    "\n",
    "## 4.1. Logical Expressions\n",
    "\n",
    "**Logical expressions** are statements that can either be true or false. Logical expressions are used to pose questions to Python. For example, running `2 < 3` is equivalent to asking , \"*Is 2 less than 3?*\" Since this statement is true, Python will return the value `True`. Otherwise, if the statement is false, Python will return `False`. The returned value is a data type which is known as **boolean** (or `bool`), which has the built-in values `True` and `False`.\n",
    "\n",
    "<div class=\"alert alert-block alert-info\"> <b>TRY IT!</b> Compute the logical expression for \"Is 5 greater than 2 + 2?\" in Python.</div> "
   ]
  },
  {
   "cell_type": "code",
   "execution_count": null,
   "id": "770632ca",
   "metadata": {},
   "outputs": [],
   "source": []
  },
  {
   "cell_type": "markdown",
   "id": "dbb405c9",
   "metadata": {},
   "source": [
    "Logical expressions can be applied on values, variables, or both. Python includes a variety of comparison operators (operators to perform comparisons). \n",
    "\n",
    "| Comparison         | Python Operator | True example | False Example |\n",
    "|:-------------------|:---------------:|:-------------|:--------------|\n",
    "| Less than          | `<`             | `2 < 3`      | `2 < 2`       |\n",
    "| Greater than       | `>`             | `3 > 2`      | `3 > 3`       |\n",
    "| Less than or equal | `<=`            | `2 <= 2`     | `3 <= 2`      |\n",
    "| Greater or equal   | `>=`            | `3 >= 3`     | `2 >= 3`      |\n",
    "| Equal              | `==`            | `3 == 3`     | `3 == 2`      |\n",
    "| Not equal          | `!=`            | `3 != 2`     | `2 != 2`      |\n",
    "\n",
    "\n",
    "<div class=\"alert alert-block alert-info\"> <b>TRY IT!</b> Define $a = 6\\times 2$ and then compute the logical expression for \"Is <code>a</code> equal to $\\sqrt{144}$?\" in Python.</div> "
   ]
  },
  {
   "cell_type": "code",
   "execution_count": null,
   "id": "b784c281",
   "metadata": {},
   "outputs": [],
   "source": []
  },
  {
   "cell_type": "markdown",
   "id": "af84fbea",
   "metadata": {},
   "source": [
    "<div class=\"alert alert-block alert-warning\"> <b>NOTE!</b> Be careful when using the comparison operator <code>==</code>. Recall that Python evaluated <code>math.tan(math.pi/4)</code> as 0.99999999... So, although $tan(\\pi/4)$ should be equal to 1, <code>math.tan(math.pi/4) == 1</code> will evaluate to <code>False</code> because of rounding. We will learn more about this later in the course. We can alternatively use <code>math.isclose(a, b)</code> to check if two value are close within some small tolerance.</div>\n",
    "\n",
    "<div class=\"alert alert-block alert-info\"> <b>TRY IT!</b> Run <code>math.tan(math.pi/4) == 1</code> in Python. Then run <code>math.isclose(math.tan(math.pi/4), 1)</code>.</div> "
   ]
  },
  {
   "cell_type": "code",
   "execution_count": null,
   "id": "89ec985f",
   "metadata": {},
   "outputs": [],
   "source": []
  },
  {
   "cell_type": "markdown",
   "id": "0716b077",
   "metadata": {},
   "source": [
    "In Python and many other programming languages, `True` is equivalent to 1 and `False` is equivalent to 0. So, you can perform arithmetic operations on `bool` data types. Because `True` is equal to 1 and `False` is equal to 0, adding logical expressions together is a quick way to count the number of `True` expressions out of many logical expressions.\n",
    "\n",
    "<div class=\"alert alert-block alert-info\"> <b>TRY IT!</b> Compute the <strong>sum</strong> of the logical expressions \"Is 5 greater than 4?\" and \"Is 5 greater than 3?\" in Python.</div> "
   ]
  },
  {
   "cell_type": "code",
   "execution_count": null,
   "id": "400c0819",
   "metadata": {},
   "outputs": [],
   "source": []
  },
  {
   "cell_type": "markdown",
   "id": "617c14c3",
   "metadata": {},
   "source": [
    "The order of precedence of logical expressions is **lower** than that of addition and subtraction (meaning, logical expressions are evaluated **after** addition and subtraction). The table below shows the order of operations, including logical expressions. \n",
    "\n",
    "| Precedence      | Operation                                                         |  \n",
    "|:----------------|:----------------------------------------------------------------- |\n",
    "| First (Highest) | Parentheses: `( )`                                                |\n",
    "| Second          | Exponentiation: `**`                                              |                    \n",
    "| Third           | Unary positive, negative: `+x`, `-x`                              |\n",
    "| Fourth          | Multiplication, division, remainder, modulo: `*`, `/`, `//`, `%`  |\n",
    "| Fifth           | Addition, subtraction: `+`, `-`                                   |\n",
    "| Sixth           | Comparison operators: `==`, `>`, `<`, `!=`, ...                   |\n",
    "\n",
    "<div class=\"alert alert-block alert-info\"> <b>TRY IT!</b> Run the expression from above without the parentheses: <code>5 > 4 + 5 > 3</code> in Python.</div> \n",
    "\n",
    "Without parentheses, the `+` is executed first, and the expression is equivalent to: `5 > 9 > 3`, which is `False`."
   ]
  },
  {
   "cell_type": "code",
   "execution_count": null,
   "id": "ab455722",
   "metadata": {},
   "outputs": [],
   "source": []
  },
  {
   "cell_type": "markdown",
   "id": "30adf536",
   "metadata": {},
   "source": [
    "## 4.2. Logical Operators\n",
    "\n",
    "In most of the previous examples, we did one comparison at a time. **Logical operators** allow us to combine together multiple comparisons. There are three common logical operators: AND, OR, NOT. Operator symbols vary with different programming languages. In Python they are `and`, `or`, and `not`.\n",
    "\n",
    "\n",
    "| Operator | Description | Examples |\n",
    "| :---:    | :---:       | :---:    | \n",
    "| `and`    | `True` if **all** expressions are `True` <br> `False` otherwise| `(5 > 4) and (5 > 3)`<br>`(5 > 4) and (5 < 3)`|\n",
    "| `or`     | `True` if **at least one** expression is `True` <br> `False` otherwise| `(5 > 4) or (5 < 3)`<br>`(5 < 4) or (5 < 3)`|\n",
    "| `not`    | Reverses the result, `True` if the expression is `False` <br> `False` if the expression is `True` |`not(5 < 4)`<br>`not(5 > 4)`| \n",
    "\n",
    "<div class=\"alert alert-block alert-success\"> <b>TIP!</b> When using logical operators, use parentheses (even when not technically needed) to make the logic of the expression very clear.</div>\n",
    "\n",
    "**Truth tables:**\n",
    "\n",
    "Let `X` and `Y` be two logical expressions or `bool` variables.\n",
    "\n",
    "| `X`     | `Y`     | `X and Y` | `X or Y` |\n",
    "| :---:   | :---:   | :---:     | :---:    |\n",
    "| `False` | `False` | `False`   | `False`  |\n",
    "| `True`  | `False` | `False`   | `True`   |\n",
    "| `False` | `True`  | `False`   | `True`   |\n",
    "| `True`  | `True`  | `True`    | `True`   |\n",
    "\n",
    "| `X`     | `not X` |\n",
    "| :---:   | :---:   |\n",
    "| `False` | `True`  |\n",
    "| `True`  | `False` |\n",
    "\n",
    "<div class=\"alert alert-block alert-info\"> <b>TRY IT!</b> A fortnight is a length of time equivalent to 14 days. Define a variable <code>fortnight</code> in seconds. Using logical operators, are there more than 500,000 seconds <strong>and</strong> less than 1,000,000 seconds in a fortnight?</div> "
   ]
  },
  {
   "cell_type": "code",
   "execution_count": null,
   "id": "08b3b4da",
   "metadata": {},
   "outputs": [],
   "source": []
  },
  {
   "cell_type": "markdown",
   "id": "a2fe3a09",
   "metadata": {},
   "source": [
    "<div class=\"alert alert-block alert-info\"> <b>TRY IT!</b> Using logical operators, are there more than 500,000 seconds <strong>or</strong> less than 1,000,000 seconds in a fortnight?</div> "
   ]
  },
  {
   "cell_type": "code",
   "execution_count": null,
   "id": "f6c1cf69",
   "metadata": {},
   "outputs": [],
   "source": []
  },
  {
   "cell_type": "markdown",
   "id": "ae29ee34",
   "metadata": {},
   "source": [
    "## 4.3. Order of Operations\n",
    "\n",
    "We previously learned about the order of arithmetic operations in Python. We mentioned above that the order of precedence of logical expressions (comparisons such as `>`, `==`, etc.) is **lower** than that of addition and subtraction (meaning, logical expressions are executed **after** addition and subtraction).\n",
    "\n",
    "The order of precedence of logical operators (`not`, `and`, `or`) is **lower** than that of logical expressions, where `not` is executed before `and`, which is executed before `or`. The table below shows the order of operations, including logical expressions and operators. \n",
    "\n",
    "| Precedence      | Operation                                                         |  \n",
    "|:----------------|:----------------------------------------------------------------- |\n",
    "| First (Highest) | Parentheses: `( )`                                                |\n",
    "| Second          | Exponentiation: `**`                                              |                    \n",
    "| Third           | Unary positive, negative: `+x`, `-x`                              |\n",
    "| Fourth          | Multiplication, division, remainder, modulo: `*`, `/`, `//`, `%`  |\n",
    "| Fifth           | Addition, subtraction: `+`, `-`                                   |\n",
    "| Sixth           | Comparison operators: `==`, `>`, `<`, `!=`, ...                   |\n",
    "| Seventh         | Logical NOT: `not`                                                |\n",
    "| Eighth          | Logical AND: `and`                                                |\n",
    "| Ninth           | Logical OR: `or`                                                  |\n",
    "\n",
    "If we run the expression from above without the parentheses, this is how Python will evaluate it based on the order of precedence:\n",
    "\n",
    "```python\n",
    "In [10]: fortnight > 5 * 10 ** 5 or fortnight < 10 ** 6\n",
    "Out[10]: True\n",
    "```\n",
    "| Order | Operation           | `fortnight > 5 * 10 ** 5 `  | `or`   | `fortnight < 10 ** 6`   |\n",
    "| :---- | :---:               | :---:                       | :---:  | :---:                   |\n",
    "| 1     | Exponentiation      | `fortnight > 5 * 100000`    | `or`   | `fortnight < 1000000`   |\n",
    "| 2     | Multiplication      | `fortnight > 500000`        | `or`   | `fortnight < 1000000`   |\n",
    "| 3     | Logical Expressions | `True`                      | `or`   | `False`                 |\n",
    "| 4     | Logical Operators   |                             | `True` |                         |"
   ]
  },
  {
   "cell_type": "markdown",
   "id": "7cc53025",
   "metadata": {},
   "source": [
    "# 5. Errors\n",
    "\n",
    "Regardless of how proficient and careful a programmer you are, writing code with errors is unavoidable. Errors can be one of the most frustrating parts of programming, especially when you are new to programming. As such, dealing with errors is a critical part of becoming a good programmer.\n",
    "\n",
    "## 5.1. Error Example\n",
    "\n",
    "Python is a language, and like natural human languages, it has rules.  It differs from a natural language in two important ways:\n",
    "1. The rules are *simple*. You can learn most of them in a few weeks and gain reasonable proficiency with the language in a semester.\n",
    "2. The rules are *rigid*. If you're proficient in a natural language, you can understand a non-proficient speaker, even if they make small mistakes. A computer running Python code is not smart enough to do that. Mistakes, no mater how small, will produce an error message.\n",
    "\n",
    "Whenever you write code, you'll make mistakes. When you run a code cell that has errors, Python will sometimes produce error messages to tell you what is wrong. Let's look at an example.\n",
    "\n",
    "<div class=\"alert alert-block alert-info\"> <b>TRY IT!</b> There is an error in the following statement <code>print(\"This line is missing something.\"</code>. Run it and see what happens.</div>"
   ]
  },
  {
   "cell_type": "code",
   "execution_count": null,
   "id": "9ef4d8ec",
   "metadata": {
    "scrolled": true
   },
   "outputs": [],
   "source": [
    "print(\"This line is missing something.\""
   ]
  },
  {
   "cell_type": "markdown",
   "id": "fee1f567",
   "metadata": {},
   "source": [
    "You should see something like this (minus the annotations):\n",
    "\n",
    "<br>\n",
    "\n",
    "<figure>\n",
    "  <img src=\"https://docs.google.com/drawings/d/e/2PACX-1vQVQz6w5qsHmCW6JCz2OkESMXlehy9lxOFnIjW-oDgzTyCjoIxj7UMx8d16mgSGc-8CuD5Zl_LjMs34/pub?w=928&h=340\" style=\"width:75%\">\n",
    "    <figcaption style=\"text-align:center\"><strong>Python error example</strong></figcaption>   \n",
    "</figure>\n",
    "\n",
    "We will discuss this example in general first, and the cover the details of different error types next.\n",
    "\n",
    "The last line attempts to tell you what went wrong. The first word of the the last line tells you the error type. In this case, `SyntaxError` tells you that you have created an illegal structure (against the rules of the language). The error type is followed by an explanation of the error, in this case `unexpected EOF while parsing`. \"`EOF`\" means \"end of file,\" so the message is saying Python expected you to write something more at the end (in this case, a right parenthesis).\n",
    "\n",
    "There's a lot of terminology in programming languages, but you don't need to know it all in order to program effectively.\n",
    "\n",
    "The lines above the last line show the location where the syntax error is detected (which line in the code, in this case line 1), followed by the code and a carat `^` that points to where Python thinks something went wrong (in this case, the end of the line). However, sometimes, the place causing the error may be far away from the pointed out line and/or location.\n",
    "\n",
    "<div class=\"alert alert-block alert-success\"> <b>TIP!</b> Errors are okay; even experienced programmers make errors. When you make an error, try to find the source of the problem, fix it, and move on.</div>\n",
    "\n",
    "<div class=\"alert alert-block alert-info\"> <b>TRY IT!</b> Fix the code above so that you can run the cell. Modify the sentence to say \"This line is not missing anything.\"</div>"
   ]
  },
  {
   "cell_type": "code",
   "execution_count": null,
   "id": "c5a44889",
   "metadata": {},
   "outputs": [],
   "source": []
  },
  {
   "cell_type": "markdown",
   "id": "f03ba6a3",
   "metadata": {},
   "source": [
    "## 5.2. Error Types\n",
    "\n",
    "Errors or mistakes in a program are often referred to as **bugs**. The process of tracking them down and correcting them is called **debugging**. It is useful to distinguish between error types in order to track them down more quickly. There are three basic types of errors that can occur:\n",
    "1. Syntax errors\n",
    "2. Runtime errors\n",
    "3. Logical errors\n",
    "\n",
    "### 5.2.1. Syntax Errors\n",
    "\n",
    "We saw above an example of a syntax error. The *syntax* of a language is its structure, the rules that govern the language. In English, syntax is how words and phrases are put together to form sentences. For example, subject-verb-object:\n",
    "* I like programming (valid syntax)\n",
    "* Like programming I (invalid syntax)\n",
    "\n",
    "Python also has syntax, which is simply the rules that govern how Python understands your code. A syntax error occurs when the programmer writes an instruction using incorrect syntax and Python cannot understand what the programmer is saying. For most speakers of a natural language, a few syntax errors are not a significant problem, so if a someone new to English said, \"Like programming I\", you might be able to understand what they meant. Python, however, is not so forgiving. If there is a single syntax error, Python will display an error message and quit, and you will not be able to run your program. \n",
    "\n",
    "<div class=\"alert alert-block alert-success\"> <b>TIP!</b> During the first few weeks of your programming career, you will probably spend a lot of time tracking down syntax errors. As you gain experience, though, you will make fewer errors and find them faster. Of course, if you're frustrated, ask a neighbor, a staff member, or the Internet for help.</div>\n",
    "\n",
    "Some other examples of syntax errors include:\n",
    "* trying to assign a variable to a number: `1 =  x`\n",
    "* inconsistent parentheses and/or brackets: `(1]`\n",
    "* missing quotes: `print(I like programming)`\n",
    "* missing colon: `def function_name()`\n",
    "\n",
    "Overall, syntax errors are generally easily detectable, easily found, and easily fixed.\n",
    "\n",
    "<div class=\"alert alert-block alert-warning\"> <b>NOTE!</b> If there are multiple errors in a code, Python will not detect all of them at once. It will show the first error only. So, after fixing the first error and, and if there are other errors, Python will then show the next error, and so on.</div>\n",
    "\n",
    "<div class=\"alert alert-block alert-info\"> <b>TRY IT!</b> Copy two of the above code segments and try to run the code. Then, fix the first error only and see what happens. Note how the line indicated by Python for the error changes after fixing the first error.</div>"
   ]
  },
  {
   "cell_type": "code",
   "execution_count": null,
   "id": "dda091b6",
   "metadata": {},
   "outputs": [],
   "source": []
  },
  {
   "cell_type": "markdown",
   "id": "e6c5cb5b",
   "metadata": {},
   "source": [
    "### 5.2.2. Runtime Errors\n",
    "\n",
    "Even if all the syntax is correct (free of syntax errors), an error might still occur when running the code. Errors that occur during execution are called **runtime errors** (because the error does not appear until you run the program). They are also called **exceptions** (because they are usually caused by something exceptional in the code). If not handled, runtime errors will terminate the program. In this case we say the program has crashed.\n",
    "\n",
    "Some  examples of runtime errors include:\n",
    "* division by zero: `1/0`\n",
    "* performing an operation on incompatible types: `1 + [2]`\n",
    "* using a variable which has not been defined: `print(x)`\n",
    "* trying to access an index out of range: `x = [1, 2]; x[5]`\n",
    "* trying to import a misspelled/missing module: `import mat`\n",
    "\n",
    "Unlike syntax errors, runtime errors have different names: `ZeroDivisionError`, `TypeError`, and `NameError` – all of these are runtime errors. You can find a complete list of built-in exceptions/runtime errors in the [Python documentation](https://docs.python.org/3/library/exceptions.html#bltin-exceptions).\n",
    "\n",
    "<div class=\"alert alert-block alert-info\"> <b>TRY IT!</b> Copy any of the above code segments and try to run the code.</div>"
   ]
  },
  {
   "cell_type": "code",
   "execution_count": null,
   "id": "0b84e1e0",
   "metadata": {},
   "outputs": [],
   "source": []
  },
  {
   "cell_type": "markdown",
   "id": "70e96f81",
   "metadata": {},
   "source": [
    "Exceptions are more difficult to find and are only detectable when a program is run. Python will still tell you where it thinks the problem is. We will learn later how to handle exceptions/runtime errors in Python.\n",
    "\n",
    "### 5.2.3. Logical Errors\n",
    "\n",
    "Sometimes, even if there are no syntax or runtime errors, and your code runs without raising any errors, that does not necessarily mean the code is correct. The third type of error we will discuss is called a **logic error**, which is the most difficult to detect. If there is a logical error, your program will run successfully, in the sense that the computer will not generate any error messages, but the result is incorrect due to a mistake in the logic. For example, consider you want to calculate the square root of 3: $\\sqrt{3}$ or $3^{0.5}$. Recall that power in Python are represented using `**`, and thus this can be computed using `3 ** 0.5`. If you use `3 * 0.5` instead, your code will run without raising any errors. However, the result would be $3\\times 0.5$, which is incorrect due to a logical error.\n",
    "\n",
    "Some examples of logical errors include:\n",
    "* mixing up a variable name\n",
    "* getting operator precedence wrong\n",
    "* making a mistake in logical operations\n",
    "\n",
    "When a logical error occurs, Python will not do what you *wanted it to do*. It will do something else. Specifically, it will do what you (incorrectly) *told it to do*. \n",
    "\n",
    "Although logic errors seem unlikely to occur, or at least easy to find, when programs become longer and more complicated, these types of errors are very easy to generate and tricky to find. When logic errors occur, you have no choice but to meticulously comb through each line of your code until you find the problem. For these cases, it is important to know exactly how Python will respond to every command you give and not make any assumptions.\n",
    "\n",
    "## 5.3. Avoiding Errors\n",
    "\n",
    "There are many techniques that can help prevent errors and make it easier for you to find them when they occur. Making errors and learning how to fix them is part of the learning process. Below are some good habits to minimize making errors:\n",
    "\n",
    "* Plan your program: start with an outline of your program that addresses all the tasks you want your program to perform and in the order in which it should perform them.\n",
    "\n",
    "> Many novice programmers, eager to finish their assignments, will rush to the programming part without properly planning out the steps needed to accomplish the given task. Haphazard planning results in equally haphazard code that is full of errors. Time spent planning out what you are trying to do is time well spent. \n",
    "\n",
    "* Test your program often: program in steps and test each step using test cases for which you know the answer, and code enough cases to be confident that the function is working properly. For example, if you are writing a function that tells you whether a number is prime or not, you should test the function for inputs of 0, 1, 2, 4, and 97. \n",
    "\n",
    "> The tendency to rush one's coding is a mistake even proficient programmers are guilty of; they will write pages and pages of code without testing and then will spend hours trying to find a small error somewhere.\n",
    "\n",
    "* Keep your program clean: you should keep your program as clean as possible, free of unnecessary clutter. There are many strategies to do so: \n",
    "    * Assign your variables short, descriptive names\n",
    "    > Still, not all descriptive names are good: `theNumberOfRandomNumbersToBeAdded` is a poor variable name even if it is descriptive.\n",
    "    * Comment frequently\n",
    "    > No commenting is bad practice, but over-commenting can be equally bad. You decide what level of commenting is appropriate.\n",
    "    * Write your code in the fewest instructions possible\n",
    "    > For example: \n",
    "    > ```python\n",
    "    y = x ** 2 + 2 * x + 1\n",
    "    > ``` \n",
    "    > is better than: \n",
    "    > ```python\n",
    "    y = x ** 2\n",
    "    y = y + 2 * x\n",
    "    y = y + 1\n",
    "    >``` \n",
    "    > Even if the outcome is the same, every character you type is a chance that you will make a mistake; therefore, reducing how much code you write will reduce your risk of introducing errors. Additionally, writing a complete expression will help you and other people understand what you are doing.\n",
    "\n",
    "\n",
    "## 5.4. Debugging\n",
    "\n",
    "Even with best practices, errors will occur. So, it is important to be able to identify and fix them. Errors are often referred to as bugs, and the process of tracking them down and correcting them is called debugging. One of the most important skills you will acquire is debugging. Although it can be frustrating, debugging is one of the most intellectually challenging and interesting parts of programming. In some ways, debugging is like detective work. You are confronted with errors or results that are not what you expect. These are your clues to infer what led to the results you see.\n",
    "\n",
    "Syntax errors are usually quite straightforward to debug: the error message shows the line where the error occurred, and it should be easy to find it and fix it.\n",
    "\n",
    "Runtime errors can be a little more difficult to debug: the error message and the traceback can tell us where the error occurred, but that doesn't necessarily tell us what the problem is. Sometimes they are caused by something obvious, like an incorrect variable name, but sometimes it's not clear which of many variables has an unexpected value.\n",
    "\n",
    "Logical errors are the most difficult to fix because they don't cause any errors in the code. All that we know is that the code is not behaving as it should be. A quick and simple way of testing that a program for logical errors, for example, is to insert `print()` statements at different lines to check how the output is changing. This will output the intermediate results which were calculated on that line. Most programmers intuitively do this as they are writing a function, or perhaps if they need to figure out why it isn't doing the right thing."
   ]
  }
 ],
 "metadata": {
  "kernelspec": {
   "display_name": "Python 3 (ipykernel)",
   "language": "python",
   "name": "python3"
  },
  "language_info": {
   "codemirror_mode": {
    "name": "ipython",
    "version": 3
   },
   "file_extension": ".py",
   "mimetype": "text/x-python",
   "name": "python",
   "nbconvert_exporter": "python",
   "pygments_lexer": "ipython3",
   "version": "3.9.15"
  }
 },
 "nbformat": 4,
 "nbformat_minor": 5
}
