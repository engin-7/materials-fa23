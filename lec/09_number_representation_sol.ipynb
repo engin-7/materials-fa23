{
 "cells": [
  {
   "cell_type": "markdown",
   "id": "1b1e6b4c",
   "metadata": {},
   "source": [
    "# 0. Motivation\n",
    "\n",
    "You might have previously seen results of certain simple computations displayed with many decimal points, more than might be necessary. Are these results really that accurate?! No, this is really exposing how computers store numbers and the type of data used to store these numbers.\n",
    "\n",
    "<br>\n",
    "<figure>\n",
    "    <table><tr>\n",
    "    <td style=\"vertical-align:center\"> \n",
    "      <p align=\"center\" >\n",
    "        <img src=\"https://docs.google.com/drawings/d/e/2PACX-1vQlgRYCtbtiDSEI8g__ixMnbmgiPJI_MV-It-sWMgTJ1igVSFZ7_1gpz1IvGfobUQhEvd6YMYLA8GFl/pub?w=647&h=557\" style=\"border:1px solid black\">\n",
    "        <br>\n",
    "      </p> \n",
    "    </td>\n",
    "    <td style=\"vertical-align:center\"> \n",
    "      <p align=\"center\" >\n",
    "        <img src=\"https://external-preview.redd.it/af_vhL6fFiMy-J8K3NpG4ScuGUJV3_xjAereu7S4KxA.jpg?auto=webp&s=eec64f3d5b49cfd078a9d5577a6c30618a9d6510\" style=\"width:100%\">\n",
    "        <br>\n",
    "      </p> \n",
    "    </td>\n",
    "    <td style=\"vertical-align:center\"> \n",
    "      <p align=\"center\" >\n",
    "        <img src=\"https://docs.google.com/drawings/d/e/2PACX-1vSXO258qT0aG1L2vtUZdEWG7274V_bMYPenvQm7oXkOhSS_DcZYBQPA9VKWPuGwjZfcMnExxHxrtprR/pub?w=669&h=269\" style=\"border:1px solid black\">\n",
    "        <br>\n",
    "      </p> \n",
    "    </td>\n",
    "    </tr></table>\n",
    "    <figcaption style=\"text-align:center\"><strong>Examples of roundoff errors: (1) Gradescope, (2) Receipt, and (3) Python</strong></figcaption>  \n",
    "</figure>\n",
    "\n",
    "There are many ways of representing or writing numbers. For example, decimal numbers, scientific notation, Roman numerals, and even tally marks are all ways of representing numbers as shown in the following figure.\n",
    "\n",
    "<br>\n",
    "\n",
    "<figure>\n",
    "  <img src=\"https://pythonnumericalmethods.berkeley.edu/_images/09.00.1-Number-representations.png\" style=\"width:50%\">\n",
    "    <figcaption style=\"text-align:center\"><strong>Different number representations:</strong> <a href=\"https://pythonnumericalmethods.berkeley.edu/\">https://pythonnumericalmethods.berkeley.edu/</a></figcaption>   \n",
    "</figure>\n",
    "\n",
    "Although representing numbers might be an easy concept for us, humans, computers only have a limited amount of space to represent numbers. This presents a challenge for computers, since, mathematically, numbers can have infinite precision, while computers have limited precision. By the end of this section, you should be able to:\n",
    "* Explain different representations of numbers used in computing\n",
    "* Convert between different number representations\n",
    "* Identify limitations of different number representations\n",
    "* Describe and deal with roundoff errors"
   ]
  },
  {
   "cell_type": "markdown",
   "id": "1f66e8fd",
   "metadata": {},
   "source": [
    "# 1. Base-b Number Representation \n",
    "\n",
    "The base of a number representation, which we will refer to as $b$ herein, is the total number of possible digits that can be used in the number representation. When performing calculations, we commonly use the **decimal system**, which is a way of representing numbers that most people are familiar with. In the decimal system, a number can be represented by a list of digits from 0 to 9, which includes a total of 10 digits. Hence, the decimal system is known as $base$-$10$. \n",
    "\n",
    "It's important to clarify that the decimal system is not the only way of representing numbers. In fact, a base can be any whole number greater than 0. In general, a number system with base $b$ consists of digits within the range of $[0, b-1]$.\n",
    "\n",
    "## 1.1. Beyond the Decimal System\n",
    "\n",
    "The most commonly used number system is the decimal system, also known as $base$-$10$. Its popularity as a system of counting is most likely due to the fact that we have 10 fingers. For this system, each digit represents the coefficient for a power of 10. For example: \n",
    "\n",
    "$$184 = 100 + 80 + 4 = 1\\cdot 10^2 + 8\\cdot 10^1 + 4\\cdot 10^0$$\n",
    "\n",
    "Each digit is associated with a power of 10, and there are 10 possible digits: $0, 1, 2, ..., 9$. However, there is nothing special about $base$-$10$ numbers except perhaps that you are more accustomed to using them."
   ]
  },
  {
   "cell_type": "markdown",
   "id": "d404898c",
   "metadata": {},
   "source": [
    "## 1.2. Binary System ($base$-$2$)\n",
    "\n",
    "Computers are not built with the decimal number system. This is because computers are built with electronic circuits, each part of which can be either on or off (think of it as a switch that can be on or off). As there are only two options, they can only represent two different digits, 0 and 1. This is called the **binary system**, or $base$-$2$. In binary, the only possible digits are 0 and 1 (recall $[0, b-1]$ range), and each digit is the coefficient of a power of 2. For example:\n",
    "\n",
    "$$11 \\ (base\\ 10) = 8 + 2 + 1 = 1\\cdot 2^3 + 0\\cdot 2^2 + 1\\cdot 2^1 + 1\\cdot 2^0 = 1011 \\ (base \\ 2)$$\n",
    "\n",
    "<br>\n",
    "<figure>\n",
    "  <img src=\"https://docs.google.com/drawings/d/e/2PACX-1vT_JEh5xv7qHPvXW0NGGCxPvvaBL-rWbDnLZFfTAdnJiq0NmL1Wu8jdGKftYnhR3O6W1rWcHc3hb24c/pub?w=956&h=693\" style=\"width:40%\">\n",
    "    <figcaption style=\"text-align:center\"><strong>Representing 11 in Binary system</strong></figcaption>   \n",
    "</figure>\n",
    "<br>\n",
    "\n",
    "Below is a table with decimal ($base$-$10$) and the corresponding binary ($base$-$2$) representation of some numbers.\n",
    "\n",
    "| Decimal | Binary | Binary Explanation                 |\n",
    "|:--------|:------ |:---------------------------------- |\n",
    "| 0       | 0      | 0 ones                             |\n",
    "| 1       | 1      | 1 one                              |                  \n",
    "| 2       | 10     | 1 two, 0 ones                      |\n",
    "| 3       | 11     | 1 two, 1 one                       |\n",
    "| 4       | 100    | 1 four, 0 twos, 0 ones             |\n",
    "| 5       | 101    | 1 four, 0 twos, 1 one              |\n",
    "| 6       | 110    | 1 four, 1 two, 0 ones              |\n",
    "| 7       | 111    | 1 four, 1 two, 1 one               |\n",
    "| 8       | 1000   | 1 eight, 0 fours, 0 twos, 0 ones   |\n",
    "| 9       | 1001   | 1 eight, 0 fours, 0 twos, 1 one    |\n",
    "| 10      | 1010   | 1 eight, 0 fours, 1 two, 0 ones    |\n",
    "| 11      | 1011   | 1 eight, 0 fours, 1 two, 1 one     |\n",
    "| 12      | 1100   | 1 eight, 1 four, 0 twos, 0 ones    |\n",
    "| 13      | 1101   | 1 eight, 1 four, 0 twos, 1 one     |\n",
    "| 14      | 1110   | 1 eight, 1 four, 1 two, 0 ones     |\n",
    "| 15      | 1111   | 1 eight, 1 four, 1 two, 1 one      |\n",
    "\n",
    "<div class=\"alert alert-block alert-info\"> <b>TRY IT!</b> Convert the number 20 ($base$-$10$) into binary. First try to do it by hand and then use the function <code>np.base_repr(number, base=b)</code>.</div>"
   ]
  },
  {
   "cell_type": "code",
   "execution_count": 2,
   "id": "ab3439e6",
   "metadata": {},
   "outputs": [
    {
     "data": {
      "text/plain": [
       "'10100'"
      ]
     },
     "execution_count": 2,
     "metadata": {},
     "output_type": "execute_result"
    }
   ],
   "source": [
    "import numpy as np\n",
    "\n",
    "# convert 20 (base-10) to binary\n",
    "np.base_repr(20, base=2)"
   ]
  },
  {
   "cell_type": "markdown",
   "id": "64ee7388",
   "metadata": {},
   "source": [
    "We can also display the binary representation of a number using the function `bin(number)`. For example, `bin(5)` will return `0b101`, where the prefix `0b` indicates that this is a binary string, followed by the binary representation of the input, which is `101` in this case.\n",
    "\n",
    "<div class=\"alert alert-block alert-info\"> <b>TRY IT!</b> Convert the number 20 ($base$-$10$) into binary using the Python function <code>bin(number)</code>.</div>"
   ]
  },
  {
   "cell_type": "code",
   "execution_count": 3,
   "id": "0eb7f166",
   "metadata": {},
   "outputs": [
    {
     "data": {
      "text/plain": [
       "'0b10100'"
      ]
     },
     "execution_count": 3,
     "metadata": {},
     "output_type": "execute_result"
    }
   ],
   "source": [
    "# convert 20 (base-10) to binary\n",
    "bin(20)"
   ]
  },
  {
   "cell_type": "markdown",
   "id": "1d46382a",
   "metadata": {},
   "source": [
    "> \"There are 10 kinds of people in the world: those who understand binary numerals, and those who don't.\" – Ian Stewart\n",
    "\n",
    "Binary numbers can get long very quickly. The binary representation of 35000 is 1000100010111000. This is the reason why we humans can't work the same way with binary numbers as computers can. It is just not easy to comprehend the never-ending sequences of 0s and 1s! This is where octal and hexadecimal systems step in. As can be judged by the names, octal uses $base$-$8$ while hexadecimal uses $base$-$16$. Numbers that otherwise span long lines in binary notation span considerably less space in octal and hexadecimal notations.\n",
    "\n",
    "## 1.3. Octal System ($base$-$8$)\n",
    "\n",
    "In an **octal system**, or $base$-$8$, the  possible digits are between 0 and 7, and each digit is the coefficient of a power of 8. For example:\n",
    "\n",
    "$$11 \\ (base\\ 10) = 8 + 3 = 1\\cdot 8^1  + 3\\cdot 8^0 = 13 \\ (base \\ 8)$$\n",
    "\n",
    "<div class=\"alert alert-block alert-danger\"> <b>TRY IT!</b> Convert 1375 ($base$-$10$) into octal. First try to do it by hand and then use the function <code>np.base_repr(number, base=b)</code> or <code>oct(number)</code>.</div>"
   ]
  },
  {
   "cell_type": "code",
   "execution_count": null,
   "id": "6fced381",
   "metadata": {},
   "outputs": [],
   "source": []
  },
  {
   "cell_type": "markdown",
   "id": "c76024b7",
   "metadata": {},
   "source": [
    "## 1.4. Hexadecimal System ($base$-$16$)\n",
    "\n",
    "In a **hexadecimal system** (Hex for short), or $base$-$16$, the  possible digits are 0, 1, 2, 3, 4, 5, 6, 7, 8, 9, A, B, C, D, E and F, and each digit is the coefficient of a power of 16. For example:\n",
    "\n",
    "$$11 \\ (base\\ 10) = 11\\cdot 16^0 = B \\ (base \\ 16)$$\n",
    "\n",
    "<div class=\"alert alert-block alert-warning\"> <b>NOTE!</b> Since values greater than 9 would require two digits to be represented, under this system such values are represented by a single letter.</div>\n",
    "\n",
    "Below is a table with decimal ($base$-$10$) and the corresponding binary ($base$-$2$) and hexadecimal ($base$-$16$) representation of some numbers.\n",
    "\n",
    "| Decimal | Binary | Hexadecimal |\n",
    "|:--------|:------ |:----------- |\n",
    "| 0       | 0      | 0           |\n",
    "| 1       | 1      | 1           |                  \n",
    "| 2       | 10     | 2           |\n",
    "| 3       | 11     | 3           |\n",
    "| 4       | 100    | 4           |\n",
    "| 5       | 101    | 5           |\n",
    "| 6       | 110    | 6           |\n",
    "| 7       | 111    | 7           |\n",
    "| 8       | 1000   | 8           |\n",
    "| 9       | 1001   | 9           |\n",
    "| 10      | 1010   | A           |\n",
    "| 11      | 1011   | B           |\n",
    "| 12      | 1100   | C           |\n",
    "| 13      | 1101   | D           |\n",
    "| 14      | 1110   | E           |\n",
    "| 15      | 1111   | F           |\n",
    "\n",
    "<div class=\"alert alert-block alert-danger\"> <b>TRY IT!</b> Convert 1375 ($base$-$10$) into hexadecimal. First try to do it by hand then use the function <code>np.base_repr(number, base=b)</code> or <code>hex(number)</code>.</div>"
   ]
  },
  {
   "cell_type": "code",
   "execution_count": null,
   "id": "94d31026",
   "metadata": {},
   "outputs": [],
   "source": []
  },
  {
   "cell_type": "markdown",
   "id": "da6b830f",
   "metadata": {},
   "source": [
    "# 2. Integers Using Bits and Bytes\n",
    "\n",
    "\n",
    "## 2.1. Bit\n",
    "\n",
    "An important part of understanding number representations is appreciating how computer storage works. Computer memory is essentially a continuous sequence of 0s and 1s, where each of these digits is known as a **bit** (abbreviation for <strong><u>bi</u></strong>nary digi<strong><u>t</u></strong>). So, each bit can take one of two values: either 0 or 1, which is why representing it in terms of binary makes sense. A bit is the smallest building block of memory. \n",
    "\n",
    "Computers have a fixed number of bits that they are capable of storing at one time, and the number of bits controls how many numbers can be stored, the smallest and largest possible numbers, etc. For example, if all bits are used to represent unsigned integer binary numbers, and we have eight bits, then the maximum number that can be stored is:\n",
    "\n",
    "* Eight bits: 11111111 $= 1\\cdot 2^7+1\\cdot 2^6+1\\cdot 2^5+1\\cdot 2^4+1\\cdot 2^3+1\\cdot 2^2+1\\cdot 2^1+1\\cdot 2^0=255$ ($base$-$10$)\n",
    "\n",
    "Then with eight bits, we can store all integers between 0 and 255, which is equivalent to 256 numbers $(256 = 2^8)$. In general with $n$ bits, we could represent $2^n$ different numbers. If all bits are used to represent unsigned integer numbers, the largest number that can be stored is $2^n-1$ ($base$-$10$). The greater the magnitude of the number we wish to store, the more bits are required.\n",
    "\n",
    "## 2.2. Byte\n",
    "\n",
    "In the early days of computing, data transmission and memory handling were limited. Computers could transmit only eight bits of data at a time. Consequently, it became customary to organize and work with data in groups of eight bits. This grouping of eight sequential bits came to be known as **byte**.\n",
    "\n",
    "<br>\n",
    "\n",
    "<figure>\n",
    "  <img src=\"https://static.wixstatic.com/media/4efae8_900c77e24dce40f09345ed36b8634ba6~mv2.jpg/v1/fill/w_609,h_210,al_c,lg_1,q_80/4efae8_900c77e24dce40f09345ed36b8634ba6~mv2.jpg\" style=\"width:50%\">\n",
    "    <figcaption style=\"text-align:center\"><strong>Difference between a bit and a byte:</strong> <a href=\"https://admeri1d.wixsite.com/website/post/10-maneras-de-consolidar-tu-equipo-de-trabajo/\">https://admeri1d.wixsite.com/</a></figcaption>   \n",
    "</figure>\n",
    "\n",
    "This is why when talking about bits, for example 64-bit or 32-bit operating system, the number of bits will almost always be multiples of 8. This is because computers continue to handle data in groups of eight bits (bytes).\n",
    "\n",
    "## 2.3. Unsigned Integers\n",
    "\n",
    "So how does all this relate to how Python represents numbers? We previously said that all variables have a type, which determines how a variable is stored and what operations can be performed on it. Some programming languages are *statically-typed*, which means that they require you to declare the variable type before you use them. On the other end, *dynamically-typed* languages, like Python, are more flexible where the interpreter determines the type dynamically. While every variable still has a type, we don't have to say what the type is; Python can figure it out for itself. \n",
    "\n",
    "Consider the two following code examples:\n",
    "\n",
    "```javascript\n",
    "// Java example, which is a statically-typed language\n",
    "int num; // declare variable num as an int first\n",
    "num = 5; // assign variable num the value 5\n",
    "```\n",
    "---\n",
    "```python\n",
    "# Python example, which is a dynamically-typed language\n",
    "num = 5 # directly assign variable num the value 5 without declaring its type first ― Pyhton will determine its type \n",
    "```\n",
    "\n",
    "Integers (`int`) are whole numbers, and can be positive or negative. Python infers the type of a number from the way we input it. It will infer an `int` if we assign a number with no decimal place. If we add a decimal point, the variable type becomes `float` (more on this later). \n",
    "\n",
    "<div class=\"alert alert-block alert-info\"> <b>TRY IT!</b> Define a variable <code>num = 5</code> then determine its type using the <code>type()</code> function.</div>"
   ]
  },
  {
   "cell_type": "code",
   "execution_count": 6,
   "id": "087d0798",
   "metadata": {},
   "outputs": [
    {
     "data": {
      "text/plain": [
       "int"
      ]
     },
     "execution_count": 6,
     "metadata": {},
     "output_type": "execute_result"
    }
   ],
   "source": [
    "num = 5\n",
    "type(num)"
   ]
  },
  {
   "cell_type": "markdown",
   "id": "a90e41d2",
   "metadata": {},
   "source": [
    "Most programming languages, such as Java and C++, use a fixed number of bits to store integers, typically 32 bits (though shorter and longer integer types can be declared). In this fixed-size approach, the largest integer that can be stored using 32 bits is: $2,147,483,647$.\n",
    "\n",
    "If we have a fixed number of bits to represent integers, and as we saw earlier, there will be a bound/limit on the largest number that can be represented. When an operation generates a number that exceeds this limit, it results in a phenomenon known as **overflow**. Overflow leads to unpredictable behavior in computer responses. For example, attempting to assign the number $2,147,483,648$ to a 32-bit unsigned integer would cause overflow.\n",
    "\n",
    "> In 2014, Google faced the overflow issue when the video \"Gangnam Style\" was viewed more than 2,147,483,647 times, exceeding the limit of 32-bit integers. To address this, Google switched to using 64-bit integers to count views on videos, allowing for much larger view counts.\n",
    "\n",
    "<figure>\n",
    "  <img src=\"https://techcrunch.com/wp-content/uploads/2014/12/psy.png\" style=\"width:50%\">\n",
    "    <figcaption style=\"text-align:center\"><strong>YouTube blog post:</strong> <a href=\"https://techcrunch.com/2014/12/03/gangnam-style-has-been-viewed-so-many-times-it-broke-youtubes-code/\">https://techcrunch.com/</a></figcaption>   \n",
    "</figure>\n",
    "<br>\n",
    "\n",
    "Python, however, takes a different approach. It doesn't use a fixed number of bits to store integers; instead, it employs a variable number of bits. This dynamic allocation of bits means that Python can adapt the bit size to the magnitude of the integer being represented. For instance, Python can use 8 bits, 16 bits, 32 bits, 64 bits, 128 bits, and so on, depending on the memory available.\n",
    "\n",
    "This flexibility ensures that Python avoids integer overflows because it can allocate more bits when needed to accommodate larger numbers. Therefore, the maximum integer that Python can represent depends on the available memory.\n",
    "\n",
    "<div class=\"alert alert-block alert-info\"> <b>TRY IT!</b> Check the number of bits necessary to represent the following integers in binary using the <code>int.bit_length()</code> function, where <code>int</code> should be replaced with the variable name of each number: $8$ and $2^{32}$.</div>"
   ]
  },
  {
   "cell_type": "code",
   "execution_count": 7,
   "id": "52abb582",
   "metadata": {},
   "outputs": [
    {
     "name": "stdout",
     "output_type": "stream",
     "text": [
      "4\n",
      "33\n"
     ]
    }
   ],
   "source": [
    "num1 = 8\n",
    "num2 = 2 ** 32\n",
    "\n",
    "print(num1.bit_length())\n",
    "print(num2.bit_length())"
   ]
  },
  {
   "cell_type": "markdown",
   "id": "3d89f85b",
   "metadata": {},
   "source": [
    "## 2.4. Signed Integers\n",
    "\n",
    "So far we did not distinguish between negative and positive integers. What if we want to represent negative integers? Python has one type for integers (`int`), which includes any integers (negative and non-negative). However, other programming languages employ distinct data types for signed and unsigned integers.\n",
    "\n",
    "1. Unsigned Integers: When a data type is unsigned, all its bits are used to represent the integer's magnitude, just like we discussed earlier. There's no bit allocated for the sign. Therefore, all values stored in this data type are treated as non-negative.\n",
    "\n",
    "2. Signed Integers: In contrast, when a data type is signed, it uses the leftmost bit to represent the sign, with the remaining bits representing the numeric value. If the leftmost bit is 1, it signifies a negative number, while 0 indicates a positive number.\n",
    "\n",
    "<div class=\"alert alert-block alert-success\"> <b>TIP!</b> Think of the sign bit as $(-1)^{bit}$, which gives negative if bit = 1, non-negative if bit = 0.</div>\n",
    "\n",
    "Below is an example of binary representation of a signed integer using 8 bits. \n",
    "\n",
    "<figure>\n",
    "  <img src=\"https://www.electronics-lab.com/wp-content/uploads/2022/07/sign_and_magnitude.png\" style=\"width:70%\">\n",
    "    <figcaption style=\"text-align:center\"><strong>8-bit signed integer:</strong> <a href=\"https://www.electronics-lab.com/article/signed-binary-numbers/\">https://www.electronics-lab.com/</a></figcaption>   \n",
    "</figure>\n",
    "\n",
    "MATLAB for example distinguishes between signed and unsigned integers. Below is a list of some data types (referred to as classes in MATLAB) for integers and the range of numbers they can represent.\n",
    "\n",
    "| Integer Class | Description              | Range of Values     |\n",
    "|:--------------|:------------------------ |:--------------------|\n",
    "| uint8         | Unsigned 8-bit integer   | $0$ to $255$        |\n",
    "| int8          | Signed 8-bit integer     | $-128$ to $127$     |\n",
    "| uint16        | Unsigned 16-bit integer  | $0$ to $65535$      |\n",
    "| int16         | Signed 16-bit integer    | $-32768$ to $32767$ |\n",
    "\n",
    "For unsigned integers, the range of values is $0$ to $2^n-1$, where $n$ is the number of bits. For signed integers, the range of values is $-2^{n-1}$ to $2^{n-1}-1$. However, as noted earlier, Python does not distinguish between signed and unsigned integers, and only has one type for integers (`int`), which includes any integers (negative and non-negative).\n",
    "\n",
    "<div class=\"alert alert-block alert-danger\"> <b>TRY IT!</b> Write a Python function <code>int32()</code> that takes any integer between $-2^{31}$ and $2^{31}-1$ and returns its binary representation using 32-bits. The function should raise an error if the input has an incorrect format (e.g., decimal) or is outside the bounds.</div>"
   ]
  },
  {
   "cell_type": "markdown",
   "id": "289ea821",
   "metadata": {},
   "source": [
    "# 3. Floating Point Numbers\n",
    "\n",
    "Up to this point, we've discussed number representations that utilize all available bits to represent integers. However, in this case, you cannot compute the perfectly reasonable sum $0.5 + 1.25$. Using a pure integer representation, this calculation becomes problematic. Binary representation lacks the necessary range and precision for handling fractional values effectively, making it unsuitable for many engineering calculations.\n",
    "\n",
    "To overcome these limitations while maintaining the same number of bits, we use **floating point** numbers or **float** for short. We have seen `float` type in Python, which is used to represent numbers with a fractional component.\n",
    "\n",
    "<div class=\"alert alert-block alert-info\"> <b>TRY IT!</b> Determine the type of $0.5 + 1.25$ using the <code>type()</code> function.</div>"
   ]
  },
  {
   "cell_type": "code",
   "execution_count": 8,
   "id": "4672d3f2",
   "metadata": {},
   "outputs": [
    {
     "data": {
      "text/plain": [
       "float"
      ]
     },
     "execution_count": 8,
     "metadata": {},
     "output_type": "execute_result"
    }
   ],
   "source": [
    "type(0.5 + 1.25)"
   ]
  },
  {
   "cell_type": "markdown",
   "id": "16a8603d",
   "metadata": {},
   "source": [
    "## 3.1. IEEE 754 Format\n",
    "\n",
    "So how are `float` data types represented? The floating-point type is like scientific notation, e.g., $4.7821 \\times 10^{2}$. A number is written in scientific notation when a number between 1 and 10 is multiplied by a power of 10. This is based on the **decimal** ($base$-$10$) system. \n",
    "\n",
    "$$4.7821 \\times 10^{2} = \\left(4 \\cdot 10^0 + 7 \\cdot 10^{-1} + 8 \\cdot 10^{-2} + 2 \\cdot 10^{-3} + 1 \\cdot 10^{-4}\\right) \\times 10^2 = 478.21 \\ (base \\ 10)$$\n",
    "\n",
    "With a **binary** ($base$-$2$) system, an example of scientific notation would be $1.101111 \\times 2^{3}$. In this case, each digit can only be 1 or 0 and the number is multiplied by a power of 2.\n",
    "\n",
    "$$1.1011 \\times 2^{3} = \\left(1 \\cdot 2^0 + 1 \\cdot 2^{-1} + 0 \\cdot 2^{-2} + 1 \\cdot 2^{-3} + 1 \\cdot 2^{-4} \\right) \\times 2^3 = 1.6875 \\times 2 ^ 3 = 13.5 \\ (base \\ 10)$$\n",
    "\n",
    "<br>\n",
    "\n",
    "<figure>\n",
    "  <img src=\"https://docs.google.com/drawings/d/e/2PACX-1vQfLTIOmwnqgP5z-BchQNU6NYxIRCOdXUgQr0mhQHMUam4cFe7Rasn4Z6V8VyWcOUStWCCfDxrsCj_q/pub?w=1357&h=438\" style=\"width:100%\">\n",
    "    <figcaption style=\"text-align:center\"><strong>Floating point numbers in decimal and binary</strong></figcaption>   \n",
    "</figure>\n",
    "\n",
    "<br>\n",
    "\n",
    "Floating-point numbers are standardized by the IEEE 754 standard, established in 1985 by the Institute of Electrical and Electronics Engineers (IEEE). This standard addressed various issues in floating-point computation. Instead of using each bit as a coefficient of a power of 2, floating-point numbers allocate bits to three components:\n",
    "1. The **sign**, $s$, which says whether a number is positive (0) or negative (1)\n",
    "2. The biased **exponent**, $e$, which is the power of 2\n",
    "3. The **fraction**, $f$ (also known as significand), which is the coefficient of the exponent\n",
    "\n",
    "So, the number can be represented as:\n",
    "\n",
    "$$n = (-1)^s \\ 2^e \\ (1.f) \\rightarrow (-1)^0 \\ 2^3 \\ (1.1011)$$\n",
    "\n",
    "Floating-point numbers can be represented in double precision or single precision, depending on the required precision and the number of available bits:\n",
    "* Double precision: 64 total bits\n",
    "* Single precision: 32 total bits\n",
    "\n",
    "### 3.1.1. Double Precision\n",
    "\n",
    "Almost all platforms map Python floats to the **IEEE 754 double precision** format with 64 total bits, which are allocated as follows:\n",
    "1. 1 bit is allocated to the **sign**, $s$\n",
    "2. 11 bits are allocated to the **exponent**, $e$\n",
    "3. 52 bits are allocated to the **fraction**, $f$\n",
    "\n",
    "<br>\n",
    "\n",
    "<figure>\n",
    "  <img src=\"https://docs.google.com/drawings/d/e/2PACX-1vS6dt_dL9iCyaZJXLzvB60pihc4auYBC5JxKIenHdtAGDQj33GtcFXxrGYR-DWhLL9YpT6Ugru0N813/pub?w=1180&h=277\" style=\"width:80%\">\n",
    "    <figcaption style=\"text-align:center\"><strong>IEEE 754 Double Precision</strong></figcaption>   \n",
    "</figure>\n",
    "\n",
    "<br>\n",
    "\n",
    "With 11 bits allocated to the exponent, it can represent a total of $2^{11}=2048$ different values. Since we want to be able to make very precise numbers, we want some of these values to represent negative exponents. To accomplish this, $1023$ is subtracted from the exponent to normalize it. The value subtracted from the exponent is commonly referred to as the **bias**. A float can then be represented using 64 bit as:\n",
    "\n",
    "$$n = (-1)^s 2^{e-1023} (1+f)$$ \n",
    "\n",
    "The above equation applies $\\text{if} \\; e \\ne 0 \\; \\text{and} \\; e \\ne 2047$. IEEE has reserved some values for special cases, as shown below:\n",
    "\n",
    "$$\\begin{align}\n",
    "(-1)^s \\times 2^{1-1023} \\times f && \\text{if} \\; e = 0 \\; \\text{and} \\; f \\ne 0 \\\\\n",
    "0 && \\text{if} \\; e = 0 \\; \\text{and} \\; f = 0 \\\\\n",
    "(-1)^s \\times \\infty && \\text{if} \\; e = 2047 \\; \\text{and} \\; f = 0 \\\\\n",
    "NaN \\;(\\text{Not a Number}) && \\text{if} \\; e = 2047 \\; \\text{and} \\; f \\ne 0\n",
    "\\end{align}$$\n",
    "\n",
    "### 3.1.2. Single Precision\n",
    "\n",
    "Alternatively, single precision uses only 32 total bits, which are allocated as follows:\n",
    "1. 1 bit is allocated to the **sign**, $s$\n",
    "2. 8 bits are allocated to the **exponent**, $e$\n",
    "3. 23 bits are allocated to the **fraction**, $f$\n",
    "\n",
    "With only 8 bits allocated to the exponent, it can represent a total of $2^{8}=256$ different values (compared to $2048$ for double precision). Thus, the bias value is reduced for single precision, and the formula becomes:\n",
    "\n",
    "$$n = (-1)^s 2^{e-127} (1+f)$$ \n",
    "\n",
    "<br>\n",
    "\n",
    "<figure>\n",
    "  <img src=\"https://docs.google.com/drawings/d/e/2PACX-1vSSZdTLRXoKavtLgSSGSW5AtrStxPn_EbjAr29RlSBd4CmcRhOixFL8lnav35QVN8PqsOxNvgJTTXSz/pub?w=1439&h=624\" style=\"width:40%\">\n",
    "    <figcaption style=\"text-align:center\"><strong>IEEE 754 Single Precision</strong></figcaption>   \n",
    "</figure>\n",
    "\n",
    "<br>\n",
    "\n",
    "The above equation applies $\\text{if} \\; e \\ne 0 \\; \\text{and} \\; e \\ne 255$. IEEE has reserved some values for special cases, as shown below:\n",
    "\n",
    "$$\\begin{align}\n",
    "(-1)^s \\times 2^{1-127} \\times f && \\text{if} \\; e = 0 \\; \\text{and} \\; f \\ne 0 \\\\\n",
    "0 && \\text{if} \\; e = 0 \\; \\text{and} \\; f = 0 \\\\\n",
    "(-1)^s \\times \\infty && \\text{if} \\; e = 255 \\; \\text{and} \\; f = 0 \\\\\n",
    "NaN \\;(\\text{Not a Number}) && \\text{if} \\; e = 255 \\; \\text{and} \\; f \\ne 0\n",
    "\\end{align}$$\n",
    "\n",
    "<div class=\"alert alert-block alert-info\"> <b>TRY IT!</b> What is the number 0 10000000010 1110000000000000000000000000000000000000000000000000 (IEEE754) in $base$-$10$?</div>"
   ]
  },
  {
   "cell_type": "markdown",
   "id": "a98ccad9",
   "metadata": {},
   "source": [
    "1. The sign bit is 0: positive\n",
    "2. The exponent bits are 10000000010, which is equivalent to $1 \\cdot 2^{10} + 1 \\cdot   2^{1} = 1026$ ($base$-$10$). After accounting for the bias, the exponent becomes: $1026- 1023 = 3$ ($base$-$10$)\n",
    "3. The fraction bits are 1110000000000000000000000000000000000000000000000000, which is equivalent to: $1 \\cdot 2^{-1} + 1 \\cdot 2^{-2} + 1 \\cdot 2^{-3} = 0.875$\n",
    "\n",
    "Finally:\n",
    "$$n = (-1)^0  \\cdot  2^{3}  \\cdot (1 + 0.875) = 15.0 \\ (base\\ 10)$$ \n",
    "\n",
    "## 3.2. Gaps Between Numbers\n",
    "\n",
    "Mathematically, there are an infinite real numbers. However, Python uses a finite number of bits to represent each number. Therefore, there is a non-zero gap between any two consecutive numbers that one can represent in binary.\n",
    "\n",
    "| Number              | IEEE 754 Representation                                              | Decimal Representation |\n",
    "|:--------------------|:-------------------------------------------------------------------- |:-----------------------|\n",
    "| 15.0                | `0 10000000010 1110000000000000000000000000000000000000000000000000` | 15.0                   |\n",
    "| Next larger number  | `0 10000000010 1110000000000000000000000000000000000000000000000001` | 15.0000000000000017763568394003 |\n",
    "| Next smaller number | `0 10000000010 1101111111111111111111111111111111111111111111111111` | 14.9999999999999982236431605997 |\n",
    "\n",
    "Therefore, the IEEE 754 number 0 10000000010 1110000000000000000000000000000000000000000000000000 not only represents the number 15.0, but also all the real numbers halfway between its immediate neighbors. So any computation that has a result within this interval will be assigned 15.0. \n",
    "\n",
    "<div class=\"alert alert-block alert-info\"> <b>TRY IT!</b> Use Python to check if $15+2^{-52}$ is equal to $15$.</div>"
   ]
  },
  {
   "cell_type": "code",
   "execution_count": 1,
   "id": "b45b3c63",
   "metadata": {},
   "outputs": [
    {
     "data": {
      "text/plain": [
       "True"
      ]
     },
     "execution_count": 1,
     "metadata": {},
     "output_type": "execute_result"
    }
   ],
   "source": [
    "15 + 2 ** -52 == 15"
   ]
  },
  {
   "cell_type": "markdown",
   "id": "0e62d6f4",
   "metadata": {},
   "source": [
    "## 3.3. Overflow and Underflow\n",
    "\n",
    "So what are the maximum and minimum numbers that can be represented using `float` in Python? In Python, we could get the float information by importing the `sys` package and then using `sys.float_info.max` and `sys.float_info.min`.\n",
    "\n",
    "<div class=\"alert alert-block alert-info\"> <b>TRY IT!</b> Use Python to check the maximum and minimum numbers that can be represented using <code>float</code>.</div>"
   ]
  },
  {
   "cell_type": "code",
   "execution_count": 2,
   "id": "3de85d1d",
   "metadata": {},
   "outputs": [
    {
     "name": "stdout",
     "output_type": "stream",
     "text": [
      "Max float: 1.7976931348623157e+308\n",
      "Min float: 2.2250738585072014e-308\n"
     ]
    }
   ],
   "source": [
    "import sys\n",
    "\n",
    "print(f'Max float: {sys.float_info.max}')\n",
    "print(f'Min float: {sys.float_info.min}')"
   ]
  },
  {
   "cell_type": "markdown",
   "id": "eb1dea69",
   "metadata": {},
   "source": [
    "Numbers that are larger than the largest representable floating point number result in **overflow**. Numbers that are smaller than the smallest representable number result in **underflow**. \n",
    "\n",
    "<div class=\"alert alert-block alert-info\"> <b>TRY IT!</b> Show that adding the maximum 64 bits float number with itself results in overflow and that Python assigns this overflow number to <code>inf</code>. <br> &emsp;&emsp;&emsp;&ensp; Show that $2^{-1076}$ underflows to 0.0 and that the result cannot be distinguished from 0.0. <br> &emsp;&emsp;&emsp;&ensp; Show that $2^{-1074}$ does not underflow. </div>"
   ]
  },
  {
   "cell_type": "code",
   "execution_count": 3,
   "id": "4b5dfd74",
   "metadata": {},
   "outputs": [
    {
     "name": "stdout",
     "output_type": "stream",
     "text": [
      "inf\n",
      "0.0\n",
      "True\n",
      "5e-324\n"
     ]
    }
   ],
   "source": [
    "print(sys.float_info.max + sys.float_info.max)\n",
    "\n",
    "print(2 ** (-1076))\n",
    "\n",
    "print(2 ** (-1076) == 0)\n",
    "\n",
    "print(2 ** (-1074))"
   ]
  },
  {
   "cell_type": "markdown",
   "id": "c78c9b31",
   "metadata": {},
   "source": [
    "## 3.4. Ariane 5 Failure\n",
    "\n",
    "On June 4, 1996, the European Space Agency's Ariane 5 unmanned rocket encountered a catastrophic failure, becoming one of the most infamous and financially devastating software bugs in history. The failure occurred a mere 40 seconds after liftoff, at an altitude of approximately 3700 meters, when the launcher veered off its intended flight path, broke apart, and exploded.\n",
    "\n",
    "<br>\n",
    "<figure>\n",
    "  <img src=\"https://hackaday.com/wp-content/uploads/2016/06/explosion_of_first_ariane_5_flight_june_4_1996_blog_featured.jpg?w=800\" style=\"width:70%\">\n",
    "    <figcaption style=\"text-align:center\"><strong>Liftoff of Ariane 5 and its explosion about 40 seconds later:</strong> <a href=\"https://hackaday.com/2016/06/30/fail-of-the-week-in-1996-the-7-billion-dollar-overflow/\">https://hackaday.com/</a></figcaption>   \n",
    "</figure>\n",
    "\n",
    "The Ariane 5 rocket explosion was caused by an integer overflow. The velocity of the rocket was stored as a 64-bit float, which was perfectly adequate. However, the velocity was being converted in the navigation software to a 16-bit integer for further processing. In the initial seconds of the flight, when the rocket's acceleration was low, this conversion proceeded without issue. However, as the rocket accelerated, its velocity increased significantly, surpassing the maximum value that a 16-bit integer could represent, which resulted in an overflow error, and subsequently, failure of the navigation system.\n",
    "\n",
    "The Ariane 5 incident serves as a stark reminder of the critical importance of proper software design and the handling of data types, particularly in safety-critical systems. The cost of this failure exceeded $370 million, underscoring the significance of thorough testing and verification in engineering and software development.\n",
    "\n",
    "<div class=\"alert alert-block alert-info\"> <b>TRY IT!</b> Try to convert a velocity of $33000.1$ to a 16-bit integer using the function <code>np.int16(num)</code>.</div>\n",
    "\n",
    "The 16-bit integer has too few bits to represent the number, which results in overflow and unexpected behavior. The Ariane 5 failure would have been averted with pre-launch testing and few lines of code."
   ]
  },
  {
   "cell_type": "code",
   "execution_count": 4,
   "id": "e7839aa0",
   "metadata": {},
   "outputs": [
    {
     "name": "stdout",
     "output_type": "stream",
     "text": [
      "-32536\n"
     ]
    }
   ],
   "source": [
    "import numpy as np\n",
    "\n",
    "# velocity in float\n",
    "vel_float = 33000.1\n",
    "\n",
    "# convert to int\n",
    "vel_int = np.int16(vel_float)\n",
    "\n",
    "# print value\n",
    "print(vel_int)"
   ]
  },
  {
   "cell_type": "markdown",
   "id": "98cfb19b",
   "metadata": {},
   "source": [
    "## 3.5. IEEE 754 versus Binary\n",
    "\n",
    "So, what have we gained by using IEEE 754 versus binary? Using 64 bits binary gives us $2^{64}$ numbers (integers), which is ~18 quintillion numbers ($10^{18}$). Since the number of bits does not change, IEEE754 double precision also gives ~18 quintillion numbers. In binary, numbers have a constant spacing between them. As a result, you cannot have both range (i.e., large distance between minimum and maximum representable numbers) and precision (i.e., small spacing between numbers). Controlling these parameters would depend on where you put the decimal point in your number. IEEE 754 overcomes this limitation by using very high precision at small numbers and very low precision at large numbers. So, more of the numbers are allocated near 0 than near larger magnitudes. This limitation is usually acceptable (although could lead to problems if not accounted for) because the gap at large numbers is still small relative to the size of the number itself.\n",
    "\n",
    "The table below shows how the same 64-bit number represents different numbers based on the number representation.\n",
    "\n",
    "|                           | 0100000000101110000000000000000000000000000000000000000000000000 | \n",
    "| :------------------------ | :--------------------------------------------------------------- | \n",
    "| Signed 64-bit integer     | $4624633867356078000$ (base-10)                                  |\n",
    "| IEEE 754 double precision | $15.0$   (base-10)                                               |\n"
   ]
  },
  {
   "cell_type": "markdown",
   "id": "fd4d3241",
   "metadata": {},
   "source": [
    "# 4. Numerical Errors\n",
    "\n",
    "Since floating point numbers are represented in computers as base 2 fractions, not all numbers can be stored with perfect precision. Numerical errors arise from the use of approximations to represent exact mathematical operations and quantities. We will discuss two common numerical errors:\n",
    "1. Round-off errors: difference between an approximation of a number used in computation and its exact (correct) value.\n",
    "2. Truncation errors: difference between an actual and a truncated, or cut-off, value.\n",
    "\n",
    "We will focus on round-off errors here and discuss truncation errors later.\n",
    "\n",
    "## 4.1. Round-off Errors\n",
    "\n",
    "In computing, a round-off error, also called rounding error, is the difference between the result produced by an algorithm and the exact (correct) value. Rounding errors are due to the finite number of bits available to represent numbers. For example, if we want to assign the value 1/3 to a variable, the true value will be 0.333333333.... However, no matter how many decimal digits we choose, there will always be a round-off error. Increasing the number of bits in a representation reduces the magnitude of possible round-off errors, but will not completely eliminate it. Round-off errors cause surprising results in some cases.\n",
    "\n",
    "<div class=\"alert alert-block alert-info\"> <b>TRY IT!</b> Check if $0.3+0.3+0.3$ is equal to $0.9$ in Python. </div>"
   ]
  },
  {
   "cell_type": "code",
   "execution_count": 5,
   "id": "7e9b1c18",
   "metadata": {},
   "outputs": [
    {
     "data": {
      "text/plain": [
       "False"
      ]
     },
     "execution_count": 5,
     "metadata": {},
     "output_type": "execute_result"
    }
   ],
   "source": [
    "0.3 + 0.3 + 0.3 == 0.9"
   ]
  },
  {
   "cell_type": "markdown",
   "id": "98c046df",
   "metadata": {},
   "source": [
    "This occurs because the floating point number 0.3 cannot be represented by the exact number using `float`, which uses base 2 fractions. The number 0.3 is represented using the closest approximation, and when it is used in arithmetic, it causes a small error. If we print the value 0.3 using 20 figures after the decimal point (`print(\"{:.20f}\".format(.3))`), we will see that 0.3 is not represented exactly as 0.3 in Python. The difference between 0.3 and the binary representation is a round-off error.\n",
    "\n",
    "<div class=\"alert alert-block alert-info\"> <b>TRY IT!</b> Check how Python represents 0.3 by showing 20 digits after the decimal point. </div>"
   ]
  },
  {
   "cell_type": "code",
   "execution_count": 6,
   "id": "002f695c",
   "metadata": {},
   "outputs": [
    {
     "name": "stdout",
     "output_type": "stream",
     "text": [
      "0.29999999999999998890\n"
     ]
    }
   ],
   "source": [
    "print(\"{:.20f}\".format(.3))"
   ]
  },
  {
   "cell_type": "markdown",
   "id": "a1840ddc",
   "metadata": {},
   "source": [
    "<div class=\"alert alert-block alert-warning\"> <b>NOTE!</b> Some numbers can be perfectly represented using base 2 fractions, such as 0.5.</div>\n",
    "\n",
    "Although some numbers cannot be made closer to their intended exact values, the `round` function can be useful for post-rounding so that results with inexact values become comparable to one another. The syntax is: `round(number, digits)`, where:\n",
    "\n",
    "* `number`: the number to be rounded (can be a number, variable, expression, etc.)\n",
    "* `digits`: the number of decimals to use when rounding the number (default is 0, whole number)\n",
    "\n",
    "<div class=\"alert alert-block alert-info\"> <b>TRY IT!</b> Round $0.3+0.3+0.3$ to 2 decimals and check if it is equal to $0.9$ in Python. </div>"
   ]
  },
  {
   "cell_type": "code",
   "execution_count": 7,
   "id": "76d1a12b",
   "metadata": {},
   "outputs": [
    {
     "data": {
      "text/plain": [
       "True"
      ]
     },
     "execution_count": 7,
     "metadata": {},
     "output_type": "execute_result"
    }
   ],
   "source": [
    "round(0.3 + 0.3 + 0.3, 2) == 0.9"
   ]
  },
  {
   "cell_type": "markdown",
   "id": "9fdaf2bd",
   "metadata": {},
   "source": [
    "<div class=\"alert alert-block alert-info\"> <b>TRY IT!</b> Reproduce the round-off error below by adding the grades and checking the output.</div>\n",
    "\n",
    "<br>\n",
    "\n",
    "<figure>\n",
    "  <img src=\"https://docs.google.com/drawings/d/e/2PACX-1vQlgRYCtbtiDSEI8g__ixMnbmgiPJI_MV-It-sWMgTJ1igVSFZ7_1gpz1IvGfobUQhEvd6YMYLA8GFl/pub?w=647&h=557\" style=\"width:40%\">\n",
    "    <figcaption style=\"text-align:center\"><strong>Gradescope round-off error</strong></figcaption>   \n",
    "</figure>"
   ]
  },
  {
   "cell_type": "code",
   "execution_count": 8,
   "id": "c65c9c56",
   "metadata": {},
   "outputs": [
    {
     "data": {
      "text/plain": [
       "3.0999999999999996"
      ]
     },
     "execution_count": 8,
     "metadata": {},
     "output_type": "execute_result"
    }
   ],
   "source": [
    "0.5 + 0.5 + 0.5 + 0.5 + 0.3 + 0.3 + 0.5"
   ]
  },
  {
   "cell_type": "markdown",
   "id": "17b43bc2",
   "metadata": {},
   "source": [
    "## 4.2. Accumulation of Round-off Errors\n",
    "\n",
    "The round-off error for 0.3 is small, and in many cases, will not present a problem. However, when we are doing a sequence of calculations on an initial input with round-off error, the round-off errors can accumulate, resulting in undesirable output.  \n",
    "\n",
    "Consider for example the following trivial equation:\n",
    "\n",
    "$$ x = 11x - 10 x$$\n",
    "\n",
    "If $x=0.3$, then $10x=3$ and we can re-write the equation as:\n",
    "\n",
    "$$ x = 11x - 3$$\n",
    "\n",
    "So, if we start with $x=0.3$, and then compute $11x-3$, the answer should still be $0.3$, no matter how many times we repeat the calculation. So let's test this with 20 repetitions.\n",
    "\n",
    "<div class=\"alert alert-block alert-info\"> <b>TRY IT!</b> Define <code>x = 0.3</code> then iterate 20 times and in each iteration, reassign <code>x</code> the value of <code>11 * x - 3</code>. In each iteration, print the value of <code>x</code>.</div>"
   ]
  },
  {
   "cell_type": "code",
   "execution_count": 9,
   "id": "e3a7352e",
   "metadata": {},
   "outputs": [
    {
     "name": "stdout",
     "output_type": "stream",
     "text": [
      "0.2999999999999998\n",
      "0.29999999999999805\n",
      "0.2999999999999785\n",
      "0.29999999999976357\n",
      "0.29999999999739924\n",
      "0.2999999999713916\n",
      "0.29999999968530755\n",
      "0.29999999653838305\n",
      "0.29999996192221356\n",
      "0.2999995811443492\n",
      "0.29999539258784136\n",
      "0.29994931846625494\n",
      "0.2994425031288044\n",
      "0.2938675344168482\n",
      "0.2325428785853303\n",
      "-0.4420283355613668\n",
      "-7.862311691175035\n",
      "-89.48542860292538\n",
      "-987.3397146321792\n",
      "-10863.73686095397\n"
     ]
    }
   ],
   "source": [
    "x = 0.3\n",
    "\n",
    "for i in range(20):\n",
    "    x = 11 * x - 3\n",
    "    print(x)"
   ]
  },
  {
   "cell_type": "markdown",
   "id": "ef9964ff",
   "metadata": {},
   "source": [
    "The solution blows up and deviates widely from $x = 0.3$. Accumulation of round-off errors results in the error being amplified in each step, leading to an unexpected behavior. This is because the computer representation of $0.3$ is not exact, and every time we multiply $0.3$ by $11$, we increase the error."
   ]
  }
 ],
 "metadata": {
  "kernelspec": {
   "display_name": "Python 3 (ipykernel)",
   "language": "python",
   "name": "python3"
  },
  "language_info": {
   "codemirror_mode": {
    "name": "ipython",
    "version": 3
   },
   "file_extension": ".py",
   "mimetype": "text/x-python",
   "name": "python",
   "nbconvert_exporter": "python",
   "pygments_lexer": "ipython3",
   "version": "3.9.15"
  }
 },
 "nbformat": 4,
 "nbformat_minor": 5
}
