{
 "cells": [
  {
   "cell_type": "markdown",
   "id": "f133acb3",
   "metadata": {
    "id": "f133acb3"
   },
   "source": [
    "# E7 Discussion 5: Coding Challenge"
   ]
  },
  {
   "cell_type": "markdown",
   "id": "95b59811",
   "metadata": {
    "id": "95b59811"
   },
   "source": [
    "You are allowed to exchange ideas and work together with your discussion partner. The problems are designed to be challenging so do not feel discouraged if they take some time!  Try to complete the coding challenge within 10 minutes and your discussion GSI will show example solutions at the end of the discussion session."
   ]
  },
  {
   "cell_type": "markdown",
   "id": "24ff4a7f",
   "metadata": {
    "id": "24ff4a7f"
   },
   "source": [
    "## Question 1: Number Mountain!\n",
    "\n",
    "Write a function <code>pyramid(n)</code> that takes as input a positive integer <code>n</code> and prints every integer up to the given number <code>n</code> such that each integer is repeated a number of times equal to its value.\n",
    "\n",
    "**Examples:**\n",
    "\n",
    "```\n",
    ">>> pyramid(4)\n",
    "1\n",
    "22\n",
    "333\n",
    "4444\n",
    "```\n",
    "\n",
    "\n",
    "```\n",
    ">>> pyramid(10)\n",
    "1\n",
    "22\n",
    "333\n",
    "4444\n",
    "55555\n",
    "666666\n",
    "7777777\n",
    "88888888\n",
    "999999999\n",
    "10101010101010101010\n",
    "```"
   ]
  },
  {
   "cell_type": "code",
   "execution_count": 1,
   "id": "58c8a12f",
   "metadata": {
    "id": "58c8a12f"
   },
   "outputs": [
    {
     "name": "stdout",
     "output_type": "stream",
     "text": [
      "1\n",
      "22\n",
      "333\n",
      "4444\n",
      "55555\n",
      "666666\n",
      "7777777\n",
      "88888888\n",
      "999999999\n",
      "10101010101010101010\n",
      "1111111111111111111111\n",
      "121212121212121212121212\n",
      "13131313131313131313131313\n",
      "1414141414141414141414141414\n",
      "151515151515151515151515151515\n",
      "16161616161616161616161616161616\n",
      "1717171717171717171717171717171717\n",
      "181818181818181818181818181818181818\n",
      "19191919191919191919191919191919191919\n",
      "2020202020202020202020202020202020202020\n",
      "212121212121212121212121212121212121212121\n",
      "22222222222222222222222222222222222222222222\n",
      "2323232323232323232323232323232323232323232323\n",
      "242424242424242424242424242424242424242424242424\n",
      "25252525252525252525252525252525252525252525252525\n"
     ]
    }
   ],
   "source": [
    "# solution\n",
    "def pyramid(n):\n",
    "    for i in range(1, n+1):\n",
    "        print(str(i)*i)\n",
    "\n",
    "pyramid(25)"
   ]
  },
  {
   "cell_type": "markdown",
   "id": "41eef04e",
   "metadata": {
    "id": "41eef04e"
   },
   "source": [
    "## Question 2: The Looping Multiplication Table\n",
    "\n",
    "Using a nested for loop, print the multiplication table for all integers between 1 and 10. Note that by default, <code><a href=\"https://docs.python.org/3/library/functions.html#print\">print()</a></code> adds a new line at the end. You can modify this using the argument <code>end = ' '</code>, which adds a white space at the end.\n",
    "\n",
    "The output after running the code should look as follows:\n",
    "\n",
    "<pre>\n",
    "1 2 3 4 5 6 7 8 9 10\n",
    "2 4 6 8 10 12 14 16 18 20\n",
    "3 6 9 12 15 18 21 24 27 30\n",
    "4 8 12 16 20 24 28 32 36 40\n",
    "5 10 15 20 25 30 35 40 45 50\n",
    "6 12 18 24 30 36 42 48 54 60\n",
    "7 14 21 28 35 42 49 56 63 70\n",
    "8 16 24 32 40 48 56 64 72 80\n",
    "9 18 27 36 45 54 63 72 81 90\n",
    "10 20 30 40 50 60 70 80 90 100\n",
    "</pre>"
   ]
  },
  {
   "cell_type": "code",
   "execution_count": 2,
   "id": "dda9f351",
   "metadata": {
    "id": "dda9f351"
   },
   "outputs": [
    {
     "name": "stdout",
     "output_type": "stream",
     "text": [
      "1 2 3 4 5 6 7 8 9 10 \n",
      "2 4 6 8 10 12 14 16 18 20 \n",
      "3 6 9 12 15 18 21 24 27 30 \n",
      "4 8 12 16 20 24 28 32 36 40 \n",
      "5 10 15 20 25 30 35 40 45 50 \n",
      "6 12 18 24 30 36 42 48 54 60 \n",
      "7 14 21 28 35 42 49 56 63 70 \n",
      "8 16 24 32 40 48 56 64 72 80 \n",
      "9 18 27 36 45 54 63 72 81 90 \n",
      "10 20 30 40 50 60 70 80 90 100 \n"
     ]
    }
   ],
   "source": [
    "# solution\n",
    "# to iterate from 1 to 10\n",
    "for i in range(1, 11): # outer loop\n",
    "\n",
    "    # for every iteration of the outer loop, iterate from 1 to 10\n",
    "    for j in range(1, 11): # inner loop\n",
    "\n",
    "        # print multiplication\n",
    "        print(i * j, end=' ')\n",
    "\n",
    "    # go to new line after inner loop is completed\n",
    "    print()"
   ]
  },
  {
   "cell_type": "markdown",
   "id": "826e9c1b",
   "metadata": {},
   "source": [
    "## Question 3: Streak Seeker – Finding the Longest Run\n",
    "\n",
    "A consecutive run is a list of adjacent, consecutive integers. This list can be either increasing or decreasing. For example, `[5, 6, 7, 8, 9]` is a consecutive run of length 5, `[5, 4, 3]` is a consecutive run of length 3, whereas `[3, 5, 7, 10, 15]` is not a consecutive run. If we consider the list `[3, 4, 5, 7, 14, 15]`, it has two consecutive runs: `[3, 4, 5]` and `[14, 15]`, where `[3, 4, 5]` is the longest consecutive run with length 3.\n",
    "\n",
    "Write a function `run(lst)` that finds the longest consecutive run in a list of numbers `lst`, which can be either in ascending or descending order, and returns its length.\n",
    "\n",
    "*Note that you can have both increasing and decreasing numbers in the same consecutive run, as long as they are consecutive integers.*\n",
    "\n",
    "**Examples:**\n",
    "\n",
    "```\n",
    ">>> run([1, 2, 3, 5, 6, 7, 8, 9]) # Two consecutive runs: [1, 2, 3] and [5, 6, 7, 8, 9] (longest)\n",
    "5\n",
    "```\n",
    "\n",
    "\n",
    "```\n",
    ">>> run([5, 4, 2, 1]) # Two consecutive runs of the same length: [5, 4] and [2, 1]\n",
    "2\n",
    "```\n",
    "\n",
    "```\n",
    ">>> run([3, 5, 7, 10, 15]) # No consecutive runs, so return 1\n",
    "1\n",
    "```\n",
    "\n",
    "```\n",
    ">>> run([1, 2, 3, 2, 1]) # One consecutive run with both increasing and decreasing numbers\n",
    "5\n",
    "```"
   ]
  },
  {
   "cell_type": "code",
   "execution_count": 3,
   "id": "51bc8a1d",
   "metadata": {},
   "outputs": [
    {
     "data": {
      "text/plain": [
       "5"
      ]
     },
     "execution_count": 3,
     "metadata": {},
     "output_type": "execute_result"
    }
   ],
   "source": [
    "# solution\n",
    "def run(lst):\n",
    "    \n",
    "    max_run = 1  # Initialize the maximum run length to 1.\n",
    "    current_run = 1  # Initialize the current run length to 1.\n",
    "    \n",
    "    # Iterate through the list starting from the second element.\n",
    "    for i in range(1, len(lst)):\n",
    "        # Check if the current number is consecutive to the previous number (ascending or descending).\n",
    "        if lst[i] == lst[i - 1] + 1 or lst[i] == lst[i - 1] - 1:\n",
    "            current_run += 1  # Increment the current run length.\n",
    "        else:\n",
    "            # If the current number is not consecutive, update the maximum run length if needed.\n",
    "            max_run_ = max(max_run, current_run)\n",
    "            current_run = 1  # Reset the current run length to 1.\n",
    "    \n",
    "    # After the loop, return the maximum run length found.\n",
    "    return max(max_run, current_run)\n",
    "\n",
    "run([1, 2, 3, 2, 1])"
   ]
  }
 ],
 "metadata": {
  "kernelspec": {
   "display_name": "Python 3 (ipykernel)",
   "language": "python",
   "name": "python3"
  },
  "language_info": {
   "codemirror_mode": {
    "name": "ipython",
    "version": 3
   },
   "file_extension": ".py",
   "mimetype": "text/x-python",
   "name": "python",
   "nbconvert_exporter": "python",
   "pygments_lexer": "ipython3",
   "version": "3.9.15"
  }
 },
 "nbformat": 4,
 "nbformat_minor": 5
}
