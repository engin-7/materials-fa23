{
 "cells": [
  {
   "cell_type": "markdown",
   "id": "f133acb3",
   "metadata": {
    "id": "f133acb3"
   },
   "source": [
    "# E7 Discussion 3: Coding Challenge"
   ]
  },
  {
   "cell_type": "markdown",
   "id": "95b59811",
   "metadata": {
    "id": "95b59811"
   },
   "source": [
    "You are allowed to exchange ideas and work together with your discussion partner. The problems are designed to be challenging so do not feel discouraged if they take some time! Try to complete the coding challenge within 10 minutes."
   ]
  },
  {
   "cell_type": "markdown",
   "id": "30721000",
   "metadata": {
    "id": "30721000"
   },
   "source": [
    "## 1. Flow of code with functions"
   ]
  },
  {
   "cell_type": "markdown",
   "id": "1f372a46",
   "metadata": {
    "id": "1f372a46"
   },
   "source": [
    "One function can call another function. For example, while in the middle of one function, the program might have to execute statements in another function. But while executing that new function, the program might have to execute yet another function!"
   ]
  },
  {
   "cell_type": "markdown",
   "id": "2bf19180",
   "metadata": {
    "id": "2bf19180"
   },
   "source": [
    "<div class=\"alert alert-block alert-danger\"> <b>CHALLENGE!</b> Edit the lines with <code>...</code> so that when calling <code>f3()</code>, you get the output shown below. Each <code>...</code> can be replaced by only one function call."
   ]
  },
  {
   "cell_type": "markdown",
   "id": "52c7cec6",
   "metadata": {
    "id": "52c7cec6"
   },
   "source": [
    "<pre>\n",
    "def f1():\n",
    "    print(\"Moe\")\n",
    "\n",
    "def f2():\n",
    "    ...\n",
    "    print(\"Meeny\")\n",
    "\n",
    "def f3():\n",
    "    ...\n",
    "    print(\"Miny\")\n",
    "    ...\n",
    "\n",
    "def f4():\n",
    "    print(\"Eeny\")\n",
    "\n",
    "f3()\n",
    "</pre>\n",
    "  \n",
    "Desired output:    \n",
    "<pre>\n",
    "Eeny\n",
    "Meeny\n",
    "Miny\n",
    "Moe\n",
    "</pre>    \n",
    "</div>\n"
   ]
  },
  {
   "cell_type": "code",
   "execution_count": null,
   "id": "22a0ecdf",
   "metadata": {
    "id": "22a0ecdf"
   },
   "outputs": [],
   "source": [
    "# solution\n",
    "def f1():\n",
    "    print(\"Moe\")\n",
    "\n",
    "def f2():\n",
    "    f4()\n",
    "    print(\"Meeny\")\n",
    "\n",
    "def f3():\n",
    "    f2()\n",
    "    print(\"Miny\")\n",
    "    f1()\n",
    "\n",
    "def f4():\n",
    "    print(\"Eeny\")\n",
    "\n",
    "f3()"
   ]
  },
  {
   "cell_type": "markdown",
   "id": "5bf892da",
   "metadata": {
    "id": "5bf892da"
   },
   "source": [
    "## 2. Two of Three\n",
    "\n",
    "Write a function that takes three positive numbers as arguments and returns the sum of the squares of the two smallest numbers.\n",
    "\n",
    "*Hint:* Consider using the `max()` or `min()` function."
   ]
  },
  {
   "cell_type": "code",
   "execution_count": null,
   "id": "8d904fa5",
   "metadata": {
    "id": "8d904fa5"
   },
   "outputs": [],
   "source": [
    "def two_of_three(i, j, k):\n",
    "    \"\"\"Return m*m + n*n, where m and n are the two smallest members of the\n",
    "    positive numbers i, j, and k.\n",
    "\n",
    "    >>> two_of_three(1, 2, 3)\n",
    "    5\n",
    "    >>> two_of_three(5, 3, 1)\n",
    "    10\n",
    "    >>> two_of_three(10, 2, 8)\n",
    "    68\n",
    "    >>> two_of_three(5, 5, 5)\n",
    "    50\n",
    "    \"\"\"\n",
    "    return min(i*i+j*j, i*i+k*k, j*j+k*k) # or return i**2 + j**2 + k**2 - max(i, j, k)**2"
   ]
  }
 ],
 "metadata": {
  "colab": {
   "provenance": []
  },
  "kernelspec": {
   "display_name": "Python 3 (ipykernel)",
   "language": "python",
   "name": "python3"
  },
  "language_info": {
   "codemirror_mode": {
    "name": "ipython",
    "version": 3
   },
   "file_extension": ".py",
   "mimetype": "text/x-python",
   "name": "python",
   "nbconvert_exporter": "python",
   "pygments_lexer": "ipython3",
   "version": "3.9.15"
  }
 },
 "nbformat": 4,
 "nbformat_minor": 5
}
