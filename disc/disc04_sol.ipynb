{
 "cells": [
  {
   "cell_type": "markdown",
   "id": "7613f371",
   "metadata": {},
   "source": [
    "# E7 Discussion 4: Coding Challenge"
   ]
  },
  {
   "cell_type": "markdown",
   "id": "8f546102",
   "metadata": {},
   "source": [
    "You are allowed to exchange ideas and work together with your discussion partner. The problems are designed to be challenging so do not feel discouraged if they take some time!  Try to complete the coding challenge within 10 minutes and your discussion GSI will show example solutions at the end of the discussion session."
   ]
  },
  {
   "cell_type": "markdown",
   "id": "af6b05f8",
   "metadata": {},
   "source": [
    "## Manipulating a String\n",
    "\n",
    "Write a Python function `process_name()` that takes a single argument called `name`, which is a string containing a person's first and last name, with a single space separating them. Your function should return three values:\n",
    "1. The first name with the first letter only in uppercase\n",
    "2. The last name with the first letter only in uppercase\n",
    "3. The  initials in uppercase (first letter from the first name and first letter from the last name)\n",
    "\n",
    "Note that `name` could be all lowercase, uppercase, or a mix of both. Also, assume that the first name is a single word and the last name is also a single word.\n",
    "\n",
    "```\n",
    "Examples:\n",
    "\n",
    ">>> process_name('John Doe')\n",
    "('John', 'Doe', 'JD')\n",
    "\n",
    ">>> process_name('john doe')\n",
    "('John', 'Doe', 'JD')\n",
    "\n",
    ">>> process_name('jOhN dOE')\n",
    "('John', 'Doe', 'JD')\n",
    "\n",
    ">>> process_name('sir CumfErEncE')\n",
    "('Sir', 'Cumference', 'SC')\n",
    "\n",
    ">>> process_name('wisteria ravenclaw')\n",
    "('Wisteria', 'Ravenclaw', 'WR')\n",
    "```\n",
    "\n",
    "You may find the list of built-in string methods [here](https://docs.python.org/3/library/stdtypes.html#string-methods) helpful."
   ]
  },
  {
   "cell_type": "code",
   "execution_count": null,
   "id": "3cb2174a",
   "metadata": {},
   "outputs": [],
   "source": [
    "# Solution\n",
    "def process_name(name):\n",
    "    # Split the input name into first and last names\n",
    "    first_name, last_name = name.split()\n",
    "\n",
    "    # Format the first name with only the first letter in uppercase\n",
    "    formatted_first_name = first_name.capitalize()\n",
    "\n",
    "    # Format the last name with only the first letter in uppercase\n",
    "    formatted_last_name = last_name.capitalize()\n",
    "\n",
    "    # Create the initials by taking the first letter from each name and converting to uppercase\n",
    "    initials = formatted_first_name[0] + formatted_last_name[0]\n",
    "\n",
    "    # Return the three values\n",
    "    return formatted_first_name, formatted_last_name, initials\n",
    "\n",
    "process_name('sir CumfErEncE')"
   ]
  }
 ],
 "metadata": {
  "kernelspec": {
   "display_name": "Python 3 (ipykernel)",
   "language": "python",
   "name": "python3"
  },
  "language_info": {
   "codemirror_mode": {
    "name": "ipython",
    "version": 3
   },
   "file_extension": ".py",
   "mimetype": "text/x-python",
   "name": "python",
   "nbconvert_exporter": "python",
   "pygments_lexer": "ipython3",
   "version": "3.9.15"
  }
 },
 "nbformat": 4,
 "nbformat_minor": 5
}
