{
 "cells": [
  {
   "cell_type": "markdown",
   "id": "f133acb3",
   "metadata": {
    "id": "f133acb3"
   },
   "source": [
    "# E7 Discussion 2: Coding Challenge"
   ]
  },
  {
   "cell_type": "markdown",
   "id": "95b59811",
   "metadata": {
    "id": "95b59811"
   },
   "source": [
    "You are allowed to exchange ideas and work together with your discussion partner. The problems are designed to be challenging so do not feel discouraged if they take some time! Try to complete the coding challenge within 10 minutes. If time permits, your lab GSI may show example solutions at the end of the discussion session."
   ]
  },
  {
   "cell_type": "code",
   "execution_count": null,
   "id": "c7f023a7",
   "metadata": {
    "id": "c7f023a7"
   },
   "outputs": [],
   "source": [
    "# Run this cell before attempting the problems and do not modify it.\n",
    "\n",
    "import numpy as np\n",
    "np.random.seed(123)\n",
    "temperature = np.random.randint(30,101,365)\n",
    "weather = np.random.randint(0,3,365)\n",
    "chess_board = np.random.randint(3,6,(8,8))"
   ]
  },
  {
   "cell_type": "markdown",
   "id": "a62f23c5",
   "metadata": {
    "id": "a62f23c5"
   },
   "source": [
    "## 1. Berkeley weather\n",
    "\n",
    "In this problem, you are going to operate on an array that stores the daily weather conditions of Berkeley for a year.\n",
    "\n",
    "`temperature`: 1D array containing daily temperature averages.\n",
    "\n",
    "`weather`: 1D array containing weather conditions, `0 = sunny`, `1 = cloudy`, `2 = rainy`"
   ]
  },
  {
   "cell_type": "markdown",
   "id": "cb41875c",
   "metadata": {
    "id": "cb41875c"
   },
   "source": [
    "Find the number of days that have an average temperature **above 85** and assign them to `hot`"
   ]
  },
  {
   "cell_type": "code",
   "execution_count": null,
   "id": "41fbbf84",
   "metadata": {
    "id": "41fbbf84"
   },
   "outputs": [],
   "source": [
    "hot = ..."
   ]
  },
  {
   "cell_type": "markdown",
   "id": "46e09b0a",
   "metadata": {
    "id": "46e09b0a"
   },
   "source": [
    "Find the number of days that have an average temperature **below 50** and assign them to `cold`"
   ]
  },
  {
   "cell_type": "code",
   "execution_count": null,
   "id": "8f540d2c",
   "metadata": {
    "id": "8f540d2c"
   },
   "outputs": [],
   "source": [
    "cold = ..."
   ]
  },
  {
   "cell_type": "markdown",
   "id": "d7009d4e",
   "metadata": {
    "id": "d7009d4e"
   },
   "source": [
    "Find the number days that have an average temperature **below 40** and with **rainy** weather and assign them to `freezing`"
   ]
  },
  {
   "cell_type": "code",
   "execution_count": null,
   "id": "d686a5d8",
   "metadata": {
    "id": "d686a5d8"
   },
   "outputs": [],
   "source": [
    "freezing = ..."
   ]
  },
  {
   "cell_type": "markdown",
   "id": "4467d621",
   "metadata": {
    "id": "4467d621"
   },
   "source": [
    "Find the number of days with an average temperature **between 70 and 80** and with **sunny** weather and assign them to `perfect`"
   ]
  },
  {
   "cell_type": "code",
   "execution_count": null,
   "id": "7f1db552",
   "metadata": {
    "id": "7f1db552"
   },
   "outputs": [],
   "source": [
    "perfect = ..."
   ]
  },
  {
   "cell_type": "markdown",
   "id": "7efceacb",
   "metadata": {
    "id": "7efceacb"
   },
   "source": [
    "## 2. Chessboard problem\n",
    "\n",
    "Consider a 2-D array `chess_board` representing the state of a chessboard, where each element contains information about a square.\n",
    "\n",
    "**Design slicing operations to assign 0 to the light squares and 1 to the dark squares**.\n",
    "\n",
    "Hints:\n",
    "1. A standard chessboard has 8 x 8 = 64 squares, top-left square is a light square and no adjacent squares have the same color type.\n",
    "2. Information about top-left square is stored in `chess_board[0,0]` and bottom-right square is in `chess_board[7,7]`\n",
    "3. [Extended slices](https://docs.python.org/release/2.3.5/whatsnew/section-slices.html) might be helpful.\n",
    "\n",
    "See below for an example of a standard chess board and the required output array."
   ]
  },
  {
   "cell_type": "markdown",
   "id": "f86750be",
   "metadata": {
    "id": "f86750be"
   },
   "source": [
    "<div>\n",
    "<img src=\"https://docs.google.com/drawings/d/e/2PACX-1vQuqpYcS7HDr98zVlcw4yguyl_jMVwwSaQjUpjI7SOyFziXlGBKJBxc0UNSxU79My0bA84o3aaHpr4d/pub?w=954&h=371\" width=\"600\"/>\n",
    "</div>"
   ]
  },
  {
   "cell_type": "code",
   "execution_count": null,
   "id": "7d4f6f14",
   "metadata": {
    "id": "7d4f6f14"
   },
   "outputs": [],
   "source": [
    "..."
   ]
  }
 ],
 "metadata": {
  "colab": {
   "provenance": []
  },
  "kernelspec": {
   "display_name": "Python 3 (ipykernel)",
   "language": "python",
   "name": "python3"
  },
  "language_info": {
   "codemirror_mode": {
    "name": "ipython",
    "version": 3
   },
   "file_extension": ".py",
   "mimetype": "text/x-python",
   "name": "python",
   "nbconvert_exporter": "python",
   "pygments_lexer": "ipython3",
   "version": "3.9.13"
  }
 },
 "nbformat": 4,
 "nbformat_minor": 5
}
