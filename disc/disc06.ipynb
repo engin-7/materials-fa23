{
 "cells": [
  {
   "cell_type": "markdown",
   "id": "f133acb3",
   "metadata": {
    "id": "f133acb3"
   },
   "source": [
    "# E7 Discussion 6: Coding Challenge"
   ]
  },
  {
   "cell_type": "markdown",
   "id": "95b59811",
   "metadata": {
    "id": "95b59811"
   },
   "source": [
    "You are allowed to exchange ideas and work together with your discussion partner. The problems are designed to be challenging so do not feel discouraged if they take some time! Try to complete the coding challenge within 10 minutes. If time permits, your lab GSI may show example solutions at the end of the discussion session."
   ]
  },
  {
   "cell_type": "markdown",
   "id": "a62f23c5",
   "metadata": {
    "id": "a62f23c5"
   },
   "source": [
    "## 1. Palindrome\n",
    "\n",
    "A palindrome is a word or number that reads the same backward or forward. Here are some examples:\n",
    "\n",
    "- `\"racecar\"`, `\"level\"`,\n",
    "- `\"12321\"`, `\"1881\"`\n",
    "\n",
    "Write a **recursive** function that checks if a given `string` is a palindrome.\n",
    "\n",
    "Hints:\n",
    "- Your function should return `True` if the input is a palindrome and `False` if it is not.\n",
    "- Consider strings with 1 element to be a palindrome.\n",
    "- Negative indexing might be helpful!"
   ]
  },
  {
   "cell_type": "code",
   "execution_count": null,
   "id": "gAhtfeZ52lZN",
   "metadata": {
    "id": "gAhtfeZ52lZN"
   },
   "outputs": [],
   "source": [
    "# Here is a template for one possible solution.\n",
    "# Feel free to come up with your own function, as long as it is recursive!\n",
    "\n",
    "def is_palindrome(string):\n",
    "\n",
    "    ...\n",
    "\n",
    "    ...\n",
    "\n",
    "    ...\n"
   ]
  },
  {
   "cell_type": "markdown",
   "id": "vPkIfAQfBBey",
   "metadata": {
    "id": "vPkIfAQfBBey"
   },
   "source": [
    "\n",
    "## 2. The Collatz Conjecture\n",
    "\n",
    "[Collatz conjecture](https://en.wikipedia.org/wiki/Collatz_conjecture) is a famous problem of mathematics that still remains unsolved today. The conjecture\n",
    "states that starting with any positive integer and applying two simple arithmetic operations, we will eventually reach 1.\n",
    "\n",
    "Let $a_0$ be a positive integer, we define the Collatz sequence $a_i$ as follows.\n",
    "\n",
    "\n",
    "\\begin{equation}\n",
    "a_i =\n",
    "    \\begin{cases}\n",
    "        ~~ \\frac{1}{2} a_{i-1}  & \\text{~~for } ~~a_{i-1} ~{\\rm ~even}\n",
    "        \\\\\n",
    "        \\\\\n",
    "        ~~ 3a_{i-1} + 1         & \\text{~~for } ~~a_{i-1}~{\\rm ~odd}\n",
    "    \\end{cases}\n",
    "\\end{equation}\n",
    "\n",
    "If we start with a positive integer $a_0$, the series $\\{a_i\\}$ will always converge to 1 after a finite number of terms. For example, starting with $a_0 = 3$, the  Collatz sequence will be:\n",
    "$$a_0 = 3, ~~~ a_1 = 10, ~~~ a_2 = 5, ~~~ a_3 = 16, ~~~ a_4 = 8, ~~~ a_5 = 4, ~~~ a_6 = 2, ~~~ a_7 = 1  $$"
   ]
  },
  {
   "cell_type": "markdown",
   "id": "936siuoGs4PE",
   "metadata": {
    "id": "936siuoGs4PE"
   },
   "source": [
    "Your task is to write a ***recursive function*** `collatz(a0) `that computes the Collatz sequence from `a0` to `1` and prints each member of the sequence.\n",
    "\n",
    "Note: You are **NOT** allowed to use `for` or `while` loops!"
   ]
  },
  {
   "cell_type": "code",
   "execution_count": null,
   "id": "2R4eHl6qs6ES",
   "metadata": {
    "id": "2R4eHl6qs6ES"
   },
   "outputs": [],
   "source": [
    "# Define your collatz function\n",
    "\n",
    "def collatz(a0):\n",
    "\n",
    "    ...\n",
    "    ...\n"
   ]
  },
  {
   "cell_type": "markdown",
   "id": "YNQypAd19cZJ",
   "metadata": {
    "id": "YNQypAd19cZJ"
   },
   "source": [
    "## 3. Ternary Search\n",
    "\n",
    "Recall the *binary search* algorithm from the lecture, where we find an element from a sorted list by dividing the search interval in half until the desired element is found.\n",
    "\n",
    "In this problem we will implement a variation if this algorithm, called the ***ternary search***. As you can guess, ternary search divides the list into three parts. This allows it to narrow down the search space more quickly than binary search in certain situations, resulting in better complexity.\n",
    "\n",
    "Here are the main steps of a ternary search algorithm:\n",
    "\n",
    "\n",
    "1.   Start with the entire sorted collection of data.\n",
    "2.   Divide the search interval into **three approximately equal parts**. You can do this by selecting two midpoints, typically denoted as `mid_left` and `mid_right`. These two mid points would help you narrow down the search space.\n",
    "3.   Compare the target value `x` with the elements at these two midpoints:\n",
    "\n",
    "    *   If `x` is equal to  `mid_left` or `mid_right`, you have found the target.\n",
    "    *   If `x` is less than `mid_left`, narrow the search interval to the leftmost one-third and perform another ternary search on that interval.\n",
    "    *   If `x` is greater than `mid_right`, narrow the search interval to the rightmost one-third and perform another ternary search on that interval.\n",
    "    *   If `x` is greater than `mid_left` and less than `mid_right`, narrow the search interval to the middle one-third and perform another ternary search on that interval.\n",
    "4.  Repeat steps 2 and 3 until the target value `x` is found."
   ]
  },
  {
   "cell_type": "markdown",
   "id": "CMvjeO19FaPj",
   "metadata": {
    "id": "CMvjeO19FaPj"
   },
   "source": [
    "Below is a visual representation of ternary search at work:\n",
    "<div>\n",
    "<img src= \"https://docs.google.com/drawings/d/e/2PACX-1vRigLw40VdjKL-Zq1BLx2Uq5gLZDKKF_tkfoZ01y4Gno2MikvJbxTI2Qc2c6XT2KrkxUW1QtvGeGEeo/pub?w=1396&h=735\" width=\"400\"/>\n",
    "</div>\n",
    "\n",
    "\n"
   ]
  },
  {
   "cell_type": "markdown",
   "id": "SzS2OgCtIR23",
   "metadata": {
    "id": "SzS2OgCtIR23"
   },
   "source": [
    "#### Write a recursive function `ternary_search(left_idx, right_idx, L, x)` that takes a ***sorted*** list `L` and returns the location (index) of element `x`.\n",
    "\n",
    "\n",
    "**Note:**\n",
    "\n",
    "`left_idx = 0` and `right_idx = len(L)` when calling the function for the first time. Inside the function, these should be assigned to the indices corresponding to the 1/3 (`mid_left`) and 2/3 (`mid_right`) of the list.\n",
    "\n",
    "\n"
   ]
  },
  {
   "cell_type": "code",
   "execution_count": null,
   "id": "Ew3y0hAvIg4E",
   "metadata": {
    "id": "Ew3y0hAvIg4E"
   },
   "outputs": [],
   "source": [
    "def ternary_search(left_idx, right_idx, L, x):\n",
    "\n",
    "  ...\n",
    "\n",
    "  ...\n",
    "\n",
    "  ...\n"
   ]
  }
 ],
 "metadata": {
  "colab": {
   "provenance": []
  },
  "kernelspec": {
   "display_name": "Python 3 (ipykernel)",
   "language": "python",
   "name": "python3"
  },
  "language_info": {
   "codemirror_mode": {
    "name": "ipython",
    "version": 3
   },
   "file_extension": ".py",
   "mimetype": "text/x-python",
   "name": "python",
   "nbconvert_exporter": "python",
   "pygments_lexer": "ipython3",
   "version": "3.9.13"
  }
 },
 "nbformat": 4,
 "nbformat_minor": 5
}
