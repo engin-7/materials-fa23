{
 "cells": [
  {
   "cell_type": "markdown",
   "id": "f133acb3",
   "metadata": {
    "id": "f133acb3"
   },
   "source": [
    "# E7 Discussion 7: Coding Challenge"
   ]
  },
  {
   "cell_type": "markdown",
   "id": "95b59811",
   "metadata": {
    "id": "95b59811"
   },
   "source": [
    "You are allowed to exchange ideas and work together with your discussion partner. The problems are designed to be challenging so do not feel discouraged if they take some time!  Try to complete the coding challange within 10 minutes and your discussion GSI will show example solutions at the end of the discussion session."
   ]
  },
  {
   "cell_type": "markdown",
   "id": "24ff4a7f",
   "metadata": {
    "id": "24ff4a7f"
   },
   "source": [
    "## Challenge 1:"
   ]
  },
  {
   "cell_type": "markdown",
   "id": "d3a689c1",
   "metadata": {
    "id": "d3a689c1"
   },
   "source": [
    "<div class=\"alert alert-block alert-danger\"> <b>CHALLENGE!</b> Write a function <code>binary_to_decimal()</code> that converts an **unsigned** binary string, <code>binary_str</code>, to its decimal equivalent without using built-in conversion functions."
   ]
  },
  {
   "cell_type": "code",
   "execution_count": null,
   "id": "21dab2ab",
   "metadata": {
    "id": "21dab2ab"
   },
   "outputs": [],
   "source": [
    "def binary_to_decimal(binary_str):\n",
    "\n",
    "\n",
    "\n",
    "\n",
    "    decimal_num = ...\n",
    "    return decimal_num\n"
   ]
  },
  {
   "cell_type": "code",
   "execution_count": null,
   "id": "9xzxXCN8RulV",
   "metadata": {
    "colab": {
     "base_uri": "https://localhost:8080/"
    },
    "executionInfo": {
     "elapsed": 11,
     "status": "ok",
     "timestamp": 1696454834451,
     "user": {
      "displayName": "Chrystal Chern",
      "userId": "13850008443276788799"
     },
     "user_tz": 420
    },
    "id": "9xzxXCN8RulV",
    "outputId": "db254ba4-e5bc-4886-ce18-b6980c9d59b6"
   },
   "outputs": [
    {
     "name": "stdout",
     "output_type": "stream",
     "text": [
      "Ellipsis\n"
     ]
    }
   ],
   "source": [
    "# Example usage:\n",
    "result = binary_to_decimal(\"101010\")\n",
    "print(result)  # Output: 42\n"
   ]
  },
  {
   "cell_type": "markdown",
   "id": "41eef04e",
   "metadata": {
    "id": "41eef04e"
   },
   "source": [
    "## Challenge 2:"
   ]
  },
  {
   "cell_type": "markdown",
   "id": "2fd303bd",
   "metadata": {
    "id": "2fd303bd"
   },
   "source": [
    "<div class=\"alert alert-block alert-danger\"> <b>CHALLENGE!</b> Write a function <code>decimal_to_binary()</code> that converts a decimal number, <code>decimal_num</code>, to its **unsigned** binary representation without using built-in conversion functions.\n"
   ]
  },
  {
   "cell_type": "code",
   "execution_count": null,
   "id": "a3c4afa6",
   "metadata": {
    "id": "a3c4afa6"
   },
   "outputs": [],
   "source": [
    "def decimal_to_binary(decimal_num):\n",
    "\n",
    "\n",
    "\n",
    "\n",
    "    binary_str = ...\n",
    "    return binary_str\n"
   ]
  },
  {
   "cell_type": "code",
   "execution_count": null,
   "id": "ca4ae34f",
   "metadata": {
    "colab": {
     "base_uri": "https://localhost:8080/"
    },
    "executionInfo": {
     "elapsed": 8,
     "status": "ok",
     "timestamp": 1696454834451,
     "user": {
      "displayName": "Chrystal Chern",
      "userId": "13850008443276788799"
     },
     "user_tz": 420
    },
    "id": "ca4ae34f",
    "outputId": "c9985955-dc07-4741-ff46-6cd3b489e629"
   },
   "outputs": [
    {
     "name": "stdout",
     "output_type": "stream",
     "text": [
      "Ellipsis\n"
     ]
    }
   ],
   "source": [
    "# Example usage:\n",
    "result = decimal_to_binary(42)\n",
    "print(result)  # Output: \"101010\"\n"
   ]
  },
  {
   "cell_type": "markdown",
   "id": "8HrATOvQzojt",
   "metadata": {
    "id": "8HrATOvQzojt"
   },
   "source": [
    "## Challenge 3:"
   ]
  },
  {
   "cell_type": "markdown",
   "id": "RY6e8cV-zzMj",
   "metadata": {
    "id": "RY6e8cV-zzMj"
   },
   "source": [
    "Write a Python function `binary_subtraction()` that performs binary subtraction on two **unsigned** binary strings and returns the result as a unsigned binary string. The function should handle binary numbers of different lengths.  Assume that the first number is greater than or equal to the second number (the result will be positive).\n",
    "\n"
   ]
  },
  {
   "cell_type": "code",
   "execution_count": null,
   "id": "UZr8EOXEzj6J",
   "metadata": {
    "id": "UZr8EOXEzj6J"
   },
   "outputs": [],
   "source": [
    "def binary_subtraction(bin_str1, bin_str2):\n",
    "\n",
    "\n",
    "\n",
    "\n",
    "    result = ...\n",
    "    return result\n"
   ]
  },
  {
   "cell_type": "code",
   "execution_count": null,
   "id": "geQPeofUSEwo",
   "metadata": {
    "colab": {
     "base_uri": "https://localhost:8080/"
    },
    "executionInfo": {
     "elapsed": 5,
     "status": "ok",
     "timestamp": 1696454834451,
     "user": {
      "displayName": "Chrystal Chern",
      "userId": "13850008443276788799"
     },
     "user_tz": 420
    },
    "id": "geQPeofUSEwo",
    "outputId": "3cad17bd-6f9d-4377-cd5e-8a0494e54dc9"
   },
   "outputs": [
    {
     "name": "stdout",
     "output_type": "stream",
     "text": [
      "Ellipsis\n"
     ]
    }
   ],
   "source": [
    "# Example usage:\n",
    "result = binary_subtraction(\"1101\", \"1010\")\n",
    "print(result)  # Output: \"11\"\n"
   ]
  }
 ],
 "metadata": {
  "colab": {
   "provenance": []
  },
  "kernelspec": {
   "display_name": "Python 3 (ipykernel)",
   "language": "python",
   "name": "python3"
  },
  "language_info": {
   "codemirror_mode": {
    "name": "ipython",
    "version": 3
   },
   "file_extension": ".py",
   "mimetype": "text/x-python",
   "name": "python",
   "nbconvert_exporter": "python",
   "pygments_lexer": "ipython3",
   "version": "3.9.15"
  }
 },
 "nbformat": 4,
 "nbformat_minor": 5
}
