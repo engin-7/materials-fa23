{
 "cells": [
  {
   "cell_type": "code",
   "execution_count": 1,
   "metadata": {
    "deletable": false,
    "editable": false
   },
   "outputs": [],
   "source": [
    "# Initialize Otter\n",
    "import otter\n",
    "grader = otter.Notebook(\"lab04.ipynb\")"
   ]
  },
  {
   "cell_type": "markdown",
   "metadata": {},
   "source": [
    "# E7: Lab Assignment 04\n",
    "\n",
    "You must submit the lab to Gradescope by the due date. You will submit the zip file produced by running the final cell of the assignment.\n",
    "\n",
    "## About this Lab\n",
    "The objective of this assignment is to familiarize you with iteration and branching.\n",
    "\n",
    "## Autograder\n",
    "You will be provided with some test cases (i.e., sample input data) and associated answers (i.e., expected outputs) that you can use to help check your code. The provided test cases are not exhaustive, and it is your responsibility to ensure that your code works in general, not just for a few supplied test cases. We may use additional hidden test cases in grading your lab assignments.\n",
    "\n",
    "**Run the first cell, Initialize Otter**, to import the autograder and submission exporter.\n",
    "\n",
    "## Answer cells\n",
    "Throughout the assignment, replace `...` with your answers. We use `...` as a placeholder and theses should be deleted and replaced with your answers.\n",
    "\n",
    "Your answers must be in the cells marked `# ANSWER CELL`, including your final calculation/code. However, do not perform scratchwork in `# ANSWER CELL`. Add a new cell to perform your scratchwork. Your scratchwork will not be graded and does not need to be included in your submission unless otherwise noted.\n",
    "\n",
    "To read the documentation on a Python function, you can type `help()` and add the function name between parentheses.\n",
    "\n",
    "## Score Breakdown\n",
    "Question| Points\n",
    "--- | --\n",
    "1 | 5.0\n",
    "2 | 4.0\n",
    "3 | 4.0\n",
    "4 | 4.0\n",
    "5 | 4.0\n",
    "6 | 4.0\n",
    "7 | 0.0\n",
    "Total | 25.0\n",
    "\n",
    "**Run the cell below**, to import the required modules."
   ]
  },
  {
   "cell_type": "code",
   "execution_count": 9,
   "metadata": {},
   "outputs": [],
   "source": [
    "# Please run this cell, and do not modify the contents\n",
    "import numpy as np\n",
    "import math\n",
    "import random\n",
    "import hashlib\n",
    "import matplotlib.pyplot as plt\n",
    "def get_hash(num):\n",
    "    \"\"\"Helper function for assessing correctness\"\"\"\n",
    "    return hashlib.md5(str(num).encode()).hexdigest()"
   ]
  },
  {
   "cell_type": "markdown",
   "metadata": {
    "deletable": false,
    "editable": false
   },
   "source": [
    "## Question 1: Interest"
   ]
  },
  {
   "cell_type": "markdown",
   "metadata": {
    "deletable": false,
    "editable": false
   },
   "source": [
    "The interest rate, $r$, on a principal investment, $P_0$, is a payment for allowing the bank to use an investor's money. Compound interest is accumulated according to the formula $P_n = (1 + r)P_{n-1}$, where $P_n$ is the balance after $n$ compounding periods (in our case years), and $P_{n-1}$ is the balance after the previous period. The interest rate $r$ is given\n",
    "in decimal, e.g. 0.1, which is 10%. The objective is to determine the number of years required to reach an investment goal based on an initial investment $P_0$ and an interest rate $r$.\n",
    "\n",
    "You will need to complete the function below, `mySavingsPlan(P0, r, goal)`, which returns `years`, the number of years required to reach an investment goal. Assume that interest is paid out in one payment at the end of a given year. The output `years` should be a whole number.\n",
    "\n",
    "Complete the function below to solve the investment problem using a while loop. There are hints to guide you on what is missing on each line.\n",
    "\n",
    "Once you are done, try out your new `mySavingsPlan()` function for `P0 = 1000` dollars, `r = 0.05`, and `goal = 10000` dollars in the following cell. Assign the output to `q1`. Feel free to try it for other inputs."
   ]
  },
  {
   "cell_type": "code",
   "execution_count": null,
   "metadata": {
    "tags": []
   },
   "outputs": [],
   "source": [
    "# ANSWER CELL\n",
    "def mySavingsPlan(P0, r, goal):\n",
    "    \"\"\"Return number of years required to reach an investment goal based on an initial investment P0 and an interest rate r.\n",
    "    >>> mySavingsPlan(1000, 0.05, 10000)\n",
    "    48\n",
    "    >>> mySavingsPlan(1000, 0.10, 10000)\n",
    "    25\n",
    "    >>> mySavingsPlan(1000, 0.05, 1000000)\n",
    "    142\n",
    "    \"\"\"\n",
    "    # Initialize number of years required to reach investment goal\n",
    "    years = ...\n",
    "    \n",
    "    # Initialize amount of money in the current period\n",
    "    money = ...\n",
    "    \n",
    "    # Add logical expression that should be checked each time you iterate through the loop\n",
    "    while ...\n",
    "        \n",
    "        # Update amount of money in the next period\n",
    "        money = ...\n",
    "        \n",
    "        # Update number of years required to reach investment goal\n",
    "        years = ...\n",
    "\n",
    "    return years"
   ]
  },
  {
   "cell_type": "code",
   "execution_count": null,
   "metadata": {
    "tags": []
   },
   "outputs": [],
   "source": [
    "# TEST YOUR FUNCTION HERE\n",
    "q1 = ..."
   ]
  },
  {
   "cell_type": "code",
   "execution_count": null,
   "metadata": {
    "deletable": false,
    "editable": false
   },
   "outputs": [],
   "source": [
    "grader.check(\"q1\")"
   ]
  },
  {
   "cell_type": "markdown",
   "metadata": {
    "deletable": false,
    "editable": false
   },
   "source": [
    "## Question 2: Sum Digits"
   ]
  },
  {
   "cell_type": "markdown",
   "metadata": {
    "deletable": false,
    "editable": false
   },
   "source": [
    "Write a function `mySum(n)` that takes a non-negative integer (`n`) and returns the sum of its digits (`digit_sum`) as an integer. If `n` is negative and/or non-integer, the function should return \"Invalid Input.\" Be careful with your string formatting. Minor differences will result in a failed test.\n",
    "\n",
    "Note that if `n` has a decimal point but without any fractional component (e.g., 10.0 and 10.), then `n` should be treated as an integer.\n",
    "\n",
    "Once you are done, try out your new `mySum(n)` function for  `n = 20050` in the following cell. Assign the output to `q2`. Feel free to try it for other inputs.\n",
    "\n",
    "*Hint:* Strings are iterable.\n",
    "\n",
    "```\n",
    "Examples:\n",
    "\n",
    ">>> mySum(10) # 1 + 0 = 1\n",
    "1\n",
    "\n",
    ">>> mySum(4224) # 4 + 2 + 2 + 4 = 12\n",
    "12\n",
    "\n",
    ">>> mySum(1234567890)\n",
    "45\n",
    "\n",
    ">>> mySum(-10)\n",
    "'Invalid Input.'\n",
    "\n",
    ">>> mySum(10.1)\n",
    "'Invalid Input.'\n",
    "\n",
    ">>> mySum(10.0) # 1 + 0 = 1\n",
    "1\n",
    "\n",
    ">>> a = mySum(123) # make sure that you are using return rather than print\n",
    ">>> a\n",
    "6\n",
    "```"
   ]
  },
  {
   "cell_type": "code",
   "execution_count": null,
   "metadata": {
    "tags": []
   },
   "outputs": [],
   "source": [
    "# ANSWER CELL\n",
    "..."
   ]
  },
  {
   "cell_type": "code",
   "execution_count": null,
   "metadata": {
    "tags": []
   },
   "outputs": [],
   "source": [
    "# TEST YOUR FUNCTION HERE\n",
    "q2 = ..."
   ]
  },
  {
   "cell_type": "code",
   "execution_count": null,
   "metadata": {
    "deletable": false,
    "editable": false
   },
   "outputs": [],
   "source": [
    "grader.check(\"q2\")"
   ]
  },
  {
   "cell_type": "markdown",
   "metadata": {
    "deletable": false,
    "editable": false
   },
   "source": [
    "## Question 3: Hailstone"
   ]
  },
  {
   "cell_type": "markdown",
   "metadata": {
    "deletable": false,
    "editable": false
   },
   "source": [
    "Douglas Hofstadter's Pulitzer-prize-winning book, Gödel, Escher, Bach, poses the following mathematical puzzle.\n",
    "\n",
    "1. Pick a positive integer `n` as the start.\n",
    "1. If `n` is even, divide it by 2.\n",
    "2. If `n` is odd, multiply it by 3 and add 1.\n",
    "3. Continue this process until `n` is 1.\n",
    "\n",
    "The number `n` will travel up and down but eventually end at 1 (at least for all numbers that have ever been tried -- nobody has ever proved that the sequence will terminate). Analogously, a hailstone travels up and down in the atmosphere before eventually landing on earth.\n",
    "\n",
    "This sequence of values of `n` is often called a Hailstone sequence. Write a function `hailstone(n)` that takes a positive integer (`n`) and returns a list of the hailstone sequence starting at `n` (`sequence`) and the number of steps in the sequence (`steps`). The first returned object should be `sequence` and the second returned object should be `steps`.\n",
    "\n",
    "If `n` is non-positive and/or non-integer, the function should return \"Invalid Input.\" Be careful with your string formatting. Minor differences will result in a failed test. \n",
    "\n",
    "Note that if `n` has a decimal point but without any fractional component (e.g., 10.0 and 10.), then `n` should be treated as an integer.\n",
    "\n",
    "Also note that if `n == 1` initially, then the sequence is one step long.\n",
    "\n",
    "Once you are done, try out your new `hailstone(n)` function for  `n = 25` in the following cell. Assign the output to `q3`. Feel free to try it for other inputs.\n",
    "\n",
    "```\n",
    "Examples:\n",
    "\n",
    ">>> hailstone(10)\n",
    "([10, 5, 16, 8, 4, 2, 1], 7)\n",
    "\n",
    ">>> hailstone(1)\n",
    "([1], 1)\n",
    "\n",
    ">>> hailstone(9)\n",
    "([9, 28, 14, 7, 22, 11, 34, 17, 52, 26, 13, 40, 20, 10, 5, 16, 8, 4, 2, 1], 20)\n",
    "\n",
    ">>> hailstone(0)\n",
    "'Invalid Input.'\n",
    "```"
   ]
  },
  {
   "cell_type": "code",
   "execution_count": null,
   "metadata": {
    "tags": []
   },
   "outputs": [],
   "source": [
    "# ANSWER CELL\n",
    "..."
   ]
  },
  {
   "cell_type": "code",
   "execution_count": null,
   "metadata": {
    "tags": []
   },
   "outputs": [],
   "source": [
    "# TEST YOUR FUNCTION HERE\n",
    "q3 = ..."
   ]
  },
  {
   "cell_type": "code",
   "execution_count": null,
   "metadata": {
    "deletable": false,
    "editable": false
   },
   "outputs": [],
   "source": [
    "grader.check(\"q3\")"
   ]
  },
  {
   "cell_type": "markdown",
   "metadata": {
    "deletable": false,
    "editable": false
   },
   "source": [
    "## Question 4: Minimum Searching"
   ]
  },
  {
   "cell_type": "markdown",
   "metadata": {
    "deletable": false,
    "editable": false
   },
   "source": [
    "Write a function `myMin(P)` that takes a numeric sequence (list, tuple, NumPy array) (`P`) and returns the minimum value in `P` (`value`) and the index(es) of the minimum value (`loc`), where `loc` should be a list. Note that the minimum value could appear more than once. If this is the case, `loc` should specify the indexes of all occurrences of the minimum value. **You may NOT use the built-in Python function `min()` in your function.**\n",
    "\n",
    "The first returned object should be `value` and the second returned object should be `loc`.\n",
    "\n",
    "Once you are done, try out your new `myMin()`  function for `P = [2, -3, 5, 7, 2, 4, -3, 2]` in the following cell. Assign the output to `q4`. Feel free to try it for other inputs.\n",
    "\n",
    "```\n",
    "Examples:\n",
    "\n",
    ">>> myMin([5, 4, 5, 2, 6, 7, 1, 8, 9])\n",
    "(1, [6])\n",
    "\n",
    ">>> myMin([2, 3, 5, 7, 2, 4, 3, 2])\n",
    "(2, [0, 4, 7])\n",
    "\n",
    ">>> myMin([2, -3, 5, -7, 2, 4, 3, 2])\n",
    "(-7, [3])\n",
    "\n",
    ">>> myMin([2, -3, 5, 7, 2, 4, -3, 2])\n",
    "(-3, [1, 6])\n",
    "```"
   ]
  },
  {
   "cell_type": "code",
   "execution_count": null,
   "metadata": {
    "jupyter": {
     "outputs_hidden": true
    },
    "tags": []
   },
   "outputs": [],
   "source": [
    "# ANSWER CELL\n",
    "..."
   ]
  },
  {
   "cell_type": "code",
   "execution_count": null,
   "metadata": {
    "tags": []
   },
   "outputs": [],
   "source": [
    "# TEST YOUR FUNCTION HERE\n",
    "q4 = ..."
   ]
  },
  {
   "cell_type": "code",
   "execution_count": null,
   "metadata": {
    "deletable": false,
    "editable": false
   },
   "outputs": [],
   "source": [
    "grader.check(\"q4\")"
   ]
  },
  {
   "cell_type": "markdown",
   "metadata": {
    "deletable": false,
    "editable": false
   },
   "source": [
    "## Question 5: Rainfall Totals"
   ]
  },
  {
   "cell_type": "markdown",
   "metadata": {
    "deletable": false,
    "editable": false
   },
   "source": [
    "Write a function `myRainfall(rainData)` that takes a numeric sequence (list, tuple, NumPy array) of daily rainfall measurements (`rainData`) and returns the total rainfall (`rainTot`) and the average daily rainfall (`rainAvg`) over a period of interest.\n",
    "\n",
    "The argument `rainData` may contain the number -999 indicating the end of the data from a given period. We are interested in computing the total and average daily rainfall over the first period only (everything after the first -999 should be ignored). There may be negative numbers other than -999 in`rainData`, which represent erroneous measurements and should be neglected.\n",
    "\n",
    "Your function `myRainfall(rainData)` should return `rainTot` and `rainAvg`, which are the total and average of the non-negative values in either the entire input `rainData` or the period from the beginning until the first occurrence of -999. Note that `rainAvg` is the average daily rainfall during this period (not counting days with neglected measurements). The first returned object should be `rainTot` and the second returned object should be `rainAvg`.\n",
    "\n",
    "Once you are done, try out your new `myRainfall()` function for `rainData = [2.3, 4.1, -5.4, 1.0, 7.1, -2, 8, 0, 4.9, 6, -999]` in the following cell. Assign the output to `q5`. Feel free to try it for other inputs.\n",
    "\n",
    "```\n",
    "Examples:\n",
    "\n",
    ">>> myRainfall([2, 4, -5, 1, 7, -2, 8, -999, 4, 6, 4])\n",
    "(22, 4.4)\n",
    "\n",
    ">>> myRainfall([2, 4, -5, 1, 7, -2, 8, 0, 4, 6, 4])\n",
    "(36, 4.0)\n",
    "\n",
    ">>> myRainfall([2, 4, -999, 1, 7, -2, 8, -999, 4, 6, 4])\n",
    "(6, 3.0)\n",
    "\n",
    ">>> myRainfall([0, -999, -5, 1, 7, -2, 8, -999, 4, 6, 2])\n",
    "(0, 0.0)\n",
    "```"
   ]
  },
  {
   "cell_type": "code",
   "execution_count": null,
   "metadata": {
    "jupyter": {
     "outputs_hidden": true
    },
    "tags": []
   },
   "outputs": [],
   "source": [
    "# ANSWER CELL\n",
    "..."
   ]
  },
  {
   "cell_type": "code",
   "execution_count": null,
   "metadata": {
    "tags": []
   },
   "outputs": [],
   "source": [
    "# TEST YOUR FUNCTION HERE\n",
    "q5 = ..."
   ]
  },
  {
   "cell_type": "code",
   "execution_count": null,
   "metadata": {
    "deletable": false,
    "editable": false
   },
   "outputs": [],
   "source": [
    "grader.check(\"q5\")"
   ]
  },
  {
   "cell_type": "markdown",
   "metadata": {
    "deletable": false,
    "editable": false
   },
   "source": [
    "## Question 6: Summation Target"
   ]
  },
  {
   "cell_type": "markdown",
   "metadata": {
    "deletable": false,
    "editable": false
   },
   "source": [
    "Write a function that takes a list of numbers (`myList`) and a single desired value to serve as a target summation (`sumTarget`). Your function needs to find all unique three elements $a, b, c$ in `myList` such that $a + b + c$ = `sumTarget`. \n",
    "\n",
    "Your function `mySummation(myList, sumTarget)` should return `results`, where `results` is a NumPy array with shape (M, 3), where each row includes unique three elements $a, b, c$ in `myList` that add up to `sumTarget`. \n",
    "\n",
    "Constraints:\n",
    "* In `results`, the three elements $a, b, c$ within each row should be sorted in ascending order. \n",
    "* The order of the unique triplets (i.e., order of rows) does not matter.\n",
    "* No duplicate rows should be present in `results` (each row should be unique).\n",
    "* If no three elements add up to `sumTarget`, the function should return an empty array: `[]`.\n",
    "* Within each row, the same element cannot be selected more than once, unless it appears in `myList` more than once (i.e., selecting elements is done without replacement).\n",
    "\n",
    "Once you are done, try out your new `mySummation()` function for `array = [0, 1, 1, 2, 3, 4]` and `sumTarget = 8` in the following cell. Assign the output to `q6`. Feel free to try it for other inputs.\n",
    "\n",
    "*Hint:* You may find [`numpy.vstack()`](https://numpy.org/doc/stable/reference/generated/numpy.vstack.html) and [`numpy.empty()`](https://numpy.org/doc/stable/reference/generated/numpy.empty.html) useful for creating your `results` array.\n",
    "\n",
    "\n",
    "```\n",
    "Examples:\n",
    "\n",
    ">>> mySummation([1, 1, 5, 6, 7, 8, 10], 10)\n",
    "array([[1., 1., 8.]])\n",
    "\n",
    ">>> mySummation([0, 1, 1, 2, 3, 4], 5)\n",
    "array([[0., 1., 4.],\n",
    "       [0., 2., 3.],\n",
    "       [1., 1., 3.]])\n",
    "       \n",
    ">>> mySummation([0, 1, 1, 2, 3, 4], 10)\n",
    "array([], dtype=float64)\n",
    "\n",
    ">>> mySummation([0.1, 0.5, -1, 2, 4, 3.3], -0.4)\n",
    "array([[-1. ,  0.1,  0.5]])\n",
    "```"
   ]
  },
  {
   "cell_type": "code",
   "execution_count": 10,
   "metadata": {
    "tags": []
   },
   "outputs": [],
   "source": [
    "#answer cell\n",
    "\n",
    "def mySummation(myList, sumTarget): \n",
    "    \n",
    "    # myList = input from user, array format\n",
    "    # sumTarget = input from user, desired sum total\n",
    "    # x, y, z =  pointers\n",
    "    # test_value = sum of pointed to values \n",
    "    # final_array = the array of values that were tested successfully \n",
    "    \n",
    "    \n",
    "    \n",
    "    myList.sort() #Intelligent pointing system, only works when my list is sorted smallest to largest\n",
    "    #print (myList) #Print out list\n",
    "    final_array = []\n",
    "    \n",
    "    for i in range(len(myList)-2): # subtracting two in order to prevent overlapping   \n",
    "        x = i # starts at the first item on the list \n",
    "        y = i + 1 # starts at 1 item after the first pointer \n",
    "        z = len(myList) - 1  # starts at the last number in the list \n",
    "        test_value = myList[x] + myList[y] + myList [z] \n",
    "        #print (x, y, z, test_value)\n",
    "    \n",
    "    \n",
    "        #If the sum of the 3 tested variables is < the Target,\n",
    "        #then the second pointer moves towards the right in order to increase the sum \n",
    "        \n",
    "        while y < z:\n",
    "            test_value = myList[x] + myList[y] + myList [z] \n",
    "            #print (x, y, z,test_value)\n",
    "           \n",
    "            if test_value == sumTarget:\n",
    "                 # append the tested values into an array\n",
    "                final_array.append([myList[x], myList[y], myList [z]])\n",
    "                z -= 1\n",
    "                \n",
    "            elif test_value < sumTarget:\n",
    "                y += 1\n",
    "                \n",
    "            else:\n",
    "                break\n",
    "\n",
    "                \n",
    "    return np.unique(final_array, axis = 0) "
   ]
  },
  {
   "cell_type": "code",
   "execution_count": 11,
   "metadata": {
    "tags": []
   },
   "outputs": [],
   "source": [
    "# TEST YOUR FUNCTION HERE\n",
    "q6 = mySummation([0, 1, 1, 2, 3, 4], 8)"
   ]
  },
  {
   "cell_type": "code",
   "execution_count": 12,
   "metadata": {
    "deletable": false,
    "editable": false
   },
   "outputs": [
    {
     "data": {
      "text/html": [
       "<p><strong style='color: red;'><pre style='display: inline;'>q6</pre> results:</strong></p><p><strong><pre style='display: inline;'>q6 - 1</pre> result:</strong></p><pre>    ❌ Test case failed\n",
       "    Trying:\n",
       "        assert get_hash(type(q6)) != '14e736438b115821cbb9b7ac0ba79034', \"Make sure to test your function!\"\n",
       "    Expecting nothing\n",
       "    ok\n",
       "    Trying:\n",
       "        assert get_hash(type(mySummation([1, 1, 5, 6, 7, 8, 10],10))) == '30b39aca73d0815f5ca1a06af1412947' , 'Check output type'\n",
       "    Expecting nothing\n",
       "    ok\n",
       "    Trying:\n",
       "        assert get_hash(mySummation([1, 1, 5, 6, 7, 8, 10],10).shape) == '0f6c6ad8083308c6c59c917667b3fa2f' , 'Check output shape'\n",
       "    Expecting nothing\n",
       "    **********************************************************************\n",
       "    Line 5, in q6 0\n",
       "    Failed example:\n",
       "        assert get_hash(mySummation([1, 1, 5, 6, 7, 8, 10],10).shape) == '0f6c6ad8083308c6c59c917667b3fa2f' , 'Check output shape'\n",
       "    Exception raised:\n",
       "        Traceback (most recent call last):\n",
       "          File \"/opt/conda/lib/python3.9/doctest.py\", line 1334, in __run\n",
       "            exec(compile(example.source, filename, \"single\",\n",
       "          File \"<doctest q6 0[2]>\", line 1, in <module>\n",
       "            assert get_hash(mySummation([1, 1, 5, 6, 7, 8, 10],10).shape) == '0f6c6ad8083308c6c59c917667b3fa2f' , 'Check output shape'\n",
       "        AssertionError: Check output shape\n",
       "</pre><p><strong><pre style='display: inline;'>q6 - 2</pre> result:</strong></p><pre>    ✅ Test case passed</pre><p><strong><pre style='display: inline;'>q6 - 3</pre> result:</strong></p><pre>    ❌ Test case failed\n",
       "    Trying:\n",
       "        assert get_hash(mySummation([2,3,4,5,6],12).shape) == '590392f0cb88f1eb89930f4de5e9eaaa'\n",
       "    Expecting nothing\n",
       "    **********************************************************************\n",
       "    Line 2, in q6 2\n",
       "    Failed example:\n",
       "        assert get_hash(mySummation([2,3,4,5,6],12).shape) == '590392f0cb88f1eb89930f4de5e9eaaa'\n",
       "    Exception raised:\n",
       "        Traceback (most recent call last):\n",
       "          File \"/opt/conda/lib/python3.9/doctest.py\", line 1334, in __run\n",
       "            exec(compile(example.source, filename, \"single\",\n",
       "          File \"<doctest q6 2[0]>\", line 1, in <module>\n",
       "            assert get_hash(mySummation([2,3,4,5,6],12).shape) == '590392f0cb88f1eb89930f4de5e9eaaa'\n",
       "        AssertionError\n",
       "    Trying:\n",
       "        assert get_hash(int(sum(mySummation([2,3,4,5,6],12)[:,2]))) == '6512bd43d9caa6e02c990b0a82652dca', 'Make sure your rows are sorted.'\n",
       "    Expecting nothing\n",
       "    **********************************************************************\n",
       "    Line 3, in q6 2\n",
       "    Failed example:\n",
       "        assert get_hash(int(sum(mySummation([2,3,4,5,6],12)[:,2]))) == '6512bd43d9caa6e02c990b0a82652dca', 'Make sure your rows are sorted.'\n",
       "    Exception raised:\n",
       "        Traceback (most recent call last):\n",
       "          File \"/opt/conda/lib/python3.9/doctest.py\", line 1334, in __run\n",
       "            exec(compile(example.source, filename, \"single\",\n",
       "          File \"<doctest q6 2[1]>\", line 1, in <module>\n",
       "            assert get_hash(int(sum(mySummation([2,3,4,5,6],12)[:,2]))) == '6512bd43d9caa6e02c990b0a82652dca', 'Make sure your rows are sorted.'\n",
       "        AssertionError: Make sure your rows are sorted.\n",
       "</pre><p><strong><pre style='display: inline;'>q6 - 4</pre> result:</strong></p><pre>    ❌ Test case failed\n",
       "    Trying:\n",
       "        assert get_hash(int(sum(mySummation([0, 0, 2, 4, 6, 8, 14],14)[:,2]))) == '34173cb38f07f89ddbebc2ac9128303f'\n",
       "    Expecting nothing\n",
       "    **********************************************************************\n",
       "    Line 2, in q6 3\n",
       "    Failed example:\n",
       "        assert get_hash(int(sum(mySummation([0, 0, 2, 4, 6, 8, 14],14)[:,2]))) == '34173cb38f07f89ddbebc2ac9128303f'\n",
       "    Exception raised:\n",
       "        Traceback (most recent call last):\n",
       "          File \"/opt/conda/lib/python3.9/doctest.py\", line 1334, in __run\n",
       "            exec(compile(example.source, filename, \"single\",\n",
       "          File \"<doctest q6 3[0]>\", line 1, in <module>\n",
       "            assert get_hash(int(sum(mySummation([0, 0, 2, 4, 6, 8, 14],14)[:,2]))) == '34173cb38f07f89ddbebc2ac9128303f'\n",
       "        AssertionError\n",
       "    Trying:\n",
       "        assert get_hash(int(sum(mySummation([1,5,6,5,1],12)[:,2]))), 'Make sure all rows are unique.'\n",
       "    Expecting nothing\n",
       "    ok\n",
       "</pre><p><strong><pre style='display: inline;'>q6 - 5</pre> result:</strong></p><pre>    ❌ Test case failed\n",
       "    Trying:\n",
       "        random.seed(2099)\n",
       "    Expecting nothing\n",
       "    ok\n",
       "    Trying:\n",
       "        arr = random.sample(range(-10,10),12)\n",
       "    Expecting nothing\n",
       "    ok\n",
       "    Trying:\n",
       "        assert get_hash(int(sum(mySummation(arr,10)[:,2]))) == '33e75ff09dd601bbe69f351039152189'\n",
       "    Expecting nothing\n",
       "    **********************************************************************\n",
       "    Line 4, in q6 4\n",
       "    Failed example:\n",
       "        assert get_hash(int(sum(mySummation(arr,10)[:,2]))) == '33e75ff09dd601bbe69f351039152189'\n",
       "    Exception raised:\n",
       "        Traceback (most recent call last):\n",
       "          File \"/opt/conda/lib/python3.9/doctest.py\", line 1334, in __run\n",
       "            exec(compile(example.source, filename, \"single\",\n",
       "          File \"<doctest q6 4[2]>\", line 1, in <module>\n",
       "            assert get_hash(int(sum(mySummation(arr,10)[:,2]))) == '33e75ff09dd601bbe69f351039152189'\n",
       "        AssertionError\n",
       "    Trying:\n",
       "        random.seed(1868)\n",
       "    Expecting nothing\n",
       "    ok\n",
       "    Trying:\n",
       "        arr = random.sample(range(-10,10),12)\n",
       "    Expecting nothing\n",
       "    ok\n",
       "    Trying:\n",
       "        assert get_hash(int(sum(mySummation(arr,10)[:,2]))) == 'a684eceee76fc522773286a895bc8436'\n",
       "    Expecting nothing\n",
       "    **********************************************************************\n",
       "    Line 7, in q6 4\n",
       "    Failed example:\n",
       "        assert get_hash(int(sum(mySummation(arr,10)[:,2]))) == 'a684eceee76fc522773286a895bc8436'\n",
       "    Exception raised:\n",
       "        Traceback (most recent call last):\n",
       "          File \"/opt/conda/lib/python3.9/doctest.py\", line 1334, in __run\n",
       "            exec(compile(example.source, filename, \"single\",\n",
       "          File \"<doctest q6 4[5]>\", line 1, in <module>\n",
       "            assert get_hash(int(sum(mySummation(arr,10)[:,2]))) == 'a684eceee76fc522773286a895bc8436'\n",
       "        AssertionError\n",
       "</pre>"
      ],
      "text/plain": [
       "q6 results:\n",
       "    q6 - 1 result:\n",
       "        ❌ Test case failed\n",
       "        Trying:\n",
       "            assert get_hash(type(q6)) != '14e736438b115821cbb9b7ac0ba79034', \"Make sure to test your function!\"\n",
       "        Expecting nothing\n",
       "        ok\n",
       "        Trying:\n",
       "            assert get_hash(type(mySummation([1, 1, 5, 6, 7, 8, 10],10))) == '30b39aca73d0815f5ca1a06af1412947' , 'Check output type'\n",
       "        Expecting nothing\n",
       "        ok\n",
       "        Trying:\n",
       "            assert get_hash(mySummation([1, 1, 5, 6, 7, 8, 10],10).shape) == '0f6c6ad8083308c6c59c917667b3fa2f' , 'Check output shape'\n",
       "        Expecting nothing\n",
       "        **********************************************************************\n",
       "        Line 5, in q6 0\n",
       "        Failed example:\n",
       "            assert get_hash(mySummation([1, 1, 5, 6, 7, 8, 10],10).shape) == '0f6c6ad8083308c6c59c917667b3fa2f' , 'Check output shape'\n",
       "        Exception raised:\n",
       "            Traceback (most recent call last):\n",
       "              File \"/opt/conda/lib/python3.9/doctest.py\", line 1334, in __run\n",
       "                exec(compile(example.source, filename, \"single\",\n",
       "              File \"<doctest q6 0[2]>\", line 1, in <module>\n",
       "                assert get_hash(mySummation([1, 1, 5, 6, 7, 8, 10],10).shape) == '0f6c6ad8083308c6c59c917667b3fa2f' , 'Check output shape'\n",
       "            AssertionError: Check output shape\n",
       "\n",
       "    q6 - 2 result:\n",
       "        ✅ Test case passed\n",
       "\n",
       "    q6 - 3 result:\n",
       "        ❌ Test case failed\n",
       "        Trying:\n",
       "            assert get_hash(mySummation([2,3,4,5,6],12).shape) == '590392f0cb88f1eb89930f4de5e9eaaa'\n",
       "        Expecting nothing\n",
       "        **********************************************************************\n",
       "        Line 2, in q6 2\n",
       "        Failed example:\n",
       "            assert get_hash(mySummation([2,3,4,5,6],12).shape) == '590392f0cb88f1eb89930f4de5e9eaaa'\n",
       "        Exception raised:\n",
       "            Traceback (most recent call last):\n",
       "              File \"/opt/conda/lib/python3.9/doctest.py\", line 1334, in __run\n",
       "                exec(compile(example.source, filename, \"single\",\n",
       "              File \"<doctest q6 2[0]>\", line 1, in <module>\n",
       "                assert get_hash(mySummation([2,3,4,5,6],12).shape) == '590392f0cb88f1eb89930f4de5e9eaaa'\n",
       "            AssertionError\n",
       "        Trying:\n",
       "            assert get_hash(int(sum(mySummation([2,3,4,5,6],12)[:,2]))) == '6512bd43d9caa6e02c990b0a82652dca', 'Make sure your rows are sorted.'\n",
       "        Expecting nothing\n",
       "        **********************************************************************\n",
       "        Line 3, in q6 2\n",
       "        Failed example:\n",
       "            assert get_hash(int(sum(mySummation([2,3,4,5,6],12)[:,2]))) == '6512bd43d9caa6e02c990b0a82652dca', 'Make sure your rows are sorted.'\n",
       "        Exception raised:\n",
       "            Traceback (most recent call last):\n",
       "              File \"/opt/conda/lib/python3.9/doctest.py\", line 1334, in __run\n",
       "                exec(compile(example.source, filename, \"single\",\n",
       "              File \"<doctest q6 2[1]>\", line 1, in <module>\n",
       "                assert get_hash(int(sum(mySummation([2,3,4,5,6],12)[:,2]))) == '6512bd43d9caa6e02c990b0a82652dca', 'Make sure your rows are sorted.'\n",
       "            AssertionError: Make sure your rows are sorted.\n",
       "\n",
       "    q6 - 4 result:\n",
       "        ❌ Test case failed\n",
       "        Trying:\n",
       "            assert get_hash(int(sum(mySummation([0, 0, 2, 4, 6, 8, 14],14)[:,2]))) == '34173cb38f07f89ddbebc2ac9128303f'\n",
       "        Expecting nothing\n",
       "        **********************************************************************\n",
       "        Line 2, in q6 3\n",
       "        Failed example:\n",
       "            assert get_hash(int(sum(mySummation([0, 0, 2, 4, 6, 8, 14],14)[:,2]))) == '34173cb38f07f89ddbebc2ac9128303f'\n",
       "        Exception raised:\n",
       "            Traceback (most recent call last):\n",
       "              File \"/opt/conda/lib/python3.9/doctest.py\", line 1334, in __run\n",
       "                exec(compile(example.source, filename, \"single\",\n",
       "              File \"<doctest q6 3[0]>\", line 1, in <module>\n",
       "                assert get_hash(int(sum(mySummation([0, 0, 2, 4, 6, 8, 14],14)[:,2]))) == '34173cb38f07f89ddbebc2ac9128303f'\n",
       "            AssertionError\n",
       "        Trying:\n",
       "            assert get_hash(int(sum(mySummation([1,5,6,5,1],12)[:,2]))), 'Make sure all rows are unique.'\n",
       "        Expecting nothing\n",
       "        ok\n",
       "\n",
       "    q6 - 5 result:\n",
       "        ❌ Test case failed\n",
       "        Trying:\n",
       "            random.seed(2099)\n",
       "        Expecting nothing\n",
       "        ok\n",
       "        Trying:\n",
       "            arr = random.sample(range(-10,10),12)\n",
       "        Expecting nothing\n",
       "        ok\n",
       "        Trying:\n",
       "            assert get_hash(int(sum(mySummation(arr,10)[:,2]))) == '33e75ff09dd601bbe69f351039152189'\n",
       "        Expecting nothing\n",
       "        **********************************************************************\n",
       "        Line 4, in q6 4\n",
       "        Failed example:\n",
       "            assert get_hash(int(sum(mySummation(arr,10)[:,2]))) == '33e75ff09dd601bbe69f351039152189'\n",
       "        Exception raised:\n",
       "            Traceback (most recent call last):\n",
       "              File \"/opt/conda/lib/python3.9/doctest.py\", line 1334, in __run\n",
       "                exec(compile(example.source, filename, \"single\",\n",
       "              File \"<doctest q6 4[2]>\", line 1, in <module>\n",
       "                assert get_hash(int(sum(mySummation(arr,10)[:,2]))) == '33e75ff09dd601bbe69f351039152189'\n",
       "            AssertionError\n",
       "        Trying:\n",
       "            random.seed(1868)\n",
       "        Expecting nothing\n",
       "        ok\n",
       "        Trying:\n",
       "            arr = random.sample(range(-10,10),12)\n",
       "        Expecting nothing\n",
       "        ok\n",
       "        Trying:\n",
       "            assert get_hash(int(sum(mySummation(arr,10)[:,2]))) == 'a684eceee76fc522773286a895bc8436'\n",
       "        Expecting nothing\n",
       "        **********************************************************************\n",
       "        Line 7, in q6 4\n",
       "        Failed example:\n",
       "            assert get_hash(int(sum(mySummation(arr,10)[:,2]))) == 'a684eceee76fc522773286a895bc8436'\n",
       "        Exception raised:\n",
       "            Traceback (most recent call last):\n",
       "              File \"/opt/conda/lib/python3.9/doctest.py\", line 1334, in __run\n",
       "                exec(compile(example.source, filename, \"single\",\n",
       "              File \"<doctest q6 4[5]>\", line 1, in <module>\n",
       "                assert get_hash(int(sum(mySummation(arr,10)[:,2]))) == 'a684eceee76fc522773286a895bc8436'\n",
       "            AssertionError"
      ]
     },
     "execution_count": 12,
     "metadata": {},
     "output_type": "execute_result"
    }
   ],
   "source": [
    "grader.check(\"q6\")"
   ]
  },
  {
   "cell_type": "markdown",
   "metadata": {
    "deletable": false,
    "editable": false
   },
   "source": [
    "##  (Optional) Question 7: Vwl Rmvr!"
   ]
  },
  {
   "cell_type": "markdown",
   "metadata": {
    "deletable": false,
    "editable": false
   },
   "source": [
    "Write a function `remove_vowels(input_string)` which takes in a single string as its argument and performs two tasks:\n",
    "* Removes all uppercase and lowercase vowel characters ('A', 'E', 'I', 'O', 'U') from the input string. \n",
    "* If an exclamation sign (`!`) is encountered, the function should stop processing and return the string up to this point. Any characters after the exclamation sign should be discarded.\n",
    "\n",
    "Once you are done, try out your new `remove_vowels()` function for `input_string = 'No vowels here! Python is fun!'` in the following cell. Assign the output to `q7`. Feel free to try it for other inputs.\n",
    "\n",
    "*Note:* This problem is not graded and is provided solely for additional practice.\n",
    "```\n",
    "    Examples:\n",
    "    \n",
    "    >>> remove_vowels('Welcome to E7!')\n",
    "    'Wlcm t 7!'\n",
    "    \n",
    "    >>> remove_vowels('Hello World!')\n",
    "    'Hll Wrld!'\n",
    "    \n",
    "    >>> remove_vowels('No vowels here! Python is fun!')\n",
    "    'N vwls hr!'\n",
    "    \n",
    "    >>> remove_vowels('The quick brown fox jumps over the lazy dog.')\n",
    "    'Th qck brwn fx jmps vr th lzy dg.'\n",
    "```\n",
    "    "
   ]
  },
  {
   "cell_type": "code",
   "execution_count": null,
   "metadata": {
    "tags": []
   },
   "outputs": [],
   "source": [
    "# ANSWER CELL\n",
    "..."
   ]
  },
  {
   "cell_type": "code",
   "execution_count": null,
   "metadata": {
    "tags": []
   },
   "outputs": [],
   "source": [
    "# TEST YOUR FUNCTION HERE\n",
    "q7 = ..."
   ]
  },
  {
   "cell_type": "code",
   "execution_count": null,
   "metadata": {
    "deletable": false,
    "editable": false
   },
   "outputs": [],
   "source": [
    "grader.check(\"q7\")"
   ]
  },
  {
   "cell_type": "markdown",
   "metadata": {},
   "source": [
    "### You're done with this Lab!\n",
    "\n",
    "**Important submission information:** After completing the assignment, click on the Save icon from the Tool Bar &nbsp;<i class=\"fa fa-save\" style=\"font-size:16px;\"></i>&nbsp;. After saving your notebook, **run the cell with** `grader.check_all()` and confirm that you pass the same tests as in the notebook. Then, **run the final cell** `grader.export()` and click the link to download the zip file. Then, go to Gradescope and submit the zip file to the corresponding assignment. \n",
    "\n",
    "**Once you have submitted, stay on the Gradescope page to confirm that you pass the same tests as in the notebook.**"
   ]
  },
  {
   "cell_type": "code",
   "execution_count": null,
   "metadata": {},
   "outputs": [],
   "source": [
    "import matplotlib.image as mpimg\n",
    "img = mpimg.imread('resources/animal.jpg')\n",
    "imgplot = plt.imshow(img)\n",
    "imgplot.axes.get_xaxis().set_visible(False)\n",
    "imgplot.axes.get_yaxis().set_visible(False)\n",
    "print(\"Congrats on finishing lab 4 on branching and iteration!\")\n",
    "plt.show()"
   ]
  },
  {
   "cell_type": "markdown",
   "metadata": {
    "deletable": false,
    "editable": false
   },
   "source": [
    "---\n",
    "\n",
    "To double-check your work, the cell below will rerun all of the autograder tests."
   ]
  },
  {
   "cell_type": "code",
   "execution_count": null,
   "metadata": {
    "deletable": false,
    "editable": false
   },
   "outputs": [],
   "source": [
    "grader.check_all()"
   ]
  },
  {
   "cell_type": "markdown",
   "metadata": {
    "deletable": false,
    "editable": false
   },
   "source": [
    "## Submission\n",
    "\n",
    "Make sure you have run all cells in your notebook in order before running the cell below, so that all images/graphs appear in the output. The cell below will generate a zip file for you to submit. **Please save before exporting!**\n",
    "\n",
    "Make sure you submit the .zip file to Gradescope."
   ]
  },
  {
   "cell_type": "code",
   "execution_count": null,
   "metadata": {
    "deletable": false,
    "editable": false
   },
   "outputs": [],
   "source": [
    "# Save your notebook first, then run this cell to export your submission.\n",
    "grader.export(pdf=False)"
   ]
  },
  {
   "cell_type": "markdown",
   "metadata": {},
   "source": [
    " "
   ]
  }
 ],
 "metadata": {
  "anaconda-cloud": {},
  "kernelspec": {
   "display_name": "Python 3 (ipykernel)",
   "language": "python",
   "name": "python3"
  },
  "language_info": {
   "codemirror_mode": {
    "name": "ipython",
    "version": 3
   },
   "file_extension": ".py",
   "mimetype": "text/x-python",
   "name": "python",
   "nbconvert_exporter": "python",
   "pygments_lexer": "ipython3",
   "version": "3.9.15"
  },
  "otter": {
   "OK_FORMAT": true,
   "assignment_name": "lab04",
   "tests": {
    "q1": {
     "name": "q1",
     "points": 5,
     "suites": [
      {
       "cases": [
        {
         "code": ">>> # Check students tested the function (type is not ellipsis)\n>>> assert get_hash(type(q1)) != '14e736438b115821cbb9b7ac0ba79034', \"Make sure to test your function!\"\n>>> # Check return value type\n>>> assert get_hash(type(mySavingsPlan(1000, 0.05, 10000))) == '2203e3c2293eb8c9bda5bcd97acbf884', \"Make sure your function returns an integer.\"\n",
         "hidden": false,
         "locked": false
        },
        {
         "code": ">>> # Check simple cases\n>>> assert get_hash(mySavingsPlan(1000, 0.05, 10000)) == '642e92efb79421734881b53e1e1b18b6'\n>>> assert get_hash(mySavingsPlan(2000, 0.15, 10000)) == 'c20ad4d76fe97759aa27a0c99bff6710'\n>>> assert get_hash(mySavingsPlan(500, 0.4, 5000)) == '8f14e45fceea167a5a36dedd4bea2543'\n",
         "hidden": false,
         "locked": false
        },
        {
         "code": ">>> # Check P0 > goal and P0 == goal\n>>> assert get_hash(mySavingsPlan(4000, 0.10, 300)) == 'cfcd208495d565ef66e7dff9f98764da', \"What if P0 is greater than the goal? Are additional years needed for saving?\"\n>>> assert get_hash(mySavingsPlan(300, 0.10, 300)) == 'cfcd208495d565ef66e7dff9f98764da', \"What if P0 is equal to the goal? Are additional years needed for saving?\"\n",
         "hidden": false,
         "locked": false
        }
       ],
       "scored": true,
       "setup": "",
       "teardown": "",
       "type": "doctest"
      }
     ]
    },
    "q2": {
     "name": "q2",
     "points": 4,
     "suites": [
      {
       "cases": [
        {
         "code": ">>> # Check students tested the function (type is not ellipsis)\n>>> assert get_hash(type(q2)) != '14e736438b115821cbb9b7ac0ba79034', \"Make sure to test your function!\"\n>>> # Test for valid input without 0\n>>> assert get_hash(mySum(14927421)) == '34173cb38f07f89ddbebc2ac9128303f'\n>>> assert get_hash(mySum(1371)) == 'c20ad4d76fe97759aa27a0c99bff6710'\n>>> assert get_hash(mySum(629)) == '70efdf2ec9b086079795c442636b55fb'\n",
         "hidden": false,
         "locked": false
        },
        {
         "code": ">>> # Test for valid input with 0\n>>> assert get_hash(mySum(104927421)) == '34173cb38f07f89ddbebc2ac9128303f', \"What if n has 0?\"\n>>> assert get_hash(mySum(13710)) == 'c20ad4d76fe97759aa27a0c99bff6710', \"What if n has 0?\"\n>>> assert get_hash(mySum(60020090)) == '70efdf2ec9b086079795c442636b55fb', \"What if n has 0?\"\n",
         "hidden": false,
         "locked": false
        },
        {
         "code": ">>> # Test for non-integer (use .upper() to avoid failed test due to upper/lower case)\n>>> assert get_hash(mySum(0.1).upper()) == 'f461246234e2789f34f339b35945c15f', \"What if n is non-integer?\"\n>>> assert get_hash(mySum(10.1).upper()) == 'f461246234e2789f34f339b35945c15f', \"What if n is non-integer?\"\n>>> assert get_hash(mySum(10.00000001).upper()) == 'f461246234e2789f34f339b35945c15f', \"What if n is non-integer?\"\n>>> assert get_hash(mySum(10.9).upper()) == 'f461246234e2789f34f339b35945c15f', \"What if n is non-integer?\"\n>>> \n>>> # Test for negative values (use .upper() to avoid failed test due to upper/lower case)\n>>> assert get_hash(mySum(-1).upper()) == 'f461246234e2789f34f339b35945c15f', \"What if n is negative?\"\n>>> assert get_hash(mySum(-99).upper()) == 'f461246234e2789f34f339b35945c15f', \"What if n is negative?\"\n>>> assert get_hash(mySum(-0.1).upper()) == 'f461246234e2789f34f339b35945c15f', \"What if n is negative?\"\n",
         "hidden": false,
         "locked": false
        },
        {
         "code": ">>> # Test for floats with decimal point but no fractional component\n>>> assert get_hash(mySum(1.0)) == 'c4ca4238a0b923820dcc509a6f75849b', \"What if n has decimal point but no fractional component?\"\n>>> assert get_hash(mySum(916372.0)) == '33e75ff09dd601bbe69f351039152189', \"What if n has decimal point but no fractional component?\"\n>>> assert get_hash(mySum(763617.)) == '34173cb38f07f89ddbebc2ac9128303f', \"What if n has decimal point but no fractional component?\"\n>>> assert get_hash(mySum(7636170.)) == '34173cb38f07f89ddbebc2ac9128303f', \"What if n has decimal point but no fractional component?\"\n>>> assert get_hash(mySum(0763617.)) == '34173cb38f07f89ddbebc2ac9128303f', \"What if n has decimal point but no fractional component?\"\n",
         "hidden": false,
         "locked": false
        }
       ],
       "scored": true,
       "setup": "",
       "teardown": "",
       "type": "doctest"
      }
     ]
    },
    "q3": {
     "name": "q3",
     "points": 4,
     "suites": [
      {
       "cases": [
        {
         "code": ">>> # Check students tested the function (type is not ellipsis)\n>>> assert get_hash(type(q3)) != '14e736438b115821cbb9b7ac0ba79034', \"Make sure to test your function!\"\n>>> # Check output types and length\n>>> assert get_hash(type(hailstone(4))) == '22b3afce62075c7012f8e5041adfee16' , 'Check output structure.'\n>>> assert get_hash(type(hailstone(4)[0])) == '425ed5b515f0a67c6316f0ec499f86bf' , 'Make sure the sequence is a list.'\n>>> assert get_hash(len(hailstone(4))) == 'c81e728d9d4c2f636f067f89cc14862c' , 'Make sure you return both the sequence and the steps.'\n",
         "hidden": false,
         "locked": false
        },
        {
         "code": ">>> # Check n == 1\n>>> assert get_hash(int(sum(hailstone(1)[0]))) == 'c4ca4238a0b923820dcc509a6f75849b', 'What if n is 1?'\n>>> assert get_hash(hailstone(1)[1]) == 'c4ca4238a0b923820dcc509a6f75849b', 'What if n is 1?'\n",
         "hidden": false,
         "locked": false
        },
        {
         "code": ">>> # Check general cases\n>>> assert get_hash(int(sum(hailstone(17)[0]))) == 'ca46c1b9512a7a8315fa3c5a946e8265', 'Check the sequence.'\n>>> assert get_hash(hailstone(17)[1]) == 'c51ce410c124a10e0db5e4b97fc2af39', 'Check the step count.'\n>>> assert get_hash(int(sum(hailstone(119)[0]))) == 'e951ccd95572a67138f4572c1c7d7ee8', 'Check the sequence.'\n>>> assert get_hash(hailstone(119)[1]) == 'e369853df766fa44e1ed0ff613f563bd', 'Check the step count.'\n",
         "hidden": false,
         "locked": false
        },
        {
         "code": ">>> # Test for floats with decimal point but no fractional component\n>>> assert get_hash(int(sum((hailstone(19.)[0])))) == '63538fe6ef330c13a05a3ed7e599d5f7', 'What if n has decimal point but no fractional component?'\n>>> assert get_hash(int(sum((hailstone(122.0)[0])))) == 'c3e0c62ee91db8dc7382bde7419bb573', 'What if n has decimal point but no fractional component?'\n",
         "hidden": false,
         "locked": false
        },
        {
         "code": ">>> # Randomized tests\n>>> random.seed(16493)\n>>> assert get_hash(int(sum(hailstone(random.randint(1,1000))[0]))) == '2af1e9eaa807096a11b32ed26ecc2cbb'\n>>> random.seed(836439)\n>>> assert get_hash(int(sum(hailstone(random.randint(1,1000))[0]))) == '3e5c39e6359d13d57826c85e119ed584'\n",
         "hidden": false,
         "locked": false
        },
        {
         "code": ">>> # Check error message\n>>> assert get_hash(hailstone(-1).upper()) == 'f461246234e2789f34f339b35945c15f' , 'What if n is negative? Check the formatting of the error message.'\n>>> assert get_hash(hailstone(0).upper()) == 'f461246234e2789f34f339b35945c15f' , 'What if n is zero? Check the formatting of the error message.'\n>>> assert get_hash(hailstone(8.1).upper()) == 'f461246234e2789f34f339b35945c15f' , 'What if n is non-integer? Check the formatting of the error message.'\n>>> assert get_hash(hailstone(0.5).upper()) == 'f461246234e2789f34f339b35945c15f' , 'What if n is non-integer? Check the formatting of the error message.'\n",
         "hidden": false,
         "locked": false
        }
       ],
       "scored": true,
       "setup": "",
       "teardown": "",
       "type": "doctest"
      }
     ]
    },
    "q4": {
     "name": "q4",
     "points": 4,
     "suites": [
      {
       "cases": [
        {
         "code": ">>> # Check students tested the function (type is not ellipsis)\n>>> assert get_hash(type(q4)) != '14e736438b115821cbb9b7ac0ba79034', \"Make sure to test your function!\"\n>>> # Check output structure, data type and length\n>>> assert get_hash(type(myMin([99,2,43,3]))) == '22b3afce62075c7012f8e5041adfee16' , 'Check output structure.'\n>>> assert get_hash(type(myMin([99,2,43,3])[1])) == '425ed5b515f0a67c6316f0ec499f86bf' , \"Make sure 'loc' is a list.\"\n>>> assert get_hash(len(myMin([99,2,43,3]))) == 'c81e728d9d4c2f636f067f89cc14862c' , 'Make sure you return the minimum value AND its locations.'\n",
         "hidden": false,
         "locked": false
        },
        {
         "code": ">>> # Check simple cases\n>>> assert get_hash((myMin([2])[0])) == 'c81e728d9d4c2f636f067f89cc14862c'\n>>> assert get_hash(str(myMin([2])[1])) == '8d5162ca104fa7e79fe80fd92bb657fb'\n>>> assert get_hash((myMin([0.1, 0, 90, 45, 7, 5])[0])) == 'cfcd208495d565ef66e7dff9f98764da'\n>>> assert get_hash(str(myMin([0.1, 0, 90, 45, 7, 5])[1])) == '35dba5d75538a9bbe0b4da4422759a0e'\n>>> assert get_hash((myMin([-2, -0.5, 1, 0, 4 ])[0])) == '5d7b9adcbe1c629ec722529dd12e5129'\n>>> assert get_hash(str(myMin([-2, -0.5, 1, 0, 4 ])[1])) == '8d5162ca104fa7e79fe80fd92bb657fb'\n",
         "hidden": false,
         "locked": false
        },
        {
         "code": ">>> # Check cases with minimum occurring multiple times\n>>> assert get_hash((myMin([82,4,9,77,12,2,2,2])[0])) == 'c81e728d9d4c2f636f067f89cc14862c' , 'What if a value occurs multiple times?'\n>>> assert get_hash(str(myMin([82,4,9,77,12,2,2,2])[1])) == 'd472e4362d07077af3b279650392f20b', 'What if a value occurs multiple times?'\n>>> assert get_hash((myMin([-2,-2,-2])[0])) == '5d7b9adcbe1c629ec722529dd12e5129' , 'What if a value occurs multiple times?'\n>>> assert get_hash(str(myMin([-2,-2,-2])[1])) == '8b37504bedfc6b7c65d23fa48c1879f2', 'What ifa  value occurs multiple times?'\n",
         "hidden": false,
         "locked": false
        },
        {
         "code": ">>> # Check random cases\n>>> random.seed(19)\n>>> arr = random.sample(range(-100, 100), 30)\n>>> assert get_hash((myMin(arr)[0])) == 'ba4ae6b1964fb8ecc179885ad344bbe5'\n>>> assert  get_hash(str(myMin(arr)[1])) == '60ac310cd2c4508e89cf6df176aec86e'\n>>> random.seed(2023)\n>>> arr = random.sample(range(-100, 100), 20)\n>>> assert get_hash((myMin(arr)[0])) == '447c1b400b213deea698f7831346d059'\n>>> assert get_hash(str(myMin(arr)[1])) == 'afbef60bf96bcb6ad7498e2238075564'\n",
         "hidden": false,
         "locked": false
        }
       ],
       "scored": true,
       "setup": "",
       "teardown": "",
       "type": "doctest"
      }
     ]
    },
    "q5": {
     "name": "q5",
     "points": 4,
     "suites": [
      {
       "cases": [
        {
         "code": ">>> # Check students tested the function (type is not ellipsis)\n>>> assert get_hash(type(q5)) != '14e736438b115821cbb9b7ac0ba79034', \"Make sure to test your function!\"\n>>> # Check output data type and structure\n>>> assert get_hash(type(myRainfall([2.3,4.1,-5.4,1.0,7.1]))) == '22b3afce62075c7012f8e5041adfee16', 'Check output structure.'\n>>> assert get_hash(len(myRainfall([2.3,4.1,-5.4,1.0,7.1]))) == 'c81e728d9d4c2f636f067f89cc14862c','Make sure you return the total and average rainfall.'\n",
         "hidden": false,
         "locked": false
        },
        {
         "code": ">>> # Check simple cases\n>>> random.seed(42)\n>>> assert get_hash(myRainfall([2.3,4.1,5.4,1.0,7.1,2,8.0,4.9,6])) == '6eb602c98ab3730adcd0b9e4a95a5a6f'\n>>> assert get_hash(myRainfall(random.sample(range(0, 30), 10))) == 'fe41d4dd5c9aa7a08a9b91cbbb22bad7'\n",
         "hidden": false,
         "locked": false
        },
        {
         "code": ">>> # Check negative numbers\n>>> random.seed(42)\n>>> assert get_hash(myRainfall([-2, -0.5, 1, 0, 4])) == '04389d29912733173017287ead46350b', 'What if the list contains negative numbers?'\n>>> assert get_hash(myRainfall(random.sample(range(-20, 20), 30))) == '44dc258dc4d567d64f6445cfb8e0975a','What if the list contains negative numbers?'\n",
         "hidden": false,
         "locked": false
        },
        {
         "code": ">>> # Check cases with early stop\n>>> assert get_hash(myRainfall([2,1.3,-99,33,0.99,-999]))== '73bd5a7089bdf5d7f351f5c3ba4d0676','What if the list contains -999?'\n>>> assert get_hash(myRainfall([2,1.3,-99,-999,33,0.99,1])) == '467df7a4f00b2808a0f87ecaaff3f4a6','What if the list contains -999?'\n",
         "hidden": false,
         "locked": false
        }
       ],
       "scored": true,
       "setup": "",
       "teardown": "",
       "type": "doctest"
      }
     ]
    },
    "q6": {
     "name": "q6",
     "points": 4,
     "suites": [
      {
       "cases": [
        {
         "code": ">>> # Check students tested the function (type is not ellipsis)\n>>> assert get_hash(type(q6)) != '14e736438b115821cbb9b7ac0ba79034', \"Make sure to test your function!\"\n>>> # Check data structure\n>>> assert get_hash(type(mySummation([1, 1, 5, 6, 7, 8, 10],10))) == '30b39aca73d0815f5ca1a06af1412947' , 'Check output type'\n>>> assert get_hash(mySummation([1, 1, 5, 6, 7, 8, 10],10).shape) == '0f6c6ad8083308c6c59c917667b3fa2f' , 'Check output shape'\n",
         "hidden": false,
         "locked": false
        },
        {
         "code": ">>> # Check empty cases\n>>> assert get_hash(mySummation([0, 1, 1, 2, 3, 4],10)) == 'd751713988987e9331980363e24189ce', 'What if no three elements add up to sumTarget?'\n>>> assert get_hash(mySummation([10,20,30,40,50],200)) == 'd751713988987e9331980363e24189ce', 'What if no three elements add up to sumTarget?'\n>>> assert get_hash(mySummation([10,0,1,2],21)) == 'd751713988987e9331980363e24189ce', 'Make sure to not select an element more than once.'\n",
         "hidden": false,
         "locked": false
        },
        {
         "code": ">>> # Check simple case\n>>> assert get_hash(mySummation([2,3,4,5,6],12).shape) == '590392f0cb88f1eb89930f4de5e9eaaa'\n>>> assert get_hash(int(sum(mySummation([2,3,4,5,6],12)[:,2]))) == '6512bd43d9caa6e02c990b0a82652dca', 'Make sure your rows are sorted.'\n",
         "hidden": false,
         "locked": false
        },
        {
         "code": ">>> # Check case with multiple occurence\n>>> assert get_hash(int(sum(mySummation([0, 0, 2, 4, 6, 8, 14],14)[:,2]))) == '34173cb38f07f89ddbebc2ac9128303f'\n>>> assert get_hash(int(sum(mySummation([1,5,6,5,1],12)[:,2]))), 'Make sure all rows are unique.'\n",
         "hidden": false,
         "locked": false
        },
        {
         "code": ">>> # Check random case \n>>> random.seed(2099)\n>>> arr = random.sample(range(-10,10),12)\n>>> assert get_hash(int(sum(mySummation(arr,10)[:,2]))) == '33e75ff09dd601bbe69f351039152189'\n>>> random.seed(1868)\n>>> arr = random.sample(range(-10,10),12)\n>>> assert get_hash(int(sum(mySummation(arr,10)[:,2]))) == 'a684eceee76fc522773286a895bc8436'\n",
         "hidden": false,
         "locked": false
        }
       ],
       "scored": true,
       "setup": "",
       "teardown": "",
       "type": "doctest"
      }
     ]
    },
    "q7": {
     "name": "q7",
     "points": 0,
     "suites": [
      {
       "cases": [
        {
         "code": ">>> # Check students tested the function (type is not ellipsis)\n>>> assert get_hash(type(q7)) != '14e736438b115821cbb9b7ac0ba79034', \"Make sure to test your function!\"\n>>> # Check examples\n>>> assert get_hash(remove_vowels('Welcome to E7!')) == 'c796d49406d6eaceb4b8f0a60046d990'\n>>> assert get_hash(remove_vowels('Hello World!')) == '21342b09fe42a27da8720d77704ccd73'\n>>> assert get_hash(remove_vowels('No vowels here! Python is fun!')) == '68a087a3a7b8ff6d94aa9226b6d0f5a3'\n>>> assert get_hash(remove_vowels('The quick brown fox jumps over the lazy dog.')) == 'f80f4502beacd9a425caef43761e9047'\n",
         "hidden": false,
         "locked": false
        },
        {
         "code": ">>> # Check new strings\n>>> assert get_hash(remove_vowels('AEIOUaeiou')) == 'd41d8cd98f00b204e9800998ecf8427e'\n>>> assert get_hash(remove_vowels('AEIOUaeiou! The end.')) == '9033e0e305f247c0c3c80d0c7848c8b3'\n>>> assert get_hash(remove_vowels('Programming is fun!!!')) == '6f721ade8c0b0f296b46a4990f94a1f6'\n>>> assert get_hash(remove_vowels('One two three four five')) == 'fbd35e565eb9e36330960a16c429b7d2'\n",
         "hidden": false,
         "locked": false
        }
       ],
       "scored": true,
       "setup": "",
       "teardown": "",
       "type": "doctest"
      }
     ]
    }
   }
  }
 },
 "nbformat": 4,
 "nbformat_minor": 4
}
