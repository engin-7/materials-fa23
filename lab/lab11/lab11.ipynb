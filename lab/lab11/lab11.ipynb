{
 "cells": [
  {
   "cell_type": "code",
   "execution_count": null,
   "id": "eb3d4d4f",
   "metadata": {
    "deletable": false,
    "editable": false
   },
   "outputs": [],
   "source": [
    "# Initialize Otter\n",
    "import otter\n",
    "grader = otter.Notebook(\"lab11.ipynb\")"
   ]
  },
  {
   "cell_type": "markdown",
   "id": "01d90c79",
   "metadata": {},
   "source": [
    "# E7: Lab Assignment 11\n",
    "\n",
    "You must submit the lab to Gradescope by the due date. You will submit the zip file produced by running the final cell of the assignment.\n",
    "\n",
    "## About this Lab\n",
    "The objective of this assignment is to familiarize you with numerical methods for ordinary differential equations.\n",
    "\n",
    "## Autograder\n",
    "You will be provided with some test cases (i.e., sample input data) and associated answers (i.e., expected outputs) that you can use to help check your code. The provided test cases are not exhaustive, and it is your responsibility to ensure that your code works in general, not just for a few supplied test cases. We may use additional hidden test cases in grading your lab assignments.\n",
    "\n",
    "**Run the first cell, Initialize Otter**, to import the autograder and submission exporter.\n",
    "\n",
    "## Answer cells\n",
    "Throughout the assignment, replace `...` with your answers. We use `...` as a placeholder and these should be deleted and replaced with your answers.\n",
    "\n",
    "Your answers must be in the cells marked `# ANSWER CELL`, including your final calculation/code. However, do not perform scratchwork in `# ANSWER CELL`. Add a new cell to perform your scratchwork. Your scratchwork will not be graded and does not need to be included in your submission unless otherwise noted.\n",
    "\n",
    "To read the documentation on a Python function, you can type `help()` and add the function name between parentheses.\n",
    "\n",
    "## Score Breakdown\n",
    "Question| Points\n",
    "--- | --\n",
    "1 | 9.0\n",
    "2 | 11.0\n",
    "3 | 5.0\n",
    "Total | 25.0\n",
    "\n",
    "**Run the cell below**, to import the required modules."
   ]
  },
  {
   "cell_type": "code",
   "execution_count": null,
   "id": "deb8abd8",
   "metadata": {},
   "outputs": [],
   "source": [
    "# Please run this cell, and do not modify the contents\n",
    "import numpy as np\n",
    "import math\n",
    "import matplotlib.pyplot as plt\n",
    "import scipy\n",
    "from scipy.integrate import solve_ivp\n",
    "np.seterr(all='ignore');\n",
    "import time\n",
    "!pip install -q IPythonDisplayFireworks\n",
    "\n",
    "import hashlib\n",
    "def get_hash(num):\n",
    "    \"\"\"Helper function for assessing correctness\"\"\"\n",
    "    return hashlib.md5(str(num).encode()).hexdigest()"
   ]
  },
  {
   "cell_type": "markdown",
   "id": "dfa9d773",
   "metadata": {},
   "source": [
    "## Question 1: Logistic Equation\n",
    "\n",
    "The logistic equation is a simple differential equation model which can be used to relate the change in population $\\dfrac{dP}{dt}$ to the current population, $P$.  The logistic equation models bounded growth as opposed to earlier exponential growth models which fail to take into account constraints on the maximum population. These constraints arise from the fact that large populations will necessarily compete for resources (e.g. food, living space, etc.), while small populations are not generally constrained by these factors and can grow exponentially. The logistic equation reads\n",
    "\n",
    "$$\\dfrac{dP}{dt} = rP\\left(1−\\frac{P}{K}\\right)$$\n",
    "where\n",
    "* $r$ is the growth rate in the absence of limited resources; i.e. how quickly the population would grow if infinite resources were available,\n",
    "* $K$ is the carrying capacity, or the maximum population the ecosystem is able to sustain indefinitely.\n",
    "\n",
    "The logistic equation can be used in a variety of other contexts, including machine learning, cancer treatment, economics and language adoption among others. While the interpretation of the parameters may change, the potential applications are all characterized by an exponential growth followed by a gradual saturation which the logistic equation is able to model. "
   ]
  },
  {
   "cell_type": "markdown",
   "id": "25fcaafe",
   "metadata": {
    "deletable": false,
    "editable": false
   },
   "source": [
    "### Question 1.0 \n",
    "\n",
    "Write a function `my_logistic_eq(t,P,r,K)` that returns $dP/dt$ based on the logistic equation above. You may assume that the arguments `t`, `P`, `r`, and `K` are all scalars, and represent the time, current population, growth rate and carrying capacity, respectively, as given in the above equation. \n",
    "\n",
    "We will later use the built-in `scipy.integrate.solve_ivp` function to integrate this ODE. This format allows `my_logistic_eq` to be used as an input argument to `solve_ivp` even though `t` is not part of the differential equation. ODEs which are not dependent on the time variable $t$ are known as *autonomous*.\n",
    " \n",
    "Once you are done, try out your new `my_logistic_eq(t,P,r,K)` function for the example below and make sure it produces the correct output. Assign the result to `q1_0`.\n",
    " \n",
    "```PYTHON\n",
    "Example: \n",
    "    \n",
    ">>> my_logistic_eq(0,10,1.1,15)\n",
    "3.666666666666667\n",
    "```"
   ]
  },
  {
   "cell_type": "code",
   "execution_count": null,
   "id": "46a5440f",
   "metadata": {
    "tags": []
   },
   "outputs": [],
   "source": [
    "# ANSWER CELL\n",
    "..."
   ]
  },
  {
   "cell_type": "code",
   "execution_count": null,
   "id": "4e188f4a",
   "metadata": {
    "tags": []
   },
   "outputs": [],
   "source": [
    "# TEST YOUR FUNCTION HERE\n",
    "q1_0 = ...\n",
    "q1_0 "
   ]
  },
  {
   "cell_type": "code",
   "execution_count": null,
   "id": "c919d435",
   "metadata": {
    "deletable": false,
    "editable": false
   },
   "outputs": [],
   "source": [
    "grader.check(\"q1.0\")"
   ]
  },
  {
   "cell_type": "markdown",
   "id": "1a8e783d",
   "metadata": {
    "deletable": false,
    "editable": false
   },
   "source": [
    "### Question 1.1: Forward (Explicit) Euler Method\n",
    "\n",
    "Write a function `my_logistic_euler(t_span,n,P0,r,K)`, where:\n",
    "* `t_span` is a list of the form $[t_0,t_f]$, where $t_0$ is the initial time, and $t_f$ is the final time of consideration,\n",
    "* `n` is an integer indicating the number of discrete time intervals for the numerical method,\n",
    "* `P0`, `r`, and `K` are all scalars, and represent the initial population, growth rate and carrying capacity, respectively, as given in the above equation. \n",
    "\n",
    "Your function should solve the logistic equation on a numerical grid with `n` equal intervals (or, equivalently, `n+1` evenly spaced grid points) between $t_0$ and $t_f$ using the Forward Euler method. The function should return two `numpy.array` objects. First, the discrete time grid and, second, the numerical solution for $P(t)$ evaluated on the time grid. Both arrays should have shape `(n+1,)`.\n",
    "\n",
    "Once you are done, try out your new `my_logistic_euler(t_span,n,P0,r,K)` function for the example below and make sure it produces the correct output. Assign the result to `q1_1`.\n",
    " \n",
    "```PYTHON\n",
    "Examples: \n",
    "    \n",
    ">>> t_span = [0, 10] \n",
    ">>> n = 10 \n",
    ">>> P0 = 10 \n",
    ">>> r = 1.01 \n",
    ">>> K = 200 \n",
    ">>> my_logistic_euler(t_span,n,P0,r,K) \n",
    "\n",
    "(array([ 0.,  1.,  2.,  3.,  4.,  5.,  6.,  7.,  8.,  9., 10.]),\n",
    " array([ 10.        ,  19.595     ,  37.44693167,  68.18685557,\n",
    "        113.57587097, 163.14513439, 193.50922901, 199.85215066,\n",
    "        200.0013681 , 199.99998631, 200.00000014]))\n",
    "```"
   ]
  },
  {
   "cell_type": "code",
   "execution_count": null,
   "id": "8470dac5",
   "metadata": {
    "tags": []
   },
   "outputs": [],
   "source": [
    "# ANSWER CELL\n",
    "..."
   ]
  },
  {
   "cell_type": "code",
   "execution_count": null,
   "id": "6da3eb4c",
   "metadata": {
    "tags": []
   },
   "outputs": [],
   "source": [
    "# TEST YOUR FUNCTION HERE\n",
    "q1_1 = ...\n",
    "q1_1 "
   ]
  },
  {
   "cell_type": "code",
   "execution_count": null,
   "id": "2008a6d1",
   "metadata": {
    "deletable": false,
    "editable": false
   },
   "outputs": [],
   "source": [
    "grader.check(\"q1.1\")"
   ]
  },
  {
   "cell_type": "markdown",
   "id": "8b52ef28",
   "metadata": {
    "deletable": false,
    "editable": false
   },
   "source": [
    "### Question 1.2: Explicit Midpoint Method\n",
    "\n",
    "Write a function `my_logistic_midpoint(t_span,n,P0,r,K)`, where:\n",
    "* `t_span` is a list of the form $[t_0,t_f]$, where $t_0$ is the initial time, and $t_f$ is the final time of consideration,\n",
    "* `n` is an integer indicating the number of discrete time intervals for the numerical method,\n",
    "* `P0`, `r`, and `K` are all scalars, and represent the initial population, growth rate and carrying capacity, respectively, as given in the above equation. \n",
    "\n",
    "Your function should solve the logistic equation on a numerical grid with `n` equal intervals (or, equivalently, `n+1` evenly spaced grid points) between $t_0$ and $t_f$ using the explicit midpoint method. The function should return two `numpy.array` objects. First, the discrete time grid and, second, the numerical solution for $P(t)$ evaluated on the time grid. Both arrays should have shape `(n+1,)`.\n",
    "\n",
    "Once you are done, try out your new `my_logistic_midpoint(t_span,n,P0,r,K)` function for the example below and make sure it produces the correct output. Assign the result to `q1_2`.\n",
    " \n",
    "```PYTHON\n",
    "Examples: \n",
    "    \n",
    ">>> t_span = [0, 10] \n",
    ">>> n = 10 \n",
    ">>> P0 = 10 \n",
    ">>> r = 1.01 \n",
    ">>> K = 200 \n",
    ">>> my_logistic_midpoint(t_span,n,P0,r,K) \n",
    "\n",
    "(array([ 0.,  1.,  2.,  3.,  4.,  5.,  6.,  7.,  8.,  9., 10.]),\n",
    " array([ 10.        ,  23.83969667,  52.63667777,  99.24011848,\n",
    "        146.71166129, 174.91141658, 188.06871901, 194.19856402,\n",
    "        197.14067754, 198.58063224, 199.29285385]))\n",
    "```"
   ]
  },
  {
   "cell_type": "code",
   "execution_count": null,
   "id": "b41e9870",
   "metadata": {
    "tags": []
   },
   "outputs": [],
   "source": [
    "# ANSWER CELL\n",
    "..."
   ]
  },
  {
   "cell_type": "code",
   "execution_count": null,
   "id": "55f91adc",
   "metadata": {
    "tags": []
   },
   "outputs": [],
   "source": [
    "# TEST YOUR FUNCTION HERE\n",
    "q1_2 = ...\n",
    "q1_2 "
   ]
  },
  {
   "cell_type": "code",
   "execution_count": null,
   "id": "ba17ac83",
   "metadata": {
    "deletable": false,
    "editable": false
   },
   "outputs": [],
   "source": [
    "grader.check(\"q1.2\")"
   ]
  },
  {
   "cell_type": "markdown",
   "id": "0e1d0f6d",
   "metadata": {
    "deletable": false,
    "editable": false
   },
   "source": [
    "### Question 1.3: Heun's Method\n",
    "\n",
    "Write a function `my_logistic_heun(t_span,n,P0,r,K)`, where:\n",
    "* `t_span` is a list of the form $[t_0,t_f]$, where $t_0$ is the initial time, and $t_f$ is the final time of consideration,\n",
    "* `n` is an integer indicating the number of discrete time intervals for the numerical method,\n",
    "* `P0`, `r`, and `K` are all scalars, and represent the initial population, growth rate and carrying capacity, respectively, as given in the above equation. \n",
    "\n",
    "Your function should solve the logistic equation on a numerical grid with `n` equal intervals (or, equivalently, `n+1` evenly spaced grid points) between $t_0$ and $t_f$ using Heun's method. The function should return two `numpy.array` objects. First, the discrete time grid and, second, the numerical solution for $P(t)$ evaluated on the time grid. Both arrays should have shape `(n+1,)`.\n",
    "\n",
    "Once you are done, try out your new `my_logistic_heun(t_span,n,P0,r,K)` function for the example below and make sure it produces the correct output. Assign the result to `q1_3`.\n",
    " \n",
    "```PYTHON\n",
    "Examples: \n",
    "    \n",
    ">>> t_span = [0, 10] \n",
    ">>> n = 10 \n",
    ">>> P0 = 10 \n",
    ">>> r = 1.01 \n",
    ">>> K = 200 \n",
    ">>> my_logistic_heun(t_span,n,P0,r,K) \n",
    "\n",
    "(array([ 0.,  1.,  2.,  3.,  4.,  5.,  6.,  7.,  8.,  9., 10.]),\n",
    " array([ 10.        ,  23.72346584,  51.85066975,  96.27574153,\n",
    "        141.23262852, 169.98341755, 184.96735326, 192.48615188,\n",
    "        196.24401448, 198.12217279, 199.06108154]))\n",
    "```"
   ]
  },
  {
   "cell_type": "code",
   "execution_count": null,
   "id": "720e178b",
   "metadata": {
    "tags": []
   },
   "outputs": [],
   "source": [
    "# ANSWER CELL\n",
    "..."
   ]
  },
  {
   "cell_type": "code",
   "execution_count": null,
   "id": "48f40bf1",
   "metadata": {
    "tags": []
   },
   "outputs": [],
   "source": [
    "# TEST YOUR FUNCTION HERE\n",
    "q1_3 = ...\n",
    "q1_3 "
   ]
  },
  {
   "cell_type": "code",
   "execution_count": null,
   "id": "2db3169a",
   "metadata": {
    "deletable": false,
    "editable": false
   },
   "outputs": [],
   "source": [
    "grader.check(\"q1.3\")"
   ]
  },
  {
   "cell_type": "markdown",
   "id": "8a52c9d2",
   "metadata": {
    "deletable": false,
    "editable": false
   },
   "source": [
    "### Question 1.4\n",
    "\n",
    "Write a function `my_logistic_ivp(t_span,n,P0,r,K)`, where:\n",
    "* `t_span` is a list of the form $[t_0,t_f]$, where $t_0$ is the initial time, and $t_f$ is the final time of consideration,\n",
    "* `n` is an integer indicating the number of discrete time intervals for the numerical method,\n",
    "* `P0`, `r`, and `K` are all scalars, and represent the initial population, growth rate and carrying capacity, respectively, as given in the above equations. \n",
    "\n",
    "Your function should solve the logistic equation on a numerical grid with `n` equal intervals (or, equivalently, `n+1` evenly spaced grid points) between $t_0$ and $t_f$ using the built-in `scipy.integrate.solve_ivp` function. Refer to the documentation [here](https://docs.scipy.org/doc/scipy/reference/generated/scipy.integrate.solve_ivp.html). You will have to pass the function to be integrated, the time span and the initial condition to `solve_ivp`. For this problem, you will also have to specify the `t_eval` argument which tells the solver the points at which the solution is desired. If left blank, `solve_ivp` will choose these points for you. \n",
    "\n",
    "Your `my_logistic_ivp` function should return two `numpy.array` objects. First, the discrete time grid and, second, the numerical solution for $P(t)$ evaluated on the time grid.  Both arrays should have shape `(n+1,)`.\n",
    "\n",
    "*Hint: The main arguments you want to pass are: `scipy.integrate.solve_ivp(fun=..., t_span=..., y0=..., t_eval=..., args=(...))`*\n",
    "\n",
    "*Note that the initial value, `y0`, should be array like, even if it is a single scalar value. In addition, `args` should be a tuple that includes additional arguments to pass to the user-defined function, `fun`, besides the independent variable and the unknown function we're trying to solve for.*\n",
    "\n",
    "Once you are done, try out your new `my_logistic_ivp(t_span,n,P0,r,K)` function for the example below and make sure it produces the correct output. Assign the result to `q1_4`.\n",
    " \n",
    "```PYTHON\n",
    "Examples: \n",
    "    \n",
    ">>> t_span = [0, 10] \n",
    ">>> n = 10 \n",
    ">>> P0 = 10 \n",
    ">>> r = 1.01 \n",
    ">>> K = 200 \n",
    ">>> my_logistic_ivp(t_span,n,P0,r,K) \n",
    "\n",
    "(array([ 0.,  1.,  2.,  3.,  4.,  5.,  6.,  7.,  8.,  9., 10.]),\n",
    " array([ 10.        ,  25.25417705,  56.82447686, 104.36572878,\n",
    "        149.93249826, 178.34074735, 191.54722911, 196.85380604,\n",
    "        198.82277579, 199.58873589, 199.8247388 ]))\n",
    "```"
   ]
  },
  {
   "cell_type": "code",
   "execution_count": null,
   "id": "b4bc6368",
   "metadata": {
    "tags": []
   },
   "outputs": [],
   "source": [
    "# ANSWER CELL\n",
    "..."
   ]
  },
  {
   "cell_type": "code",
   "execution_count": null,
   "id": "f78f787e",
   "metadata": {
    "tags": []
   },
   "outputs": [],
   "source": [
    "# TEST YOUR FUNCTION HERE\n",
    "q1_4 = ...\n",
    "q1_4"
   ]
  },
  {
   "cell_type": "code",
   "execution_count": null,
   "id": "0982d11e",
   "metadata": {
    "deletable": false,
    "editable": false
   },
   "outputs": [],
   "source": [
    "grader.check(\"q1.4\")"
   ]
  },
  {
   "cell_type": "markdown",
   "id": "b7b374cb",
   "metadata": {
    "deletable": false,
    "editable": false
   },
   "source": [
    "### Question 1.5\n",
    "\n",
    "The logistic equation has an analytic solution given by\n",
    "\n",
    "$$P(t)= \\frac{KP_0e^{rt}}{K+P_0(e^{rt}−1)}$$\n",
    "\n",
    "where $P_0$ is the initial population. This curve belongs to the family of *logistic functions*, hence the name of the equation. \n",
    "\n",
    "Write a function `my_logistic_plot(t_span,n,P0,r,K)` which returns a `matplotlib.pyplot` figure of the exact solution and the four numerical solutions. The function inputs are the same as in the previous parts.\n",
    "\n",
    "The function should create the figure as follows:\n",
    "* Line plot (1) time vs. population as computed by `my_logistic_euler` given the input parameters\n",
    "* Line plot (2) time vs. population as computed by `my_logistic_midpoint` given the input parameters\n",
    "* Line plot (3) time vs. population as computed by `my_logistic_heun` given the input parameters\n",
    "* Line plot (4) time vs. population as computed by `my_logistic_ivp` given the input parameters\n",
    "* Line plot (5) time vs. population as given by the exact solution on an equally spaced time grid of 10,001 points spanning `t_span`.\n",
    "* A legend with labels 'Forward Euler', 'Midpoint', 'Heun', 'solve_ivp' and 'Exact' for line plots 1-5, respectively\n",
    "* X axis label which reads 'Time, year'\n",
    "* Y axis label which reads 'Population'\n",
    "* Title label which reads 'n = {n}', where {n} is replaced with `n`\n",
    "* X-axis limits equal to `t_span`\n",
    "* Y-axis limits equal to `[0,K]`\n",
    "\n",
    "Once you are done, test your function for the two examples below. Assign the result to `q1_5`. Your output figures should look like Figures 1 and 2 shown below. Feel free to experiment with other inputs as well as any plotting options that are not explicitly specified.\n",
    "\n",
    " \n",
    "```PYTHON\n",
    "Examples: \n",
    ">>> t_span = [0,10]\n",
    ">>> P0 = 10\n",
    ">>> r = 1.01\n",
    ">>> K = 200\n",
    ">>> n = 10\n",
    ">>> my_logistic_plot(t_span,n,P0,r,K)\n",
    "```\n",
    "<img src=\"resources/lab11_q1_5_1.png\" style=\"width:600px;\"/>\n",
    "<figcaption style=\"text-align:center\"> Figure 1. Question 1.5, Example 1</figcaption>   \n",
    "\n",
    "```PYTHON\n",
    ">>> n = 1000\n",
    ">>> my_logistic_plot(t_span,n,P0,r,K)\n",
    "```\n",
    "<img src=\"resources/lab11_q1_5_2.png\" style=\"width:600px;\"/>\n",
    "<figcaption style=\"text-align:center\"> Figure 2. Question 1.5, Example 2 </figcaption>  "
   ]
  },
  {
   "cell_type": "code",
   "execution_count": null,
   "id": "e9abc5bb",
   "metadata": {
    "tags": []
   },
   "outputs": [],
   "source": [
    "# ANSWER CELL\n",
    "..."
   ]
  },
  {
   "cell_type": "code",
   "execution_count": null,
   "id": "a385f716",
   "metadata": {
    "tags": []
   },
   "outputs": [],
   "source": [
    "# TEST YOUR FUNCTION HERE\n",
    "q1_5 = ..."
   ]
  },
  {
   "cell_type": "code",
   "execution_count": null,
   "id": "dd035a32",
   "metadata": {
    "deletable": false,
    "editable": false
   },
   "outputs": [],
   "source": [
    "grader.check(\"q1.5\")"
   ]
  },
  {
   "cell_type": "markdown",
   "id": "618f6782",
   "metadata": {},
   "source": [
    "## Question 2: Damped Harmonic Oscillator\n",
    "\n",
    "Consider the model of a mass-spring-damper (MSD) system in one dimension shown in Figure 3. In this figure, $m$ denotes the mass of the block, $c$ is the damping coefficient, and $k$ is the spring stiffness. \n",
    "\n",
    "<img src=\"resources/msd.png\" style=\"width:200px;\"/>\n",
    "<figcaption style=\"text-align:center\"> Figure 3. Mass-spring-damper system. </figcaption>   \n",
    "\n",
    "A damper is a mechanism which dissipates energy in the system by resisting velocity. The MSD system is a simplistic model of several engineering applications such as shock absorbers and structural systems. The relationship between the acceleration $\\ddot{x}$, velocity $\\dot{x}$, and displacement $x$ can be expressed by the following mass-spring-damper (MSD) differential equation\n",
    "\n",
    "$$ m\\ddot{x} + c\\dot{x} +  kx = 0$$\n",
    "\n",
    "which can be rewritten as \n",
    "\n",
    "$$\\ddot{x}  = \\dfrac{-(c\\dot{x} +  kx)}{m}$$"
   ]
  },
  {
   "cell_type": "markdown",
   "id": "2ce740d2",
   "metadata": {
    "deletable": false,
    "editable": false
   },
   "source": [
    "### Question 2.0: Reduction of Order"
   ]
  },
  {
   "cell_type": "markdown",
   "id": "e859b2e9",
   "metadata": {
    "deletable": false,
    "editable": false
   },
   "source": [
    "Let the state of the system be denoted by the vector \n",
    "\n",
    "$$ S = \\begin{bmatrix} x \\\\ v \\end{bmatrix} = \\begin{bmatrix} x \\\\ \\dot{x} \\end{bmatrix}= \\begin{bmatrix} S_1 \\\\ S_2 \\end{bmatrix}$$\n",
    "\n",
    "where $x$ is the displacement of the mass from its resting configuration and $v$  is its velocity, which is simply the derivative of the displacement. We wish to rewrite the MSD equation as a first-order differential equation in terms of the state, $S$. We can take the first derivative of $S$, which results in the following\n",
    "\n",
    "$$\\dot{S}= \\begin{bmatrix} \\dot{x} \\\\ \\dot{v} \\end{bmatrix}= \\begin{bmatrix} \\dot{x} \\\\ \\ddot{x} \\end{bmatrix}$$\n",
    "\n",
    "Based on the MSD differential equation shown above\n",
    "\n",
    "$$\\ddot{x}  = \\dfrac{-(c\\dot{x} +  kx)}{m} = \\dfrac{-(cS_2 +  kS_1)}{m} $$\n",
    "\n",
    "Hence, we can rewrite $\\dot{S}$ as follows\n",
    "\n",
    "$$\\dot{S}= \\begin{bmatrix} \\dot{x} \\\\ \\ddot{x} \\end{bmatrix}= \\begin{bmatrix} S_2 \\\\ \\dfrac{-(cS_2 +  kS_1)}{m} \\end{bmatrix}$$\n",
    "\n",
    "Our goal is to transform the above system to matrix form, and find the matrix $A$ such that\n",
    "\n",
    "$$\\dot{S}= \\begin{bmatrix} S_2 \\\\ \\dfrac{-(cS_2 +  kS_1)}{m} \\end{bmatrix} = A \\begin{bmatrix} S_1 \\\\ S_2 \\end{bmatrix} =  A \\cdot S$$\n",
    "\n",
    "where $A$ is some linear operator (matrix). Note that $A$ should be independent of $S$ and $t$. Although, this might not look simpler, the matrix $A$ will be extremely useful for solving the MSD equation using several numerical methods.\n",
    "\n",
    "Write a function `my_msd(m,c,k)` where `m`, `c`, and `k` are the mass, damping, and stiffness coefficients of the MSD equation, respectively. Your function should return the matrix $A$ which maps $S$ to $\\dot{S}$ as a `numpy.array` of shape `(2,2)`. Note that $A$ sould be a `numpy.array`.\n",
    "\n",
    "*Hint: You will have to derive the values of matrix $A$ by hand and then write the function below that returns it. Solve for $a_{11}, a_{12}, a_{21}, a_{22}$ that satisfy the matrix multiplication shown below*\n",
    "\n",
    "$$\\dot{S}=  A \\cdot S = \\begin{bmatrix} a_{11} \\ a_{12} \\\\ a_{21} \\ a_{22} \\end{bmatrix} \\begin{bmatrix} S_1 \\\\ S_2 \\end{bmatrix} = \\begin{bmatrix} S_2 \\\\ \\dfrac{-(cS_2 +  kS_1)}{m} \\end{bmatrix}$$\n",
    "\n",
    "Once you are done, try out your new `my_msd(m,c,k)` function for the example below and make sure it produces the correct output. Assign the result to `q2_0`.\n",
    " \n",
    "```PYTHON\n",
    "Example: \n",
    "    \n",
    ">>> my_msd(10, 1, 100)\n",
    "\n",
    "array([[  0. ,   1. ],\n",
    "       [-10. ,  -0.1]])\n",
    "```"
   ]
  },
  {
   "cell_type": "code",
   "execution_count": null,
   "id": "ad6695e7",
   "metadata": {
    "tags": []
   },
   "outputs": [],
   "source": [
    "# ANSWER CELL\n",
    "..."
   ]
  },
  {
   "cell_type": "code",
   "execution_count": null,
   "id": "e8cdb8a7",
   "metadata": {
    "tags": []
   },
   "outputs": [],
   "source": [
    "# TEST YOUR FUNCTION HERE\n",
    "q2_0 = ...\n",
    "q2_0 "
   ]
  },
  {
   "cell_type": "code",
   "execution_count": null,
   "id": "65ea165b",
   "metadata": {
    "deletable": false,
    "editable": false
   },
   "outputs": [],
   "source": [
    "grader.check(\"q2.0\")"
   ]
  },
  {
   "cell_type": "markdown",
   "id": "263412ab",
   "metadata": {
    "deletable": false,
    "editable": false
   },
   "source": [
    "### Question 2.1: Forward Euler\n",
    "\n",
    "Write a function `my_forward_euler(t_span,n,s0,m,c,k)`, where:\n",
    "* `t_span` is a list of the form $[t_0,t_f]$, where $t_0$ is the initial time, and $t_f$ is the final time of consideration,\n",
    "* `n` is an integer indicating the number of discrete time intervals for the numerical method,\n",
    "* `s0` is a `numpy.array` of shape `(2,)` denoting the initial state of the MSD system\n",
    "* `m`, `c`, and `k` are all scalars, and represent the mass, damping, and stiffness coefficients of the MSD equation, respectively\n",
    "\n",
    "Note that since this is a second order differential equation (highest order derivative that appears in the equation is the second order, $\\ddot{x}$), then there are two initial conditions, the position $x$ at $t_0$ and the velocity $\\dot{x}$ at $t_0$:\n",
    "\n",
    "$$ S_0 = \\begin{bmatrix} x_0 \\\\ \\dot{x}_0 \\end{bmatrix}$$\n",
    "\n",
    "Your function should solve the MSD equation on a numerical grid with `n` equal intervals (or, equivalently, `n+1` evenly spaced grid points) between $t_0$ and $t_f$ using the Forward (or explicit) Euler method. \n",
    "\n",
    "The Forward Euler formula for time $t_{j+1}$ is given by\n",
    "\n",
    "$$S(t_{j+1}) = S(t_{j}) + h\\dot{S}(t_{j}) $$\n",
    "\n",
    "where $h$ is the grid spacing. For the MSD equation, we can restate the expression as\n",
    "\n",
    "\\begin{align}\n",
    "S(t_{j+1}) &= S(t_{j}) + h\\left(A{S}(t_{j})\\right) \\\\\n",
    "S(t_{j+1}) &= \\left(I_2 + hA\\right)S(t_{j}) \\\\\n",
    "\\end{align}\n",
    "\n",
    "where $I_2$ is the size 2 identity matrix\n",
    "\n",
    "$$ I_2 = \\begin{bmatrix} 1 & 0 \\\\ 0 & 1 \\end{bmatrix}$$\n",
    "\n",
    "and $A$ is the matrix computed by the `my_msd` function.\n",
    "\n",
    "In matrix form, the above can be written as:\n",
    "\n",
    "$$\n",
    "\\begin{bmatrix} x_{j+1} \\\\ \\dot{x}_{j+1} \\end{bmatrix} = \\left(\\begin{bmatrix} 1 & 0 \\\\ 0 & 1 \\end{bmatrix} + h\\begin{bmatrix} a_{11} \\ a_{12} \\\\ a_{21} \\ a_{22} \\end{bmatrix}\\right)\\begin{bmatrix} x_{j} \\\\ \\dot{x}_{j} \\end{bmatrix} \\\\\n",
    "$$\n",
    "\n",
    "which can be used to solve for the displacement and velocity at time step $t_{j+1}$ using the values at time step $t_j$.\n",
    "\n",
    "Your `my_forward_euler` function should return three `numpy.array` objects in the following order:\n",
    "* the discrete time grid,\n",
    "* the numerical solution for $x$ evaluated on the time grid,\n",
    "* the numerical solution for $\\dot{x}$ evaluated on the time grid\n",
    "\n",
    "All three arrays should have shape `(n+1,)`. \n",
    "\n",
    "*Hints:*\n",
    "* To perform matrix-vector or matrix-matrix multiplication, use the `@` operator which is the equivalent of MATLAB's `*`. Refer to some other differences between `numpy` and MATLAB in the context of linear algebra [here](https://numpy.org/devdocs/user/numpy-for-matlab-users.html#linear-algebra-equivalents). \n",
    "* Identity matrices can be generated with [`numpy.eye(N)`](https://numpy.org/devdocs/reference/generated/numpy.eye.html), where `N` is the number of rows.\n",
    "\n",
    "Once you are done, try out your new `my_forward_euler(t_span,n,s0,m,c,k)` function for the example below and make sure it produces the correct output. Assign the result to `q2_1`.\n",
    " \n",
    "```PYTHON\n",
    "Examples: \n",
    "    \n",
    ">>> t_span = [0,5]\n",
    ">>> s0 = np.array([1,0])\n",
    ">>> m = 1\n",
    ">>> c = 0.5\n",
    ">>> k = 16\n",
    ">>> n = 1000\n",
    ">>> my_forward_euler(t_span,n,s0,m,c,k) \n",
    "\n",
    "(array([0.   , 0.005, 0.01 , ..., 4.99 , 4.995, 5.   ]),\n",
    " array([1.        , 1.        , 0.9996    , ..., 0.18033913, 0.17410351,\n",
    "        0.16781135]),\n",
    " array([ 0.        , -0.08      , -0.1598    , ..., -1.24712288,\n",
    "        -1.25843221, -1.26921441]))\n",
    "```"
   ]
  },
  {
   "cell_type": "code",
   "execution_count": null,
   "id": "c86a8f6a",
   "metadata": {
    "tags": []
   },
   "outputs": [],
   "source": [
    "# ANSWER CELL\n",
    "..."
   ]
  },
  {
   "cell_type": "code",
   "execution_count": null,
   "id": "20712122",
   "metadata": {
    "tags": []
   },
   "outputs": [],
   "source": [
    "# TEST YOUR FUNCTION HERE\n",
    "q2_1 = ...\n",
    "q2_1"
   ]
  },
  {
   "cell_type": "code",
   "execution_count": null,
   "id": "410af2da",
   "metadata": {
    "deletable": false,
    "editable": false
   },
   "outputs": [],
   "source": [
    "grader.check(\"q2.1\")"
   ]
  },
  {
   "cell_type": "markdown",
   "id": "a3d2288a",
   "metadata": {
    "deletable": false,
    "editable": false
   },
   "source": [
    "### Question 2.2: Backward Euler\n",
    "\n",
    "Another approach that could be used is Backward Euler. Write a function `my_backward_euler(t_span,n,s0,m,c,k)`, where:\n",
    "* `t_span` is a list of the form $[t_0,t_f]$, where $t_0$ is the initial time, and $t_f$ is the final time of consideration,\n",
    "* `n` is an integer indicating the number of discrete time intervals for the numerical method,\n",
    "* `s0` is a `numpy.array` of shape `(2,)` denoting the initial state of the MSD system\n",
    "* `m`, `c`, and `k` are all scalars, and represent the mass, damping, and stiffness coefficients of the MSD equation, respectively\n",
    "\n",
    "Your function should solve the MSD equations on a numerical grid with `n` equal intervals (or, equivalently, `n+1` evenly spaced grid points) between $t_0$ and $t_f$ using the Backward (or implicit) Euler method. \n",
    "\n",
    "The Backward Euler formula for time $t_{j+1}$ is given by\n",
    "\n",
    "$$S(t_{j+1}) = S(t_{j}) + h\\dot{S}(t_{j+1}) $$\n",
    "\n",
    "where $h$ is the grid spacing. For the MSD equation, we can restate the expression as\n",
    "\n",
    "\\begin{align}\n",
    "S(t_{j+1}) &= S(t_{j}) + h\\left(A{S}(t_{j+1})\\right) \\\\\n",
    "\\left(I_2 - hA\\right)S(t_{j+1}) &= S(t_{j}) \\\\\n",
    "S(t_{j+1}) &= \\left(I_2 - hA\\right)^{-1}S(t_{j}) \\\\\n",
    "\\end{align}\n",
    "\n",
    "and $A$ is the matrix computed by the `my_msd` function. \n",
    "\n",
    "In matrix form, the above can be written as:\n",
    "\n",
    "$$\n",
    "\\begin{bmatrix} x_{j+1} \\\\ \\dot{x}_{j+1} \\end{bmatrix} = \\left(\\begin{bmatrix} 1 & 0 \\\\ 0 & 1 \\end{bmatrix} - h\\begin{bmatrix} a_{11} \\ a_{12} \\\\ a_{21} \\ a_{22} \\end{bmatrix}\\right)^{-1}\\begin{bmatrix} x_{j} \\\\ \\dot{x}_{j} \\end{bmatrix} \\\\\n",
    "$$\n",
    "\n",
    "\n",
    "Your `my_backward_euler` function should return three `numpy.array` objects in the following order:\n",
    "* the discrete time grid,\n",
    "* the numerical solution for $x$ evaluated on the time grid,\n",
    "* the numerical solution for $\\dot{x}$ evaluated on the time grid\n",
    "\n",
    "All three arrays should have shape `(n+1,)`.\n",
    "\n",
    "*Hint:* To compute a matrix inverse, you may wish to use [`numpy.linalg.inv`](https://numpy.org/doc/stable/reference/generated/numpy.linalg.inv.html). Alternatively, instead of inverting a matrix, you may solve a system of linear equations at each step which can be done with [`numpy.linalg.solve`](https://numpy.org/doc/stable/reference/generated/numpy.linalg.solve.html). As discussed in lecture, performing a matrix inversion followed by a matrix multiplication is in general less stable than solving a system of equations directly. However, for this problem, the former approach has the added advantage that the matrix inversion needs to be performed only once. Thus, there is a trade-off to be considered between numerical stability and efficiency. For this problem, you may compute the solution however you prefer.\n",
    "\n",
    "***Note that you should be able to simply copy your code from Question 2.1. and make very minor modifications based on the equation of this approach, which is presented above. Do not forget to update the function name!***\n",
    "\n",
    "Once you are done, try out your new `my_backward_euler(t_span,n,s0,m,c,k)` function for the example below and make sure it produces the correct output. Assign the result to `q2_2`.\n",
    " \n",
    "```PYTHON\n",
    "Examples: \n",
    "    \n",
    ">>> t_span = [0,5]\n",
    ">>> s0 = np.array([1,0])\n",
    ">>> m = 1\n",
    ">>> c = 0.5\n",
    ">>> k = 16\n",
    ">>> n = 1000\n",
    ">>> my_backward_euler(t_span,n,s0,m,c,k) \n",
    "\n",
    "(array([0.   , 0.005, 0.01 , ..., 4.99 , 4.995, 5.   ]),\n",
    " array([1.        , 0.99960116, 0.99880478, ..., 0.13130241, 0.12717841,\n",
    "        0.1230156 ]),\n",
    " array([ 0.        , -0.07976867, -0.15927487, ..., -0.8166888 ,\n",
    "        -0.82480107, -0.83256092]))\n",
    "```"
   ]
  },
  {
   "cell_type": "code",
   "execution_count": null,
   "id": "31c922db",
   "metadata": {
    "tags": []
   },
   "outputs": [],
   "source": [
    "# ANSWER CELL\n",
    "..."
   ]
  },
  {
   "cell_type": "code",
   "execution_count": null,
   "id": "a8020e2f",
   "metadata": {
    "tags": []
   },
   "outputs": [],
   "source": [
    "# TEST YOUR FUNCTION HERE\n",
    "q2_2 = ...\n",
    "q2_2"
   ]
  },
  {
   "cell_type": "code",
   "execution_count": null,
   "id": "f31ce1e5",
   "metadata": {
    "deletable": false,
    "editable": false
   },
   "outputs": [],
   "source": [
    "grader.check(\"q2.2\")"
   ]
  },
  {
   "cell_type": "markdown",
   "id": "0e737f23",
   "metadata": {
    "deletable": false,
    "editable": false
   },
   "source": [
    "### Question 2.3: Trapezoid Rule\n",
    "\n",
    "The last approach we will implement is Trapezoid Rule.  Write a function `my_trapezoid(t_span,n,s0,m,c,k)`, where:\n",
    "* `t_span` is a list of the form $[t_0,t_f]$, where $t_0$ is the initial time, and $t_f$ is the final time of consideration,\n",
    "* `n` is an integer indicating the number of discrete time intervals for the numerical method,\n",
    "* `s0` is a `numpy.array` of shape `(2,)` denoting the initial state of the MSD system\n",
    "* `m`, `c`, and `k` are all scalars, and represent the mass, damping, and stiffness coefficients of the MSD equation, respectively\n",
    "\n",
    "Your function should solve the MSD equations on a numerical grid with `n` equal intervals (or, equivalently, `n+1` evenly spaced grid points) between $t_0$ and $t_f$ using the trapezoid method. \n",
    "\n",
    "The trapezoid formula for time $t_{j+1}$ is given by\n",
    "\n",
    "$$S(t_{j+1}) = S(t_{j}) + \\frac{h}{2}\\left(\\dot{S}(t_{j})+\\dot{S}(t_{j+1})\\right) $$\n",
    "\n",
    "where $h$ is the grid spacing. For the MSD equation, we can restate the expression as\n",
    "\n",
    "\\begin{align}\n",
    "S(t_{j+1}) &= S(t_{j}) + \\frac{h}{2}\\left(AS(t_{j})+AS(t_{j+1})\\right)  \\\\\n",
    "\\left(I_2 - \\frac{h}{2}A\\right)S(t_{j+1}) &= \\left(I_2 + \\frac{h}{2}A\\right)S(t_{j}) \\\\\n",
    "S(t_{j+1}) &= \\left(I_2 - \\frac{h}{2}A\\right)^{-1}\\left(I_2 + \\frac{h}{2}A\\right)S(t_{j}) \n",
    "\\end{align}\n",
    "\n",
    "and $A$ is the matrix computed by the `my_msd` function. \n",
    "\n",
    "In matrix form, the above can be written as:\n",
    "\n",
    "$$\n",
    "\\begin{bmatrix} x_{j+1} \\\\ \\dot{x}_{j+1} \\end{bmatrix} = \\left(\\begin{bmatrix} 1 & 0 \\\\ 0 & 1 \\end{bmatrix} - \\frac{h}{2}\\begin{bmatrix} a_{11} \\ a_{12} \\\\ a_{21} \\ a_{22} \\end{bmatrix}\\right)^{-1}\\left(\\begin{bmatrix} 1 & 0 \\\\ 0 & 1 \\end{bmatrix} + \\frac{h}{2}\\begin{bmatrix} a_{11} \\ a_{12} \\\\ a_{21} \\ a_{22} \\end{bmatrix}\\right)\\begin{bmatrix} x_{j} \\\\ \\dot{x}_{j} \\end{bmatrix} \\\\\n",
    "$$\n",
    "\n",
    "\n",
    "Your `my_trapezoid` function should return three `numpy.array` objects in the following order:\n",
    "* the discrete time grid,\n",
    "* the numerical solution for $x$ evaluated on the time grid,\n",
    "* the numerical solution for $\\dot{x}$ evaluated on the time grid\n",
    "\n",
    "All three arrays should have shape `(n+1,)`.\n",
    "\n",
    "***Note that you should be able to simply copy your code from Question 2.1./2.2. and make very minor modifications based on the equation of this approach, which is presented above. Do not forget to update the function name!***\n",
    "\n",
    "Once you are done, try out your new `my_trapezoid(t_span,n,s0,m,c,k)` function for the example below and make sure it produces the correct output. Assign the result to `q2_3`.\n",
    " \n",
    "```PYTHON\n",
    "Examples: \n",
    "    \n",
    ">>> t_span = [0,5]\n",
    ">>> s0 = np.array([1,0])\n",
    ">>> m = 1\n",
    ">>> c = 0.5\n",
    ">>> k = 16\n",
    ">>> n = 1000\n",
    ">>> my_trapezoid(t_span,n,s0,m,c,k) \n",
    "\n",
    "(array([0.   , 0.005, 0.01 , ..., 4.99 , 4.995, 5.   ]),\n",
    " array([1.        , 0.99980027, 0.99920166, ..., 0.15351217, 0.14843668,\n",
    "        0.14331456]),\n",
    " array([ 0.        , -0.07989215, -0.15955292, ..., -1.01032863,\n",
    "        -1.01986883, -1.02897782]))\n",
    "```"
   ]
  },
  {
   "cell_type": "code",
   "execution_count": null,
   "id": "f3c060ce",
   "metadata": {
    "tags": []
   },
   "outputs": [],
   "source": [
    "# ANSWER CELL\n",
    "..."
   ]
  },
  {
   "cell_type": "code",
   "execution_count": null,
   "id": "3f6ab45c",
   "metadata": {
    "tags": []
   },
   "outputs": [],
   "source": [
    "# TEST YOUR FUNCTION HERE\n",
    "q2_3 = ...\n",
    "q2_3"
   ]
  },
  {
   "cell_type": "code",
   "execution_count": null,
   "id": "31ecad59",
   "metadata": {
    "deletable": false,
    "editable": false
   },
   "outputs": [],
   "source": [
    "grader.check(\"q2.3\")"
   ]
  },
  {
   "cell_type": "markdown",
   "id": "fc72d30e",
   "metadata": {
    "deletable": false,
    "editable": false
   },
   "source": [
    "### Question 2.4\n",
    "\n",
    "A function `msd_exact(t,m,c,k)` has been provided below which computes the exact analytic solution for an underdamped system given time values `t`, mass `m`, damping coefficient `c` and stiffness coefficient `k`.\n",
    "\n",
    "Write a function ` my_msd_plot(t_span,n,s0,m,c,k)` which returns a `matplotlib.pyplot` figure of the exact solution and the three numerical solutions using the functions you wrote so far. The function inputs remain unchanged.\n",
    "\n",
    "The function should create the figure as follows:\n",
    "* Line plot (1) time vs. displacement as computed by `my_forward_euler` given the input parameters\n",
    "* Line plot (2) time vs. displacement as computed by `my_backward_euler` given the input parameters\n",
    "* Line plot (3) time vs. displacement as computed by `my_trapezoid` given the input parameters\n",
    "* Line plot (4) time vs. displacement as computed by `msd_exact` on an equally spaced time grid of 10,001 points spanning `t_span`.\n",
    "* A legend with labels 'Forward Euler', 'Backward Euler', 'Trapezoid' and 'Exact' for line plots 1, 2, 3 and 4, respectively\n",
    "* X axis label which reads 'Time, s'\n",
    "* Y axis label which reads 'Displacement, m'\n",
    "* Title label which reads 'n = {n}', where {n} is replaced with `n`\n",
    "* X-axis limits equal to `t_span`\n",
    "* Y-axis limits equal to `[-1.2,1.2]`\n",
    "\n",
    "Once you are done, test your function for the two examples below. Assign the result to `q2_4`. Your output figures should look like Figures 4 and 5 shown below. Feel free to experiment with other inputs as well as any plotting options that are not explicitly specified.\n",
    "\n",
    "Discuss the results, especially for $n = 100$, with your fellow students and TAs.\n",
    " \n",
    "```PYTHON\n",
    "Examples: \n",
    ">>> t_span = [0,5]\n",
    ">>> s0 = np.array([1,0])\n",
    ">>> m = 1\n",
    ">>> c = 0.5\n",
    ">>> k = 16\n",
    ">>> n = 100\n",
    ">>> my_msd_plot(t_span,n,s0,m,c,k)\n",
    "```\n",
    "<img src=\"resources/lab11_q2_4_1.png\" style=\"width:800px;\"/>\n",
    "<figcaption style=\"text-align:center\"> Figure 4. Question 2.4, Example 1</figcaption>   \n",
    "\n",
    "```PYTHON\n",
    ">>> n = 10000\n",
    ">>> my_msd_plot(t_span,n,s0,m,c,k)\n",
    "```\n",
    "<img src=\"resources/lab11_q2_4_2.png\" style=\"width:800px;\"/>\n",
    "<figcaption style=\"text-align:center\"> Figure 5. Question 2.4, Example 2 </figcaption>  \n"
   ]
  },
  {
   "cell_type": "code",
   "execution_count": null,
   "id": "c7167955",
   "metadata": {
    "tags": []
   },
   "outputs": [],
   "source": [
    "# ANSWER CELL\n",
    "\n",
    "# Do not modify this function\n",
    "def msd_exact(t,m,c,k):\n",
    "    w = np.sqrt(k/m)\n",
    "    gamma = c/(2*m)\n",
    "    omega = np.sqrt(w**2 - gamma**2)\n",
    "    return np.exp(-gamma*t)*np.cos(omega*t)\n",
    "\n",
    "# Define your function here \n",
    "..."
   ]
  },
  {
   "cell_type": "code",
   "execution_count": null,
   "id": "8b1384dc",
   "metadata": {
    "tags": []
   },
   "outputs": [],
   "source": [
    "# TEST YOUR FUNCTION HERE\n",
    "q2_4 = ..."
   ]
  },
  {
   "cell_type": "code",
   "execution_count": null,
   "id": "f20d505c",
   "metadata": {
    "deletable": false,
    "editable": false
   },
   "outputs": [],
   "source": [
    "grader.check(\"q2.4\")"
   ]
  },
  {
   "cell_type": "markdown",
   "id": "6a7a34ea",
   "metadata": {},
   "source": [
    "## Question 3: Lorenz System\n",
    "\n",
    "The Lorenz system is a system of ordinary differential equations that was originally developed to model convection currents in the atmosphere. The Lorenz equations can be written as\n",
    "\n",
    "\\begin{align}\n",
    "\\dot{x} &= \\sigma(y-x) \\\\\n",
    "\\dot{y} &= x(\\rho - z) - y \\\\\n",
    "\\dot{z} &= xy - \\beta z \n",
    "\\end{align}\n",
    "\n",
    "where $x$, $y$, and $z$ represent position in three dimensions and $\\sigma$, $\\rho$, and $\\beta$ are scalar parameters of the system. You can read more about the Lorenz system [here](https://en.wikipedia.org/wiki/Lorenz_system).\n",
    "\n",
    "<img src=\"resources/lorenz_attractor.png\" style=\"width:400px;\"/>\n",
    "<figcaption style=\"text-align:center\"> Figure 6. A solution in the Lorenz attractor shown in the xz plane </figcaption>   "
   ]
  },
  {
   "cell_type": "markdown",
   "id": "78953107",
   "metadata": {
    "deletable": false,
    "editable": false
   },
   "source": [
    "### Question 3.0\n",
    "\n",
    "Let $S$ denote the state of the system such that \n",
    "\n",
    "$$ S = \\begin{bmatrix} x \\\\ y \\\\z \\end{bmatrix}$$\n",
    "\n",
    "Write a function `my_lorenz(t,S,sigma,rho,beta)`, where `t` is a scalar denoting time, `S` is a `(3,)` array denoting the state , i.e. the position $(x,y,z)$, and `sigma`, `rho`, and `beta` are strictly positive scalars representing $\\sigma$, $\\rho$, and $\\beta$, respectively. Recall that just like in Question 1, the input argument `t` is obligatory if `my_lorenz` is to be used as an input argument to `solve_ivp`, even though it is not part of the differential equation. Your function should return the time derivative, $\\dot{S}$, as an array with the same size as `S`. The equations for $\\dot{S}$ are given above.\n",
    "\n",
    "Once you are done, try out your new `my_lorenz(t,S,sigma,rho,beta)` function for the example below and make sure it produces the correct output. Assign the result to `q3_0`.\n",
    " \n",
    "```PYTHON\n",
    "Examples: \n",
    "    \n",
    ">>> my_lorenz(0,np.array([1, 2, 3]), 10, 28, 8/3)\n",
    "array([10., 23., -6.])\n",
    "```"
   ]
  },
  {
   "cell_type": "code",
   "execution_count": null,
   "id": "13ed440e",
   "metadata": {
    "tags": []
   },
   "outputs": [],
   "source": [
    "# ANSWER CELL\n",
    "..."
   ]
  },
  {
   "cell_type": "code",
   "execution_count": null,
   "id": "c62b18ad",
   "metadata": {
    "tags": []
   },
   "outputs": [],
   "source": [
    "# TEST YOUR FUNCTION HERE\n",
    "q3_0 = ...\n",
    "q3_0"
   ]
  },
  {
   "cell_type": "code",
   "execution_count": null,
   "id": "d4943852",
   "metadata": {
    "deletable": false,
    "editable": false
   },
   "outputs": [],
   "source": [
    "grader.check(\"q3.0\")"
   ]
  },
  {
   "cell_type": "markdown",
   "id": "e9bf3235",
   "metadata": {
    "deletable": false,
    "editable": false
   },
   "source": [
    "### Question 3.1: Fourth Order Runge-Kutta Method (RK4)\n",
    "\n",
    "Write a function `my_lorenz_RK4(t_span,n,s0,sigma,rho,beta)`, where:\n",
    "* `t_span` is a list of the form $[t_0,t_f]$, where $t_0$ is the initial time, and $t_f$ is the final time of consideration,\n",
    "* `n` is an integer indicating the number of discrete time intervals for the numerical method,\n",
    "* `s0` is a `numpy.array` of shape `(3,)` denoting the initial state of the Lorenz system\n",
    "* `sigma`, `rho`, and `beta` are the scalar parameters $\\sigma$, $\\rho$, and $\\beta$, respectively, of the Lorenz system.\n",
    "\n",
    "Note that in this case, there are three initial conditions, the positions $x, y, z$ at $t_0$:\n",
    "\n",
    "$$ S_0 = \\begin{bmatrix} x_0 \\\\ {y}_0 \\\\ {z_0}\\end{bmatrix}$$\n",
    "\n",
    "Your function should solve the Lorenz equations on a numerical grid with `n` equal intervals (or, equivalently, `n+1` evenly spaced grid points) between $t_0$ and $t_f$ using the [fourth order Runge-Kutta method](https://pythonnumericalmethods.berkeley.edu/notebooks/chapter22.05-Predictor-Corrector-Methods.html#fourth-order-runge-kutta-method):\n",
    "\n",
    "$$\n",
    "\\begin{eqnarray*}\n",
    "k_1 & = & F(t_j,S(t_j)) = \\begin{bmatrix} \\dot{x_j} \\\\ \\dot{y_j} \\\\\\dot{z_j} \\end{bmatrix}\\\\\n",
    "k_2 & = & F\\left(t_j+\\frac{h}{2},S(t_j)+\\frac{1}{2}k_1h\\right) \\\\\n",
    "k_3 & = & F\\left(t_j+\\frac{h}{2},S(t_j)+\\frac{1}{2}k_2h\\right)\\\\\n",
    "k_4 & = & F\\left(t_j+h,S(t_j)+k_3h\\right)\n",
    "\\end{eqnarray*}\n",
    "$$\n",
    "\n",
    "The solution is then computed as:\n",
    "\n",
    "$$\n",
    "S(t_{j+1}) = S(t_j) + \\frac{h}{6}\\left(k_1 + 2k_2 + 2k_3 + k_4\\right).\n",
    "$$\n",
    "\n",
    "or in matrix form:\n",
    "\n",
    "$$ \\begin{bmatrix} x_{j+1} \\\\ {y}_{j+1} \\\\ {z_{j+1}}\\end{bmatrix} = \\begin{bmatrix} x_{j} \\\\ {y}_{j} \\\\ {z_{j}}\\end{bmatrix}+ \\frac{h}{6}\\left(k_1 + 2k_2 + 2k_3 + k_4\\right)$$\n",
    "\n",
    "*Note that in the above equations, $F(t, S(t))$ represents your function `my_lorenz(t,S,sigma,rho,beta)`. So you have to call your function `my_lorenz` four times to compute $k_1, k_2, k_3, k_4$, each time passing different arguments for `S` based on the equations above. In addition, you can always use `t=t0` when calling `my_lorenz` in this case, because as mentioned previously, the function does not depend on the values of `t`.*\n",
    "\n",
    "Your `my_lorenz_RK4` function should return four `numpy.array` objects in the following order:\n",
    "* the discrete time grid,\n",
    "* the numerical solution for $x$ evaluated on the time grid,\n",
    "* the numerical solution for $y$ evaluated on the time grid,\n",
    "* the numerical solution for $z$ evaluated on the time grid.\n",
    "\n",
    "All four arrays should have size `(n+1,)`.\n",
    "\n",
    "Once you are done, try out your new `my_lorenz_RK4(t_span,n,s0,sigma,rho,beta)` function for the example below and make sure it produces the correct output. Assign the result to `q3_1`.\n",
    " \n",
    "```PYTHON\n",
    "Examples: \n",
    "    \n",
    ">>> t_span = [0,50]\n",
    ">>> n = 10000\n",
    ">>> s0 = np.array([0, 1, 1.05])\n",
    ">>> sigma = 10\n",
    ">>> rho = 28\n",
    ">>> beta = 8/3\n",
    ">>> my_lorenz_RK4(t_span,n,s0,sigma,rho,beta)\n",
    "\n",
    "(array([0.0000e+00, 5.0000e-03, 1.0000e-02, ..., 4.9990e+01, 4.9995e+01,\n",
    "        5.0000e+01]),\n",
    " array([0.        , 0.04870245, 0.09510639, ..., 0.48781901, 0.49868598,\n",
    "        0.51060243]),\n",
    " array([1.        , 0.99831774, 1.00303716, ..., 0.69467581, 0.72651049,\n",
    "        0.75945225]),\n",
    " array([ 1.05      ,  1.03621498,  1.02284888, ..., 13.73960145,\n",
    "        13.55936328, 13.38163371]))\n",
    "```"
   ]
  },
  {
   "cell_type": "code",
   "execution_count": null,
   "id": "dbf0c742",
   "metadata": {
    "tags": []
   },
   "outputs": [],
   "source": [
    "# ANSWER CELL\n",
    "..."
   ]
  },
  {
   "cell_type": "code",
   "execution_count": null,
   "id": "e5007f8e",
   "metadata": {
    "tags": []
   },
   "outputs": [],
   "source": [
    "# TEST YOUR FUNCTION HERE\n",
    "q3_1 = ...\n",
    "q3_1"
   ]
  },
  {
   "cell_type": "code",
   "execution_count": null,
   "id": "bcbcfa9a",
   "metadata": {
    "deletable": false,
    "editable": false
   },
   "outputs": [],
   "source": [
    "grader.check(\"q3.1\")"
   ]
  },
  {
   "cell_type": "markdown",
   "id": "801448a2",
   "metadata": {
    "deletable": false,
    "editable": false
   },
   "source": [
    "### Question 3.2 \n",
    "\n",
    "Write a function `my_lorenz_ivp(t_span,n,s0,sigma,rho,beta)`, where:\n",
    "* `t_span` is a list of the form $[t_0,t_f]$, where $t_0$ is the initial time, and $t_f$ is the final time of consideration,\n",
    "* `n` is an integer indicating the number of discrete time intervals for the numerical method,\n",
    "* `s0` is a `numpy.array` of shape `(3,)` denoting the initial state of the Lorenz system\n",
    "* `sigma`, `rho`, and `beta` are the scalar parameters $\\sigma$, $\\rho$, and $\\beta$, respectively, of the Lorenz system.\n",
    "\n",
    "Your function should solve the Lorenz equations on a numerical grid with `n` equal intervals (or, equivalently, `n+1` evenly spaced grid points) between $t_0$ and $t_f$ using the built-in `scipy.integrate.solve_ivp` function. \n",
    "\n",
    "Your `my_lorenz_ivp` function should return four `numpy.array` objects in the following order:\n",
    "* the discrete time grid,\n",
    "* the numerical solution for $x$ evaluated on the time grid,\n",
    "* the numerical solution for $y$ evaluated on the time grid,\n",
    "* the numerical solution for $z$ evaluated on the time grid.\n",
    "\n",
    "All four arrays should have size `(n+1,)`.\n",
    "\n",
    "Once you are done, try out your new `my_lorenz_ivp(t_span,n,s0,sigma,rho,beta)` function for the example below and make sure it produces the correct output. Assign the result to `q3_2`.\n",
    " \n",
    "```PYTHON\n",
    "Examples: \n",
    "    \n",
    ">>> t_span = [0,50]\n",
    ">>> n = 10000\n",
    ">>> s0 = np.array([0, 1, 1.05])\n",
    ">>> sigma = 10\n",
    ">>> rho = 28\n",
    ">>> beta = 8/3\n",
    ">>> my_lorenz_ivp(t_span,n,s0,sigma,rho,beta)\n",
    "\n",
    "(array([0.0000e+00, 5.0000e-03, 1.0000e-02, ..., 4.9990e+01, 4.9995e+01,\n",
    "        5.0000e+01]),\n",
    " array([ 0.        ,  0.04870278,  0.09510677, ..., -6.47711257,\n",
    "        -5.91836451, -5.37778722]),\n",
    " array([1.        , 0.99831735, 1.00303671, ..., 4.87306536, 5.07875421,\n",
    "        5.24624053]),\n",
    " array([ 1.05      ,  1.03621495,  1.02284887, ..., 35.80640543,\n",
    "        35.17867304, 34.56786129]))\n",
    "```"
   ]
  },
  {
   "cell_type": "code",
   "execution_count": null,
   "id": "9f31f46f",
   "metadata": {
    "tags": []
   },
   "outputs": [],
   "source": [
    "# ANSWER CELL\n",
    "..."
   ]
  },
  {
   "cell_type": "code",
   "execution_count": null,
   "id": "c44995b9",
   "metadata": {
    "tags": []
   },
   "outputs": [],
   "source": [
    "# TEST YOUR FUNCTION HERE\n",
    "q3_2 = ...\n",
    "q3_2"
   ]
  },
  {
   "cell_type": "code",
   "execution_count": null,
   "id": "bcce43ad",
   "metadata": {
    "deletable": false,
    "editable": false
   },
   "outputs": [],
   "source": [
    "grader.check(\"q3.2\")"
   ]
  },
  {
   "cell_type": "markdown",
   "id": "ea1b303c",
   "metadata": {
    "deletable": false,
    "editable": false
   },
   "source": [
    "### Question 3.3: Further Exploration (Optional) \n",
    "\n",
    "The popular term *butterfly effect* in chaos theory stems from the solution of a Lorentz system and describes the sensitivity of a system to the choice of initial conditions. A very small change in the initial conditions or the system parameters can result in a large difference in the solution, hence it is a chaotic system. \n",
    "\n",
    "Use the cell below which creates a simple plot of the solution as a starting point. In this section, you are free to experiment and explore this phenomena. Adjust and modify the parameters, compare different solutions, try to recreate some of the beautiful images online or anything else you find interesting. Feel free to share any cool results on Ed.\n",
    "\n",
    "\n",
    "This section will not be graded."
   ]
  },
  {
   "cell_type": "code",
   "execution_count": null,
   "id": "b4bbf81b",
   "metadata": {
    "tags": []
   },
   "outputs": [],
   "source": [
    "# ANSWER CELL\n",
    "from mpl_toolkits import mplot3d\n",
    "\n",
    "t_span = [0,50]\n",
    "n = 10000 \n",
    "s0 = np.array([0, 1, 1.05])\n",
    "sigma = 10 \n",
    "rho = 28 \n",
    "beta = 8/3 \n",
    "t,x,y,z = my_lorenz_ivp(t_span,n,s0,sigma,rho,beta) \n",
    "\n",
    "# Create figure\n",
    "fig = plt.figure(figsize=(8,8))\n",
    "# 3d axes\n",
    "ax = plt.axes(projection='3d')\n",
    "# Plot\n",
    "ax.plot3D(x,y,z)\n",
    "# Set axes labels\n",
    "ax.set_xlabel('x')\n",
    "ax.set_ylabel('y')\n",
    "ax.set_zlabel('z')\n",
    "# Add grid\n",
    "ax.grid()\n",
    "plt.show()"
   ]
  },
  {
   "cell_type": "markdown",
   "id": "5b3a73a1",
   "metadata": {},
   "source": [
    "### You're done with this Lab!\n",
    "\n",
    "**Important submission information:** After completing the assignment, click on the Save icon from the Tool Bar &nbsp;<i class=\"fa fa-save\" style=\"font-size:16px;\"></i>&nbsp;. After saving your notebook, **run the cell with** `grader.check_all()` and confirm that you pass the same tests as in the notebook. Then, **run the final cell** `grader.export()` and click the link to download the zip file. Then, go to Gradescope and submit the zip file to the corresponding assignment. \n",
    "\n",
    "**Once you have submitted, stay on the Gradescope page to confirm that you pass the same tests as in the notebook.**"
   ]
  },
  {
   "cell_type": "code",
   "execution_count": null,
   "id": "8810d3a0",
   "metadata": {
    "scrolled": true
   },
   "outputs": [],
   "source": [
    "import matplotlib.image as mpimg\n",
    "from IPythonDisplayFireworks import Fireworks\n",
    "from IPython.display import clear_output\n",
    "img = mpimg.imread('resources/cover.png')\n",
    "plt.figure(figsize = (12,6))\n",
    "imgplot = plt.imshow(img)\n",
    "imgplot.axes.get_xaxis().set_visible(False)\n",
    "imgplot.axes.get_yaxis().set_visible(False)\n",
    "print(\"Congrats on finishing the E7 Lab series!\")\n",
    "plt.show()\n",
    "f = Fireworks(15)\n",
    "time.sleep(15)\n",
    "clear_output()"
   ]
  },
  {
   "cell_type": "markdown",
   "id": "e88bf3c8",
   "metadata": {
    "deletable": false,
    "editable": false
   },
   "source": [
    "---\n",
    "\n",
    "To double-check your work, the cell below will rerun all of the autograder tests."
   ]
  },
  {
   "cell_type": "code",
   "execution_count": null,
   "id": "b0318819",
   "metadata": {
    "deletable": false,
    "editable": false
   },
   "outputs": [],
   "source": [
    "grader.check_all()"
   ]
  },
  {
   "cell_type": "markdown",
   "id": "733eb46e",
   "metadata": {
    "deletable": false,
    "editable": false
   },
   "source": [
    "## Submission\n",
    "\n",
    "Make sure you have run all cells in your notebook in order before running the cell below, so that all images/graphs appear in the output. The cell below will generate a zip file for you to submit. **Please save before exporting!**\n",
    "\n",
    "Make sure you submit the .zip file to Gradescope."
   ]
  },
  {
   "cell_type": "code",
   "execution_count": null,
   "id": "5f0237c3",
   "metadata": {
    "deletable": false,
    "editable": false
   },
   "outputs": [],
   "source": [
    "# Save your notebook first, then run this cell to export your submission.\n",
    "grader.export(pdf=False)"
   ]
  },
  {
   "cell_type": "markdown",
   "id": "11c6e49d",
   "metadata": {},
   "source": [
    " "
   ]
  }
 ],
 "metadata": {
  "kernelspec": {
   "display_name": "Python 3 (ipykernel)",
   "language": "python",
   "name": "python3"
  },
  "language_info": {
   "codemirror_mode": {
    "name": "ipython",
    "version": 3
   },
   "file_extension": ".py",
   "mimetype": "text/x-python",
   "name": "python",
   "nbconvert_exporter": "python",
   "pygments_lexer": "ipython3",
   "version": "3.9.15"
  },
  "otter": {
   "OK_FORMAT": true,
   "assignment_name": "lab11",
   "tests": {
    "q1.0": {
     "name": "q1.0",
     "points": 1,
     "suites": [
      {
       "cases": [
        {
         "code": ">>> assert get_hash(type(q1_0)) != '14e736438b115821cbb9b7ac0ba79034', 'Make sure to test your function!'\n>>> assert get_hash(np.round(my_logistic_eq(0, 10, 1.1, 15), decimals=10)) == '07e67fd3ba3c8c70b7f6a9ab72c445ca'\n",
         "hidden": false,
         "locked": false
        },
        {
         "code": ">>> assert get_hash(np.round(my_logistic_eq(1, 12, 2, 20), decimals=10)) == 'eaf2f97729e8d5e4d205672da8afc9a5'\n>>> assert get_hash(np.round(my_logistic_eq(0, 3, 1.6, 100), decimals=10)) == '8ac2108cfd31381ae2c351f5a90f8671'\n",
         "hidden": false,
         "locked": false
        }
       ],
       "scored": true,
       "setup": "",
       "teardown": "",
       "type": "doctest"
      }
     ]
    },
    "q1.1": {
     "name": "q1.1",
     "points": 2,
     "suites": [
      {
       "cases": [
        {
         "code": ">>> assert get_hash(type(q1_1)) != '14e736438b115821cbb9b7ac0ba79034', 'Make sure to test your function!'\n>>> t_span = [0, 10]\n>>> P0 = 10\n>>> r = 1.01\n>>> K = 200\n>>> n = 10\n>>> (ts, Ps) = my_logistic_euler(t_span, n, P0, r, K)\n>>> assert get_hash(len(ts)) == '6512bd43d9caa6e02c990b0a82652dca'\n>>> assert get_hash(np.round(np.sum(ts), decimals=10)) == 'e4878bf957c08a7ceaa9da9677015254'\n>>> assert get_hash(len(Ps)) == '6512bd43d9caa6e02c990b0a82652dca'\n>>> assert get_hash(np.round(np.sum(Ps), decimals=10)) == '06effe1f995962045ca627fd8280e47d'\n",
         "hidden": false,
         "locked": false
        },
        {
         "code": ">>> t_span = [0, 20]\n>>> P0 = 20\n>>> r = 1.1\n>>> K = 2000\n>>> n = 1000\n>>> (ts, Ps) = my_logistic_euler(t_span, n, P0, r, K)\n>>> assert get_hash(np.round(np.sum(ts), decimals=10)) == '61ee93b89af4fccf77f604ddbdbfc508'\n>>> assert get_hash(np.round(np.sum(Ps), decimals=10)) == '175e11a2f8f107e0e6d74285ec7a04ca'\n",
         "hidden": false,
         "locked": false
        }
       ],
       "scored": true,
       "setup": "",
       "teardown": "",
       "type": "doctest"
      }
     ]
    },
    "q1.2": {
     "name": "q1.2",
     "points": 2,
     "suites": [
      {
       "cases": [
        {
         "code": ">>> assert get_hash(type(q1_2)) != '14e736438b115821cbb9b7ac0ba79034', 'Make sure to test your function!'\n>>> t_span = [0, 10]\n>>> P0 = 10\n>>> r = 1.01\n>>> K = 200\n>>> n = 10\n>>> (ts, Ps) = my_logistic_midpoint(t_span, n, P0, r, K)\n>>> assert get_hash(len(ts)) == '6512bd43d9caa6e02c990b0a82652dca'\n>>> assert get_hash(np.round(np.sum(ts), decimals=10)) == 'e4878bf957c08a7ceaa9da9677015254'\n>>> assert get_hash(len(Ps)) == '6512bd43d9caa6e02c990b0a82652dca'\n>>> assert get_hash(np.round(np.sum(Ps), decimals=10)) == '8a3d5c5aa0655c6e3cb6fcf00994ab29'\n",
         "hidden": false,
         "locked": false
        },
        {
         "code": ">>> t_span = [0, 20]\n>>> P0 = 20\n>>> r = 1.1\n>>> K = 2000\n>>> n = 1000\n>>> (ts, Ps) = my_logistic_midpoint(t_span, n, P0, r, K)\n>>> assert get_hash(np.round(np.sum(ts), decimals=10)) == '61ee93b89af4fccf77f604ddbdbfc508'\n>>> assert get_hash(np.round(np.sum(Ps), decimals=10)) == '432352b45fae7fa38578df9845ee0a2d'\n",
         "hidden": false,
         "locked": false
        }
       ],
       "scored": true,
       "setup": "",
       "teardown": "",
       "type": "doctest"
      }
     ]
    },
    "q1.3": {
     "name": "q1.3",
     "points": 2,
     "suites": [
      {
       "cases": [
        {
         "code": ">>> assert get_hash(type(q1_3)) != '14e736438b115821cbb9b7ac0ba79034', 'Make sure to test your function!'\n>>> t_span = [0, 10]\n>>> P0 = 10\n>>> r = 1.01\n>>> K = 200\n>>> n = 10\n>>> (ts, Ps) = my_logistic_heun(t_span, n, P0, r, K)\n>>> assert get_hash(len(ts)) == '6512bd43d9caa6e02c990b0a82652dca'\n>>> assert get_hash(np.round(np.sum(ts), decimals=10)) == 'e4878bf957c08a7ceaa9da9677015254'\n>>> assert get_hash(len(Ps)) == '6512bd43d9caa6e02c990b0a82652dca'\n>>> assert get_hash(np.round(np.sum(Ps), decimals=10)) == '6514bff794d23b3607ba4c6c3f687dc2'\n",
         "hidden": false,
         "locked": false
        },
        {
         "code": ">>> t_span = [0, 20]\n>>> P0 = 20\n>>> r = 1.1\n>>> K = 2000\n>>> n = 1000\n>>> (ts, Ps) = my_logistic_heun(t_span, n, P0, r, K)\n>>> assert get_hash(np.round(np.sum(ts), decimals=10)) == '61ee93b89af4fccf77f604ddbdbfc508'\n>>> assert get_hash(np.round(np.sum(Ps), decimals=10)) == 'e228c1f326715a6d15a3f8796cc4620c'\n",
         "hidden": false,
         "locked": false
        }
       ],
       "scored": true,
       "setup": "",
       "teardown": "",
       "type": "doctest"
      }
     ]
    },
    "q1.4": {
     "name": "q1.4",
     "points": 2,
     "suites": [
      {
       "cases": [
        {
         "code": ">>> assert get_hash(type(q1_4)) != '14e736438b115821cbb9b7ac0ba79034', 'Make sure to test your function!'\n>>> t_span = [0, 10]\n>>> P0 = 10\n>>> r = 1.01\n>>> K = 200\n>>> n = 10\n>>> (ts, Ps) = my_logistic_ivp(t_span, n, P0, r, K)\n>>> assert get_hash(len(ts)) == '6512bd43d9caa6e02c990b0a82652dca'\n>>> assert get_hash(np.round(np.sum(ts), decimals=10)) == 'e4878bf957c08a7ceaa9da9677015254'\n>>> assert get_hash(len(Ps)) == '6512bd43d9caa6e02c990b0a82652dca'\n",
         "hidden": false,
         "locked": false
        },
        {
         "code": ">>> t_span = [0, 20]\n>>> P0 = 20\n>>> r = 1.1\n>>> K = 2000\n>>> n = 1000\n>>> (ts, Ps) = my_logistic_ivp(t_span, n, P0, r, K)\n>>> assert get_hash(np.round(np.sum(ts), decimals=10)) == '61ee93b89af4fccf77f604ddbdbfc508'\n>>> assert get_hash(np.round(np.sum(Ps), decimals=10)) == '0c302103cee329eeec296d4588874486'\n",
         "hidden": false,
         "locked": false
        }
       ],
       "scored": true,
       "setup": "",
       "teardown": "",
       "type": "doctest"
      }
     ]
    },
    "q1.5": {
     "name": "q1.5",
     "points": 2,
     "suites": [
      {
       "cases": [
        {
         "code": ">>> assert get_hash(type(q1_5)) != '14e736438b115821cbb9b7ac0ba79034', 'Make sure to test your function!'\n>>> import matplotlib.pyplot as plt\n>>> t_span = [0, 10]\n>>> P0 = 10\n>>> r = 1.01\n>>> K = 200\n>>> n = 10\n>>> fig = my_logistic_plot(t_span, n, P0, r, K)\n>>> plt.close()\n>>> (ts_euler, Ps_euler) = my_logistic_euler(t_span, n, P0, r, K)\n>>> (ts_ivp, Ps_ivp) = my_logistic_ivp(t_span, n, P0, r, K)\n>>> (ts_mid, Ps_mid) = my_logistic_midpoint(t_span, n, P0, r, K)\n>>> (ts_heun, Ps_heun) = my_logistic_heun(t_span, n, P0, r, K)\n>>> ts_exact = np.linspace(t_span[0], t_span[1], 10001)\n>>> Ps_exact = K * P0 * np.exp(r * ts_exact) / (K + P0 * (np.exp(r * ts_exact) - 1))\n>>> assert np.allclose(fig.axes[0].get_lines()[0].get_xdata(), ts_euler)\n>>> assert np.allclose(fig.axes[0].get_lines()[1].get_xdata(), ts_mid)\n>>> assert np.allclose(fig.axes[0].get_lines()[2].get_xdata(), ts_heun)\n>>> assert np.allclose(fig.axes[0].get_lines()[3].get_xdata(), ts_ivp)\n>>> assert np.allclose(fig.axes[0].get_lines()[4].get_xdata(), ts_exact)\n>>> assert np.allclose(fig.axes[0].get_lines()[0].get_ydata(), Ps_euler)\n>>> assert np.allclose(fig.axes[0].get_lines()[1].get_ydata(), Ps_mid)\n>>> assert np.allclose(fig.axes[0].get_lines()[2].get_ydata(), Ps_heun)\n>>> assert np.allclose(fig.axes[0].get_lines()[3].get_ydata(), Ps_ivp)\n>>> assert np.allclose(fig.axes[0].get_lines()[4].get_ydata(), Ps_exact)\n>>> assert fig.axes[0].get_xlim()[0] == t_span[0], 'Check the x-axis limits.'\n>>> assert fig.axes[0].get_xlim()[1] == t_span[1], 'Check the x-axis limits.'\n>>> assert fig.axes[0].get_ylim()[0] == 0, 'Check the y-axis limits.'\n>>> assert fig.axes[0].get_ylim()[1] == K, 'Check the y-axis limits.'\n",
         "hidden": false,
         "locked": false
        },
        {
         "code": ">>> import matplotlib.pyplot as plt\n>>> t_span = [0, 10]\n>>> P0 = 10\n>>> r = 1.01\n>>> K = 200\n>>> n = 10\n>>> fig = my_logistic_plot(t_span, n, P0, r, K)\n>>> plt.close()\n>>> assert 'FORWARD' in fig.axes[0].get_lines()[0].get_label().upper(), 'Check the line labels.'\n>>> assert 'EULER' in fig.axes[0].get_lines()[0].get_label().upper(), 'Check the line labels.'\n>>> assert 'MIDPOINT' in fig.axes[0].get_lines()[1].get_label().upper(), 'Check the line labels.'\n>>> assert 'HEUN' in fig.axes[0].get_lines()[2].get_label().upper(), 'Check the line labels.'\n>>> assert 'SOLVE_IVP' in fig.axes[0].get_lines()[3].get_label().upper(), 'Check the line labels.'\n>>> assert 'EXACT' in fig.axes[0].get_lines()[4].get_label().upper(), 'Check the line labels.'\n>>> assert 'TIME' in fig.axes[0].get_xlabel().upper(), 'Check the x-axis label.'\n>>> assert 'YEAR' in fig.axes[0].get_xlabel().upper(), 'Check the x-axis label.'\n>>> assert 'POPULATION' in fig.axes[0].get_ylabel().upper(), 'Check the y-axis label.'\n>>> assert str(n) in fig.axes[0].get_title().upper(), 'Check the title label.'\n>>> assert type(fig.axes[0].get_legend()) != type(None), 'Make sure to add a legend.'\n",
         "hidden": false,
         "locked": false
        },
        {
         "code": ">>> import matplotlib.pyplot as plt\n>>> t_span = [0, 10]\n>>> P0 = 10\n>>> r = 1.01\n>>> K = 200\n>>> n = 1000\n>>> fig = my_logistic_plot(t_span, n, P0, r, K)\n>>> plt.close()\n>>> (ts_euler, Ps_euler) = my_logistic_euler(t_span, n, P0, r, K)\n>>> (ts_ivp, Ps_ivp) = my_logistic_ivp(t_span, n, P0, r, K)\n>>> ts_exact = np.linspace(t_span[0], t_span[1], 10001)\n>>> Ps_exact = K * P0 * np.exp(r * ts_exact) / (K + P0 * (np.exp(r * ts_exact) - 1))\n>>> (ts_mid, Ps_mid) = my_logistic_midpoint(t_span, n, P0, r, K)\n>>> (ts_heun, Ps_heun) = my_logistic_heun(t_span, n, P0, r, K)\n>>> assert np.allclose(fig.axes[0].get_lines()[0].get_xdata(), ts_euler)\n>>> assert np.allclose(fig.axes[0].get_lines()[1].get_xdata(), ts_mid)\n>>> assert np.allclose(fig.axes[0].get_lines()[2].get_xdata(), ts_heun)\n>>> assert np.allclose(fig.axes[0].get_lines()[3].get_xdata(), ts_ivp)\n>>> assert np.allclose(fig.axes[0].get_lines()[4].get_xdata(), ts_exact)\n>>> assert np.allclose(fig.axes[0].get_lines()[0].get_ydata(), Ps_euler)\n>>> assert np.allclose(fig.axes[0].get_lines()[1].get_ydata(), Ps_mid)\n>>> assert np.allclose(fig.axes[0].get_lines()[2].get_ydata(), Ps_heun)\n>>> assert np.allclose(fig.axes[0].get_lines()[3].get_ydata(), Ps_ivp)\n>>> assert np.allclose(fig.axes[0].get_lines()[4].get_ydata(), Ps_exact)\n>>> assert fig.axes[0].get_xlim()[0] == t_span[0], 'Check the x-axis limits.'\n>>> assert fig.axes[0].get_xlim()[1] == t_span[1], 'Check the x-axis limits.'\n>>> assert fig.axes[0].get_ylim()[0] == 0, 'Check the y-axis limits.'\n>>> assert fig.axes[0].get_ylim()[1] == K, 'Check the y-axis limits.'\n",
         "hidden": false,
         "locked": false
        }
       ],
       "scored": true,
       "setup": "",
       "teardown": "",
       "type": "doctest"
      }
     ]
    },
    "q2.0": {
     "name": "q2.0",
     "points": 1,
     "suites": [
      {
       "cases": [
        {
         "code": ">>> assert get_hash(type(q2_0)) != '14e736438b115821cbb9b7ac0ba79034', 'Make sure to test your function!'\n>>> A = my_msd(10, 1, 100)\n>>> assert get_hash(A.shape) == 'd2e4fdc3af210eddb2b758a08ecd487d'\n>>> assert get_hash(A[0, 0]) == '30565a8911a6bb487e3745c0ea3c8224'\n>>> assert get_hash(A[0, 1]) == 'e4c2e8edac362acab7123654b9e73432'\n>>> assert get_hash(A[1, 0]) == '5c81a10ecf7e02f1ec0a2fe656e4f161'\n>>> assert get_hash(A[1, 1]) == 'b4132a25aecd27236a53a2b1aabb7a75'\n",
         "hidden": false,
         "locked": false
        },
        {
         "code": ">>> A = my_msd(5, 2, 40)\n>>> assert get_hash(A[0, 0]) == '30565a8911a6bb487e3745c0ea3c8224'\n>>> assert get_hash(A[0, 1]) == 'e4c2e8edac362acab7123654b9e73432'\n>>> assert get_hash(A[1, 0]) == '806dde96552addb686ab4265e264c021'\n>>> assert get_hash(A[1, 1]) == 'd1ab6103a7baf2fcf7a1611ac2299261'\n",
         "hidden": false,
         "locked": false
        }
       ],
       "scored": true,
       "setup": "",
       "teardown": "",
       "type": "doctest"
      }
     ]
    },
    "q2.1": {
     "name": "q2.1",
     "points": 2,
     "suites": [
      {
       "cases": [
        {
         "code": ">>> assert get_hash(type(q2_1)) != '14e736438b115821cbb9b7ac0ba79034', 'Make sure to test your function!'\n>>> t_span = [0, 5]\n>>> s0 = np.array([1, 0])\n>>> m = 1\n>>> c = 0.5\n>>> k = 16\n>>> n = 1000\n>>> (ts, xs, vs) = my_forward_euler(t_span, n, s0, m, c, k)\n>>> assert get_hash(len(ts)) == 'b8c37e33defde51cf91e1e03e51657da'\n>>> assert get_hash(len(xs)) == 'b8c37e33defde51cf91e1e03e51657da'\n>>> assert get_hash(len(vs)) == 'b8c37e33defde51cf91e1e03e51657da'\n>>> assert get_hash(np.round(np.sum(ts), decimals=10)) == '5049d9223570b92e9ef50eeed2f8b766'\n>>> assert get_hash(np.round(np.sum(xs), decimals=10)) == '75efe004a853f8c37fc5751bd4fa5bee'\n>>> assert get_hash(np.round(np.sum(vs), decimals=10)) == '9cfa01f213aca9e8e2cfe40be5364f1d'\n",
         "hidden": false,
         "locked": false
        },
        {
         "code": ">>> t_span = [0, 5]\n>>> s0 = np.array([1, 0])\n>>> m = 1\n>>> c = 1\n>>> k = 12\n>>> n = 500\n>>> (ts, xs, vs) = my_forward_euler(t_span, n, s0, m, c, k)\n>>> assert get_hash(np.round(np.sum(ts), decimals=10)) == 'fd81a7e6cafbae470a387dc89499e6e9'\n>>> assert get_hash(np.round(np.sum(xs), decimals=10)) == '3d99ae17e43e9856909df9c55560487e'\n>>> assert get_hash(np.round(np.sum(vs), decimals=10)) == 'd58470d229cc7c85a6942c9a6ebda9c0'\n",
         "hidden": false,
         "locked": false
        }
       ],
       "scored": true,
       "setup": "",
       "teardown": "",
       "type": "doctest"
      }
     ]
    },
    "q2.2": {
     "name": "q2.2",
     "points": 2,
     "suites": [
      {
       "cases": [
        {
         "code": ">>> assert get_hash(type(q2_2)) != '14e736438b115821cbb9b7ac0ba79034', 'Make sure to test your function!'\n>>> t_span = [0, 5]\n>>> s0 = np.array([1, 0])\n>>> m = 1\n>>> c = 0.5\n>>> k = 16\n>>> N = 1000\n>>> (ts, xs, vs) = my_backward_euler(t_span, N, s0, m, c, k)\n>>> assert get_hash(len(ts)) == 'b8c37e33defde51cf91e1e03e51657da'\n>>> assert get_hash(len(xs)) == 'b8c37e33defde51cf91e1e03e51657da'\n>>> assert get_hash(len(vs)) == 'b8c37e33defde51cf91e1e03e51657da'\n>>> assert get_hash(np.round(np.sum(ts), decimals=10)) == '5049d9223570b92e9ef50eeed2f8b766'\n>>> assert get_hash(np.round(np.sum(xs), decimals=10)) == 'a7cc91eecf09023408d5385c2bea2332'\n>>> assert get_hash(np.round(np.sum(vs), decimals=10)) == '061aa9af8ada1f283a01e3a0bebbde87'\n",
         "hidden": false,
         "locked": false
        },
        {
         "code": ">>> t_span = [0, 5]\n>>> s0 = np.array([1, 0])\n>>> m = 1\n>>> c = 1\n>>> k = 12\n>>> n = 500\n>>> (ts, xs, vs) = my_backward_euler(t_span, n, s0, m, c, k)\n>>> assert get_hash(np.round(np.sum(ts), decimals=10)) == 'fd81a7e6cafbae470a387dc89499e6e9'\n>>> assert get_hash(np.round(np.sum(xs), decimals=10)) == '90dbbc9eada746e202df1da7497af42d'\n>>> assert get_hash(np.round(np.sum(vs), decimals=10)) == '7d991b3f4893f2db0f159fe81259d4a5'\n",
         "hidden": false,
         "locked": false
        }
       ],
       "scored": true,
       "setup": "",
       "teardown": "",
       "type": "doctest"
      }
     ]
    },
    "q2.3": {
     "name": "q2.3",
     "points": 2,
     "suites": [
      {
       "cases": [
        {
         "code": ">>> assert get_hash(type(q2_3)) != '14e736438b115821cbb9b7ac0ba79034', 'Make sure to test your function!'\n>>> t_span = [0, 5]\n>>> s0 = np.array([1, 0])\n>>> m = 1\n>>> c = 0.5\n>>> k = 16\n>>> n = 1000\n>>> (ts, xs, vs) = my_trapezoid(t_span, n, s0, m, c, k)\n>>> assert get_hash(len(ts)) == 'b8c37e33defde51cf91e1e03e51657da'\n>>> assert get_hash(len(xs)) == 'b8c37e33defde51cf91e1e03e51657da'\n>>> assert get_hash(len(vs)) == 'b8c37e33defde51cf91e1e03e51657da'\n>>> assert get_hash(np.round(np.sum(ts), decimals=10)) == '5049d9223570b92e9ef50eeed2f8b766'\n>>> assert get_hash(np.round(np.sum(xs), decimals=10)) == 'e7fdcd07695746ab7a84f893dbc91da2'\n>>> assert get_hash(np.round(np.sum(vs), decimals=10)) == 'b018c8f0851636b2904b4908c42508a2'\n",
         "hidden": false,
         "locked": false
        },
        {
         "code": ">>> t_span = [0, 5]\n>>> s0 = np.array([1, 0])\n>>> m = 1\n>>> c = 1\n>>> k = 12\n>>> n = 500\n>>> (ts, xs, vs) = my_trapezoid(t_span, n, s0, m, c, k)\n>>> assert get_hash(np.round(np.sum(ts), decimals=10)) == 'fd81a7e6cafbae470a387dc89499e6e9'\n>>> assert get_hash(np.round(np.sum(xs), decimals=10)) == 'f1d29a650cfe5b629a3fcb320707897b'\n>>> assert get_hash(np.round(np.sum(vs), decimals=10)) == '4c46db6917c92fd548939db81a0fb6ce'\n",
         "hidden": false,
         "locked": false
        }
       ],
       "scored": true,
       "setup": "",
       "teardown": "",
       "type": "doctest"
      }
     ]
    },
    "q2.4": {
     "name": "q2.4",
     "points": 2,
     "suites": [
      {
       "cases": [
        {
         "code": ">>> assert get_hash(type(q2_4)) != '14e736438b115821cbb9b7ac0ba79034', 'Make sure to test your function!'\n>>> import matplotlib.pyplot as plt\n>>> m = 1\n>>> c = 0.5\n>>> k = 16\n>>> s0 = np.array([1, 0])\n>>> t_span = [0, 5]\n>>> n = 100\n>>> fig = my_msd_plot(t_span, n, s0, m, c, k)\n>>> plt.close()\n>>> (ts_fe, xs_fe, _) = my_forward_euler(t_span, n, s0, m, c, k)\n>>> (ts_be, xs_be, _) = my_backward_euler(t_span, n, s0, m, c, k)\n>>> (ts_tr, xs_tr, _) = my_trapezoid(t_span, n, s0, m, c, k)\n>>> ts_ex = np.linspace(t_span[0], t_span[1], 10001)\n>>> xs_ex = msd_exact(ts_ex, m, c, k)\n>>> assert np.allclose(fig.axes[0].get_lines()[0].get_xdata(), ts_fe)\n>>> assert np.allclose(fig.axes[0].get_lines()[1].get_xdata(), ts_be)\n>>> assert np.allclose(fig.axes[0].get_lines()[2].get_xdata(), ts_tr)\n>>> assert np.allclose(fig.axes[0].get_lines()[3].get_xdata(), ts_ex)\n>>> assert np.allclose(fig.axes[0].get_lines()[0].get_ydata(), xs_fe)\n>>> assert np.allclose(fig.axes[0].get_lines()[1].get_ydata(), xs_be)\n>>> assert np.allclose(fig.axes[0].get_lines()[2].get_ydata(), xs_tr)\n>>> assert np.allclose(fig.axes[0].get_lines()[3].get_ydata(), xs_ex)\n>>> assert fig.axes[0].get_xlim()[0] == t_span[0], 'Check the x-axis limits.'\n>>> assert fig.axes[0].get_xlim()[1] == t_span[1], 'Check the x-axis limits.'\n>>> assert fig.axes[0].get_ylim()[0] == -1.2, 'Check the y-axis limits.'\n>>> assert fig.axes[0].get_ylim()[1] == 1.2, 'Check the y-axis limits.'\n>>> assert str(n) in fig.axes[0].get_title().upper(), 'Check the title label.'\n",
         "hidden": false,
         "locked": false
        },
        {
         "code": ">>> import matplotlib.pyplot as plt\n>>> m = 1\n>>> c = 0.5\n>>> k = 16\n>>> s0 = np.array([1, 0])\n>>> t_span = [0, 5]\n>>> n = 100\n>>> fig = my_msd_plot(t_span, n, s0, m, c, k)\n>>> plt.close()\n>>> assert 'FORWARD' in fig.axes[0].get_lines()[0].get_label().upper(), 'Check the line labels.'\n>>> assert 'BACKWARD' in fig.axes[0].get_lines()[1].get_label().upper(), 'Check the line labels.'\n>>> assert 'TRAPEZOID' in fig.axes[0].get_lines()[2].get_label().upper(), 'Check the line labels.'\n>>> assert 'EXACT' in fig.axes[0].get_lines()[3].get_label().upper(), 'Check the line labels.'\n>>> assert 'TIME' in fig.axes[0].get_xlabel().upper(), 'Check the x-axis label.'\n>>> assert 'DISPLACEMENT' in fig.axes[0].get_ylabel().upper(), 'Check the x-axis label.'\n>>> assert type(fig.axes[0].get_legend()) != type(None), 'Make sure to add a legend.'\n",
         "hidden": false,
         "locked": false
        },
        {
         "code": ">>> import matplotlib.pyplot as plt\n>>> m = 1\n>>> c = 0.5\n>>> k = 16\n>>> s0 = np.array([1, 0])\n>>> t_span = [0, 5]\n>>> n = 10000\n>>> fig = my_msd_plot(t_span, n, s0, m, c, k)\n>>> plt.close()\n>>> (ts_fe, xs_fe, _) = my_forward_euler(t_span, n, s0, m, c, k)\n>>> (ts_be, xs_be, _) = my_backward_euler(t_span, n, s0, m, c, k)\n>>> (ts_tr, xs_tr, _) = my_trapezoid(t_span, n, s0, m, c, k)\n>>> ts_ex = np.linspace(t_span[0], t_span[1], 10001)\n>>> xs_ex = msd_exact(ts_ex, m, c, k)\n>>> assert np.allclose(fig.axes[0].get_lines()[0].get_xdata(), ts_fe)\n>>> assert np.allclose(fig.axes[0].get_lines()[1].get_xdata(), ts_be)\n>>> assert np.allclose(fig.axes[0].get_lines()[2].get_xdata(), ts_tr)\n>>> assert np.allclose(fig.axes[0].get_lines()[3].get_xdata(), ts_ex)\n>>> assert np.allclose(fig.axes[0].get_lines()[0].get_ydata(), xs_fe)\n>>> assert np.allclose(fig.axes[0].get_lines()[1].get_ydata(), xs_be)\n>>> assert np.allclose(fig.axes[0].get_lines()[2].get_ydata(), xs_tr)\n>>> assert np.allclose(fig.axes[0].get_lines()[3].get_ydata(), xs_ex)\n>>> assert fig.axes[0].get_xlim()[0] == t_span[0], 'Check the x-axis limits.'\n>>> assert fig.axes[0].get_xlim()[1] == t_span[1], 'Check the x-axis limits.'\n>>> assert fig.axes[0].get_ylim()[0] == -1.2, 'Check the y-axis limits.'\n>>> assert fig.axes[0].get_ylim()[1] == 1.2, 'Check the y-axis limits.'\n>>> assert str(n) in fig.axes[0].get_title().upper(), 'Check the title label.'\n",
         "hidden": false,
         "locked": false
        }
       ],
       "scored": true,
       "setup": "",
       "teardown": "",
       "type": "doctest"
      }
     ]
    },
    "q3.0": {
     "name": "q3.0",
     "points": 1,
     "suites": [
      {
       "cases": [
        {
         "code": ">>> assert get_hash(type(q3_0)) != '14e736438b115821cbb9b7ac0ba79034', 'Make sure to test your function!'\n>>> s0 = np.array([1, 2, 3])\n>>> sigma = 10\n>>> rho = 28\n>>> beta = 8 / 3\n>>> assert get_hash(len(my_lorenz(1, s0, sigma, rho, beta))) == 'eccbc87e4b5ce2fe28308fd9f2a7baf3'\n>>> assert get_hash(np.round(my_lorenz(1, s0, sigma, rho, beta)[0], decimals=10)) == '43a1437f7f656cd8be7c996c58719e0a'\n>>> assert get_hash(np.round(my_lorenz(1, s0, sigma, rho, beta)[1], decimals=10)) == '6bc071ec71e51c704acd13cdc898fd93'\n>>> assert get_hash(np.round(my_lorenz(1, s0, sigma, rho, beta)[2], decimals=10)) == 'ae425801d7761bbd0a54de7b7cbae62d'\n",
         "hidden": false,
         "locked": false
        },
        {
         "code": ">>> s0 = np.array([0, 1, 1.05])\n>>> sigma = 10\n>>> rho = 28\n>>> beta = 8 / 3\n>>> assert get_hash(len(my_lorenz(1, s0, sigma, rho, beta))) == 'eccbc87e4b5ce2fe28308fd9f2a7baf3'\n>>> assert get_hash(np.round(my_lorenz(1, s0, sigma, rho, beta)[0], decimals=10)) == '43a1437f7f656cd8be7c996c58719e0a'\n>>> assert get_hash(np.round(my_lorenz(1, s0, sigma, rho, beta)[1], decimals=10)) == 'c54490d3480079138c8c027a87a366e3'\n>>> assert get_hash(np.round(my_lorenz(1, s0, sigma, rho, beta)[2], decimals=10)) == '2767f7be09e208058dc7fc12936cfd38'\n",
         "hidden": false,
         "locked": false
        }
       ],
       "scored": true,
       "setup": "",
       "teardown": "",
       "type": "doctest"
      }
     ]
    },
    "q3.1": {
     "name": "q3.1",
     "points": 2,
     "suites": [
      {
       "cases": [
        {
         "code": ">>> assert get_hash(type(q3_1)) != '14e736438b115821cbb9b7ac0ba79034', 'Make sure to test your function!'\n>>> t_span = [0, 50]\n>>> n = 10000\n>>> s0 = np.array([0, 1, 1.05])\n>>> sigma = 10\n>>> rho = 28\n>>> beta = 8 / 3\n>>> (ts, xs, ys, zs) = my_lorenz_RK4(t_span, n, s0, sigma, rho, beta)\n>>> assert get_hash(len(ts)) == 'd89f3a35931c386956c1a402a8e09941'\n>>> assert get_hash(len(xs)) == 'd89f3a35931c386956c1a402a8e09941'\n>>> assert get_hash(len(ys)) == 'd89f3a35931c386956c1a402a8e09941'\n>>> assert get_hash(len(zs)) == 'd89f3a35931c386956c1a402a8e09941'\n>>> assert get_hash(np.round(np.sum(ts), decimals=10)) == '1b89c997f160a81a81d1015a4541fc83'\n>>> assert get_hash(np.round(np.sum(xs), decimals=10)) == 'f585998e9e61e719ffe9419df8d8bfd3'\n>>> assert get_hash(np.round(np.sum(ys), decimals=10)) == 'ff3e32d48e7f04318897a7c55aa4c3f7'\n>>> assert get_hash(np.round(np.sum(zs), decimals=10)) == 'f0bbab65549111ad84da86ad32e2a2c5'\n",
         "hidden": false,
         "locked": false
        },
        {
         "code": ">>> t_span = [0, 50]\n>>> n = 1000\n>>> s0 = np.array([0, 1, 1.05])\n>>> sigma = 12\n>>> rho = 26\n>>> beta = 8 / 3\n>>> (ts, xs, ys, zs) = my_lorenz_RK4(t_span, n, s0, sigma, rho, beta)\n>>> assert get_hash(np.round(np.sum(xs), decimals=10)) == 'c456e36aeac096617dfce5cc8de7e4e9'\n>>> assert get_hash(np.round(np.sum(ys), decimals=10)) == '4c9c99891f90866867d93e3aca34e6a8'\n>>> assert get_hash(np.round(np.sum(zs), decimals=10)) == '114c7698c19c889ade8aefe0e153ec4e'\n",
         "hidden": false,
         "locked": false
        }
       ],
       "scored": true,
       "setup": "",
       "teardown": "",
       "type": "doctest"
      }
     ]
    },
    "q3.2": {
     "name": "q3.2",
     "points": 2,
     "suites": [
      {
       "cases": [
        {
         "code": ">>> assert get_hash(type(q3_2)) != '14e736438b115821cbb9b7ac0ba79034', 'Make sure to test your function!'\n>>> t_span = [0, 50]\n>>> n = 10000\n>>> s0 = np.array([0, 1, 1.05])\n>>> sigma = 10\n>>> rho = 28\n>>> beta = 8 / 3\n>>> (ts, xs, ys, zs) = my_lorenz_ivp(t_span, n, s0, sigma, rho, beta)\n>>> assert get_hash(len(ts)) == 'd89f3a35931c386956c1a402a8e09941'\n>>> assert get_hash(len(xs)) == 'd89f3a35931c386956c1a402a8e09941'\n>>> assert get_hash(len(ys)) == 'd89f3a35931c386956c1a402a8e09941'\n>>> assert get_hash(len(zs)) == 'd89f3a35931c386956c1a402a8e09941'\n>>> assert get_hash(np.round(np.sum(ts), decimals=10)) == '1b89c997f160a81a81d1015a4541fc83'\n>>> assert get_hash(np.round(np.sum(xs), decimals=10)) == '11e944489c7396577473ce9c32870250'\n>>> assert get_hash(np.round(np.sum(ys), decimals=10)) == 'a0979d2b3897715a16ce5ad80462ba77'\n>>> assert get_hash(np.round(np.sum(zs), decimals=10)) == '865ce429993324b97510b1994e00881b'\n",
         "hidden": false,
         "locked": false
        },
        {
         "code": ">>> t_span = [0, 50]\n>>> n = 1000\n>>> s0 = np.array([0, 1, 1.05])\n>>> sigma = 12\n>>> rho = 26\n>>> beta = 8 / 3\n>>> (ts, xs, ys, zs) = my_lorenz_ivp(t_span, n, s0, sigma, rho, beta)\n>>> assert get_hash(np.round(np.sum(xs), decimals=10)) == 'fecadcc13269204588fe48537034b1db'\n>>> assert get_hash(np.round(np.sum(ys), decimals=10)) == 'a41ce33d2a6ceed308916501370d944f'\n>>> assert get_hash(np.round(np.sum(zs), decimals=10)) == '40c7f1cdf7dd5cb508e9f704f2160c64'\n",
         "hidden": false,
         "locked": false
        }
       ],
       "scored": true,
       "setup": "",
       "teardown": "",
       "type": "doctest"
      }
     ]
    }
   }
  }
 },
 "nbformat": 4,
 "nbformat_minor": 5
}
