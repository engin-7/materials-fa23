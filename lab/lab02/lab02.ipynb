{
 "cells": [
  {
   "cell_type": "code",
   "execution_count": null,
   "metadata": {
    "deletable": false,
    "editable": false
   },
   "outputs": [],
   "source": [
    "# Initialize Otter\n",
    "import otter\n",
    "grader = otter.Notebook(\"lab02.ipynb\")"
   ]
  },
  {
   "cell_type": "markdown",
   "metadata": {},
   "source": [
    "# E7: Lab Assignment 02\n",
    "\n",
    "You must submit the lab to Gradescope by the due date. You will submit the zip file produced by running the final cell of the assignment.\n",
    "\n",
    "## About this Lab\n",
    "The objective of this assignment is to familiarize you with functions.\n",
    "\n",
    "## Autograder\n",
    "You will be provided with some test cases (i.e., sample input data) and associated answers (i.e., expected outputs) that you can use to help check your code. The provided test cases are not exhaustive, and it is your responsibility to ensure that your code works in general, not just for a few supplied test cases. We may use additional hidden test cases in grading your lab assignments.\n",
    "\n",
    "**Run the first cell, Initialize Otter**, to import the autograder and submission exporter.\n",
    "\n",
    "## Answer cells\n",
    "Throughout the assignment, replace `...` with your answers. We use `...` as a placeholder and theses should be deleted and replaced with your answers.\n",
    "\n",
    "Your answers must be in the cells marked `# ANSWER CELL`, including your final calculation/code. However, do not perform scratchwork in `# ANSWER CELL`. Add a new cell to perform your scratchwork. Your scratchwork will not be graded and does not need to be included in your submission unless otherwise noted.\n",
    "\n",
    "To read the documentation on a Python function, you can type `help()` and add the function name between parentheses.\n",
    "\n",
    "## Score Breakdown\n",
    "Question| Points\n",
    "--- | --\n",
    "1 | 4\n",
    "2.0 | 3\n",
    "2.1 | 3\n",
    "2.2 | 3\n",
    "2.3 | 3\n",
    "3.0 | 3\n",
    "3.1 | 3\n",
    "3.2 | 1\n",
    "3.3 | 2\n",
    "Total | 25\n",
    "\n",
    "**Run the cell below**, to import the required modules."
   ]
  },
  {
   "cell_type": "code",
   "execution_count": null,
   "metadata": {
    "tags": []
   },
   "outputs": [],
   "source": [
    "# Please run this cell, and do not modify the contets\n",
    "import math\n",
    "import numpy as np\n",
    "import matplotlib.pyplot as plt\n",
    "#plt.style.use('fivethirtyeight')\n",
    "#plt.rcParams[\"figure.figsize\"] = (20,7)\n",
    "%matplotlib inline\n",
    "\n",
    "import hashlib\n",
    "def get_hash(num):\n",
    "    \"\"\"Helper function for assessing correctness\"\"\"\n",
    "    return hashlib.md5(str(num).encode()).hexdigest()"
   ]
  },
  {
   "cell_type": "markdown",
   "metadata": {
    "deletable": false,
    "editable": false
   },
   "source": [
    "## Question 1\n",
    "\n",
    "Write a Python function that calculates the roots of a quadratic equation $ax^2+bx+\n",
    "c = 0$ of unknown $x$, using the quadratic formula below. \n",
    "\n",
    "$$x = \\frac{-b\\pm \\sqrt{b^2-4ac}}{2a}$$"
   ]
  },
  {
   "cell_type": "markdown",
   "metadata": {
    "deletable": false,
    "editable": false
   },
   "source": [
    "The function output should be a two element tuple. The first element, `elem_1`, should be the root computed by setting the $\\pm$ to $+$, and the second element, `elem_2`, should be the root computed by setting the $\\pm$ to $-$.\n",
    "\n",
    "The discriminant is $b^2 - 4ac$. You may assume $b^2 - 4ac \\ge 0$.\n",
    "\n",
    "We will cover tuples next week. For now, all you need to know is when you have multiple outputs from a function, Python returns all the values as a sequence of values called a tuple."
   ]
  },
  {
   "cell_type": "code",
   "execution_count": null,
   "metadata": {
    "tags": []
   },
   "outputs": [],
   "source": [
    "# ANSWER CELL\n",
    "def solve_quadratic(a, b, c):\n",
    "    \"\"\"\n",
    "    Arguments\n",
    "    ---------\n",
    "    a : coefficient of x**2\n",
    "    b : coefficient of x\n",
    "    c : constant\n",
    "    \n",
    "    Returns\n",
    "    -------\n",
    "    elem_1 : larger root of quadratic equation\n",
    "    elem_2 : smaller root of quadratic equation\n",
    "    \"\"\"\n",
    "    discriminant = ...\n",
    "    elem_1 = ...\n",
    "    elem_2 = ...\n",
    "    return elem_1, elem_2 "
   ]
  },
  {
   "cell_type": "markdown",
   "metadata": {
    "deletable": false,
    "editable": false
   },
   "source": [
    "Try out your new `solve_quadratic()` function in the cell below. Let's use your function to calculate the roots of the following equation: $6x^2-17x+12 = 0$. Feel free to try it for other inputs.\n",
    "\n",
    "You do not need to store any outputs from the cell below. This is just to allow you to test your function."
   ]
  },
  {
   "cell_type": "code",
   "execution_count": null,
   "metadata": {
    "deletable": false,
    "editable": false,
    "tags": []
   },
   "outputs": [],
   "source": [
    "solve_quadratic(6,-17,12)"
   ]
  },
  {
   "cell_type": "code",
   "execution_count": null,
   "metadata": {
    "deletable": false,
    "editable": false
   },
   "outputs": [],
   "source": [
    "grader.check(\"q1\")"
   ]
  },
  {
   "cell_type": "markdown",
   "metadata": {
    "deletable": false,
    "editable": false
   },
   "source": [
    "## Question 2.0\n",
    "\n",
    "Carbon dating is a method for determining the age of an object containing the radioisotope carbon-14. Since carbon-14 is subject to radioactive decay, the number of carbon-14 atoms in a sample will decay over time according to the following exponential decay law:\n",
    "\n",
    "$$ N(t) = N_0 e^{-\\lambda t} $$\n",
    "\n",
    "where $N_0$ is the number of atoms of the isotope in the original sample, $N(t)$ is the remaining number of atoms after a time $t$, $\\lambda$ is the exponential decay constant and $t$ is the time.\n",
    "\n",
    "Write a function that calculates the remaining fraction of carbon-14 in a sample after a certain amount of time (in years). The remaining fraction is defined as the ratio of the number of atoms at the present time ($N(t)$) to the initial number of atoms ($N_0$). You can re-arrange the decay formula above to find an expression for this ratio.\n",
    "\n",
    "Assume $\\lambda = 0.00012097 \\: \\text{years}^{-1}$."
   ]
  },
  {
   "cell_type": "code",
   "execution_count": null,
   "metadata": {
    "tags": []
   },
   "outputs": [],
   "source": [
    "# ANSWER CELL\n",
    "def c14_dating(time):\n",
    "    ratio = ...\n",
    "    return ratio"
   ]
  },
  {
   "cell_type": "markdown",
   "metadata": {
    "deletable": false,
    "editable": false
   },
   "source": [
    "Try out your new `c14_dating()` function in the cell below for `time = 1` year. Feel free to try it for other inputs.\n",
    "\n",
    "You do not need to store any outputs from the cell below. This is just to allow you to test your function."
   ]
  },
  {
   "cell_type": "code",
   "execution_count": null,
   "metadata": {
    "scrolled": true,
    "tags": []
   },
   "outputs": [],
   "source": []
  },
  {
   "cell_type": "code",
   "execution_count": null,
   "metadata": {
    "deletable": false,
    "editable": false
   },
   "outputs": [],
   "source": [
    "grader.check(\"q2.0\")"
   ]
  },
  {
   "cell_type": "markdown",
   "metadata": {
    "deletable": false,
    "editable": false
   },
   "source": [
    "## Question 2.1\n",
    "\n",
    "Create a simpler version of Q2.0 by writing a lambda function called `lambda_c14_dating()`. Your lambda function should perform the same calculation as Q2.0 with `time` as the input and fraction remaining as the output. Keep the decay constant as $\\lambda = 0.00012097 \\: \\text{years}^{-1}$"
   ]
  },
  {
   "cell_type": "code",
   "execution_count": null,
   "metadata": {
    "tags": []
   },
   "outputs": [],
   "source": [
    "# ANSWER CELL\n",
    "lambda_c14_dating = ..."
   ]
  },
  {
   "cell_type": "markdown",
   "metadata": {
    "deletable": false,
    "editable": false
   },
   "source": [
    "Try out your new `lambda_c14_dating()` function in the cell below for `time = 1` year. (Just as you did for Q2.0.) Feel free to try it for other inputs.\n",
    "\n",
    "You do not need to store any outputs from the cell below. This is just to allow you to test your function."
   ]
  },
  {
   "cell_type": "code",
   "execution_count": null,
   "metadata": {
    "tags": []
   },
   "outputs": [],
   "source": []
  },
  {
   "cell_type": "code",
   "execution_count": null,
   "metadata": {
    "deletable": false,
    "editable": false
   },
   "outputs": [],
   "source": [
    "grader.check(\"q2.1\")"
   ]
  },
  {
   "cell_type": "markdown",
   "metadata": {
    "deletable": false,
    "editable": false
   },
   "source": [
    "## Question 2.2\n",
    "\n",
    "Now create a more general version of the function in Q2.0 and name the new function `exp_decay()`. This new function will perform the same calculation as `c14_dating()` but will include two input arguments: `time` for $t$ and `decay_constant` for $\\lambda$, the exponential decay constant. Call the argument for $\\lambda$ `decay_constant`. Set the default value for `decay_constant` equal to the exponential decay constant for c-14, which is 0.00012097."
   ]
  },
  {
   "cell_type": "code",
   "execution_count": null,
   "metadata": {
    "tags": []
   },
   "outputs": [],
   "source": [
    "# ANSWER CELL\n",
    "..."
   ]
  },
  {
   "cell_type": "markdown",
   "metadata": {
    "deletable": false,
    "editable": false
   },
   "source": [
    "Try out your new `exp_decay()` function in the cell below for `time = 1` year. Feel free to try it for other inputs.\n",
    "\n",
    "You do not need to store any outputs from the cell below. This is just to allow you to test your function."
   ]
  },
  {
   "cell_type": "code",
   "execution_count": null,
   "metadata": {
    "tags": []
   },
   "outputs": [],
   "source": []
  },
  {
   "cell_type": "code",
   "execution_count": null,
   "metadata": {
    "deletable": false,
    "editable": false
   },
   "outputs": [],
   "source": [
    "grader.check(\"q2.2\")"
   ]
  },
  {
   "cell_type": "markdown",
   "metadata": {
    "deletable": false,
    "editable": false
   },
   "source": [
    "## Question 2.3\n",
    "\n",
    "Evaluate the fraction of carbon-14 remaining over the inclusive range of time (years) = [0, 100, 200, .., 9800, 9900, 10000].\n",
    "\n",
    "Assign your time range to `time_array`. Note that your array should have 100 year increments and include both 0 and 10,000 years. Refer to lecture notes for further help.\n",
    "\n",
    "Assign the values of the fraction of carbon-14 remaining to `c14frac_array`. Use your `exp_decay()` function from Q2.2 to evaluate `time_array` to calculate the fraction of carbon-14 remaining throughout the time range."
   ]
  },
  {
   "cell_type": "code",
   "execution_count": null,
   "metadata": {
    "tags": []
   },
   "outputs": [],
   "source": [
    "# ANSWER CELL\n",
    "time_array = ...\n",
    "c14frac_array = ..."
   ]
  },
  {
   "cell_type": "markdown",
   "metadata": {
    "deletable": false,
    "editable": false
   },
   "source": [
    "Print out your arrays in the cell below to see how the values change."
   ]
  },
  {
   "cell_type": "code",
   "execution_count": null,
   "metadata": {},
   "outputs": [],
   "source": []
  },
  {
   "cell_type": "code",
   "execution_count": null,
   "metadata": {
    "deletable": false,
    "editable": false
   },
   "outputs": [],
   "source": [
    "grader.check(\"q2.3\")"
   ]
  },
  {
   "cell_type": "markdown",
   "metadata": {},
   "source": [
    "## Question 3\n",
    "\n",
    "A ball is launched in the air with initial velocity $v_o$ from an initial position of coordinates $(x_0, y_0)$ as illustrated below: \n",
    "\n",
    "<center> <img src=\"resources/E7_Lab2_1.jpg\" style=\"width: 300px;\"/> </center>\n",
    "<center> Figure 1: Ball launching at angle $\\theta$ from the x-axis with inital velocity $v_0$ </center>\n",
    "\n",
    "The ball is launched at an angle $\\theta$ (expressed in degrees) from the x-axis. The\n",
    "equations describing the motion (i.e. the position of the ball $(x(t), y(t)$) as a function\n",
    "of time $t$) of the ball are:\n",
    "\n",
    "$$ x(t) = x_0 + v_0 t \\cos(\\theta) $$\n",
    "$$ y(t) = y_0 + v_0 t \\sin(\\theta) - \\frac{1}{2}gt^2 $$\n",
    "\n",
    "where $g$ is the gravitational acceleration ($g = 9.81\\,\\text{m}/\\text{s}^2$}). Since $\\theta$ is given in degrees,\n",
    "you will want to convert it first into radians before using the sine or cosine functions.\n",
    "\n",
    "You may find this function helpful: `np.deg2rad()`, which takes as input an angle in degrees and converts it to radians."
   ]
  },
  {
   "cell_type": "markdown",
   "metadata": {
    "deletable": false,
    "editable": false
   },
   "source": [
    "**Question 3.0:** Write a function named `proj_time()` that calculates the time at which the ball reaches the ground. Note that when the ball hits the ground, $y = 0$. So, to find the time at which the ball reaches the ground you have to solve the quadratic equation: \n",
    "$$ - \\frac{1}{2}gt^2 + v_0 t \\sin(\\theta)  + y_0 = 0 $$ \n",
    "You should have already defined a function that solves a quadratic equation (function `solve_quadratic()`, refer to Question 1). So, your new function `proj_time()` should have the following input arguments (use the same argument names):\n",
    "* `y0`, which is the initial $y$ position\n",
    "* `v0`, which is the initial velocity\n",
    "* `theta`, which is the launching angle in degrees\n",
    "\n",
    "Inside `proj_time()`, call the function `solve_quadratic()` with the correct inputs based on the quadratic equation above.  Recall that `solve_quadratic()` returns two elements. The correct solution for the time at which the ball reaches the ground is the second element, `elem_2`, for which the root is computed by setting the $\\pm$ to $-$. Your function `proj_time()` should only return one solution, the correct one."
   ]
  },
  {
   "cell_type": "code",
   "execution_count": null,
   "metadata": {
    "deletable": false,
    "editable": false,
    "tags": []
   },
   "outputs": [],
   "source": [
    "# run this cell to create a global variable g, but make sure you don't have any other global variables also named g\n",
    "g = 9.81"
   ]
  },
  {
   "cell_type": "code",
   "execution_count": null,
   "metadata": {
    "tags": []
   },
   "outputs": [],
   "source": [
    "# ANSWER CELL\n",
    "..."
   ]
  },
  {
   "cell_type": "markdown",
   "metadata": {
    "deletable": false,
    "editable": false
   },
   "source": [
    "Try out your new `proj_time()` function in the cell below. Try using `y0 = 0` meters, `v0 = 15` m/s, and `theta = 40` degrees. Feel free to try it for other input values.\n",
    "\n",
    "You do not need to store any outputs from the cell below. This is just to allow you to test your function."
   ]
  },
  {
   "cell_type": "code",
   "execution_count": null,
   "metadata": {
    "tags": []
   },
   "outputs": [],
   "source": []
  },
  {
   "cell_type": "code",
   "execution_count": null,
   "metadata": {
    "deletable": false,
    "editable": false
   },
   "outputs": [],
   "source": [
    "grader.check(\"q3.0\")"
   ]
  },
  {
   "cell_type": "markdown",
   "metadata": {
    "deletable": false,
    "editable": false
   },
   "source": [
    "**Question 3.1:**  Write a function named `proj_distance()` that calculates the horizontal distance traveled by the ball from its initial horizontal position, $x_0$, before it reaches the ground.Your function should take as input arguments `y0`, `v0`, and `theta`. You can first solve for the time when the ball hits the ground using the function above, `proj_time()`, and then use this time in the following equation to get the distance traveled: $$ x(t) = x_0 + v_0 t \\cos(\\theta) $$"
   ]
  },
  {
   "cell_type": "code",
   "execution_count": null,
   "metadata": {
    "tags": []
   },
   "outputs": [],
   "source": [
    "# ANSWER CELL\n",
    "..."
   ]
  },
  {
   "cell_type": "markdown",
   "metadata": {
    "deletable": false,
    "editable": false
   },
   "source": [
    "Try out your new `proj_distance()` function in the cell below. Try using `y0 = 0` meters, `v0 = 15` m/s, and `theta = 40` degrees. Feel free to try it for other input values.\n",
    "\n",
    "You do not need to store any outputs from the cell below. This is just to allow you to test your function."
   ]
  },
  {
   "cell_type": "code",
   "execution_count": null,
   "metadata": {},
   "outputs": [],
   "source": []
  },
  {
   "cell_type": "code",
   "execution_count": null,
   "metadata": {
    "deletable": false,
    "editable": false
   },
   "outputs": [],
   "source": [
    "grader.check(\"q3.1\")"
   ]
  },
  {
   "cell_type": "markdown",
   "metadata": {
    "deletable": false,
    "editable": false
   },
   "source": [
    "**Question 3.2:** Calculate the horizontal distance traveled by a ball starting at $5\\,\\text{m}$ above the ground, with a velocity of $1\\,\\text{m}/\\text{s}$ at an angle of 30 degrees above horizontal. Store the value as `q3_2`."
   ]
  },
  {
   "cell_type": "code",
   "execution_count": null,
   "metadata": {
    "tags": []
   },
   "outputs": [],
   "source": [
    "# ANSWER CELL\n",
    "q3_2 = ...\n",
    "q3_2"
   ]
  },
  {
   "cell_type": "code",
   "execution_count": null,
   "metadata": {
    "deletable": false,
    "editable": false
   },
   "outputs": [],
   "source": [
    "grader.check(\"q3.2\")"
   ]
  },
  {
   "cell_type": "markdown",
   "metadata": {
    "deletable": false,
    "editable": false
   },
   "source": [
    "**Question 3.3:** Reassign the gravitational acceleration variable, `g`, to $32.2\\,\\text{ft}/\\text{s}^2$. Then calculate the horizontal distance traveled by a ball starting at $5\\,\\text{ft}$ above the ground, with a velocity of $1\\,\\text{ft}/\\text{s}$ at an angle of 30 degrees above horizontal. Store the value as `q3_3`."
   ]
  },
  {
   "cell_type": "code",
   "execution_count": null,
   "metadata": {
    "tags": []
   },
   "outputs": [],
   "source": [
    "# ANSWER CELL\n",
    "..."
   ]
  },
  {
   "cell_type": "code",
   "execution_count": null,
   "metadata": {
    "deletable": false,
    "editable": false,
    "tags": []
   },
   "outputs": [],
   "source": [
    "# Do not remove. Run this cell to reassign g to 9.81 m/s^2.\n",
    "g = 9.81"
   ]
  },
  {
   "cell_type": "code",
   "execution_count": null,
   "metadata": {
    "deletable": false,
    "editable": false
   },
   "outputs": [],
   "source": [
    "grader.check(\"q3.3\")"
   ]
  },
  {
   "cell_type": "markdown",
   "metadata": {},
   "source": [
    "### You're done with this Lab!\n",
    "\n",
    "**Important submission information:** After completing the assignment, click on the Save icon from the Tool Bar &nbsp;<i class=\"fa fa-save\" style=\"font-size:16px;\"></i>&nbsp;. After saving your notebook, **run the cell with** `grader.check_all()` and confirm that you pass the same tests as in the notebook. Then, **run the final cell** `grader.export()` and click the link to download the zip file. Then, go to Gradescope and submit the zip file to the corresponding assignment. \n",
    "\n",
    "**Once you have submitted, stay on the Gradescope page to confirm that you pass the same tests as in the notebook.**"
   ]
  },
  {
   "cell_type": "code",
   "execution_count": null,
   "metadata": {
    "tags": []
   },
   "outputs": [],
   "source": [
    "import matplotlib.image as mpimg\n",
    "img = mpimg.imread('resources/animal.png')\n",
    "imgplot = plt.imshow(img)\n",
    "imgplot.axes.get_xaxis().set_visible(False)\n",
    "imgplot.axes.get_yaxis().set_visible(False)\n",
    "print(\"Congrats on finishing lab 2!\")\n",
    "plt.show()"
   ]
  },
  {
   "cell_type": "markdown",
   "metadata": {
    "deletable": false,
    "editable": false
   },
   "source": [
    "---\n",
    "\n",
    "To double-check your work, the cell below will rerun all of the autograder tests."
   ]
  },
  {
   "cell_type": "code",
   "execution_count": null,
   "metadata": {
    "deletable": false,
    "editable": false
   },
   "outputs": [],
   "source": [
    "grader.check_all()"
   ]
  },
  {
   "cell_type": "markdown",
   "metadata": {
    "deletable": false,
    "editable": false
   },
   "source": [
    "## Submission\n",
    "\n",
    "Make sure you have run all cells in your notebook in order before running the cell below, so that all images/graphs appear in the output. The cell below will generate a zip file for you to submit. **Please save before exporting!**\n",
    "\n",
    "Make sure you submit the .zip file to Gradescope."
   ]
  },
  {
   "cell_type": "code",
   "execution_count": null,
   "metadata": {
    "deletable": false,
    "editable": false
   },
   "outputs": [],
   "source": [
    "# Save your notebook first, then run this cell to export your submission.\n",
    "grader.export(pdf=False)"
   ]
  },
  {
   "cell_type": "markdown",
   "metadata": {},
   "source": [
    " "
   ]
  }
 ],
 "metadata": {
  "anaconda-cloud": {},
  "kernelspec": {
   "display_name": "Python 3 (ipykernel)",
   "language": "python",
   "name": "python3"
  },
  "language_info": {
   "codemirror_mode": {
    "name": "ipython",
    "version": 3
   },
   "file_extension": ".py",
   "mimetype": "text/x-python",
   "name": "python",
   "nbconvert_exporter": "python",
   "pygments_lexer": "ipython3",
   "version": "3.9.15"
  },
  "otter": {
   "OK_FORMAT": true,
   "assignment_name": "lab02",
   "tests": {
    "q1": {
     "name": "q1",
     "points": 4,
     "suites": [
      {
       "cases": [
        {
         "code": ">>> assert get_hash(solve_quadratic(5, -23, 2)) == '582fa9d143bfec5b7bfba577d5839f89'\n>>> assert get_hash(solve_quadratic(1,2,1)) == 'bb6dedb4a3fcd11f0b5570754ca0fc80'\n>>> assert get_hash(np.round(solve_quadratic(5.2,3.5,-2.1),5)) == '6bf522b49df28612d661b9e4dca578a3'\n",
         "hidden": false,
         "locked": false
        }
       ],
       "scored": true,
       "setup": "",
       "teardown": "",
       "type": "doctest"
      }
     ]
    },
    "q2.0": {
     "name": "q2.0",
     "points": 3,
     "suites": [
      {
       "cases": [
        {
         "code": ">>> assert get_hash(round(c14_dating(5730),4)) == 'd310cb367d993fb6fb584b198a2fd72c'\n>>> assert get_hash(round(c14_dating(0.956),4)) == '94eab0ef89d927c724320fec6169d935'\n>>> assert get_hash(round(c14_dating(14023),4)) == 'adc61c91420dc18855e1b8f869d62f02'\n",
         "hidden": false,
         "locked": false
        }
       ],
       "scored": true,
       "setup": "",
       "teardown": "",
       "type": "doctest"
      }
     ]
    },
    "q2.1": {
     "name": "q2.1",
     "points": 3,
     "suites": [
      {
       "cases": [
        {
         "code": ">>> assert get_hash(round(lambda_c14_dating(5730),4)) == 'd310cb367d993fb6fb584b198a2fd72c'\n>>> assert get_hash(round(lambda_c14_dating(0.956),4)) == '94eab0ef89d927c724320fec6169d935'\n>>> assert get_hash(round(lambda_c14_dating(14023),4)) == 'adc61c91420dc18855e1b8f869d62f02'\n",
         "hidden": false,
         "locked": false
        }
       ],
       "scored": true,
       "setup": "",
       "teardown": "",
       "type": "doctest"
      }
     ]
    },
    "q2.2": {
     "name": "q2.2",
     "points": 3,
     "suites": [
      {
       "cases": [
        {
         "code": ">>> assert get_hash(round(exp_decay(10000,decay_constant=0.005),4)) == '30565a8911a6bb487e3745c0ea3c8224'\n>>> assert get_hash(round(exp_decay(5700,decay_constant=0.0005),4)) == 'f7c0bea0f6b8b0afb21183bd1fba47b5'\n>>> assert get_hash(round(exp_decay(6000),4)) == '65f9014d65dbcfbfa19c0f7fa6ab4da8' , 'check defult argument'\n>>> assert get_hash(round(exp_decay(1,decay_constant=0.5),4)) == '8a52647f06947d3d26632ec454dd25d7'\n>>> assert get_hash(round(exp_decay(106.34,decay_constant=0.0034),4)) == '58374b5008429c8708b89e0ff3cef80a'\n>>> assert get_hash(round(exp_decay(1456),4)) == 'ae9975b561135ecc09b35e7d203f41b3'\n",
         "hidden": false,
         "locked": false
        }
       ],
       "scored": true,
       "setup": "",
       "teardown": "",
       "type": "doctest"
      }
     ]
    },
    "q2.3": {
     "name": "q2.3",
     "points": 3,
     "suites": [
      {
       "cases": [
        {
         "code": ">>> assert get_hash(time_array[0]) == 'cfcd208495d565ef66e7dff9f98764da' , 'Check start value of time_array'\n>>> assert get_hash(time_array[-1]) == 'b7a782741f667201b54880c925faec4b' , 'Check final value of time_array'\n>>> assert get_hash(np.sum(time_array)) == '39d9d6852c0ddbf22d973f6d3c72deae' , 'Check steps within time_array'\n",
         "hidden": false,
         "locked": false
        },
        {
         "code": ">>> assert get_hash(round(c14frac_array[1],4)) =='ccf8e6e10af7c853137169f67a523087'\n>>> assert get_hash(round(c14frac_array[-1],4)) == 'e152a2147de532f22e5acd4d4b252c84'\n>>> assert get_hash(round(np.sum(c14frac_array),4)) == 'f82762b52fbe1dde5c5a5100ad7d2775'\n",
         "hidden": false,
         "locked": false
        }
       ],
       "scored": true,
       "setup": "",
       "teardown": "",
       "type": "doctest"
      }
     ]
    },
    "q3.0": {
     "name": "q3.0",
     "points": 3,
     "suites": [
      {
       "cases": [
        {
         "code": ">>> g = 9.81\n>>> assert get_hash(proj_time(y0=0, v0=15, theta=40)) == '085a4d0b759822dd9066e0f3eebe96b5'\n>>> assert get_hash(proj_time(y0=10, v0=0, theta=45)) == '5d54d3cd4e1e02079de389a99a64931f'\n",
         "hidden": false,
         "locked": false
        }
       ],
       "scored": true,
       "setup": "",
       "teardown": "",
       "type": "doctest"
      }
     ]
    },
    "q3.1": {
     "name": "q3.1",
     "points": 3,
     "suites": [
      {
       "cases": [
        {
         "code": ">>> g = 9.81\n>>> assert get_hash(proj_distance(y0=0, v0=15, theta=40)) == '901c8912f3bd90f4c881badd02f571cb'\n>>> assert get_hash(proj_distance(y0=10,v0=0, theta=45)) == '30565a8911a6bb487e3745c0ea3c8224'\n",
         "hidden": false,
         "locked": false
        }
       ],
       "scored": true,
       "setup": "",
       "teardown": "",
       "type": "doctest"
      }
     ]
    },
    "q3.2": {
     "name": "q3.2",
     "points": 1,
     "suites": [
      {
       "cases": [
        {
         "code": ">>> assert get_hash(np.round(q3_2,4)) == 'c5204578f71b466f2818d519b95a925e'\n",
         "hidden": false,
         "locked": false
        }
       ],
       "scored": true,
       "setup": "",
       "teardown": "",
       "type": "doctest"
      }
     ]
    },
    "q3.3": {
     "name": "q3.3",
     "points": 2,
     "suites": [
      {
       "cases": [
        {
         "code": ">>> assert get_hash(np.round(q3_3,4)) == 'd65764cf7615df6f1cc880fdfb53c669'\n",
         "hidden": false,
         "locked": false
        }
       ],
       "scored": true,
       "setup": "",
       "teardown": "",
       "type": "doctest"
      }
     ]
    }
   }
  }
 },
 "nbformat": 4,
 "nbformat_minor": 4
}
