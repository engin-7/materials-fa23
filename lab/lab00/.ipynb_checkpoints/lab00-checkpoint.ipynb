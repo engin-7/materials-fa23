{
 "cells": [
  {
   "cell_type": "code",
   "execution_count": null,
   "metadata": {
    "deletable": false,
    "editable": false
   },
   "outputs": [],
   "source": [
    "# Initialize Otter\n",
    "import otter\n",
    "grader = otter.Notebook(\"lab00.ipynb\")"
   ]
  },
  {
   "cell_type": "markdown",
   "metadata": {},
   "source": [
    "# E7: Lab Assignment 00\n",
    "\n",
    "Welcome to E7: Introduction to Computer Programming for Scientists and Engineers! You must submit the lab to Gradescope by the due date. You will submit the **zip file** produced by running the final cell of the assignment.\n",
    "\n",
    "## About Lab 00\n",
    "Each week you will complete a lab assignment like this one. You cannot learn to program just by watching someone else do it. You will need to be actively engaged in the learning process to develop your own understanding of the material through coding practice in lab sections and assignments. This is just a very simple, one-question assignment. The objective of this assignment is to acquaint you with the process of working on lab assignments and familiarize you with the procedure for submitting them.\n",
    "\n",
    "## Autograder\n",
    "You will be provided with some test cases (i.e., sample input data) and associated answers (i.e., expected outputs) that you can use to help check your code. The provided test cases are not exhaustive, and it is your responsibility to ensure that your code works in general, not just for a few supplied test cases. We may use additional hidden test cases in grading your lab assignments.\n",
    "\n",
    "**Run the first cell, Initialize Otter**, to import the autograder and submission exporter.\n",
    "\n",
    "## Answer cells\n",
    "Throughout the assignment, replace `...` with your answers. We use `...` as a placeholder and theses should be deleted and replaced with your answers.\n",
    "\n",
    "Your answers must be in the cells marked `# ANSWER CELL`, including your final calculation/code. However, do not perform scratchwork in `# ANSWER CELL`. Add a new cell to perform your scratchwork. Your scratchwork will not be graded and does not need to be included in your submission unless otherwise noted.\n",
    "\n",
    "To read the documentation on a Python function, you can type `help()` and add the function name between parentheses.\n",
    "\n",
    "## Score Breakdown\n",
    "|Question    | Points |\n",
    "| :--------  | -----: |\n",
    "| 1.0        | 5.0    |\n",
    "| Total      | 5.0    |\n",
    "\n",
    "**Run the cell below**, to import the required modules."
   ]
  },
  {
   "cell_type": "code",
   "execution_count": null,
   "metadata": {
    "tags": []
   },
   "outputs": [],
   "source": [
    "# Please run this cell, and do not modify the contents\n",
    "import re\n",
    "import matplotlib.pyplot as plt\n",
    "import matplotlib.image as mpimg\n",
    "import hashlib\n",
    "import ipywidgets as widgets\n",
    "from ipywidgets import FileUpload\n",
    "from IPython.display import display\n",
    "from PIL import Image\n",
    "import os\n",
    "import resources\n",
    "from resources.utils import *\n",
    "\n",
    "def get_hash(num):\n",
    "    \"\"\"Helper function for assessing correctness\"\"\"\n",
    "    return hashlib.md5(str(num).encode()).hexdigest()"
   ]
  },
  {
   "cell_type": "markdown",
   "metadata": {},
   "source": [
    "## Question 1: Getting started\n",
    "\n",
    "In the cell below define the variable `x = \"Hello, World!\"`. "
   ]
  },
  {
   "cell_type": "code",
   "execution_count": null,
   "metadata": {
    "tags": []
   },
   "outputs": [],
   "source": [
    "# ANSWER CELL\n",
    "x = ...\n",
    "print(x)"
   ]
  },
  {
   "cell_type": "code",
   "execution_count": null,
   "metadata": {
    "deletable": false,
    "editable": false
   },
   "outputs": [],
   "source": [
    "grader.check(\"q1.0\")"
   ]
  },
  {
   "cell_type": "markdown",
   "metadata": {},
   "source": [
    "### You're done with Lab 00!\n",
    "\n",
    "**Important submission information:** After completing the assignment, click on the Save icon from the Tool Bar &nbsp; <i class=\"fa fa-save\" style=\"font-size:16px;\"></i> &nbsp;. After saving your notebook, **run the cell with** `grader.check_all()` and confirm that you pass the same tests as in the notebook. Then, **run the final cell** `grader.export()` and click the link to download the zip file. Then, go to Gradescope and submit the zip file to the corresponding assignment. \n",
    "\n",
    "**Once you have submitted, stay on the Gradescope page to confirm that you pass the same tests as in the notebook.**"
   ]
  },
  {
   "cell_type": "code",
   "execution_count": null,
   "metadata": {
    "scrolled": false,
    "tags": []
   },
   "outputs": [],
   "source": [
    "%matplotlib inline\n",
    "img = mpimg.imread('resources/animal.jpg')\n",
    "imgplot = plt.imshow(img)\n",
    "imgplot.axes.get_xaxis().set_visible(False)\n",
    "imgplot.axes.get_yaxis().set_visible(False)\n",
    "print(\"Congratulations on finishing lab 00!\")\n",
    "plt.show()"
   ]
  },
  {
   "cell_type": "markdown",
   "metadata": {
    "deletable": false,
    "editable": false
   },
   "source": [
    "---\n",
    "\n",
    "To double-check your work, the cell below will rerun all of the autograder tests."
   ]
  },
  {
   "cell_type": "code",
   "execution_count": null,
   "metadata": {
    "deletable": false,
    "editable": false
   },
   "outputs": [],
   "source": [
    "grader.check_all()"
   ]
  },
  {
   "cell_type": "markdown",
   "metadata": {
    "deletable": false,
    "editable": false
   },
   "source": [
    "## Submission\n",
    "\n",
    "Make sure you have run all cells in your notebook in order before running the cell below, so that all images/graphs appear in the output. The cell below will generate a zip file for you to submit. **Please save before exporting!**\n",
    "\n",
    "Make sure you submit the zip file to Gradescope."
   ]
  },
  {
   "cell_type": "code",
   "execution_count": null,
   "metadata": {
    "deletable": false,
    "editable": false
   },
   "outputs": [],
   "source": [
    "# Save your notebook first, then run this cell to export your submission.\n",
    "grader.export(pdf=False)"
   ]
  },
  {
   "cell_type": "markdown",
   "metadata": {},
   "source": [
    " "
   ]
  }
 ],
 "metadata": {
  "anaconda-cloud": {},
  "kernelspec": {
   "display_name": "Python 3 (ipykernel)",
   "language": "python",
   "name": "python3"
  },
  "language_info": {
   "codemirror_mode": {
    "name": "ipython",
    "version": 3
   },
   "file_extension": ".py",
   "mimetype": "text/x-python",
   "name": "python",
   "nbconvert_exporter": "python",
   "pygments_lexer": "ipython3",
   "version": "3.9.15"
  },
  "otter": {
   "OK_FORMAT": true,
   "assignment_name": "lab00",
   "tests": {
    "q1.0": {
     "name": "q1.0",
     "points": 5,
     "suites": [
      {
       "cases": [
        {
         "code": ">>> assert get_hash(x.upper()) == '1f9bd06f0b9c061cb1079a2bc30ded89'\n",
         "hidden": false,
         "locked": false
        }
       ],
       "scored": true,
       "setup": "",
       "teardown": "",
       "type": "doctest"
      }
     ]
    }
   }
  }
 },
 "nbformat": 4,
 "nbformat_minor": 4
}
