{
 "cells": [
  {
   "cell_type": "code",
   "execution_count": 1,
   "metadata": {
    "deletable": false,
    "editable": false
   },
   "outputs": [],
   "source": [
    "# Initialize Otter\n",
    "import otter\n",
    "grader = otter.Notebook(\"lab05.ipynb\")"
   ]
  },
  {
   "cell_type": "markdown",
   "metadata": {},
   "source": [
    "# E7: Lab Assignment 05\n",
    "\n",
    "You must submit the lab to Gradescope by the due date. You will submit the zip file produced by running the final cell of the assignment.\n",
    "\n",
    "## About this Lab\n",
    "The objective of this assignment is to familiarize you with recursion.\n",
    "\n",
    "## Autograder\n",
    "You will be provided with some test cases (i.e., sample input data) and associated answers (i.e., expected outputs) that you can use to help check your code. The provided test cases are not exhaustive, and it is your responsibility to ensure that your code works in general, not just for a few supplied test cases. We may use additional hidden test cases in grading your lab assignments.\n",
    "\n",
    "**Run the first cell, Initialize Otter**, to import the autograder and submission exporter.\n",
    "\n",
    "## Answer cells\n",
    "Throughout the assignment, replace `...` with your answers. We use `...` as a placeholder and theses should be deleted and replaced with your answers.\n",
    "\n",
    "Your answers must be in the cells marked `# ANSWER CELL`, including your final calculation/code. However, do not perform scratchwork in `# ANSWER CELL`. Add a new cell to perform your scratchwork. Your scratchwork will not be graded and does not need to be included in your submission unless otherwise noted.\n",
    "\n",
    "To read the documentation on a Python function, you can type `help()` and add the function name between parentheses.\n",
    "\n",
    "## Score Breakdown\n",
    "Question| Points\n",
    "--- | --\n",
    "1 | 5.0\n",
    "2.0 | 1.0\n",
    "2.1–2.2 | 4.0\n",
    "3 | 4.0\n",
    "4.0–4.1 | 6.0\n",
    "5.0 | 1.0\n",
    "5.1 | 4.0\n",
    "Total | 25.0\n",
    "\n",
    "**Run the cell below**, to import the required modules."
   ]
  },
  {
   "cell_type": "code",
   "execution_count": 2,
   "metadata": {
    "jupyter": {
     "outputs_hidden": true
    }
   },
   "outputs": [],
   "source": [
    "# Please run this cell, and do not modify the contents\n",
    "import numpy as np\n",
    "import math\n",
    "import heapq\n",
    "import time\n",
    "import matplotlib.pyplot as plt\n",
    "import random\n",
    "from random import choice\n",
    "from string import ascii_lowercase\n",
    "from timeit import default_timer as timer\n",
    "np.seterr(all='ignore');\n",
    "\n",
    "import hashlib\n",
    "def get_hash(num):\n",
    "    \"\"\"Helper function for assessing correctness\"\"\"\n",
    "    return hashlib.md5(str(num).encode()).hexdigest()"
   ]
  },
  {
   "cell_type": "markdown",
   "metadata": {
    "deletable": false,
    "editable": false
   },
   "source": [
    "## Question 1: Fibonacci Sequence\n",
    "\n",
    "The Fibonacci Sequence can be defined by the recursive relationship $F_n = F_{n-1}+F_{n-2}$, where the first two numbers of the sequence by convention are $F_0 = 0$ and $F_1 = 1$. **Note that this is a slightly modified definition than the one we saw in the lecture, but both are equivalent.** $F_n$ is defined for any positive integer $n\\geq2$.\n",
    "\n",
    "\\begin{equation}\n",
    "F_n = \\begin{cases}\n",
    "    0 &\\text{if $n=0$}\\\\\n",
    "    1 &\\text{if $n=1$}\\\\\n",
    "    F_{n-1} + F_{n-2} & \\text{if $n\\geq2$}\\\\\n",
    "    \\end{cases}\n",
    "\\end{equation}"
   ]
  },
  {
   "cell_type": "markdown",
   "metadata": {
    "deletable": false,
    "editable": false
   },
   "source": [
    "Using **recursion**, write a function `FibRec(n)` with output `F`, that returns the $n^{th}$ number in the Fibonacci sequence, $F_n$. If the input `n` is negative, the output `F` should be the string \"n must be positive\". If the input `n` is not an integer, the output `F` should be the string \"n must be an integer\". If the input `n` is both negative and not an integer, the output `F` should be the string \"n must be a positive integer\". Your function should **return** `F`, which would be the $n^{th}$ number in the Fibonacci sequence for valid input `n`, or a warning message for invalid input `n`.\n",
    "\n",
    "Note that if `n` has a decimal point but without any fractional component (e.g., 10.0 and 10.), then `n` should be treated as an integer.\n",
    "\n",
    "Be careful with your string formatting for invalid input `n`. Any small modification, such as extra space or character, will result in a failed test.\n",
    "\n",
    "Once you are done, try out your new `FibRec()` function for `n = 18` in the following cell. Assign the output to `q1`. Feel free to try it for other inputs.\n",
    "\n",
    "```\n",
    "Examples:\n",
    "\n",
    ">>> FibRec(12)\n",
    "144\n",
    "\n",
    ">>> FibRec(23)\n",
    "28657\n",
    "\n",
    ">>> FibRec(2.2)\n",
    "'n must be an integer'\n",
    "\n",
    ">>> FibRec(-10)\n",
    "'n must be positive'\n",
    "\n",
    ">>> FibRec(-10.1)\n",
    "'n must be a positive integer'\n",
    "\n",
    ">>> FibRec(10.0)\n",
    "55\n",
    "```"
   ]
  },
  {
   "cell_type": "code",
   "execution_count": null,
   "metadata": {
    "jupyter": {
     "outputs_hidden": true
    },
    "tags": []
   },
   "outputs": [],
   "source": [
    "# ANSWER CELL\n",
    "..."
   ]
  },
  {
   "cell_type": "code",
   "execution_count": null,
   "metadata": {
    "tags": []
   },
   "outputs": [],
   "source": [
    "# TEST YOUR FUNCTION HERE\n",
    "q1 = ..."
   ]
  },
  {
   "cell_type": "code",
   "execution_count": null,
   "metadata": {
    "deletable": false,
    "editable": false
   },
   "outputs": [],
   "source": [
    "grader.check(\"q1\")"
   ]
  },
  {
   "cell_type": "markdown",
   "metadata": {},
   "source": [
    "## Question 2: Ratio of Fibonacci Sequence\n",
    "The ratio $r = \\dfrac{F_n}{F_{n-1}}$ of consecutive Fibonacci numbers converges to a limit called the Golden Ratio. You will write a simple function to calculate $r = \\dfrac{F_n}{F_{n-1}}$ and evaluate errors outputs from this simple function. Then you will use `try` and `except` statements to create a more robust function."
   ]
  },
  {
   "cell_type": "markdown",
   "metadata": {},
   "source": [
    "### Question 2.0: Simple ratio\n",
    "Create a function `simpleFibRatio(n)` that returns `r`, where `r` is the ratio defined above for the values of the Fibonacci Sequence defined by `n`. Use the function `FibRec(n)` from Question 1 to calculate the ratio. **Do not** handle any exceptions or control for the input `n`.\n",
    "\n",
    "Once you are done, try out your new `simpleFibRatio()` function for `n = 18` in the following cell. Assign the output to `q2_0`. Feel free to try it for other inputs.\n",
    "\n",
    "```\n",
    "Examples:\n",
    "\n",
    ">>> simpleFibRatio(2)\n",
    "1.0\n",
    "\n",
    ">>> simpleFibRatio(3)\n",
    "2.0\n",
    "\n",
    ">>> simpleFibRatio(4)\n",
    "1.5\n",
    "\n",
    ">>> simpleFibRatio(20)\n",
    "1.6180339631667064\n",
    "```"
   ]
  },
  {
   "cell_type": "code",
   "execution_count": null,
   "metadata": {
    "tags": []
   },
   "outputs": [],
   "source": [
    "# ANSWER CELL\n",
    "..."
   ]
  },
  {
   "cell_type": "code",
   "execution_count": null,
   "metadata": {
    "scrolled": true,
    "tags": []
   },
   "outputs": [],
   "source": [
    "# TEST YOUR FUNCTION HERE\n",
    "q2_0 = ..."
   ]
  },
  {
   "cell_type": "code",
   "execution_count": null,
   "metadata": {
    "deletable": false,
    "editable": false
   },
   "outputs": [],
   "source": [
    "grader.check(\"q2.0\")"
   ]
  },
  {
   "cell_type": "markdown",
   "metadata": {
    "deletable": false,
    "editable": false
   },
   "source": [
    "### Question 2.1: Ratio error for $n=1$\n",
    "What error type do you get for `simpleFibRatio(n=1)`? Save the error type as a string named `q2_1_error`. Keep the same syntax as appeared in the error message. For instance, if a value error was raised, use the syntax 'ValueError' not 'value error'.\n",
    "\n",
    "Once you determine the error type, create a new function called `midFibRatio(n)` that returns `r` from `simpleFibRatio()` if no error occurs, but returns `np.nan` for the error raised by `simpleFibRatio(n=1)`.\n",
    "\n",
    "Once you are done, try out your new `midFibRatio()` function for `n = 18` and then `n = 1` in the following cell. Assign the output to `q2_1`. Feel free to try it for other inputs.\n",
    "\n",
    "```\n",
    "Examples:\n",
    "\n",
    ">>> midFibRatio(2)\n",
    "1.0\n",
    "\n",
    ">>> midFibRatio(3)\n",
    "2.0\n",
    "\n",
    ">>> midFibRatio(4)\n",
    "1.5\n",
    "\n",
    ">>> midFibRatio(20)\n",
    "1.6180339631667064\n",
    "\n",
    ">>> midFibRatio(1)\n",
    "nan\n",
    "\n",
    ">>> a = midFibRatio(1) # make sure that you are using return rather than print\n",
    ">>> a\n",
    "nan\n",
    "```"
   ]
  },
  {
   "cell_type": "code",
   "execution_count": null,
   "metadata": {
    "jupyter": {
     "outputs_hidden": true
    },
    "tags": []
   },
   "outputs": [],
   "source": [
    "# ANSWER CELL\n",
    "q2_1_error = ...\n",
    "def midFibRatio(n):\n",
    "    try:\n",
    "        ...\n",
    "    except ...\n",
    "        ...\n",
    "    return r"
   ]
  },
  {
   "cell_type": "code",
   "execution_count": null,
   "metadata": {
    "scrolled": true,
    "tags": []
   },
   "outputs": [],
   "source": [
    "# TEST YOUR FUNCTION HERE\n",
    "q2_1 = ..."
   ]
  },
  {
   "cell_type": "code",
   "execution_count": null,
   "metadata": {
    "deletable": false,
    "editable": false
   },
   "outputs": [],
   "source": [
    "grader.check(\"q2.1\")"
   ]
  },
  {
   "cell_type": "markdown",
   "metadata": {
    "deletable": false,
    "editable": false
   },
   "source": [
    "### Question 2.2: Ratio error for fractions\n",
    "What error type do you get for `simpleFibRatio(n=3.5)` or for any value less than 1? All these inputs should have the same error type. Save the error type as a string named `q2_2_error`. Keep the same syntax as appeared in the error message. For instance, if a value error was raised, use the syntax 'ValueError' not 'value error'.\n",
    "\n",
    "Once you determine the error type, create a new function called `finalFibRatio(n)` that returns `r` from `simpleFibRatio()` if no error occurs, returns `np.nan` for the error raised by `simpleFibRatio(n=1)`, and returns `-999` for the error raised by inputting a non-positive or a fractional number.\n",
    "\n",
    "Once you are done, try out your new `finalFibRatio()` function for`n = 18`, `n = 1`, and `n = -2`. in the following cell. Assign the output to `q2_2`. Feel free to try it for other inputs.\n",
    "\n",
    "```\n",
    "Examples:\n",
    "\n",
    ">>> finalFibRatio(2)\n",
    "1.0\n",
    "\n",
    ">>> finalFibRatio(3)\n",
    "2.0\n",
    "\n",
    ">>> finalFibRatio(4)\n",
    "1.5\n",
    "\n",
    ">>> finalFibRatio(20)\n",
    "1.6180339631667064\n",
    "\n",
    ">>> finalFibRatio(1)\n",
    "nan\n",
    "\n",
    ">>> finalFibRatio(3.5)\n",
    "-999\n",
    "\n",
    ">>> finalFibRatio(-1)\n",
    "-999\n",
    "```"
   ]
  },
  {
   "cell_type": "code",
   "execution_count": null,
   "metadata": {
    "jupyter": {
     "outputs_hidden": true
    },
    "tags": []
   },
   "outputs": [],
   "source": [
    "# ANSWER CELL\n",
    "q2_2_error = ...\n",
    "\n",
    "..."
   ]
  },
  {
   "cell_type": "code",
   "execution_count": null,
   "metadata": {
    "scrolled": true,
    "tags": []
   },
   "outputs": [],
   "source": [
    "# TEST YOUR FUNCTION HERE\n",
    "q2_2 = ..."
   ]
  },
  {
   "cell_type": "code",
   "execution_count": null,
   "metadata": {
    "deletable": false,
    "editable": false
   },
   "outputs": [],
   "source": [
    "grader.check(\"q2.2\")"
   ]
  },
  {
   "cell_type": "markdown",
   "metadata": {
    "deletable": false,
    "editable": false
   },
   "source": [
    "## Question 3: Binary representations of integers\n",
    "\n",
    "There are many ways to represent integers in binary format (i.e. with only zeros and ones). In this problem, we only consider 8-bit representations: each integer will be represented in binary format by a sequence of 8 zeros and/or ones. You will learn and use three different binary representations for integers: \"unsigned representation\", \"signed-magnitude representation\", and \"two's complement representation\". Each of these representations is detailed below."
   ]
  },
  {
   "cell_type": "markdown",
   "metadata": {
    "deletable": false,
    "editable": false
   },
   "source": [
    "In the unsigned representation, each bit represents a power of 2, from $2^0$ (right-most bit) to $2^7$ (left-most bit). For example, the binary representation 00100100 represents the integer $2^5 + 2^2 = 36$, and the binary representation 11101000 represents the integer $2^7+2^6+2^5+2^3 = 232$. Note that negative integers cannot be represented with the unsigned representation.\n",
    "\n",
    "In the signed-magnitude representation, the left-most bit represents the sign of the integer. If the left-most bit is 0, then the integer is positive. If the left-most bit is 1, then the integer is negative. The other bits represent the magnitude of the integer, each bit representing a power of 2, from $2^0$ (right-most bit) to $2^6$ (seventh bit from the right). For example, the binary representation 00100100 still represents the number $2^5 + 2^2 = 36$, while the binary representation 11101000 now represents the number $-\\left(2^6 + 2^5 + 2^3\\right) = -104$. Note that there are two possible binary representations of zero in the signed-magnitude representation (00000000 and 10000000).\n",
    "\n",
    "In the two's complement representation, the left-most bit represents $-2^7$ if it is 1, and 0 if it is 0. The other seven bits are used in the same way as in the unsigned and\n",
    "signed-magnitude representations. For example, the binary representation 00100100 still represents the number 36, while the binary representation 11101000 now represents the\n",
    "number $-2^7 + 2^6 + 2^5 + 2^3 = -24$."
   ]
  },
  {
   "cell_type": "markdown",
   "metadata": {
    "deletable": false,
    "editable": false
   },
   "source": [
    "Write a function `myBinary2Num(binary, representation)` that takes as input a character string of length 8 made of only zeros and ones (`binary`) and the name of the representation used for `binary` (`representation`) and returns `result`, which is the base-10 number corresponding to `binary` based on the number representation specified in `representation`.\n",
    "\n",
    "You are not allowed to use any built-in function that converts from binary to decimal.\n",
    "\n",
    "Constraints:\n",
    "* `binary` should be a string of length 8 made of only zeros and ones. Otherwise, your function **should return** \"binary should be a string of length 8 made of only 0 and 1\".\n",
    "* `representation` should be a string and can take one of the three following values: 'UnSign', 'Sign' and 'TC', which correspond to unsigned, signed-magnitude, and two's complement representations, respectively. Otherwise, your function **should return** \"invalid representation\".\n",
    "* Your function should check `binary` first and then `representation` for valid inputs\n",
    "* Be careful with your string formatting for invalid inputs. Any small modification, such as extra space or character, will result in a failed test.\n",
    "\n",
    "Once you are done, try out your new `myBinary2Num()` function for `binary = '11001000'` and `representation = 'TC'` in the following cell. Assign the output to `q3`. Feel free to try it for other inputs.\n",
    "\n",
    "```\n",
    "Examples:\n",
    "\n",
    ">>> myBinary2Num('11001000', 'UnSign')\n",
    "200\n",
    "\n",
    ">>> myBinary2Num('11001000', 'Sign')\n",
    "-72\n",
    "\n",
    ">>> myBinary2Num('11001000', 'TC')\n",
    "-56\n",
    "\n",
    ">>> myBinary2Num('01001110', 'UnSign')\n",
    "78\n",
    "\n",
    ">>> myBinary2Num('11001110', 'Sign')\n",
    "-78\n",
    "\n",
    ">>> myBinary2Num('11001110', 'TC')\n",
    "-50\n",
    "\n",
    ">>> myBinary2Num('1100111011001110', 'UnSign') # More than 8 bits\n",
    "'binary should be a string of length 8 made of only 0 and 1'\n",
    "\n",
    ">>> myBinary2Num('110010ab', 'UnSign') # bits include characters other than 0 and 1\n",
    "'binary should be a string of length 8 made of only 0 and 1'\n",
    "\n",
    ">>> myBinary2Num('11001000', 'unsigned') # representation should be 'UnSign'\n",
    "'invalid representation'\n",
    "\n",
    ">>> myBinary2Num('11001000', 'unsign') # strings are case-sensitive\n",
    "'invalid representation'\n",
    "```"
   ]
  },
  {
   "cell_type": "code",
   "execution_count": 3,
   "metadata": {
    "jupyter": {
     "outputs_hidden": true
    },
    "tags": []
   },
   "outputs": [],
   "source": [
    "# ANSWER CELL\n",
    "def myBinaryCalculation(binary, index):\n",
    "    result = 0\n",
    "    power = 0\n",
    "    for i in range(len(binary)-1, index, -1):\n",
    "        if binary[i] == '1':\n",
    "            result += 2 ** power\n",
    "        power+= 1\n",
    "    return result\n",
    "\n",
    "def myBinary2Num(binary, representation):\n",
    "    if len(binary) != 8 or not all(i in '10' for i in binary):\n",
    "        result = 'binary should be a string of length 8 made of only 0 and 1'\n",
    "    elif representation != 'UnSign' and representation != 'Sign' and representation != 'TC':\n",
    "        result = 'invalid representation'\n",
    "    else:\n",
    "        if representation == 'Sign':\n",
    "            result = myBinaryCalculation(binary, 0)\n",
    "            if binary[0] == '1':\n",
    "                result = result * -1\n",
    "        elif representation == 'UnSign':\n",
    "            result = myBinaryCalculation(binary, -1)\n",
    "        else:\n",
    "            result = myBinaryCalculation(binary, 0)\n",
    "            if binary[0] == '1':\n",
    "                result = (result - (2 ** 7))\n",
    "    return result"
   ]
  },
  {
   "cell_type": "code",
   "execution_count": null,
   "metadata": {
    "tags": []
   },
   "outputs": [],
   "source": [
    "# TEST YOUR FUNCTION HERE\n",
    "q3 = ..."
   ]
  },
  {
   "cell_type": "code",
   "execution_count": null,
   "metadata": {
    "deletable": false,
    "editable": false
   },
   "outputs": [],
   "source": [
    "grader.check(\"q3.0\")"
   ]
  },
  {
   "cell_type": "markdown",
   "metadata": {
    "deletable": false,
    "editable": false
   },
   "source": [
    "## Question 4: Floating Point Numbers\n",
    "\n",
    "### 4.0: Comparing Floating Point Numbers\n",
    "\n",
    "Write a function `myCompareFloats(x, y, tol)` that takes as input two numbers `x` and `y` and a tolerance value (`tol`) and returns `exact` and `approx`, both of which are of type `bool`. `exact` should be `True` if and only if `x` is exactly equal to `y` in Python, and otherwise `False`. `approx` should be `True` if and only if the difference between `x` and `y` (in absolute value) is less than or equal to `tol` in Python, and otherwise `False`. In other words, the function's output argument `approx` indicates whether `x` and `y` are \"approximately equal\", where \"approximately equal\" is quantified by the input argument `tol`. \n",
    "\n",
    "The default value of `tol` should be $1\\times10^{-9}$. \n",
    "\n",
    "The first returned object should be `exact` and the second returned object should be `approx`.\n",
    "\n",
    "The returned parameters `exact` and `approx` should be of type `bool`.\n",
    "\n",
    "You do not have to check that the inputs are valid.\n",
    "\n",
    "Once you are done, try out your new `myCompareFloats()` function for `x = 1e-4`, `y = 1.5e-4`, and `tol = 5e-5` in the following cell. Assign the output to `q4_0`. Feel free to try it for other inputs.\n",
    "\n",
    "```\n",
    "Examples:\n",
    "\n",
    ">>> myCompareFloats(2+3, 5, 0)\n",
    "(True, True)\n",
    "\n",
    ">>> myCompareFloats(0, 0.001, 1e-2)\n",
    "(False, True)\n",
    "\n",
    ">>> myCompareFloats(0, 0.001, 1e-4)\n",
    "(False, False)\n",
    "\n",
    ">>> myCompareFloats(0, 0.001)\n",
    "(False, False)\n",
    "```"
   ]
  },
  {
   "cell_type": "code",
   "execution_count": null,
   "metadata": {
    "jupyter": {
     "outputs_hidden": true
    },
    "tags": []
   },
   "outputs": [],
   "source": [
    "# ANSWER CELL\n",
    "..."
   ]
  },
  {
   "cell_type": "code",
   "execution_count": null,
   "metadata": {
    "tags": []
   },
   "outputs": [],
   "source": [
    "# TEST YOUR FUNCTION HERE\n",
    "q4_0 = ..."
   ]
  },
  {
   "cell_type": "code",
   "execution_count": null,
   "metadata": {
    "deletable": false,
    "editable": false
   },
   "outputs": [],
   "source": [
    "grader.check(\"q4.0\")"
   ]
  },
  {
   "cell_type": "markdown",
   "metadata": {
    "deletable": false,
    "editable": false
   },
   "source": [
    "### 4.1: Binary representation of floating point numbers (IEEE-754)\n",
    "\n",
    "There are multiple ways to represent floating point numbers in binary format (i.e. with only zeros and ones). The Institute of Electrical and Electronics Engineers (IEEE) defined a standard (called IEEE-754) for representing floating point numbers in binary format. IEEE-754 specifies different formats, depending on how many bits (e.g. 16 bits, 32 bits, 64 bits, 128 bits) are used to represent each floating point number. The formats that use 32 bits and 64 bits to represent each number are commonly known as \"single precision\" and \"double precision\", respectively. "
   ]
  },
  {
   "cell_type": "markdown",
   "metadata": {
    "deletable": false,
    "editable": false
   },
   "source": [
    "In this problem, we only consider single precision representations, where each number is represented using 32 bits (i.e. a sequence of 32 zeros and/or ones). In the IEEE-754 standard, the number represented by a sequence of 32 bits can be calculated using the following formula:\n",
    "\n",
    "$$(-1)^s \\times 2^{e-d} \\times (1+f)$$\n",
    "\n",
    "- $s$ is the value of the first bit\n",
    "- $d$ is the bias, which is equal to $127$ for single precision\n",
    "- $e$ is the integer represented by the 8 bits corresponding to the exponent, using the unsigned 8-bit integer representation (see Question 3)\n",
    "- $f$ is the fraction represented by the last 23 bits, where each bit represents a *negative* power of $2$, from $2^{-1}$ (first bit of the fraction from the left) to $2^{-23}$ (last bit)\n",
    "\n",
    "Below is a visualization of where $s$, $e$, and $f$ are stored within the binary string:\n",
    "\n",
    "<img src=\"resources/IEEE_754_Single_Floating_Point_Format.png\" style=\"width: 750px;\"/>\n",
    "<center> Figure 1: The memory layout of the IEEE 754 single precision floating number type. Dots indicate the end of each section. Image from: https://en.wikipedia.org/wiki/Single-precision_floating-point_format</center>\n",
    "\n",
    "<br>\n",
    "\n",
    "The above equation applies $\\text{if} \\; e \\ne 0 \\; \\text{and} \\; e \\ne 255$. IEEE has reserved some values for special cases, as shown below:\n",
    "\n",
    "$$\\begin{align}\n",
    "(-1)^s \\times 2^{1-d} \\times f && \\text{if} \\; e = 0 \\; \\text{and} \\; f \\ne 0 \\\\\n",
    "0 && \\text{if} \\; e = 0 \\; \\text{and} \\; f = 0 \\\\\n",
    "(-1)^s \\times \\infty && \\text{if} \\; e = 255 \\; \\text{and} \\; f = 0 \\\\\n",
    "NaN \\;(\\text{Not a Number}) && \\text{if} \\; e = 255 \\; \\text{and} \\; f \\ne 0\n",
    "\\end{align}$$"
   ]
  },
  {
   "cell_type": "markdown",
   "metadata": {
    "deletable": false,
    "editable": false
   },
   "source": [
    "Write a function `mySingle2Decimal(binary)` that takes as input a character string of length 32 made of only zeros and ones (`binary`) and returns `result`, which is the floating point number (in base 10) that is represented by `binary` using the IEEE-754 32-bit single precision binary representation. \n",
    "\n",
    "Use `np.inf` as the infinite value and `np.nan` for quantities which are \"not a number\".\n",
    "\n",
    "Once you are done, try out your new `mySingle2Decimal()` function for `'01010101010101010101010101010101'` in the following cell. Assign the output to `q4_1`. Feel free to try it for other inputs.\n",
    "\n",
    "*Hint:* Use your function `myBinary2Num()` to compute $e$.\n",
    "\n",
    "```\n",
    "Examples:\n",
    "\n",
    ">>> mySingle2Decimal('00111111111100000000000000000000')\n",
    "1.875\n",
    "\n",
    ">>> mySingle2Decimal('10111111000000000000000000000000')\n",
    "-0.5\n",
    "\n",
    ">>> mySingle2Decimal('00100000100000000000000000000001')\n",
    "2.1684046034649503e-19\n",
    "\n",
    ">>> mySingle2Decimal('11111111100000000000000000000000')\n",
    "-inf\n",
    "\n",
    ">>> mySingle2Decimal('11111111100000000000000000000001')\n",
    "nan\n",
    "\n",
    ">>> mySingle2Decimal('10111111010000000000000000000000')\n",
    "-0.75\n",
    "\n",
    ">>> mySingle2Decimal('00100000100000000000111000000001')\n",
    "2.1693310457510097e-19\n",
    "\n",
    "```"
   ]
  },
  {
   "cell_type": "code",
   "execution_count": 26,
   "metadata": {
    "jupyter": {
     "outputs_hidden": true
    },
    "tags": []
   },
   "outputs": [],
   "source": [
    "\n",
    "# ANSWER CELL\n",
    "def mySingle2Decimal(binary):\n",
    "    s = int(binary[0])\n",
    "    d = 127 \n",
    "    bit = binary[1:9:1]\n",
    "    e = myBinary2Num(bit, 'UnSign')\n",
    "    frac = binary[9:32:1]\n",
    "    f = 0\n",
    "    exp = (e - d)\n",
    "    sub = (1 - d)\n",
    "    for i in range(len(frac)):\n",
    "        if frac[i] == str(1):\n",
    "            f += (2 ** ((-1) - i))     \n",
    "    if e == 0 and f != 0:\n",
    "        return ((-1) ** s) * (2 ** (sub)) * (f)\n",
    "    if e == 0 and f == 0:\n",
    "        return 0\n",
    "    if e == 255 and f == 0:\n",
    "        return ((-1) ** s) * np.inf\n",
    "    if e == 255 and f != 0:\n",
    "        return np.nan\n",
    "    else: \n",
    "        return ((-1) ** s) * (2 ** (exp)) * (1 + f)"
   ]
  },
  {
   "cell_type": "code",
   "execution_count": 27,
   "metadata": {},
   "outputs": [
    {
     "data": {
      "text/plain": [
       "-inf"
      ]
     },
     "execution_count": 27,
     "metadata": {},
     "output_type": "execute_result"
    }
   ],
   "source": [
    "mySingle2Decimal('11111111100000000000000000000000')"
   ]
  },
  {
   "cell_type": "code",
   "execution_count": 28,
   "metadata": {
    "deletable": false,
    "editable": false
   },
   "outputs": [
    {
     "data": {
      "text/html": [
       "<p><strong><pre style='display: inline;'>q4.1</pre></strong> passed! 💯</p>"
      ],
      "text/plain": [
       "q4.1 results: All test cases passed!"
      ]
     },
     "execution_count": 28,
     "metadata": {},
     "output_type": "execute_result"
    }
   ],
   "source": [
    "grader.check(\"q4.1\")"
   ]
  },
  {
   "cell_type": "markdown",
   "metadata": {
    "deletable": false,
    "editable": false
   },
   "source": [
    "## Question 5: Sorting and efficiency of sorting algorithms\n",
    "\n",
    "In this problem, you will write Python functions to sort elements of the periodic table in alphabetical order and then compare the efficiency of your sorting function against the efficiency of another sorting function. Note that the grading will not depend on the efficiency of your sorting algorithm, but your function does need to sort the elements properly."
   ]
  },
  {
   "cell_type": "markdown",
   "metadata": {
    "deletable": false,
    "editable": false
   },
   "source": [
    "### 5.0: Compare two elements\n",
    "\n",
    "Write a function `myCompareElements(element1, element2)` that takes as input two strings each containing an element from the periodic table (for example: `element1 = 'Hydrogen'`, `element2 = 'Carbon'`), and returns `result`, which should be of type `int` and takes the following values:\n",
    "- 0 if `element1` and `element2` are the same element.\n",
    "- 1 if the name of `element1` comes before the name of `element2` in alphabetical order.\n",
    "- -1 if the name of `element1` comes after the name of `element2` in alphabetical order.\n",
    "\n",
    "For this question, your function should be **case-insensitive**, as we only care about the element's name.  \n",
    "\n",
    "**You are not allowed to use any built-in sorting functions.**\n",
    "\n",
    "Once you are done, try out your new `myCompareElements()` function for `'Berkelium'` and `'Californium'` in the following cell. Assign the output to `q5_0`. Feel free to try it for other inputs.\n",
    "\n",
    "*Hint*: You can compare the alphabetical ordering of two single characters in Python using logical operators. Refer to the lecture on Python basics.\n",
    "\n",
    "*Note*: When using logical operators, strings are case-sensitive. However, your function should be **case-insensitive**.\n",
    "\n",
    "```\n",
    "Examples:\n",
    "\n",
    ">>> myCompareElements('Carbon', 'Hydrogen') # element1 comes before element2 alphabetically\n",
    "1\n",
    "\n",
    ">>> myCompareElements('Hydrogen' , 'Carbon') # element1 comes after element2 alphabetically\n",
    "-1\n",
    "\n",
    ">>> myCompareElements('Carbon', 'Carbon') # element1 and element2 are the same element\n",
    "0\n",
    "\n",
    ">>> myCompareElements('Carbon', 'carbon') # the function should be case-insensitive\n",
    "0\n",
    "\n",
    ">>> myCompareElements('Uranium', 'boron') # element1 comes after element2 alphabetically\n",
    "-1\n",
    "```"
   ]
  },
  {
   "cell_type": "code",
   "execution_count": null,
   "metadata": {
    "jupyter": {
     "outputs_hidden": true
    },
    "tags": []
   },
   "outputs": [],
   "source": [
    "# ANSWER CELL\n",
    "..."
   ]
  },
  {
   "cell_type": "code",
   "execution_count": null,
   "metadata": {
    "tags": []
   },
   "outputs": [],
   "source": [
    "# TEST YOUR FUNCTION HERE\n",
    "q5_0 = ..."
   ]
  },
  {
   "cell_type": "code",
   "execution_count": null,
   "metadata": {
    "deletable": false,
    "editable": false
   },
   "outputs": [],
   "source": [
    "grader.check(\"q5.0\")"
   ]
  },
  {
   "cell_type": "markdown",
   "metadata": {
    "deletable": false,
    "editable": false
   },
   "source": [
    "### 5.1: Sort a list of elements\n",
    "\n",
    "Write a function `mySortElements(elements)` that takes as input a $1 \\times n$ list that represents a list of the names of $n$ elements from the periodic table as a character string (`elements`) and returns a $1 \\times n$ list that represents the same list of elements as the one in `elements` but sorted in alphabetical order (`sorted_list`). If `elements` is an empty list, then `sorted_list` should be an empty list. \n",
    "\n",
    "`elements` could include multiple entries of the same element (i.e. there can be duplicate elements in the list). Repeated elements should also appear in the returned output `sorted`.\n",
    "\n",
    "For this question, your function should be **case-insensitive**, as we only care about the elements' names.  \n",
    "\n",
    "**You are not allowed to use any built-in sorting functions.**\n",
    "\n",
    "**Do not modify the names of the elements. `sorted_list` should include the element names, exactly as they appear in `elements`.**\n",
    "\n",
    "Once you are done, try out your new `mySortElements()` function for `['Chromium' , 'Barium' , 'Silver' , 'Lead' , 'Arsenic', 'Selenium', 'Mercury', 'Cadmium']` in the following cell. Assign the output to `q5_1`. Feel free to try it for other inputs.\n",
    "\n",
    "*Hint:* You can implement the bubble or quick sort algorithms we discussed in the lecture. Use your function `myCompareElements()` to compare two elements.\n",
    "    \n",
    "```\n",
    "Examples:\n",
    "\n",
    ">>> mySortElements(['Hydrogen' , 'Carbon' , 'Magnesium' , 'Calcium' , 'Carbon'])\n",
    "['Calcium', 'Carbon', 'Carbon', 'Hydrogen', 'Magnesium']\n",
    "\n",
    ">>> mySortElements(['Dubnium','Bohrium','Copernicium','Meitnerium','Roentgenium'])\n",
    "['Bohrium', 'Copernicium', 'Dubnium', 'Meitnerium', 'Roentgenium']\n",
    "\n",
    ">>> mySortElements(['Argon','Argon'])\n",
    "['Argon', 'Argon']\n",
    "\n",
    ">>> mySortElements(['Argon','carbon', 'argon', 'Carbon'])\n",
    "['Argon','argon', 'carbon', 'Carbon']\n",
    "```"
   ]
  },
  {
   "cell_type": "code",
   "execution_count": null,
   "metadata": {
    "jupyter": {
     "outputs_hidden": true
    },
    "tags": []
   },
   "outputs": [],
   "source": [
    "# ANSWER CELL\n",
    "..."
   ]
  },
  {
   "cell_type": "code",
   "execution_count": null,
   "metadata": {
    "tags": []
   },
   "outputs": [],
   "source": [
    "# TEST YOUR FUNCTION HERE\n",
    "q5_1 = ..."
   ]
  },
  {
   "cell_type": "code",
   "execution_count": null,
   "metadata": {
    "deletable": false,
    "editable": false
   },
   "outputs": [],
   "source": [
    "grader.check(\"q5.1\")"
   ]
  },
  {
   "cell_type": "markdown",
   "metadata": {},
   "source": [
    "### Efficiency of sorting algorithms\n",
    "\n",
    "You do not need to modify this section but you must first complete question 5.1. Run the pre-made function `CompareSorting` to visualize the differences between the efficiency of your sorting algorithm and the internal Python sorting algorithm. Here, we define efficiency as the time taken by the sorting function to sort a given list of elements. Note that there are many other criteria that should be considered for a more exhaustive characterization of the efficiency of an algorithm (for example RAM usage), but we do not consider these in this assignment."
   ]
  },
  {
   "cell_type": "code",
   "execution_count": null,
   "metadata": {},
   "outputs": [],
   "source": [
    "# DO NOT EDIT\n",
    "def CompareSorting(n):\n",
    "    \"\"\"Plot the run time of student-made and internal Python sorting algorithms.\n",
    "    \n",
    "    Parameters\n",
    "    ----------\n",
    "    n: int, length of list to sort\n",
    "       Recommend n<5000 for quick plotting\n",
    "     \n",
    "    Returns\n",
    "    -------\n",
    "    None\n",
    "    \n",
    "    Plots\n",
    "    -----\n",
    "    Comparison of sorting algorithms: Wall time (ms) vs. size of list to sort\n",
    "        student: sort time of student-made mySortElements function\n",
    "        internal: sort time of sorted Python function\n",
    "        \n",
    "    \"\"\"\n",
    "    time_student = []\n",
    "    time_internal = []\n",
    "    elems = [''.join(choice(ascii_lowercase) for _ in range(random.randint(3, 9))) for _ in range(int(n))]\n",
    "    \n",
    "    x_ax = []\n",
    "    i = 64\n",
    "    while i <= n:\n",
    "        t = time.time()\n",
    "        mySortElements(elems[:i])\n",
    "        time_student.append((time.time() - t)*1000)\n",
    "\n",
    "        t = time.time()\n",
    "        sorted(elems[:i])\n",
    "        time_internal.append((time.time() - t)*1000)\n",
    "\n",
    "        x_ax.append(i)\n",
    "        i *= 2 \n",
    "    print('size of list:',x_ax)\n",
    "    with np.printoptions(precision=3,suppress=True):\n",
    "        print('Student algorithm time (ms):',np.array(time_student))\n",
    "        print('Internal algorithm time (ms):',np.array(time_internal))\n",
    "    fig, ax = plt.subplots()\n",
    "    plt.xlabel('Size')\n",
    "    plt.ylabel('Wall time (ms)')\n",
    "    plt.title('Comparison of sorting algorithms')\n",
    "    ax.plot(x_ax, time_student, label='student')\n",
    "    ax.plot(x_ax, time_internal, label='internal')\n",
    "    handles, labels = ax.get_legend_handles_labels()\n",
    "    ax.legend(handles, labels)\n",
    "    plt.show()"
   ]
  },
  {
   "cell_type": "markdown",
   "metadata": {},
   "source": [
    "Run the cell below to call `CompareSorting` and visualize the difference in efficiency between your sorting algorithm and the internal Python sorting algorithm for different input sizes."
   ]
  },
  {
   "cell_type": "code",
   "execution_count": null,
   "metadata": {
    "scrolled": false
   },
   "outputs": [],
   "source": [
    "CompareSorting(n=2**12)"
   ]
  },
  {
   "cell_type": "markdown",
   "metadata": {},
   "source": [
    "### You're done with this Lab!\n",
    "\n",
    "**Important submission information:** After completing the assignment, click on the Save icon from the Tool Bar &nbsp;<i class=\"fa fa-save\" style=\"font-size:16px;\"></i>&nbsp;. After saving your notebook, **run the cell with** `grader.check_all()` and confirm that you pass the same tests as in the notebook. Then, **run the final cell** `grader.export()` and click the link to download the zip file. Then, go to Gradescope and submit the zip file to the corresponding assignment. \n",
    "\n",
    "**Once you have submitted, stay on the Gradescope page to confirm that you pass the same tests as in the notebook.**"
   ]
  },
  {
   "cell_type": "code",
   "execution_count": null,
   "metadata": {},
   "outputs": [],
   "source": [
    "import matplotlib.image as mpimg\n",
    "img = mpimg.imread('resources/animal.jpg')\n",
    "imgplot = plt.imshow(img)\n",
    "imgplot.axes.get_xaxis().set_visible(False)\n",
    "imgplot.axes.get_yaxis().set_visible(False)\n",
    "print(\"Congrats on finishing lab 5!\")\n",
    "plt.show()"
   ]
  },
  {
   "cell_type": "markdown",
   "metadata": {
    "deletable": false,
    "editable": false
   },
   "source": [
    "---\n",
    "\n",
    "To double-check your work, the cell below will rerun all of the autograder tests."
   ]
  },
  {
   "cell_type": "code",
   "execution_count": null,
   "metadata": {
    "deletable": false,
    "editable": false
   },
   "outputs": [],
   "source": [
    "grader.check_all()"
   ]
  },
  {
   "cell_type": "markdown",
   "metadata": {
    "deletable": false,
    "editable": false
   },
   "source": [
    "## Submission\n",
    "\n",
    "Make sure you have run all cells in your notebook in order before running the cell below, so that all images/graphs appear in the output. The cell below will generate a zip file for you to submit. **Please save before exporting!**\n",
    "\n",
    "Make sure you submit the .zip file to Gradescope."
   ]
  },
  {
   "cell_type": "code",
   "execution_count": null,
   "metadata": {
    "deletable": false,
    "editable": false
   },
   "outputs": [],
   "source": [
    "# Save your notebook first, then run this cell to export your submission.\n",
    "grader.export(pdf=False)"
   ]
  },
  {
   "cell_type": "markdown",
   "metadata": {},
   "source": [
    " "
   ]
  }
 ],
 "metadata": {
  "anaconda-cloud": {},
  "kernelspec": {
   "display_name": "Python 3 (ipykernel)",
   "language": "python",
   "name": "python3"
  },
  "language_info": {
   "codemirror_mode": {
    "name": "ipython",
    "version": 3
   },
   "file_extension": ".py",
   "mimetype": "text/x-python",
   "name": "python",
   "nbconvert_exporter": "python",
   "pygments_lexer": "ipython3",
   "version": "3.9.15"
  },
  "otter": {
   "OK_FORMAT": true,
   "assignment_name": "lab05",
   "tests": {
    "q1": {
     "name": "q1",
     "points": 5,
     "suites": [
      {
       "cases": [
        {
         "code": ">>> assert get_hash(type(q1)) != '14e736438b115821cbb9b7ac0ba79034', 'Make sure to test your function!'\n",
         "hidden": false,
         "locked": false
        },
        {
         "code": ">>> assert get_hash(round(FibRec(0), 5)) == 'cfcd208495d565ef66e7dff9f98764da'\n>>> assert get_hash(round(FibRec(1), 5)) == 'c4ca4238a0b923820dcc509a6f75849b'\n",
         "hidden": false,
         "locked": false
        },
        {
         "code": ">>> random.seed(7)\n>>> for i in range(100):\n...     assert get_hash(FibRec(random.uniform(-100, -0.0001)).upper()) == 'cc791a609e2d6de2b81f1175bb8f715a'\n",
         "hidden": false,
         "locked": false
        },
        {
         "code": ">>> random.seed(7)\n>>> for i in range(100):\n...     assert get_hash(FibRec(int(random.uniform(-100, -1))).upper()) == 'f74c3943fba266bd4521f1ebe596e6d3'\n",
         "hidden": false,
         "locked": false
        },
        {
         "code": ">>> random.seed(7)\n>>> for i in range(100):\n...     assert get_hash(FibRec(random.uniform(0.0001, 100)).upper()) == '5f969a056ca871f0546c08bec4effc39'\n",
         "hidden": false,
         "locked": false
        },
        {
         "code": ">>> assert get_hash(round(FibRec(29), 5)) == 'e26c8b70a0ac4b4fbb6e9579136338e7'\n>>> assert get_hash(round(FibRec(2), 5)) == 'c4ca4238a0b923820dcc509a6f75849b'\n>>> assert get_hash(round(FibRec(3), 5)) == 'c81e728d9d4c2f636f067f89cc14862c'\n>>> assert get_hash(round(FibRec(4), 5)) == 'eccbc87e4b5ce2fe28308fd9f2a7baf3'\n>>> assert get_hash(round(FibRec(5), 5)) == 'e4da3b7fbbce2345d7772b0674a318d5'\n",
         "hidden": false,
         "locked": false
        },
        {
         "code": ">>> assert get_hash(round(FibRec(29.0), 5)) == 'e26c8b70a0ac4b4fbb6e9579136338e7'\n>>> assert get_hash(round(FibRec(2.0), 5)) == 'c4ca4238a0b923820dcc509a6f75849b'\n>>> assert get_hash(round(FibRec(3.0), 5)) == 'c81e728d9d4c2f636f067f89cc14862c'\n>>> assert get_hash(round(FibRec(4.0), 5)) == 'eccbc87e4b5ce2fe28308fd9f2a7baf3'\n>>> assert get_hash(round(FibRec(5.0), 5)) == 'e4da3b7fbbce2345d7772b0674a318d5'\n",
         "hidden": false,
         "locked": false
        }
       ],
       "scored": true,
       "setup": "",
       "teardown": "",
       "type": "doctest"
      }
     ]
    },
    "q2.0": {
     "name": "q2.0",
     "points": 1,
     "suites": [
      {
       "cases": [
        {
         "code": ">>> assert get_hash(type(q2_0)) != '14e736438b115821cbb9b7ac0ba79034', 'Make sure to test your function!'\n",
         "hidden": false,
         "locked": false
        },
        {
         "code": ">>> assert get_hash(round(simpleFibRatio(29), 5)) == '57662aaff0603ba873d19444ae440a49'\n>>> assert get_hash(round(simpleFibRatio(2), 5)) == 'e4c2e8edac362acab7123654b9e73432'\n>>> assert get_hash(round(simpleFibRatio(3), 5)) == 'd1bd83a33f1a841ab7fda32449746cc4'\n>>> assert get_hash(round(simpleFibRatio(4), 5)) == '6008647277c4454cecd97d33c069f0ca'\n>>> assert get_hash(round(simpleFibRatio(5), 5)) == '95df9c10da10397475f9b1897410e091'\n",
         "hidden": false,
         "locked": false
        },
        {
         "code": ">>> try:\n...     simpleFibRatio(1)\n...     assert get_hash(2) == 'c4ca4238a0b923820dcc509a6f75849b', 'You should not handle any exceptions.'\n... except ZeroDivisionError:\n...     assert get_hash(1) == 'c4ca4238a0b923820dcc509a6f75849b'\n",
         "hidden": false,
         "locked": false
        }
       ],
       "scored": true,
       "setup": "",
       "teardown": "",
       "type": "doctest"
      }
     ]
    },
    "q2.1": {
     "name": "q2.1",
     "points": 2,
     "suites": [
      {
       "cases": [
        {
         "code": ">>> assert get_hash(type(q2_1)) != '14e736438b115821cbb9b7ac0ba79034', 'Make sure to test your function!'\n",
         "hidden": false,
         "locked": false
        },
        {
         "code": ">>> assert get_hash(q2_1_error) == 'f640f11555bbb1a83c1302a574bb7f42', 'Check error type or syntax'\n",
         "hidden": false,
         "locked": false
        },
        {
         "code": ">>> assert get_hash(round(midFibRatio(29), 5)) == '57662aaff0603ba873d19444ae440a49'\n>>> assert get_hash(round(midFibRatio(2), 5)) == 'e4c2e8edac362acab7123654b9e73432'\n>>> assert get_hash(round(midFibRatio(3), 5)) == 'd1bd83a33f1a841ab7fda32449746cc4'\n>>> assert get_hash(round(midFibRatio(4), 5)) == '6008647277c4454cecd97d33c069f0ca'\n>>> assert get_hash(round(midFibRatio(5), 5)) == '95df9c10da10397475f9b1897410e091'\n",
         "hidden": false,
         "locked": false
        },
        {
         "code": ">>> assert get_hash(round(midFibRatio(1), 5)) == 'a3d2de7675556553a5f08e4c88d2c228'\n",
         "hidden": false,
         "locked": false
        },
        {
         "code": ">>> try:\n...     midFibRatio(0)\n...     assert get_hash(2) == 'c4ca4238a0b923820dcc509a6f75849b'\n... except TypeError:\n...     assert get_hash(1) == 'c4ca4238a0b923820dcc509a6f75849b'\n",
         "hidden": false,
         "locked": false
        }
       ],
       "scored": true,
       "setup": "",
       "teardown": "",
       "type": "doctest"
      }
     ]
    },
    "q2.2": {
     "name": "q2.2",
     "points": 2,
     "suites": [
      {
       "cases": [
        {
         "code": ">>> assert get_hash(type(q2_2)) != '14e736438b115821cbb9b7ac0ba79034', 'Make sure to test your function!'\n",
         "hidden": false,
         "locked": false
        },
        {
         "code": ">>> assert get_hash(q2_2_error) == '137bf8cff2d59f0883c600f9524b3eed', 'Check error type or syntax'\n",
         "hidden": false,
         "locked": false
        },
        {
         "code": ">>> assert get_hash(round(finalFibRatio(29), 5)) == '57662aaff0603ba873d19444ae440a49'\n>>> assert get_hash(round(finalFibRatio(2), 5)) == 'e4c2e8edac362acab7123654b9e73432'\n>>> assert get_hash(round(finalFibRatio(3), 5)) == 'd1bd83a33f1a841ab7fda32449746cc4'\n>>> assert get_hash(round(finalFibRatio(4), 5)) == '6008647277c4454cecd97d33c069f0ca'\n>>> assert get_hash(round(finalFibRatio(5), 5)) == '95df9c10da10397475f9b1897410e091'\n",
         "hidden": false,
         "locked": false
        },
        {
         "code": ">>> assert get_hash(round(finalFibRatio(1), 5)) == 'a3d2de7675556553a5f08e4c88d2c228'\n",
         "hidden": false,
         "locked": false
        },
        {
         "code": ">>> assert get_hash(finalFibRatio(-1)) == 'dc9a0d67a31dae74f0ae340fc5ebbddb'\n>>> assert get_hash(finalFibRatio(0)) == 'dc9a0d67a31dae74f0ae340fc5ebbddb'\n>>> assert get_hash(finalFibRatio(12.4)) == 'dc9a0d67a31dae74f0ae340fc5ebbddb'\n",
         "hidden": false,
         "locked": false
        },
        {
         "code": ">>> try:\n...     finalFibRatio(1e+20)\n...     assert get_hash(2) == 'c4ca4238a0b923820dcc509a6f75849b'\n... except RecursionError:\n...     assert get_hash(1) == 'c4ca4238a0b923820dcc509a6f75849b'\n",
         "hidden": false,
         "locked": false
        }
       ],
       "scored": true,
       "setup": "",
       "teardown": "",
       "type": "doctest"
      }
     ]
    },
    "q3.0": {
     "name": "q3.0",
     "points": 4,
     "suites": [
      {
       "cases": [
        {
         "code": ">>> assert get_hash(type(q3)) != '14e736438b115821cbb9b7ac0ba79034', 'Make sure to test your function!'\n",
         "hidden": false,
         "locked": false
        },
        {
         "code": ">>> assert get_hash(myBinary2Num(binary='', representation='Sign').upper()) == '89f0156aac0bf4d65096f1f0601f9a29'\n>>> assert get_hash(myBinary2Num(binary='100000011', representation='Sign').upper()) == '89f0156aac0bf4d65096f1f0601f9a29'\n>>> assert get_hash(myBinary2Num(binary='10000001 ', representation='Sign').upper()) == '89f0156aac0bf4d65096f1f0601f9a29'\n>>> assert get_hash(myBinary2Num(binary='1000000a', representation='Sign').upper()) == '89f0156aac0bf4d65096f1f0601f9a29'\n>>> assert get_hash(myBinary2Num(binary='100.0001', representation='Sign').upper()) == '89f0156aac0bf4d65096f1f0601f9a29'\n",
         "hidden": false,
         "locked": false
        },
        {
         "code": ">>> assert get_hash(myBinary2Num(binary='10000001', representation='').upper()) == 'f2967cd12b2e83a9616aa5764b06d977'\n>>> assert get_hash(myBinary2Num(binary='10000001', representation='sign').upper()) == 'f2967cd12b2e83a9616aa5764b06d977'\n>>> assert get_hash(myBinary2Num(binary='10000001', representation='un').upper()) == 'f2967cd12b2e83a9616aa5764b06d977'\n>>> assert get_hash(myBinary2Num(binary='10000001', representation='TC ').upper()) == 'f2967cd12b2e83a9616aa5764b06d977'\n",
         "hidden": false,
         "locked": false
        },
        {
         "code": ">>> assert get_hash(myBinary2Num(binary='100000011', representation='').upper()) == '89f0156aac0bf4d65096f1f0601f9a29'\n",
         "hidden": false,
         "locked": false
        },
        {
         "code": ">>> assert get_hash(int(myBinary2Num(binary='10000001', representation='UnSign'))) == 'd1f491a404d6854880943e5c3cd9ca25'\n>>> assert get_hash(int(myBinary2Num(binary='11111111', representation='UnSign'))) == 'fe131d7f5a6b38b23cc967316c13dae2'\n>>> assert get_hash(int(myBinary2Num(binary='00000000', representation='UnSign'))) == 'cfcd208495d565ef66e7dff9f98764da'\n>>> assert get_hash(int(myBinary2Num(binary='01111110', representation='UnSign'))) == '069059b7ef840f0c74a814ec9237b6ec'\n>>> assert get_hash(int(myBinary2Num(binary='01010101', representation='UnSign'))) == '3ef815416f775098fe977004015c6193'\n>>> assert get_hash(int(myBinary2Num(binary='10101010', representation='UnSign'))) == '149e9677a5989fd342ae44213df68868'\n",
         "hidden": false,
         "locked": false
        },
        {
         "code": ">>> assert get_hash(int(myBinary2Num(binary='10000001', representation='Sign'))) == '6bb61e3b7bce0931da574d19d1d82c88'\n>>> assert get_hash(int(myBinary2Num(binary='11111111', representation='Sign'))) == '21b1992fa1b053b03c6b149ef2d9a8a8'\n>>> assert get_hash(int(myBinary2Num(binary='00000000', representation='Sign'))) == 'cfcd208495d565ef66e7dff9f98764da'\n>>> assert get_hash(int(myBinary2Num(binary='01111110', representation='Sign'))) == '069059b7ef840f0c74a814ec9237b6ec'\n>>> assert get_hash(int(myBinary2Num(binary='01010101', representation='Sign'))) == '3ef815416f775098fe977004015c6193'\n>>> assert get_hash(int(myBinary2Num(binary='10101010', representation='Sign'))) == '8dfcb89fd8620e3e7fb6a03a53f307dc'\n",
         "hidden": false,
         "locked": false
        },
        {
         "code": ">>> assert get_hash(int(myBinary2Num(binary='10000001', representation='TC'))) == '21b1992fa1b053b03c6b149ef2d9a8a8'\n>>> assert get_hash(int(myBinary2Num(binary='11111111', representation='TC'))) == '6bb61e3b7bce0931da574d19d1d82c88'\n>>> assert get_hash(int(myBinary2Num(binary='00000000', representation='TC'))) == 'cfcd208495d565ef66e7dff9f98764da'\n>>> assert get_hash(int(myBinary2Num(binary='01111110', representation='TC'))) == '069059b7ef840f0c74a814ec9237b6ec'\n>>> assert get_hash(int(myBinary2Num(binary='01010101', representation='TC'))) == '3ef815416f775098fe977004015c6193'\n>>> assert get_hash(int(myBinary2Num(binary='10101010', representation='TC'))) == 'aa21e5886910db5cf181502a9dabc5ac'\n",
         "hidden": false,
         "locked": false
        }
       ],
       "scored": true,
       "setup": "",
       "teardown": "",
       "type": "doctest"
      }
     ]
    },
    "q4.0": {
     "name": "q4.0",
     "points": 3,
     "suites": [
      {
       "cases": [
        {
         "code": ">>> assert get_hash(type(q4_0)) != '14e736438b115821cbb9b7ac0ba79034', 'Make sure to test your function!'\n",
         "hidden": false,
         "locked": false
        },
        {
         "code": ">>> assert get_hash(type(myCompareFloats(0, 0, 0))) == '22b3afce62075c7012f8e5041adfee16'\n>>> assert get_hash(type(myCompareFloats(0, 0, 0)[0])) == '781f5f2052cfb496fa73d70ea1fbdaa8'\n>>> assert get_hash(type(myCompareFloats(0, 0, 0)[1])) == '781f5f2052cfb496fa73d70ea1fbdaa8'\n",
         "hidden": false,
         "locked": false
        },
        {
         "code": ">>> assert get_hash(myCompareFloats(x=1, y=1, tol=0.001)[0]) == 'f827cf462f62848df37c5e1e94a4da74'\n>>> assert get_hash(myCompareFloats(x=1, y=2, tol=0.001)[0]) == 'f8320b26d30ab433c5a54546d21f414c'\n>>> assert get_hash(myCompareFloats(x=0 + 5, y=5, tol=0.001)[0]) == 'f827cf462f62848df37c5e1e94a4da74'\n",
         "hidden": false,
         "locked": false
        },
        {
         "code": ">>> assert get_hash(myCompareFloats(x=1, y=1, tol=0.001)[1]) == 'f827cf462f62848df37c5e1e94a4da74'\n>>> assert get_hash(myCompareFloats(x=1, y=2, tol=0.001)[1]) == 'f8320b26d30ab433c5a54546d21f414c'\n>>> assert get_hash(myCompareFloats(x=0.0001, y=1e-05, tol=0.0001)[1]) == 'f827cf462f62848df37c5e1e94a4da74'\n>>> assert get_hash(myCompareFloats(x=0.0001, y=1e-05, tol=1e-05)[1]) == 'f8320b26d30ab433c5a54546d21f414c'\n>>> assert get_hash(myCompareFloats(x=-0.0001, y=0, tol=0.0001)[1]) == 'f827cf462f62848df37c5e1e94a4da74'\n>>> assert get_hash(myCompareFloats(x=-0.0001, y=0, tol=1e-05)[1]) == 'f8320b26d30ab433c5a54546d21f414c'\n",
         "hidden": false,
         "locked": false
        },
        {
         "code": ">>> assert get_hash(myCompareFloats(1e-08, 1.1e-08)[1]) == 'f827cf462f62848df37c5e1e94a4da74'\n>>> assert get_hash(myCompareFloats(tol=1e-07, x=2e-06, y=2.01e-06)[0]) == 'f8320b26d30ab433c5a54546d21f414c'\n>>> assert get_hash(myCompareFloats(tol=1e-07, x=2e-06, y=2.01e-06)[1]) == 'f827cf462f62848df37c5e1e94a4da74'\n",
         "hidden": false,
         "locked": false
        }
       ],
       "scored": true,
       "setup": "",
       "teardown": "",
       "type": "doctest"
      }
     ]
    },
    "q4.1": {
     "name": "q4.1",
     "points": 3,
     "suites": [
      {
       "cases": [
        {
         "code": ">>> assert get_hash(type(q4_1)) != '14e736438b115821cbb9b7ac0ba79034', 'Make sure to test your function!'\n",
         "hidden": false,
         "locked": false
        },
        {
         "code": ">>> assert get_hash(round(mySingle2Decimal('10111110000101010101110101100101'), 15)) == '23739091b887b8f9fc4c9fe4e02436b2', 'Check when e!=0 and e!=255'\n>>> assert get_hash(round(mySingle2Decimal('10111110010101010101010101010101'), 15)) == '9f60bfac8758d685ffd2e316ce568f7c', 'Check when e!=0 and e!=255'\n>>> assert get_hash(round(mySingle2Decimal('10111110001010101010101010101010'), 15)) == 'cdef8ac4c13a0ae15e0fd43092e87dcb', 'Check when e!=0 and e!=255'\n>>> assert get_hash(round(mySingle2Decimal('00111110010101010101010101010101'), 15)) == '7d3a7c924518ecd45ba72d83c1150478', 'Check when e!=0 and e!=255'\n>>> assert get_hash(round(mySingle2Decimal('00111110011111111111111111111111'), 15)) == 'b3b8565ff58ee0679dbda39277f1274f', 'Check when e!=0 and e!=255'\n>>> assert get_hash(round(mySingle2Decimal('10111110000000000000000000000000'), 15)) == 'f4ad12ca28d7185d06e97196e2e1cf36', 'Check when e!=0 and e!=255'\n>>> assert get_hash(round(float(mySingle2Decimal('11111111000000000000000000000000')), 15)) == '0df947f284405c162ee14421cd47f061', 'Check when e!=0 and e!=255'\n>>> assert get_hash(round(float(mySingle2Decimal('01111111000000000000000000000000')), 15)) == 'e8774d69bf49c6173d037382f2b2a748', 'Check when e!=0 and e!=255'\n>>> assert get_hash(round(float(mySingle2Decimal('00111111100000000000000000000000')), 15)) == 'e4c2e8edac362acab7123654b9e73432', 'Check when e!=0 and e!=255'\n>>> assert get_hash(round(mySingle2Decimal('00111111111111111111111111111111'), 15)) == '24570d1da2ec0afc011253668e27af0d', 'Check when e!=0 and e!=255'\n>>> assert get_hash(round(float(mySingle2Decimal('01010101000000000000000000000000')), 15)) == '08a104b5fcc816f3500f32d0892440e2', 'Check when e!=0 and e!=255'\n>>> assert get_hash(round(mySingle2Decimal('00101010100000000000000000000000'), 15)) == '7b5090a6b0a72cb37ff7d77629cfab32', 'Check when e!=0 and e!=255'\n",
         "hidden": false,
         "locked": false
        },
        {
         "code": ">>> assert get_hash(float(mySingle2Decimal('10000000000000000000000000000000'))) == '30565a8911a6bb487e3745c0ea3c8224', 'Check when e=0 and f=0'\n>>> assert get_hash(float(mySingle2Decimal('00000000000000000000000000000000'))) == '30565a8911a6bb487e3745c0ea3c8224', 'Check when e=0 and f=0'\n",
         "hidden": false,
         "locked": false
        },
        {
         "code": ">>> assert get_hash(mySingle2Decimal('11111111100000000000000000000000')) == '9c41dab8e025b5db402b00cface5d381', 'Check when e=255 and f=0'\n>>> assert get_hash(mySingle2Decimal('01111111100000000000000000000000')) == 'ee7b630995e7a36b6420696989441e2d', 'Check when e=255 and f=0'\n",
         "hidden": false,
         "locked": false
        },
        {
         "code": ">>> assert get_hash(mySingle2Decimal('11111111100000000000000000000001')) == 'a3d2de7675556553a5f08e4c88d2c228', 'Check when e=255 and f!=0'\n>>> assert get_hash(mySingle2Decimal('01111111100000000000000000000001')) == 'a3d2de7675556553a5f08e4c88d2c228', 'Check when e=255 and f!=0'\n>>> assert get_hash(mySingle2Decimal('11111111100110010000010000010001')) == 'a3d2de7675556553a5f08e4c88d2c228', 'Check when e=255 and f!=0'\n",
         "hidden": false,
         "locked": false
        },
        {
         "code": ">>> assert get_hash(round(math.log(mySingle2Decimal('00000000011101010101110101100101')))) == '3bc0d1e12f5876caa954e3abf1fd85ac', 'Check order of magnitude when e=0 and f!=0'\n>>> assert get_hash(round(mySingle2Decimal('00000000011101010101110101100101') / 10 ** round(math.log10(mySingle2Decimal('00000000011101010101110101100101'))), 15)) == '678c1ce283c6ffd2588c31c49d565873', 'Check value when e=0 and f!=0'\n",
         "hidden": false,
         "locked": false
        }
       ],
       "scored": true,
       "setup": "",
       "teardown": "",
       "type": "doctest"
      }
     ]
    },
    "q5.0": {
     "name": "q5.0",
     "points": 1,
     "suites": [
      {
       "cases": [
        {
         "code": ">>> assert get_hash(type(q5_0)) != '14e736438b115821cbb9b7ac0ba79034', 'Make sure to test your function!'\n",
         "hidden": false,
         "locked": false
        },
        {
         "code": ">>> assert get_hash(type(myCompareElements('Berkelium', 'Californium'))) == '2203e3c2293eb8c9bda5bcd97acbf884', 'check for outyput type'\n",
         "hidden": false,
         "locked": false
        },
        {
         "code": ">>> assert get_hash(myCompareElements('Neptunium', 'Plutonium')) == 'c4ca4238a0b923820dcc509a6f75849b'\n>>> assert get_hash(myCompareElements('x', 'z')) == 'c4ca4238a0b923820dcc509a6f75849b'\n",
         "hidden": false,
         "locked": false
        },
        {
         "code": ">>> assert get_hash(myCompareElements('Plutonium', 'Neptunium')) == '6bb61e3b7bce0931da574d19d1d82c88'\n>>> assert get_hash(myCompareElements('z', 'v')) == '6bb61e3b7bce0931da574d19d1d82c88'\n",
         "hidden": false,
         "locked": false
        },
        {
         "code": ">>> assert get_hash(myCompareElements('Xenon', 'Xenon')) == 'cfcd208495d565ef66e7dff9f98764da', 'check for same element'\n>>> assert get_hash(myCompareElements('', '')) == 'cfcd208495d565ef66e7dff9f98764da', 'check for same element'\n",
         "hidden": false,
         "locked": false
        },
        {
         "code": ">>> assert get_hash(myCompareElements('neptunium', 'Plutonium')) == 'c4ca4238a0b923820dcc509a6f75849b', 'check for case-insensitive'\n>>> assert get_hash(myCompareElements('x', 'Z')) == 'c4ca4238a0b923820dcc509a6f75849b', 'check for case-insensitive'\n>>> assert get_hash(myCompareElements('Plutonium', 'neptunium')) == '6bb61e3b7bce0931da574d19d1d82c88', 'check for case-insensitive'\n>>> assert get_hash(myCompareElements('Z', 'v')) == '6bb61e3b7bce0931da574d19d1d82c88', 'check for case-insensitive'\n>>> assert get_hash(myCompareElements('xenon', 'xenon')) == 'cfcd208495d565ef66e7dff9f98764da', 'check for case-insensitive'\n",
         "hidden": false,
         "locked": false
        }
       ],
       "scored": true,
       "setup": "",
       "teardown": "",
       "type": "doctest"
      }
     ]
    },
    "q5.1": {
     "name": "q5.1",
     "points": 4,
     "suites": [
      {
       "cases": [
        {
         "code": ">>> assert get_hash(type(q5_1)) != '14e736438b115821cbb9b7ac0ba79034', 'Make sure to test your function!'\n",
         "hidden": false,
         "locked": false
        },
        {
         "code": ">>> assert get_hash(type(mySortElements(['Kyber', 'Sodium', 'Magnesium', 'Aluminum']))) == '425ed5b515f0a67c6316f0ec499f86bf', 'Check output type'\n>>> assert get_hash(len(mySortElements(['Neon', 'Sodium', 'Magnesium', 'Kryptonite']))) == 'a87ff679a2f3e71d9181a67b7542122c', 'Check for duplicates or truncation'\n>>> assert get_hash(mySortElements(['Einsteinium'])[-1].upper()) == 'a51433c26622dbd1a19c5df780695f4c'\n",
         "hidden": false,
         "locked": false
        },
        {
         "code": ">>> assert get_hash(mySortElements(['Molybdenum', 'Unobtainium'])[0].upper()) == 'd23cea7110e89fc3ba263517c64291fb'\n>>> assert get_hash(mySortElements(['Coaxium', 'Technetium'])[-1].upper()) == '4cf2e514732f3318376a414e3c35e9ee'\n>>> assert get_hash(mySortElements(['a', 'b'])[0]) == '0cc175b9c0f1b6a831c399e269772661'\n>>> assert get_hash(mySortElements(['a', 'b'])[-1]) == '92eb5ffee6ae2fec3ad71c777531578f'\n>>> assert get_hash(mySortElements(['A', 'B'])[0]) == '7fc56270e7a70fa81a5935b72eacbe29'\n>>> assert get_hash(mySortElements(['A', 'B'])[-1]) == '9d5ed678fe57bcca610140957afab571'\n",
         "hidden": false,
         "locked": false
        },
        {
         "code": ">>> assert get_hash(mySortElements(['Ruthenium', 'Molybdenum', 'Unobtainium', 'Palladium'])[0].upper()) == 'd23cea7110e89fc3ba263517c64291fb'\n>>> assert get_hash(mySortElements(['Ruthenium', 'Molybdenum', 'Unobtainium', 'Palladium'])[1].upper()) == '69300f6178d3679a91864ee2e7001eb9'\n>>> assert get_hash(mySortElements(['Ruthenium', 'Molybdenum', 'Unobtainium', 'Palladium'])[2].upper()) == 'b001d3fb983c8b6c73c27f954b6d3123'\n>>> assert get_hash(mySortElements(['Ruthenium', 'Molybdenum', 'Unobtainium', 'Palladium'])[3].upper()) == 'ce6ddff0d39a24e3984076574f145982'\n>>> assert get_hash(mySortElements(['Ruthenium', 'Coaxium', 'Technetium', 'Palladium'])[0].upper()) == '03217324d816b6dada64faa7fa335867'\n>>> assert get_hash(mySortElements(['Ruthenium', 'Coaxium', 'Technetium', 'Palladium'])[1].upper()) == '69300f6178d3679a91864ee2e7001eb9'\n>>> assert get_hash(mySortElements(['Ruthenium', 'Coaxium', 'Technetium', 'Palladium'])[2].upper()) == 'b001d3fb983c8b6c73c27f954b6d3123'\n>>> assert get_hash(mySortElements(['Ruthenium', 'Coaxium', 'Technetium', 'Palladium'])[-1].upper()) == '4cf2e514732f3318376a414e3c35e9ee'\n",
         "hidden": false,
         "locked": false
        },
        {
         "code": ">>> assert get_hash(mySortElements(['Ruthenium', 'Molybdenum', 'Unobtainium', 'Rhodium', 'Palladium'])[0].upper()) == 'd23cea7110e89fc3ba263517c64291fb'\n>>> assert get_hash(mySortElements(['Ruthenium', 'Molybdenum', 'Unobtainium', 'Rhodium', 'Palladium'])[1].upper()) == '69300f6178d3679a91864ee2e7001eb9'\n>>> assert get_hash(mySortElements(['Ruthenium', 'Molybdenum', 'Unobtainium', 'Rhodium', 'Palladium'])[2].upper()) == 'aaa6117a3fbe5b33c21797d441d64c66'\n>>> assert get_hash(mySortElements(['Ruthenium', 'Molybdenum', 'Unobtainium', 'Rhodium', 'Palladium'])[3].upper()) == 'b001d3fb983c8b6c73c27f954b6d3123'\n>>> assert get_hash(mySortElements(['Ruthenium', 'Molybdenum', 'Unobtainium', 'Rhodium', 'Palladium'])[4].upper()) == 'ce6ddff0d39a24e3984076574f145982'\n",
         "hidden": false,
         "locked": false
        },
        {
         "code": ">>> assert get_hash(mySortElements(['Vibranium', 'Curium', 'Curium', 'Curium'])[0].upper()) == '69a9243d4f57306222cf116a60b0d71d'\n>>> assert get_hash(mySortElements(['Vibranium', 'Curium', 'Curium', 'Curium'])[1].upper()) == '69a9243d4f57306222cf116a60b0d71d'\n>>> assert get_hash(mySortElements(['Vibranium', 'Curium', 'Curium', 'Curium'])[2].upper()) == '69a9243d4f57306222cf116a60b0d71d'\n>>> assert get_hash(mySortElements(['Vibranium', 'Curium', 'Curium', 'Curium'])[-1].upper()) != '69a9243d4f57306222cf116a60b0d71d'\n>>> assert get_hash(len(mySortElements([]))) == 'cfcd208495d565ef66e7dff9f98764da', 'What happens if provided an empty list?'\n",
         "hidden": false,
         "locked": false
        },
        {
         "code": ">>> assert get_hash(mySortElements(['neptunium', 'Plutonium'])[0].upper()) == 'fcd684c18bab65b664edf6657b6586d0', 'check for case-insensitive'\n>>> assert get_hash(mySortElements(['neptunium', 'Plutonium'])[-1].upper()) == '54d0b53e1f2bb0bba99ca263ac4aa572', 'check for case-insensitive'\n>>> assert get_hash(mySortElements(['x', 'Z'])[0].upper()) == '02129bb861061d1a052c592e2dc6b383', 'check for case-insensitive'\n>>> assert get_hash(mySortElements(['x', 'Z'])[-1].upper()) == '21c2e59531c8710156d34a3c30ac81d5', 'check for case-insensitive'\n>>> assert get_hash(mySortElements(['Plutonium', 'neptunium'])[0].upper()) == 'fcd684c18bab65b664edf6657b6586d0', 'check for case-insensitive'\n>>> assert get_hash(mySortElements(['Plutonium', 'neptunium'])[-1].upper()) == '54d0b53e1f2bb0bba99ca263ac4aa572', 'check for case-insensitive'\n>>> assert get_hash(mySortElements(['Z', 'x'])[0].upper()) == '02129bb861061d1a052c592e2dc6b383', 'check for case-insensitive'\n>>> assert get_hash(mySortElements(['Z', 'x'])[-1].upper()) == '21c2e59531c8710156d34a3c30ac81d5', 'check for case-insensitive'\n",
         "hidden": false,
         "locked": false
        },
        {
         "code": ">>> assert get_hash(mySortElements(['ruthenium', 'Molybdenum', 'unobtainium', 'Rhodium', 'palladium'])[0].upper()) == 'd23cea7110e89fc3ba263517c64291fb'\n>>> assert get_hash(mySortElements(['ruthenium', 'Molybdenum', 'unobtainium', 'Rhodium', 'palladium'])[1].upper()) == '69300f6178d3679a91864ee2e7001eb9'\n>>> assert get_hash(mySortElements(['ruthenium', 'Molybdenum', 'unobtainium', 'Rhodium', 'palladium'])[2].upper()) == 'aaa6117a3fbe5b33c21797d441d64c66'\n>>> assert get_hash(mySortElements(['ruthenium', 'Molybdenum', 'unobtainium', 'Rhodium', 'palladium'])[3].upper()) == 'b001d3fb983c8b6c73c27f954b6d3123'\n>>> assert get_hash(mySortElements(['ruthenium', 'Molybdenum', 'unobtainium', 'Rhodium', 'palladium'])[4].upper()) == 'ce6ddff0d39a24e3984076574f145982'\n>>> assert get_hash(mySortElements(['Vibranium', 'curium', 'Curium', 'curium'])[0].upper()) == '69a9243d4f57306222cf116a60b0d71d'\n>>> assert get_hash(mySortElements(['Vibranium', 'curium', 'Curium', 'curium'])[1].upper()) == '69a9243d4f57306222cf116a60b0d71d'\n>>> assert get_hash(mySortElements(['Vibranium', 'curium', 'Curium', 'curium'])[2].upper()) == '69a9243d4f57306222cf116a60b0d71d'\n>>> assert get_hash(mySortElements(['Vibranium', 'curium', 'Curium', 'curium'])[-1].upper()) != '69a9243d4f57306222cf116a60b0d71d'\n",
         "hidden": false,
         "locked": false
        }
       ],
       "scored": true,
       "setup": "",
       "teardown": "",
       "type": "doctest"
      }
     ]
    }
   }
  }
 },
 "nbformat": 4,
 "nbformat_minor": 4
}
